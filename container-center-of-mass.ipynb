{
 "cells": [
  {
   "cell_type": "markdown",
   "metadata": {},
   "source": [
    "<center style=\"font-size:2em;font-weight:bold\">\n",
    "   The Minimum Height of the Center of Mass\n",
    "</center>\n",
    "<p/>\n",
    "<center style=\"font-size:1.75em;font-weight:bold\">\n",
    "   of a Right-Cylindrical Container of Liquid\n",
    "</center>\n",
    "<p/>\n",
    "<center>Thomas E. Vaughan</center>\n",
    "\n",
    "<!--- vim: set filetype=markdown tw=75: -->\n",
    "\n"
   ]
  },
  {
   "cell_type": "markdown",
   "metadata": {},
   "source": [
    "# Introduction\n",
    "\n",
    "In the shower one morning, I groggily reached for the shampoo, but I ended\n",
    "up knocking the container onto its side.  I was surprised by my clumsiness\n",
    "and woke up a bit.  I saw that there are two main reasons for the ease with\n",
    "which I had knocked over the container.  One was obvious and uninteresting,\n",
    "but the other was interesting enough to keep me thinking long after I\n",
    "exited the shower.\n",
    "\n",
    "The obvious, uninteresting reason is that the container was almost empty.\n",
    "When a container has minimum content, its inertia is minimal.  Any\n",
    "external, disturbing force has maximal effect on an object of minimal\n",
    "inertia.\n",
    "\n",
    "Yet, with water dripping off of my face and onto the floor, I stared down\n",
    "at the container of shampoo as it lay sideways on the floor of the shower.\n",
    "In that moment of thought, I realized that the low mass and low rotational\n",
    "inertia of the nearly empty container did not satisfyingly explain what had\n",
    "happened.  My disturbance of the container had been only very slight\n",
    "indeed.  Even in its low-mass state, the container had not suffered much of\n",
    "an angular perturbation before it fell over.  There was something more\n",
    "interesting involved as well.\n",
    "\n",
    "The container's stability against falling over depends on the height of the\n",
    "contained liquid.  Before I finished with my shower, I had convinced myself\n",
    "that both the completely empty state and the completely full state are the\n",
    "least stable states.\n",
    "\n",
    "<!--- vim: set filetype=markdown tw=75: -->\n",
    "\n"
   ]
  },
  {
   "cell_type": "code",
   "execution_count": 1,
   "metadata": {},
   "outputs": [],
   "source": [
    "from ipywidgets import *\n",
    "import numpy as np\n",
    "import matplotlib.pyplot as plt\n",
    "%matplotlib inline"
   ]
  },
  {
   "cell_type": "code",
   "execution_count": 2,
   "metadata": {},
   "outputs": [
    {
     "data": {
      "application/vnd.jupyter.widget-view+json": {
       "model_id": "0641843b2cd14ecd9fea8625a40e84b4",
       "version_major": 2,
       "version_minor": 0
      },
      "text/plain": [
       "interactive(children=(FloatSlider(value=1.0, description='omega', max=3.0, min=-1.0), Output()), _dom_classes=…"
      ]
     },
     "metadata": {},
     "output_type": "display_data"
    },
    {
     "data": {
      "text/plain": [
       "<function __main__.update(omega=1.0)>"
      ]
     },
     "execution_count": 2,
     "metadata": {},
     "output_type": "execute_result"
    }
   ],
   "source": [
    "x = np.linspace(0, 2*np.pi)\n",
    "\n",
    "def update(omega = 1.0):\n",
    "    fig = plt.figure()\n",
    "    ax = fig.add_subplot(1, 1, 1)\n",
    "    ax.plot(x, np.sin(omega*x))\n",
    "    fig.canvas.draw()\n",
    "\n",
    "interact(update)"
   ]
  },
  {
   "cell_type": "code",
   "execution_count": 3,
   "metadata": {},
   "outputs": [],
   "source": [
    "import svgwrite as sw\n",
    "from IPython import display\n",
    "from IPython.display import SVG\n",
    "import numpy as np"
   ]
  },
  {
   "cell_type": "code",
   "execution_count": 4,
   "metadata": {},
   "outputs": [
    {
     "data": {
      "application/vnd.jupyter.widget-view+json": {
       "model_id": "1119e37fd29147a3b33a67446dfc3682",
       "version_major": 2,
       "version_minor": 0
      },
      "text/plain": [
       "interactive(children=(FloatSlider(value=0.1, description='wall_thickness', max=0.5, step=0.01), FloatSlider(va…"
      ]
     },
     "metadata": {},
     "output_type": "display_data"
    },
    {
     "data": {
      "text/plain": [
       "<function __main__.drawing(wall_thickness=0.1, wall_density=1.0, base_width=0.5, fluid_height=0.6)>"
      ]
     },
     "execution_count": 4,
     "metadata": {},
     "output_type": "execute_result"
    }
   ],
   "source": [
    "def drawing(wall_thickness = 0.1, # relative to wall height\n",
    "            wall_density   = 1.0, # relative to fluid density\n",
    "            base_width     = 0.5, # relative to wall height\n",
    "            fluid_height   = 0.6  # relative to wall height\n",
    "            ):\n",
    "    sz = 200 # Size (pixels) of drawing.\n",
    "    dr = sw.Drawing(\"drawing.svg\", (sz, sz))\n",
    "    \n",
    "    # Draw left wall.\n",
    "    dr.add(dr.rect((0, 0), (wall_thickness*sz, sz), fill='black'))\n",
    "    \n",
    "    # Draw right wall.\n",
    "    dr.add(dr.rect(((base_width - wall_thickness)*sz, 0),\n",
    "                   (wall_thickness*sz, sz), fill='black'))\n",
    "    \n",
    "    # Draw base.\n",
    "    dr.add(dr.line((0, sz), (base_width*sz, sz), stroke='black'))\n",
    "    \n",
    "    # Draw fluid.\n",
    "    surf = sz*(1.0 - fluid_height)\n",
    "    dr.add(dr.rect((wall_thickness*sz, surf),\n",
    "                   ((base_width - 2.0*wall_thickness)*sz, sz),\n",
    "                   fill='blue'))\n",
    "    \n",
    "    # Draw line at height of center of mass.\n",
    "    r1 = 0.5*base_width - wall_thickness\n",
    "    r2 = 0.5*base_width\n",
    "    wall_height   = 1\n",
    "    fluid_density = 1\n",
    "    wall_mass  =  wall_density*np.pi*(r2*r2 - r1*r1)* wall_height\n",
    "    fluid_mass = fluid_density*np.pi*(r1*r1        )*fluid_height\n",
    "    com = sz*(1.0 -\n",
    "              (0.5*wall_height*wall_mass + 0.5*fluid_height*fluid_mass)/\n",
    "              (wall_mass + fluid_mass))\n",
    "    dr.add(dr.line((0, com), (base_width*sz, com), stroke='green',\n",
    "                   stroke_width=3))\n",
    "    \n",
    "    # Return SVG object.\n",
    "    return SVG(dr.tostring())\n",
    "    \n",
    "interact(drawing,\n",
    "         wall_thickness=(0.0, 0.5, 0.01),\n",
    "         wall_density  =(0.0, 3.0, 0.01),\n",
    "         base_width    =(0.0, 1.0, 0.01),\n",
    "         fluid_height  =(0.0, 1.0, 0.01))"
   ]
  },
  {
   "cell_type": "markdown",
   "metadata": {},
   "source": [
    "The threshold angle $\\alpha$ at which the container would fall over because\n",
    "of gravity is the inverse tangent of the ratio of two lengths,\n",
    "\n",
    "1. $\\frac{L}{2}$, half the length of the base, and\n",
    "2. $h$, the height of the center of mass.\n",
    "\n",
    "\\begin{equation}\n",
    "   \\alpha = \\arctan \\frac{L}{2h}\n",
    "\\end{equation}\n",
    "\n",
    "But $h$ has its maximum possible value, half the height $H$ of the\n",
    "container, both when the container is completely empty and when it is\n",
    "completely full.\n",
    "\\begin{equation}\n",
    "   h_{\\text{max}} = \\frac{H}{2}\n",
    "\\end{equation}\n",
    "The threshold tipping angle is minimized in these conditions.\n",
    "\\begin{equation}\n",
    "   \\alpha_{\\text{min}} = \\arctan \\frac{L}{4H}\n",
    "\\end{equation}\n",
    "So, somewhere in between completely emtpy and completely full, there must\n",
    "be a liquid level that gives the container the maximum safe tipping angle,\n",
    "$\\alpha_{\\text{max}}$.  This corresponds to the minimum height\n",
    "$h_{\\text{min}}$ of the center of mass.\n",
    "\n",
    "But how might I compute and expression for $h_{\\text{min}}$?\n",
    "\n",
    "<!--- vim: set tw=75: -->"
   ]
  },
  {
   "cell_type": "markdown",
   "metadata": {},
   "source": [
    "## Configuration of Notebook\n",
    "\n",
    "The following javascript-magic cell enables the editing of any cell in the\n",
    "external editor, gvim.\n",
    "\n",
    "<!--- vim: set filetype=markdown tw=75 -->\n",
    "\n"
   ]
  },
  {
   "cell_type": "code",
   "execution_count": 5,
   "metadata": {
    "code_folding": [
     0
    ]
   },
   "outputs": [
    {
     "data": {
      "application/javascript": [
       "\n",
       "// This cell defines two command-mode shortcuts.\n",
       "//\n",
       "// Pressing 'g' in command mode copies the content of the current cell into\n",
       "// a file and then launches gvim to edit that file.\n",
       "//\n",
       "// Pressing 'u' in command mode updates the current cell with the contents\n",
       "// of the file.\n",
       "//\n",
       "// The idea is first to press 'g', then to edit the file with gvim, then to\n",
       "// exit from gvim, and finally to press 'u' to update the cell from the\n",
       "// file.\n",
       "\n",
       "// The 'g' shortcut.\n",
       "IPython.keyboard_manager.command_shortcuts.add_shortcut('g', {\n",
       "    handler : function (event) {\n",
       "        var input = IPython.notebook.get_selected_cell().get_text();\n",
       "        var cmd = \"f = open('.toto.txt', 'w');f.close()\";\n",
       "        if (input != \"\") {\n",
       "            cmd = '%%writefile .toto.txt\\n' + input;\n",
       "        }\n",
       "        IPython.notebook.kernel.execute(cmd);\n",
       "        cmd = \"import os;\"\n",
       "        // Establish a clean PATH that has only operating-system-native\n",
       "        // executables.  On my machine, having '/opt/miniconda3/bin' in the\n",
       "        // PATH, as it is by default, causes youcompleteme to malfunction\n",
       "        // because it finds '/opt/miniconda3/bin/python' before\n",
       "        // '/usr/bin/python'.\n",
       "        cmd = cmd + \"os.putenv('PATH','/bin:/usr/bin');\"\n",
       "        cmd = cmd + \"os.system('gvim .toto.txt')\";\n",
       "        IPython.notebook.kernel.execute(cmd);\n",
       "        return false;\n",
       "    }}\n",
       ");\n",
       "\n",
       "// The 'u' shortcut.\n",
       "IPython.keyboard_manager.command_shortcuts.add_shortcut('u', {\n",
       "    handler : function (event) {\n",
       "        function handle_output(msg) {\n",
       "            var ret = msg.content.text;\n",
       "            IPython.notebook.get_selected_cell().set_text(ret);\n",
       "        }\n",
       "        var callback = {'output': handle_output};\n",
       "        var cmd = \"f = open('.toto.txt', 'r');print(f.read())\";\n",
       "        IPython.notebook.kernel.execute(cmd, {iopub: callback},\n",
       "                                        {silent: false});\n",
       "        return false;\n",
       "    }}\n",
       ");\n",
       "\n",
       "// vim: set filetype=javascript tw=75 sw=4:\n"
      ],
      "text/plain": [
       "<IPython.core.display.Javascript object>"
      ]
     },
     "metadata": {},
     "output_type": "display_data"
    }
   ],
   "source": [
    "%%javascript\n",
    "\n",
    "// This cell defines two command-mode shortcuts.\n",
    "//\n",
    "// Pressing 'g' in command mode copies the content of the current cell into\n",
    "// a file and then launches gvim to edit that file.\n",
    "//\n",
    "// Pressing 'u' in command mode updates the current cell with the contents\n",
    "// of the file.\n",
    "//\n",
    "// The idea is first to press 'g', then to edit the file with gvim, then to\n",
    "// exit from gvim, and finally to press 'u' to update the cell from the\n",
    "// file.\n",
    "\n",
    "// The 'g' shortcut.\n",
    "IPython.keyboard_manager.command_shortcuts.add_shortcut('g', {\n",
    "    handler : function (event) {\n",
    "        var input = IPython.notebook.get_selected_cell().get_text();\n",
    "        var cmd = \"f = open('.toto.txt', 'w');f.close()\";\n",
    "        if (input != \"\") {\n",
    "            cmd = '%%writefile .toto.txt\\n' + input;\n",
    "        }\n",
    "        IPython.notebook.kernel.execute(cmd);\n",
    "        cmd = \"import os;\"\n",
    "        // Establish a clean PATH that has only operating-system-native\n",
    "        // executables.  On my machine, having '/opt/miniconda3/bin' in the\n",
    "        // PATH, as it is by default, causes youcompleteme to malfunction\n",
    "        // because it finds '/opt/miniconda3/bin/python' before\n",
    "        // '/usr/bin/python'.\n",
    "        cmd = cmd + \"os.putenv('PATH','/bin:/usr/bin');\"\n",
    "        cmd = cmd + \"os.system('gvim .toto.txt')\";\n",
    "        IPython.notebook.kernel.execute(cmd);\n",
    "        return false;\n",
    "    }}\n",
    ");\n",
    "\n",
    "// The 'u' shortcut.\n",
    "IPython.keyboard_manager.command_shortcuts.add_shortcut('u', {\n",
    "    handler : function (event) {\n",
    "        function handle_output(msg) {\n",
    "            var ret = msg.content.text;\n",
    "            IPython.notebook.get_selected_cell().set_text(ret);\n",
    "        }\n",
    "        var callback = {'output': handle_output};\n",
    "        var cmd = \"f = open('.toto.txt', 'r');print(f.read())\";\n",
    "        IPython.notebook.kernel.execute(cmd, {iopub: callback},\n",
    "                                        {silent: false});\n",
    "        return false;\n",
    "    }}\n",
    ");\n",
    "\n",
    "// vim: set filetype=javascript tw=75 sw=4:\n",
    "\n"
   ]
  },
  {
   "cell_type": "markdown",
   "metadata": {},
   "source": [
    "The following cell brings in the libraries needed for linear regression\n",
    "and for plotting."
   ]
  },
  {
   "cell_type": "code",
   "execution_count": 6,
   "metadata": {},
   "outputs": [],
   "source": [
    "import statsmodels.api as sm\n",
    "import statsmodels.formula.api as smf\n",
    "import pandas as pd\n",
    "import numpy as np\n",
    "import matplotlib.pyplot as plt\n",
    "%matplotlib inline"
   ]
  },
  {
   "cell_type": "markdown",
   "metadata": {},
   "source": [
    "The following cell allows the use of widgets."
   ]
  },
  {
   "cell_type": "code",
   "execution_count": 7,
   "metadata": {},
   "outputs": [],
   "source": [
    "from __future__ import print_function\n",
    "from ipywidgets import interact, interactive, fixed, interact_manual\n",
    "import ipywidgets as widgets"
   ]
  },
  {
   "cell_type": "code",
   "execution_count": 8,
   "metadata": {},
   "outputs": [],
   "source": [
    "def ch(H, W, D, h):\n",
    "    return H, W, D, h"
   ]
  },
  {
   "cell_type": "code",
   "execution_count": 9,
   "metadata": {},
   "outputs": [
    {
     "data": {
      "application/vnd.jupyter.widget-view+json": {
       "model_id": "e8fca4f08b9945dbb0c2a76e4cae0bde",
       "version_major": 2,
       "version_minor": 0
      },
      "text/plain": [
       "interactive(children=(IntSlider(value=10, description='H', max=30, min=-10), IntSlider(value=5, description='W…"
      ]
     },
     "metadata": {},
     "output_type": "display_data"
    }
   ],
   "source": [
    "interact(ch, H=10, W=5, D=2, h=7);"
   ]
  },
  {
   "cell_type": "code",
   "execution_count": null,
   "metadata": {},
   "outputs": [],
   "source": []
  }
 ],
 "metadata": {
  "kernelspec": {
   "display_name": "Python 3",
   "language": "python",
   "name": "python3"
  },
  "language_info": {
   "codemirror_mode": {
    "name": "ipython",
    "version": 3
   },
   "file_extension": ".py",
   "mimetype": "text/x-python",
   "name": "python",
   "nbconvert_exporter": "python",
   "pygments_lexer": "ipython3",
   "version": "3.6.5"
  },
  "latex_envs": {
   "LaTeX_envs_menu_present": true,
   "autoclose": false,
   "autocomplete": true,
   "bibliofile": "biblio.bib",
   "cite_by": "apalike",
   "current_citInitial": 1,
   "eqLabelWithNumbers": true,
   "eqNumInitial": 1,
   "hotkeys": {
    "equation": "Ctrl-E",
    "itemize": "Ctrl-I"
   },
   "labels_anchors": false,
   "latex_user_defs": false,
   "report_style_numbering": false,
   "user_envs_cfg": false
  },
  "widgets": {
   "application/vnd.jupyter.widget-state+json": {
    "state": {},
    "version_major": 2,
    "version_minor": 0
   }
  }
 },
 "nbformat": 4,
 "nbformat_minor": 2
}
