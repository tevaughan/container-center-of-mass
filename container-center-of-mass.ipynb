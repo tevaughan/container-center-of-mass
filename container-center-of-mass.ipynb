{
 "cells": [
  {
   "cell_type": "markdown",
   "metadata": {},
   "source": [
    "<center style=\"font-size:2em;font-weight:bold\">\n",
    "   The Minimum Height of the Center of Mass\n",
    "</center>\n",
    "<p/>\n",
    "<center style=\"font-size:1.75em;font-weight:bold\">\n",
    "   of a Right-Cylindrical Container of Liquid\n",
    "</center>\n",
    "<p/>\n",
    "<center>Thomas E. Vaughan</center>\n",
    "\n",
    "<!--- vim: set filetype=markdown tw=75: -->\n",
    "\n"
   ]
  },
  {
   "cell_type": "markdown",
   "metadata": {},
   "source": [
    "# Introduction\n",
    "\n",
    "In the shower one morning, I groggily reached for the shampoo, but I ended\n",
    "up knocking the container onto its side.  I was surprised by my clumsiness\n",
    "and woke up a bit.  I saw that there are two main reasons for the ease with\n",
    "which I had knocked over the container.  One was obvious and uninteresting,\n",
    "but the other was interesting enough to keep me thinking long after I\n",
    "exited the shower.\n",
    "\n",
    "The obvious, uninteresting reason is that the container was almost empty.\n",
    "When a container has minimum content, its inertia is minimal.  Any\n",
    "external, disturbing force has maximal effect on an object of minimal\n",
    "inertia.\n",
    "\n",
    "Yet, with water dripping off of my face and onto the floor, I stared down\n",
    "at the container of shampoo as it lay sideways on the floor of the shower.\n",
    "In that moment of thought, I realized that the low mass and low rotational\n",
    "inertia of the nearly empty container did not satisfyingly explain what had\n",
    "happened.  My disturbance of the container had been only very slight\n",
    "indeed.  Even in its low-mass state, the container had not suffered much of\n",
    "an angular perturbation before it fell over.  There was something more\n",
    "interesting involved as well.\n",
    "\n",
    "<!--- vim: set filetype=markdown tw=75: -->"
   ]
  },
  {
   "cell_type": "markdown",
   "metadata": {},
   "source": [
    "# Configuration of Notebook\n",
    "\n",
    "The following javascript-magic cell enables the editing of any cell in the\n",
    "external editor, gvim.\n",
    "\n",
    "<!--- vim: set filetype=markdown tw=75 -->\n",
    "\n"
   ]
  },
  {
   "cell_type": "code",
   "execution_count": 1,
   "metadata": {
    "code_folding": [
     0
    ]
   },
   "outputs": [
    {
     "data": {
      "application/javascript": [
       "\n",
       "// This cell defines two command-mode shortcuts.\n",
       "//\n",
       "// Pressing 'g' in command mode copies the content of the current cell into\n",
       "// a file and then launches gvim to edit that file.\n",
       "//\n",
       "// Pressing 'u' in command mode updates the current cell with the contents\n",
       "// of the file.\n",
       "//\n",
       "// The idea is first to press 'g', then to edit the file with gvim, then to\n",
       "// exit from gvim, and finally to press 'u' to update the cell from the\n",
       "// file.\n",
       "\n",
       "// The 'g' shortcut.\n",
       "IPython.keyboard_manager.command_shortcuts.add_shortcut('g', {\n",
       "    handler : function (event) {\n",
       "        var input = IPython.notebook.get_selected_cell().get_text();\n",
       "        var cmd = \"f = open('.toto.txt', 'w');f.close()\";\n",
       "        if (input != \"\") {\n",
       "            cmd = '%%writefile .toto.txt\\n' + input;\n",
       "        }\n",
       "        IPython.notebook.kernel.execute(cmd);\n",
       "        cmd = \"import os;\"\n",
       "        // Establish a clean PATH that has only operating-system-native\n",
       "        // executables.  On my machine, having '/opt/miniconda3/bin' in the\n",
       "        // PATH, as it is by default, causes youcompleteme to malfunction\n",
       "        // because it finds '/opt/miniconda3/bin/python' before\n",
       "        // '/usr/bin/python'.\n",
       "        cmd = cmd + \"os.putenv('PATH','/bin:/usr/bin');\"\n",
       "        cmd = cmd + \"os.system('gvim .toto.txt')\";\n",
       "        IPython.notebook.kernel.execute(cmd);\n",
       "        return false;\n",
       "    }}\n",
       ");\n",
       "\n",
       "// The 'u' shortcut.\n",
       "IPython.keyboard_manager.command_shortcuts.add_shortcut('u', {\n",
       "    handler : function (event) {\n",
       "        function handle_output(msg) {\n",
       "            var ret = msg.content.text;\n",
       "            IPython.notebook.get_selected_cell().set_text(ret);\n",
       "        }\n",
       "        var callback = {'output': handle_output};\n",
       "        var cmd = \"f = open('.toto.txt', 'r');print(f.read())\";\n",
       "        IPython.notebook.kernel.execute(cmd, {iopub: callback},\n",
       "                                        {silent: false});\n",
       "        return false;\n",
       "    }}\n",
       ");\n",
       "\n",
       "// vim: set filetype=javascript tw=75 sw=4:\n"
      ],
      "text/plain": [
       "<IPython.core.display.Javascript object>"
      ]
     },
     "metadata": {},
     "output_type": "display_data"
    }
   ],
   "source": [
    "%%javascript\n",
    "\n",
    "// This cell defines two command-mode shortcuts.\n",
    "//\n",
    "// Pressing 'g' in command mode copies the content of the current cell into\n",
    "// a file and then launches gvim to edit that file.\n",
    "//\n",
    "// Pressing 'u' in command mode updates the current cell with the contents\n",
    "// of the file.\n",
    "//\n",
    "// The idea is first to press 'g', then to edit the file with gvim, then to\n",
    "// exit from gvim, and finally to press 'u' to update the cell from the\n",
    "// file.\n",
    "\n",
    "// The 'g' shortcut.\n",
    "IPython.keyboard_manager.command_shortcuts.add_shortcut('g', {\n",
    "    handler : function (event) {\n",
    "        var input = IPython.notebook.get_selected_cell().get_text();\n",
    "        var cmd = \"f = open('.toto.txt', 'w');f.close()\";\n",
    "        if (input != \"\") {\n",
    "            cmd = '%%writefile .toto.txt\\n' + input;\n",
    "        }\n",
    "        IPython.notebook.kernel.execute(cmd);\n",
    "        cmd = \"import os;\"\n",
    "        // Establish a clean PATH that has only operating-system-native\n",
    "        // executables.  On my machine, having '/opt/miniconda3/bin' in the\n",
    "        // PATH, as it is by default, causes youcompleteme to malfunction\n",
    "        // because it finds '/opt/miniconda3/bin/python' before\n",
    "        // '/usr/bin/python'.\n",
    "        cmd = cmd + \"os.putenv('PATH','/bin:/usr/bin');\"\n",
    "        cmd = cmd + \"os.system('gvim .toto.txt')\";\n",
    "        IPython.notebook.kernel.execute(cmd);\n",
    "        return false;\n",
    "    }}\n",
    ");\n",
    "\n",
    "// The 'u' shortcut.\n",
    "IPython.keyboard_manager.command_shortcuts.add_shortcut('u', {\n",
    "    handler : function (event) {\n",
    "        function handle_output(msg) {\n",
    "            var ret = msg.content.text;\n",
    "            IPython.notebook.get_selected_cell().set_text(ret);\n",
    "        }\n",
    "        var callback = {'output': handle_output};\n",
    "        var cmd = \"f = open('.toto.txt', 'r');print(f.read())\";\n",
    "        IPython.notebook.kernel.execute(cmd, {iopub: callback},\n",
    "                                        {silent: false});\n",
    "        return false;\n",
    "    }}\n",
    ");\n",
    "\n",
    "// vim: set filetype=javascript tw=75 sw=4:\n",
    "\n"
   ]
  },
  {
   "cell_type": "markdown",
   "metadata": {},
   "source": [
    "The following cell brings in various python libraries."
   ]
  },
  {
   "cell_type": "code",
   "execution_count": 2,
   "metadata": {},
   "outputs": [],
   "source": [
    "from IPython         import display\n",
    "from IPython.display import SVG\n",
    "from ipywidgets      import *\n",
    "\n",
    "import matplotlib.pyplot as plt\n",
    "import numpy as np\n",
    "import svgwrite as sw\n",
    "\n",
    "%matplotlib inline\n",
    "\n",
    "# vim: set tw=75:\n",
    "\n"
   ]
  },
  {
   "cell_type": "markdown",
   "metadata": {},
   "source": [
    "# Stability Against Angular Displacement\n",
    "\n",
    "The container's stability against falling over when starting from rest at a\n",
    "fixed angular displacement about the edge of the base depends on the height\n",
    "of the contained liquid.  Before I finished with my shower, I had convinced\n",
    "myself that both the completely empty state and the completely full state\n",
    "are the least stable states.  Each has the highest center of mass, about\n",
    "half the height of the container.\n",
    "\n",
    "<!--- vim: set filetype=markdown tw=75: -->\n",
    "\n"
   ]
  },
  {
   "cell_type": "code",
   "execution_count": 3,
   "metadata": {},
   "outputs": [
    {
     "data": {
      "application/vnd.jupyter.widget-view+json": {
       "model_id": "24444b1c53ab4c5a8dbf6a84acceb067",
       "version_major": 2,
       "version_minor": 0
      },
      "text/plain": [
       "interactive(children=(FloatSlider(value=0.1, description='wall_thickness', max=0.5, step=0.01), FloatSlider(va…"
      ]
     },
     "metadata": {},
     "output_type": "display_data"
    },
    {
     "data": {
      "text/plain": [
       "<function __main__.drawing(wall_thickness=0.1, wall_density=1.0, base_width=0.5, fluid_height=0.6)>"
      ]
     },
     "execution_count": 3,
     "metadata": {},
     "output_type": "execute_result"
    }
   ],
   "source": [
    "def drawing(wall_thickness = 0.1, # relative to wall height\n",
    "            wall_density   = 1.0, # relative to fluid density\n",
    "            base_width     = 0.5, # relative to wall height\n",
    "            fluid_height   = 0.6  # relative to wall height\n",
    "            ):\n",
    "    sz = 200 # Size (pixels) of drawing.\n",
    "    dr = sw.Drawing(\"drawing.svg\", (sz, sz))\n",
    "    \n",
    "    # Draw left wall.\n",
    "    dr.add(dr.rect((0, 0), (wall_thickness*sz, sz), fill='black'))\n",
    "    \n",
    "    # Draw right wall.\n",
    "    dr.add(dr.rect(((base_width - wall_thickness)*sz, 0),\n",
    "                   (wall_thickness*sz, sz), fill='black'))\n",
    "    \n",
    "    # Draw base.\n",
    "    dr.add(dr.line((0, sz), (base_width*sz, sz), stroke='black'))\n",
    "    \n",
    "    # Draw fluid.\n",
    "    surf = sz*(1.0 - fluid_height)\n",
    "    dr.add(dr.rect((wall_thickness*sz, surf),\n",
    "                   ((base_width - 2.0*wall_thickness)*sz, sz),\n",
    "                   fill='blue'))\n",
    "    \n",
    "    # Draw line at height of center of mass.\n",
    "    r1 = 0.5*base_width - wall_thickness\n",
    "    r2 = 0.5*base_width\n",
    "    wall_height   = 1\n",
    "    fluid_density = 1\n",
    "    wall_mass  =  wall_density*np.pi*(r2*r2 - r1*r1)* wall_height\n",
    "    fluid_mass = fluid_density*np.pi*(r1*r1        )*fluid_height\n",
    "    com = sz*(1.0 -\n",
    "              (0.5*wall_height*wall_mass + 0.5*fluid_height*fluid_mass)/\n",
    "              (wall_mass + fluid_mass))\n",
    "    dr.add(dr.line((0, com), (base_width*sz, com), stroke='green',\n",
    "                   stroke_width=3))\n",
    "    \n",
    "    # Return SVG object.\n",
    "    return SVG(dr.tostring())\n",
    "    \n",
    "interact(drawing,\n",
    "         wall_thickness=(0.0, 0.5, 0.01),\n",
    "         wall_density  =(0.0, 3.0, 0.01),\n",
    "         base_width    =(0.0, 1.0, 0.01),\n",
    "         fluid_height  =(0.0, 1.0, 0.01))"
   ]
  },
  {
   "cell_type": "markdown",
   "metadata": {},
   "source": [
    "The threshold angle $\\alpha$ at which the container would fall over because\n",
    "of gravity is the inverse tangent of the ratio of two lengths,\n",
    "\n",
    "1. $\\frac{L}{2}$, half the length of the base, and\n",
    "2. $h$, the height of the center of mass.\n",
    "\n",
    "\\begin{equation}\n",
    "   \\alpha = \\arctan \\frac{L}{2h}\n",
    "\\end{equation}\n",
    "\n",
    "But $h$ has its maximum possible value, half the height $H$ of the\n",
    "container, both when the container is completely empty and when it is\n",
    "completely full.\n",
    "\\begin{equation}\n",
    "   h_{\\text{max}} = \\frac{H}{2}\n",
    "\\end{equation}\n",
    "The threshold tipping angle is minimized in these conditions.\n",
    "\\begin{equation}\n",
    "   \\alpha_{\\text{min}} = \\arctan \\frac{L}{4H}\n",
    "\\end{equation}\n",
    "So, somewhere in between completely emtpy and completely full, there must\n",
    "be a liquid level that gives the container the maximum safe tipping angle,\n",
    "$\\alpha_{\\text{max}}$.  This corresponds to the minimum height\n",
    "$h_{\\text{min}}$ of the center of mass.\n",
    "\n",
    "But how might I compute and expression for $h_{\\text{min}}$?\n",
    "\n",
    "<!--- vim: set tw=75: -->"
   ]
  },
  {
   "cell_type": "code",
   "execution_count": 4,
   "metadata": {},
   "outputs": [
    {
     "data": {
      "application/vnd.jupyter.widget-view+json": {
       "model_id": "9ab6133b3ff84afcb3825794d4b9e4c7",
       "version_major": 2,
       "version_minor": 0
      },
      "text/plain": [
       "interactive(children=(FloatSlider(value=1.0, description='omega', max=3.0, min=-1.0), Output()), _dom_classes=…"
      ]
     },
     "metadata": {},
     "output_type": "display_data"
    },
    {
     "data": {
      "text/plain": [
       "<function __main__.update(omega=1.0)>"
      ]
     },
     "execution_count": 4,
     "metadata": {},
     "output_type": "execute_result"
    }
   ],
   "source": [
    "x = np.linspace(0, 2*np.pi)\n",
    "\n",
    "def update(omega = 1.0):\n",
    "    fig = plt.figure()\n",
    "    ax = fig.add_subplot(1, 1, 1)\n",
    "    ax.plot(x, np.sin(omega*x))\n",
    "    fig.canvas.draw()\n",
    "\n",
    "interact(update)"
   ]
  },
  {
   "cell_type": "markdown",
   "metadata": {},
   "source": [
    "The following cell brings in the libraries needed for linear regression\n",
    "and for plotting."
   ]
  },
  {
   "cell_type": "code",
   "execution_count": 5,
   "metadata": {},
   "outputs": [],
   "source": [
    "import statsmodels.api as sm\n",
    "import statsmodels.formula.api as smf\n",
    "import pandas as pd\n",
    "import numpy as np\n",
    "import matplotlib.pyplot as plt\n",
    "%matplotlib inline"
   ]
  },
  {
   "cell_type": "code",
   "execution_count": null,
   "metadata": {},
   "outputs": [],
   "source": []
  }
 ],
 "metadata": {
  "kernelspec": {
   "display_name": "Python 3",
   "language": "python",
   "name": "python3"
  },
  "language_info": {
   "codemirror_mode": {
    "name": "ipython",
    "version": 3
   },
   "file_extension": ".py",
   "mimetype": "text/x-python",
   "name": "python",
   "nbconvert_exporter": "python",
   "pygments_lexer": "ipython3",
   "version": "3.6.5"
  },
  "latex_envs": {
   "LaTeX_envs_menu_present": true,
   "autoclose": false,
   "autocomplete": true,
   "bibliofile": "biblio.bib",
   "cite_by": "apalike",
   "current_citInitial": 1,
   "eqLabelWithNumbers": true,
   "eqNumInitial": 1,
   "hotkeys": {
    "equation": "Ctrl-E",
    "itemize": "Ctrl-I"
   },
   "labels_anchors": false,
   "latex_user_defs": false,
   "report_style_numbering": false,
   "user_envs_cfg": false
  },
  "widgets": {
   "application/vnd.jupyter.widget-state+json": {
    "state": {
     "05d0c3442f9c446dadfcc520c6dda1e3": {
      "model_module": "@jupyter-widgets/base",
      "model_module_version": "1.0.0",
      "model_name": "LayoutModel",
      "state": {}
     },
     "0874b199bd1f4c608bbad0ae70ac6a29": {
      "model_module": "@jupyter-widgets/base",
      "model_module_version": "1.0.0",
      "model_name": "LayoutModel",
      "state": {}
     },
     "096effc094d543f889858999de796deb": {
      "model_module": "@jupyter-widgets/controls",
      "model_module_version": "1.2.0",
      "model_name": "FloatSliderModel",
      "state": {
       "description": "base_width",
       "layout": "IPY_MODEL_3376de38d58d4e08a5d845d2c15c25fd",
       "max": 1,
       "step": 0.01,
       "style": "IPY_MODEL_dd664bcb273e4bc390579409ccef1858",
       "value": 1
      }
     },
     "09c4183c41f94aeeb6c382671b93d222": {
      "model_module": "@jupyter-widgets/controls",
      "model_module_version": "1.2.0",
      "model_name": "SliderStyleModel",
      "state": {
       "description_width": ""
      }
     },
     "0cd7cc4848ac4f60b086649cdebab676": {
      "model_module": "@jupyter-widgets/controls",
      "model_module_version": "1.2.0",
      "model_name": "SliderStyleModel",
      "state": {
       "description_width": ""
      }
     },
     "10c7fafbebf34b5b9883ec513d7d33ae": {
      "model_module": "@jupyter-widgets/controls",
      "model_module_version": "1.2.0",
      "model_name": "IntSliderModel",
      "state": {
       "description": "h",
       "layout": "IPY_MODEL_589f54874c6a4d1db729dc56618b6580",
       "max": 21,
       "min": -7,
       "style": "IPY_MODEL_1d520f2c86704dfd9d67e0762c4a3fcb",
       "value": 7
      }
     },
     "1d520f2c86704dfd9d67e0762c4a3fcb": {
      "model_module": "@jupyter-widgets/controls",
      "model_module_version": "1.2.0",
      "model_name": "SliderStyleModel",
      "state": {
       "description_width": ""
      }
     },
     "1f1fc220c1744d59b1753f36f40242a2": {
      "model_module": "@jupyter-widgets/controls",
      "model_module_version": "1.2.0",
      "model_name": "SliderStyleModel",
      "state": {
       "description_width": ""
      }
     },
     "21d5ad7b01e94e619f389b507997cafe": {
      "model_module": "@jupyter-widgets/base",
      "model_module_version": "1.0.0",
      "model_name": "LayoutModel",
      "state": {}
     },
     "24444b1c53ab4c5a8dbf6a84acceb067": {
      "model_module": "@jupyter-widgets/controls",
      "model_module_version": "1.2.0",
      "model_name": "VBoxModel",
      "state": {
       "_dom_classes": [
        "widget-interact"
       ],
       "children": [
        "IPY_MODEL_cd69e458e2fd4593bd3f977188c907b4",
        "IPY_MODEL_adb49e293e914e1d9c18d0b20742a9f0",
        "IPY_MODEL_096effc094d543f889858999de796deb",
        "IPY_MODEL_8ca6ee0603034922af97d8a85d7fa016",
        "IPY_MODEL_9fcfad1a2bea47518ca328651479b907"
       ],
       "layout": "IPY_MODEL_5f03af68bf9642cbbbaa50cc688a4ee8"
      }
     },
     "2a3f5840a31f4a7490f37bc8c48833b0": {
      "model_module": "@jupyter-widgets/base",
      "model_module_version": "1.0.0",
      "model_name": "LayoutModel",
      "state": {}
     },
     "32a313075e174dbdb678bf812a256d3b": {
      "model_module": "@jupyter-widgets/controls",
      "model_module_version": "1.2.0",
      "model_name": "SliderStyleModel",
      "state": {
       "description_width": ""
      }
     },
     "3376de38d58d4e08a5d845d2c15c25fd": {
      "model_module": "@jupyter-widgets/base",
      "model_module_version": "1.0.0",
      "model_name": "LayoutModel",
      "state": {}
     },
     "3a595820fdb74f3eb029a3f7d34ea846": {
      "model_module": "@jupyter-widgets/controls",
      "model_module_version": "1.2.0",
      "model_name": "FloatSliderModel",
      "state": {
       "description": "omega",
       "layout": "IPY_MODEL_0874b199bd1f4c608bbad0ae70ac6a29",
       "max": 3,
       "min": -1,
       "step": 0.1,
       "style": "IPY_MODEL_8af58f9c23cd42558b6afa209e9bf3cf",
       "value": 1
      }
     },
     "3ab3448354e44112a81338b64d7deb01": {
      "model_module": "@jupyter-widgets/base",
      "model_module_version": "1.0.0",
      "model_name": "LayoutModel",
      "state": {}
     },
     "3b52e49f0a364644a0928283df7e8d8d": {
      "model_module": "@jupyter-widgets/controls",
      "model_module_version": "1.2.0",
      "model_name": "IntSliderModel",
      "state": {
       "description": "W",
       "layout": "IPY_MODEL_926be6fcb66d4197a9023bbe7264e0a4",
       "max": 15,
       "min": -5,
       "style": "IPY_MODEL_09c4183c41f94aeeb6c382671b93d222",
       "value": 5
      }
     },
     "3cc4451b765540b59276db3d2f6eca6c": {
      "model_module": "@jupyter-widgets/controls",
      "model_module_version": "1.2.0",
      "model_name": "SliderStyleModel",
      "state": {
       "description_width": ""
      }
     },
     "462688b9b62046609177279e50566e70": {
      "model_module": "@jupyter-widgets/controls",
      "model_module_version": "1.2.0",
      "model_name": "SliderStyleModel",
      "state": {
       "description_width": ""
      }
     },
     "4d0829199f984f6bbb6f8232913dfedb": {
      "model_module": "@jupyter-widgets/base",
      "model_module_version": "1.0.0",
      "model_name": "LayoutModel",
      "state": {}
     },
     "4daf32e60cd34c31a57caeb8a51dde36": {
      "model_module": "@jupyter-widgets/controls",
      "model_module_version": "1.2.0",
      "model_name": "VBoxModel",
      "state": {
       "_dom_classes": [
        "widget-interact"
       ],
       "children": [
        "IPY_MODEL_edefc5aef2554a5aac05ad7f85b6aada",
        "IPY_MODEL_a680c8fc2b2f4595b8725f1c50675544"
       ],
       "layout": "IPY_MODEL_59b000fa60b0454a858ce7e4942cc862"
      }
     },
     "589f54874c6a4d1db729dc56618b6580": {
      "model_module": "@jupyter-widgets/base",
      "model_module_version": "1.0.0",
      "model_name": "LayoutModel",
      "state": {}
     },
     "58c14de76d1a42d68b73792bf284889c": {
      "model_module": "@jupyter-widgets/base",
      "model_module_version": "1.0.0",
      "model_name": "LayoutModel",
      "state": {}
     },
     "59915f483a3f4fe292c62c6254b86a50": {
      "model_module": "@jupyter-widgets/base",
      "model_module_version": "1.0.0",
      "model_name": "LayoutModel",
      "state": {}
     },
     "59b000fa60b0454a858ce7e4942cc862": {
      "model_module": "@jupyter-widgets/base",
      "model_module_version": "1.0.0",
      "model_name": "LayoutModel",
      "state": {}
     },
     "5b6c8ebb0fcd4063b6b9fe83b4753180": {
      "model_module": "@jupyter-widgets/output",
      "model_module_version": "1.0.0",
      "model_name": "OutputModel",
      "state": {
       "layout": "IPY_MODEL_ad879e9f300a484a9a637f928c63d4ef",
       "outputs": [
        {
         "data": {
          "image/png": "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\n",
          "text/plain": "<Figure size 432x288 with 1 Axes>"
         },
         "metadata": {},
         "output_type": "display_data"
        }
       ]
      }
     },
     "5c6ce795877740e8baa73bd7be69bfda": {
      "model_module": "@jupyter-widgets/controls",
      "model_module_version": "1.2.0",
      "model_name": "VBoxModel",
      "state": {
       "_dom_classes": [
        "widget-interact"
       ],
       "children": [
        "IPY_MODEL_6e362ca66c0b458fa971e5de99706361",
        "IPY_MODEL_3b52e49f0a364644a0928283df7e8d8d",
        "IPY_MODEL_89ecf739dfb5434e92f82617fb3d3633",
        "IPY_MODEL_10c7fafbebf34b5b9883ec513d7d33ae",
        "IPY_MODEL_aaf2944a03134a1f8fa53c0eb31b5a96"
       ],
       "layout": "IPY_MODEL_58c14de76d1a42d68b73792bf284889c"
      }
     },
     "5f03af68bf9642cbbbaa50cc688a4ee8": {
      "model_module": "@jupyter-widgets/base",
      "model_module_version": "1.0.0",
      "model_name": "LayoutModel",
      "state": {}
     },
     "6e362ca66c0b458fa971e5de99706361": {
      "model_module": "@jupyter-widgets/controls",
      "model_module_version": "1.2.0",
      "model_name": "IntSliderModel",
      "state": {
       "description": "H",
       "layout": "IPY_MODEL_59915f483a3f4fe292c62c6254b86a50",
       "max": 30,
       "min": -10,
       "style": "IPY_MODEL_f16aa4fddfb1478ca59afc5afd203f06",
       "value": 10
      }
     },
     "748748b6ccb14e639c3f0a23038c2e7d": {
      "model_module": "@jupyter-widgets/controls",
      "model_module_version": "1.2.0",
      "model_name": "FloatSliderModel",
      "state": {
       "description": "wall_density",
       "layout": "IPY_MODEL_2a3f5840a31f4a7490f37bc8c48833b0",
       "max": 3,
       "step": 0.01,
       "style": "IPY_MODEL_c2505559a53a4901927637ebf513da44",
       "value": 1
      }
     },
     "777cba1c19c64734bda2e94b6ce6198e": {
      "model_module": "@jupyter-widgets/controls",
      "model_module_version": "1.2.0",
      "model_name": "SliderStyleModel",
      "state": {
       "description_width": ""
      }
     },
     "7f074578838b4bc594776e94e49423d0": {
      "model_module": "@jupyter-widgets/base",
      "model_module_version": "1.0.0",
      "model_name": "LayoutModel",
      "state": {}
     },
     "843a044fa9a3473d9dc007e47e98723b": {
      "model_module": "@jupyter-widgets/controls",
      "model_module_version": "1.2.0",
      "model_name": "FloatSliderModel",
      "state": {
       "description": "base_width",
       "layout": "IPY_MODEL_4d0829199f984f6bbb6f8232913dfedb",
       "max": 1,
       "step": 0.01,
       "style": "IPY_MODEL_0cd7cc4848ac4f60b086649cdebab676",
       "value": 0.5
      }
     },
     "86dc2a4d65e04051acbafc699d869b72": {
      "model_module": "@jupyter-widgets/base",
      "model_module_version": "1.0.0",
      "model_name": "LayoutModel",
      "state": {}
     },
     "89ecf739dfb5434e92f82617fb3d3633": {
      "model_module": "@jupyter-widgets/controls",
      "model_module_version": "1.2.0",
      "model_name": "IntSliderModel",
      "state": {
       "description": "D",
       "layout": "IPY_MODEL_c580e8947090404e9a5f0ceda3132ddd",
       "max": 6,
       "min": -2,
       "style": "IPY_MODEL_32a313075e174dbdb678bf812a256d3b",
       "value": 2
      }
     },
     "8af58f9c23cd42558b6afa209e9bf3cf": {
      "model_module": "@jupyter-widgets/controls",
      "model_module_version": "1.2.0",
      "model_name": "SliderStyleModel",
      "state": {
       "description_width": ""
      }
     },
     "8c1b97c0387440aca440cd4e630960b8": {
      "model_module": "@jupyter-widgets/controls",
      "model_module_version": "1.2.0",
      "model_name": "FloatSliderModel",
      "state": {
       "description": "fluid_height",
       "layout": "IPY_MODEL_05d0c3442f9c446dadfcc520c6dda1e3",
       "max": 1,
       "step": 0.01,
       "style": "IPY_MODEL_e40c2a563a6a4153a0f1a1157f1ca40e",
       "value": 0.6
      }
     },
     "8ca6ee0603034922af97d8a85d7fa016": {
      "model_module": "@jupyter-widgets/controls",
      "model_module_version": "1.2.0",
      "model_name": "FloatSliderModel",
      "state": {
       "description": "fluid_height",
       "layout": "IPY_MODEL_86dc2a4d65e04051acbafc699d869b72",
       "max": 1,
       "step": 0.01,
       "style": "IPY_MODEL_1f1fc220c1744d59b1753f36f40242a2",
       "value": 0.14
      }
     },
     "926be6fcb66d4197a9023bbe7264e0a4": {
      "model_module": "@jupyter-widgets/base",
      "model_module_version": "1.0.0",
      "model_name": "LayoutModel",
      "state": {}
     },
     "9ab6133b3ff84afcb3825794d4b9e4c7": {
      "model_module": "@jupyter-widgets/controls",
      "model_module_version": "1.2.0",
      "model_name": "VBoxModel",
      "state": {
       "_dom_classes": [
        "widget-interact"
       ],
       "children": [
        "IPY_MODEL_3a595820fdb74f3eb029a3f7d34ea846",
        "IPY_MODEL_5b6c8ebb0fcd4063b6b9fe83b4753180"
       ],
       "layout": "IPY_MODEL_3ab3448354e44112a81338b64d7deb01"
      }
     },
     "9bd483b1d8584e4d9d3f62cef7771299": {
      "model_module": "@jupyter-widgets/base",
      "model_module_version": "1.0.0",
      "model_name": "LayoutModel",
      "state": {}
     },
     "9fcfad1a2bea47518ca328651479b907": {
      "model_module": "@jupyter-widgets/output",
      "model_module_version": "1.0.0",
      "model_name": "OutputModel",
      "state": {
       "layout": "IPY_MODEL_9bd483b1d8584e4d9d3f62cef7771299",
       "outputs": [
        {
         "data": {
          "image/svg+xml": "<svg baseProfile=\"full\" height=\"200\" version=\"1.1\" width=\"200\" xmlns=\"http://www.w3.org/2000/svg\" xmlns:ev=\"http://www.w3.org/2001/xml-events\" xmlns:xlink=\"http://www.w3.org/1999/xlink\"><defs/><rect fill=\"black\" height=\"200\" width=\"8.0\" x=\"0\" y=\"0\"/><rect fill=\"black\" height=\"200\" width=\"8.0\" x=\"192.0\" y=\"0\"/><line stroke=\"black\" x1=\"0\" x2=\"200.0\" y1=\"200\" y2=\"200\"/><rect fill=\"blue\" height=\"200\" width=\"184.0\" x=\"8.0\" y=\"172.0\"/><line stroke=\"green\" stroke-width=\"3\" x1=\"0\" x2=\"200.0\" y1=\"159.15994798439533\" y2=\"159.15994798439533\"/></svg>",
          "text/plain": "<IPython.core.display.SVG object>"
         },
         "metadata": {},
         "output_type": "display_data"
        }
       ]
      }
     },
     "a680c8fc2b2f4595b8725f1c50675544": {
      "model_module": "@jupyter-widgets/output",
      "model_module_version": "1.0.0",
      "model_name": "OutputModel",
      "state": {
       "layout": "IPY_MODEL_7f074578838b4bc594776e94e49423d0",
       "outputs": [
        {
         "data": {
          "image/png": "iVBORw0KGgoAAAANSUhEUgAAAYYAAAD8CAYAAABzTgP2AAAABHNCSVQICAgIfAhkiAAAAAlwSFlzAAALEgAACxIB0t1+/AAAADl0RVh0U29mdHdhcmUAbWF0cGxvdGxpYiB2ZXJzaW9uIDIuMi4yLCBodHRwOi8vbWF0cGxvdGxpYi5vcmcvhp/UCwAAIABJREFUeJzt3Xd4VGXe//H3Nz2EFEJCTUgooYMBQpOiUgRWF3BVVlwUXRRde9sFf+uua33UfWzYFXbFig0VFOlFFBFCDyWF0BJKAkggCen3748MPgkmpMwkZ8r3dV1zZebMOZlP3CWf3KfdYoxBKaWUOsfL6gBKKaWcixaDUkqpSrQYlFJKVaLFoJRSqhItBqWUUpVoMSillKpEi0EppVQlWgxKKaUq0WJQSilViY/VAeojIiLCxMbGWh1DKaVcyqZNm44bYyJrWs8liyE2NpbExESrYyillEsRkQO1WU93JSmllKpEi0EppVQlWgxKKaUq0WJQSilViRaDUkqpShxSDCLyHxHJEpGkat4XEZklImkisl1E+lZ4b6qIpNoeUx2RRymlVP05asTwLjD2Au+PA+Jsj+nAGwAiEg48CgwEBgCPikgzB2VSSilVDw65jsEY872IxF5glQnAe6Z8HtH1IhImIq2BS4FlxpiTACKyjPKC+dgRuVTdGGM4nFNAUmYOaVm5+Hl7ERLoQ2igLyGBvoTaHm1CA/HyEqvjKqUaSGNd4NYWOFThdYZtWXXLf0NEplM+2qBdu3YNk9LD5BWWsCYlmx2ZOSRl5rDz8GlO5hXVuF1ksD9jerRkXM/WDGwfjo+3HqpSyp00VjFU9eelucDy3y405m3gbYCEhIQq11G1k3WmgLnr9vPB+oPknC3G11vo3DKY0d1a0rNtCD3ahtK1VTClZYacs8XknC3m9NkScs4WczKviB/SsvliUyYfrD9Isya+jO7eknG9WjOkYwR+PloSSrm6xiqGDCC6wuso4LBt+aXnLV/dSJk8TuqxM8xeu48vt2RSXFbGmO6tuGlILH3aheHv413lNsEBvkSdd9Tn+oHtOFtUypqULL5LOsqiHUf5NDGDtmGB/P2Kbozr2QoR3dWklKtqrGJYANwlIvMoP9CcY4w5IiJLgKcrHHC+HHi4kTJ5jKTMHF5YlsLKPVkE+Hrxx/7R/Hloe9pHBNX7ewb6eTO2Z2vG9mxNYUkpa5KzeWFZCnd8uJlBHcJ59Pc96NY6xIE/hVKqsTikGETkY8r/8o8QkQzKzzTyBTDGvAksAn4HpAH5wM22906KyBPARtu3evzcgWhlv9Iyw5tr9vLishRCAn25f1RnbhgcQ3iQn0M/x9/Hm8t7tGJE1xbM23iI55cmc8WstUwe0I4HL+/i8M9TSjUsKT9RyLUkJCQYvbvqhR06mc+Dn25jw/6TXNG7NU9P7EVoE99G+exT+UW8tDyV99cfIMjPm7+O7cqUge1095JSFhORTcaYhBrX02JwL8YYvtqayT+/2okBHp/Qg6v6tLXkl3LKsTM8tnAnP6ad4A992vL0H3oR4Fv1sQylVMOrbTG45HwMqmo5+cU88nUSC7cdpn9sM16YFE90eBPL8nRuGcwH0wby6so0nl+WQvrxPN6+oR8tQgIsy6SUqpmeW+gmDp3MZ/xrP/DdjiP8dUwX5k0fbGkpnCMi3D0yjjen9CX56BnGv/ojOzJyrI6llLoALQY3kJaVy7Vv/sSp/GI+uW0Qd17WCW8nuzJ5bM/WfP6XwXh7Cde+tY6F2w5bHUkpVQ0tBheXlJnDpLd+oqTMMG/6IPrFhFsdqVo92oTy9V1D6NkmlLs/3sILS5NxxWNcSrk7LQYXlrj/JJPfWU+grzef3T7YJa4biGjqz4e3DuTaflHMWpnGU9/u1nJQysnowWcXtTY1m+nvbaJVaAAf3DKQtmGBVkeqNX8fb567pjdN/LyZ/cM+ggN8uXdUnNWxlFI2WgwuaMnOo9z90RY6RAbx/rSBRAb7Wx2pzkSER3/fg9zCUl5cnkKQvze3DOtgdSylFFoMLufHtOPc+eFmekWF8u5NAxrtorWG4OUlPHt1L/KLSnjy29009ffhugF651ylrKbHGFxI6rEz3P7BJjpGNmXun127FM7x8fbi5ev6cEnnSB7+coeeraSUE9BicBHZZwq5+d2N+Pt4M+emBEICXL8UzvHz8eLNKf3oHxvO/Z9sZcXuY1ZHUsqjaTG4gILiUm59L5HjuYXMmZpAVDPrL1xztEA/b+ZMTaB7mxD+8uFmNu7XeykqZRUtBidXVmZ48NNtbMs4xUt/7MNF0WFWR2owwQG+zL15AG3DAvnLB5s5drrA6khKeSQtBif376XJfLvjCA+P68rYnq2sjtPgmgX58dYN/cgvKuGODzdTVFJmdSSlPI4WgxP7ZONB3li9l8kD2nGrB53K2bllMM9d05tNB37hqW93WR1HKY/jkGIQkbEikiwiaSIys4r3XxSRrbZHioicqvBeaYX3FjgijztI3H+Sv3+ZxLC4CB6f0MPj5jK4sncbbh3Wnrk/HWD+5gyr4yjlUey+jkFEvIHXgNGUz+G8UUQWGGN+/VPPGHN/hfXvBvpU+BZnjTHx9uZwJzn5xdw7byutwwJ47U998fX2zIHdjLFd2ZGZw8Pzd9C5ZTA924ZaHUkpj+CI3zgDgDRjTLoxpgiYB0y4wPqTgY8d8LluyRjDzPnbOXa6gFcm93Wr01Lrysfbi1ev70uzJn785cNNnMovsjqSUh7BEcXQFjhU4XWGbdlviEgM0B5YWWFxgIgkish6EZnogDwu7aMNB/ku6SgPjelCvBufgVRbEU39eWNKX47lFHLvvK2UlukN95RqaI4ohqp2flf3r/c64HNjTGmFZe1sU81dD7wkIh2r/BCR6bYCSczOzrYvsZNKPnqGxxfuYlhcBNM96GBzTfq0a8aj47uzJiWbV1emWR1HKbfniGLIAKIrvI4CqruvwXWctxvJGHPY9jUdWE3l4w8V13vbGJNgjEmIjIy0N7PTKSgu5e6PNxMc4MPzky7Cy8km2rHa9QPaMTG+DbNWprI941TNGyil6s0RxbARiBOR9iLiR/kv/9+cXSQiXYBmwE8VljUTEX/b8whgCOCR5yc+8c0uUo7l8vykeFoE65zI5xMRHpvQk8im/jzw6TYKiktr3kgpVS92F4MxpgS4C1gC7AY+NcbsFJHHRWR8hVUnA/NM5VlZugGJIrINWAU8U/FsJk+xOOkIH/58kOnDO3BJZ/cbDTlKaKAvz13Tm7SsXJ5fmmx1HKXclrji7FkJCQkmMTHR6hgOkXnqLONe+p72EUF8dvvF+Pl45qmpdfHIVzv48OeDzLt1EAM7NLc6jlIuQ0Q22Y7pXpD+FrKQMYaZX2yntMwwa3IfLYVaenhcN6KbNeGhz7eRW1hidRyl3I7+JrLQ/M2ZrE09zt/GdiWmeZDVcVxGkH/5AfqMX87y1Le7rY6jlNvRYrDI8dxCnvh2F/1imnHDoBir47ic/rHhTB/WgY83HGR1cpbVcZRyK1oMFnls4S7yC0t59upeempqPd0/ujOdWzZlxhfbyckvtjqOUm5Di8ECK3YfY+G2w9w1ohOdWgRbHcdlBfh688KkeE7kFvGvhTutjqOU29BiaGRnCop55KskurQM5vZLqrzIW9VBz7ah3HFZJ77cksmPacetjqOUW9BiaGTPLU7m6OkCnrm6l56F5CB3XNqRmOZN+MdXSRSW6IVvStlLfzM1oo37T/L++gPcfHF7+rRrZnUctxHg683jE3qSfjyPt9ekWx1HKZenxdBICopLmfHFdqKaBfLQmM5Wx3E7l3SO5IperXl1VRoHT+RbHUcpl6bF0EheX5VGenYeT1/ViyZ+ds+PpKrwjyu74+MlPLogCVe8ol8pZ6HF0AgOnMjjzTXpTIxvw3C9F1KDaRUawP2jO7MqOZslO49aHUcpl6XF0Aie/HY3Pt7Cw7/rZnUUt3fTxbF0bRXMYwt3kae3y1CqXrQYGtj3Kdks23WMu0fE0TJEb6fd0Hy8vXjqqp4cySng5RWpVsdRyiVpMTSg4tIyHlu4k9jmTfjz0Fir43iMfjHh/DEhmjk/7CP56Bmr4yjlcrQYGtDcdfvZm53HP67sjr+Pt9VxPMrMcV0JCfDhka926IFopepIi6GBZJ8p5OXlqVzaJZIRXVtYHcfjNAvyY8bYrmzc/wvfbD9idRylXIpDikFExopIsoikicjMKt6/SUSyRWSr7XFLhfemikiq7THVEXmcwf8uSeZscSn/uLI7InqTPCtcmxBNt9YhPPPdHp0KVKk6sLsYRMQbeA0YB3QHJotI9ypW/cQYE297zLZtGw48CgwEBgCPiojLXxK87dApPt10iD8PbU/HyKZWx/FY3l7CI1d0I/PUWf77436r4yjlMhwxYhgApBlj0o0xRcA8YEIttx0DLDPGnDTG/AIsA8Y6IJNlysoM/1q4k+ZB/tw9opPVcTzekE4RjOrWgtdWpXE8t9DqOEq5BEcUQ1vgUIXXGbZl57taRLaLyOciEl3HbV3Gl1sy2XLwFDPGdiE4wNfqOAp4+HfdKCgu5cVlKVZHUcolOKIYqtqBfv5pIAuBWGNMb2A5MLcO25avKDJdRBJFJDE7O7veYRtSflEJzy7ew0XRYVzdN8rqOMqmY2RTpgyK4eMNB0k5pqevKlUTRxRDBhBd4XUUcLjiCsaYE8aYc+P4d4B+td22wvd42xiTYIxJiIx0zttKzFm7j6wzhfzjim46K5uTuXdkHE39fXSOaKVqwRHFsBGIE5H2IuIHXAcsqLiCiLSu8HI8cO5f5xLgchFpZjvofLltmcs5kVvIW9+nc3n3liTEhlsdR52nWZAf94yMY01Kts4RrVQN7C4GY0wJcBflv9B3A58aY3aKyOMiMt622j0islNEtgH3ADfZtj0JPEF5uWwEHrctczmvrEzjbHEpfxvb1eooqho3DI4hpnkTnl60m5LSMqvjKOW0xBWvCk1ISDCJiYlWx/jV/uN5jHphDZP6R/P0Vb2sjqMuYHHSEW7/YDNPXdWTPw2MsTqOUo1KRDYZYxJqWk+vfHaAfy9Nxtfbi/tGxlkdRdVgTI9WDIgN54WlKZwpKLY6jlJOSYvBTtsOneLb7Ue4dVh7WujdU52eiPDIld04kVfEO2v3WR1HKaekxWAHYwz/891umgf5Mf2SjlbHUbXUOyqMK3q1ZvbadL3oTakqaDHYYXVyNuvTT3LvqPJTIZXreODyzhSWlPHaqjSroyjldLQY6qm0zPDMd3uIbd6EyQPaWR1H1VHHyKZc2y+KD9cfJOOXfKvjKOVUtBjq6YvNGSQfO8PfxnbF11v/M7qie0fFgcBLy3WmN6Uq0t9o9XDuvjvx0WGM69nK6jiqnlqHBnLjoBjmb84gVW+VodSvtBjq4YP1BziSU8CMsV11rgUXd8dlnWji58P/Lk22OopSTkOLoY7yCkt4Y/VehnaKYHDH5lbHUXYKD/Lj1mEdWLLzGFsPnbI6jlJOQYuhjt5dt58TeUU8eHlnq6MoB5k2rD3Ng/x4bvEeq6Mo5RS0GOog52wxb63Zy6huLejTzuUnmlM2Tf19uPOyTqzbe4IfUo9bHUcpy2kx1MGctemcLijh/tE6WnA3fxrUjrZhgTy3ZA+ueP8wpRxJi6GWTuYVMeeHfVzRqzU92oRaHUc5mL+PN/eNimN7Rg6Lk45aHUcpS2kx1NKba/ZytriU+0frjfLc1R/6RtExMoiXlqdSVqajBuW5tBhqIet0AXPX7WdifFs6tQi2Oo5qIN5ewr2jOpN87AyLko5YHUcpy2gx1MJrq9IoLTPlV8oqt3ZFr9bEtWjKS8tTKdVRg/JQDikGERkrIskikiYiM6t4/wER2SUi20VkhYjEVHivVES22h4Lzt/Wahm/5PPRhoNcmxBNTPMgq+OoBubtJdw3qjNpWbl8s73K6ceVcnt2F4OIeAOvAeOA7sBkEel+3mpbgARjTG/gc+C5Cu+dNcbE2x7jcTKvrEhDEO4e0cnqKKqRjOvZiq6tgnl5eapOAao8kiNGDAOANGNMujGmCJgHTKi4gjFmlTHm3C0s1wNRDvjcBrf/eB6fb87g+oHtaBMWaHUc1Ui8bKOG9ON5LNimowbleRxRDG2BQxVeZ9iWVWca8F2F1wEikigi60VkYnUbich023qJ2dnZ9iWupVdWpuHjJdxxmU7C42nG9GhJ99YhvLxCRw3K8ziiGKq6i1yVR+1EZAqQAPy7wuJ2tsmprwdeEpEqfwsbY942xiQYYxIiIyPtzVyj/cfz+GprJlMGxdAiWKfs9DQiwv2jO3PgRD7zt2RaHUepRuWIYsgAoiu8jgJ+M/4WkVHA34Hxxphf51M0xhy2fU0HVgN9HJDJbudGC7dd0sHqKMoio7q1oFfbUF5ZmUqxjhqUB3FEMWwE4kSkvYj4AdcBlc4uEpE+wFuUl0JWheXNRMTf9jwCGALsckAmu+hoQUH5qOGB0Z05dPIsX2zKsDqOUo3G7mIwxpQAdwFLgN3Ap8aYnSLyuIicO8vo30BT4LPzTkvtBiSKyDZgFfCMMcbyYtDRgjrn0i6RxEeH8crKNIpKdNSgPINDZrA3xiwCFp237J8Vno+qZrt1QC9HZHCUc6OFmy6O1dGC+vVYw9T/bODTxENMGRRT80ZKuTi98vk8r67S0YKqbHhcBH3bhfH6Kh01KM+gxVDB/uN5fLlFjy2oykTK76F0OKeAz/VYg/IAWgwV6GhBVWd4XATx0WG8tipNz1BSbk+LwUZHC+pCRIR7R8aReeos8zfrqEG5Ny0GGx0tqJpc2iWS3lGhvKqjBuXmtBjQ0YKqHRHhnhFxHDp5lq/0amjlxrQYKJ9vQUcLqjZGdmtBjzYhvLYqTe+hpNyWxxfDoZP5fLklk+sHttPRgqqRiHDPyDj2n8jXO68qt+XxxfD66r14iXDbcL2Dqqqdy7u3pFvrEF5dmaazvCm35NHFkHnqLJ9vOsQf+0fTKlRHC6p2yo81dCL9eJ7O8qbckkcXw5ur9wJw+6U6WlB1M6ZHK7q0DGbWCp0bWrkfjy2GozkFfLLxENf0i6atzs6m6sjLS7h7ZCf2ZuexaMcRq+Mo5VAeWwxvfb+XUmO4Q0cLqp5+17M1cS2a8srKVMp01KDciEcWQ9aZAj76+SB/6NOW6PAmVsdRLsrLS7hrRCdSjuWyZOdRq+Mo5TAeWQzvfJ9OcWkZd17WyeooysVd2bsNHSKCmLUyDWN01KDcg0OKQUTGikiyiKSJyMwq3vcXkU9s7/8sIrEV3nvYtjxZRMY4Is+FnMgt5IP1B5kQ35bYiKCG/jjl5ry9hDsv68TuI6dZvjur5g2UcgF2F4OIeAOvAeOA7sBkEel+3mrTgF+MMZ2AF4Fnbdt2p3wq0B7AWOB12/drMLN/2EdBSamOFpTDTIhvQ7vwJryyMlVHDcotOGLEMABIM8akG2OKgHnAhPPWmQDMtT3/HBgpImJbPs8YU2iM2Qek2b5fg/glr4j31u3nyt5t6NSiaUN9jPIwPt5e3HlZR7Zn5LA6JdvqOErZzRHF0BY4VOF1hm1ZlevY5ojOAZrXcluH+c+P+8grKuUuHS0oB7uqTxRtwwKZtUJHDaphpGWd4eb/buDgifwG/yxHFINUsez8fxnVrVObbcu/gch0EUkUkcTs7Pr9VXYyr4greremS6vgem2vVHX8fLz4y6Ud2XLwFD+mnbA6jnJDr65MY336SYL8G3RvO+CYYsgAoiu8jgLOv0/Ar+uIiA8QCpys5bYAGGPeNsYkGGMSIiMj6xX0qat6Meu6PvXaVqmaXJsQRauQAGatTLU6inIz+47nsWDbYW4YHEPzpv4N/nmOKIaNQJyItBcRP8oPJi84b50FwFTb82uAlaZ8vL0AuM521lJ7IA7Y4IBM1fL2qmqQopT9/H28ue2SDmzYd5L16TpqUI7z2qo0fL29uHVY40wNYHcx2I4Z3AUsAXYDnxpjdorI4yIy3rbaHKC5iKQBDwAzbdvuBD4FdgGLgTuNMaX2ZlLKKpMHtCOiqT+v6KhBOcjBE/83NUBkcMOPFgB8HPFNjDGLgEXnLftnhecFwLXVbPsU8JQjcihltQBfb24b3oGnFu1m04GT9IsJtzqScnGvr07D20u4/ZLGu32PR175rFRD+tOgdoQH+TFrRZrVUZSLy/glny82Z3Bd/2hahjTe1ABaDEo5WBM/H24Z1p41KdlsPXTK6jjKhb25xjY1QCOOFkCLQakGcePgWMKa+DJrhR5rUPVzJOcsn27M4Jp+0bRp5KkBtBiUagBN/X24ZWh7Vu7JYkdGjtVxlAt6a006ZRZNDaDFoFQDmXpxLCEBPrysowZVR1mnC/h4w0H+0NeaqQG0GJRqIMEBvkwb2oHlu4+RlKmjBlV7b3+fTkmZsexmn1oMSjWgm4bEEhzgo9c1qFo7nlvIBz8fYMJFbYhpbs3UAFoMSjWg0EBfbh7SniU7j7H7yGmr4ygX8M7adApLyrhzhHU3+9RiUKqBTRvSnqb+OmpQNTuRW8j7Px3g973b0DHSuqkBtBiUamChTXy56eJYFu04SvLRM1bHUU7snbX7OFtcyj0j4yzNocWgVCOYNrQ9QX7eOmpQ1TqRW8h7P+1n/EXWTySmxaBUI2gW5MeNF8fy7Y4jpB7TUYP6rXOjhbstPLZwjhaDUo3k1mEdCPT15tVVeg8lVdnJvCLe+2k/v+/dhk4trJ9ITItBqUYSHuTHDYNiWLjtMGlZuVbHUU7knbXptmML1o8WQItBqUZ16/AO+PvosQb1f07mFTF3nfOMFkCLQalGFdHUnxsvjmHBtsN6rEEBzjdaADuLQUTCRWSZiKTavjarYp14EflJRHaKyHYR+WOF994VkX0istX2iLcnj1Ku4LbhHWni6633UFJOOVoA+0cMM4EVxpg4YIXt9fnygRuNMT2AscBLIhJW4f2/GmPibY+tduZRyumFB/lx05DyM5T2HNWroT2ZM44WwP5imADMtT2fC0w8fwVjTIoxJtX2/DCQBUTa+blKubRbh3UgyM+Hl5frqMFTncwr4r11+7nSyUYLYH8xtDTGHAGwfW1xoZVFZADgB+ytsPgp2y6mF0WkcWa6VspiYU38+POQWL5LOsquwzpq8ESz16aTX1zKPU5w3cL5aiwGEVkuIklVPCbU5YNEpDXwPnCzMabMtvhhoCvQHwgHZlxg++kikigiidnZ2XX5aKWc0rShHQgO8OGl5SlWR1GN7HhuIe/aRgtxLZ1rtAC1KAZjzChjTM8qHl8Dx2y/8M/94s+q6nuISAjwLfCIMWZ9he99xJQrBP4LDLhAjreNMQnGmITISN0TpVxfaBNfbhnagaW7dL4GT/Pm6r0UFJdy3yhr74lUHXt3JS0AptqeTwW+Pn8FEfEDvgTeM8Z8dt5750pFKD8+kWRnHqVcys1Dy2d501GD5ziaU8B76w/wh75Rlt5B9ULsLYZngNEikgqMtr1GRBJEZLZtnUnAcOCmKk5L/VBEdgA7gAjgSTvzKOVSQgJ8mT68A8t3Z7Ht0Cmr46hG8OqqVIwx3GvxHVQvRIwxVmeos4SEBJOYmGh1DKUcIrewhKHPriQ+Oox3b652b6pyA4dO5jPi+dX8sX80T07s1eifLyKbjDEJNa2nVz4rZbGm/j5MH96B1cnZbDrwi9VxVAOatSIVLxHuusx5RwugxaCUU5g6OJbmQX48vzTZ6iiqgezNzuWLzRncMCiGVqEBVse5IC0GpZxAkL8Pd17WiXV7T/BD6nGr46gG8NLyVAJ8vbn90o5WR6mRFoNSTuJPg9rRNiyQ55bswRWP/anq7T5ymoXbDnPzkFgimjr/dbxaDEo5CX8fb+4bFcf2jBwWJx21Oo5yoBeWpRAc4MP0Yc4/WgAtBqWcyh/6RhHXoin/XppMSWlZzRsop7ft0CmW7TrG9GEdCG3ia3WcWtFiUMqJeHsJD17ehfTsPOZvzrQ6jnKA55el0KyJLzcPbW91lFrTYlDKyYzp0ZKLosN4cXkKBcWlVsdRdliXdpzvU7L5y6UdaervY3WcWtNiUMrJiAgzxnThSE4BH6w/YHUcVU9lZYb/+W4PbcMCuXFwrNVx6kSLQSkndHGnCIZ2iuD11Xs5U1BsdRxVD9/sOMKOzBweGN2ZAF9vq+PUiRaDUk7qr2O6cDKviNlr91kdRdVRUUkZ/7skma6tgpnYp63VcepMi0EpJ3VRdBjjerZi9tp0TuQWWh1H1cGHPx/g4Ml8Hv5dN7y9xOo4dabFoJQTe/DyLpwtLuXVVWlWR1G1dLqgmFkrUhnSqTnD4yKsjlMvWgxKObFOLZoyKSGaD9YfYP/xPKvjqFp4a81efskvZubYbpRPNeN6tBiUcnIPXN4ZX28vnvluj9VRVA2O5hQw54d9jL+oDb2iQq2OU29aDEo5uRbBAdxxaUcW7zzKz+knrI6jLuDFZSmUlhn+OqaL1VHsYlcxiEi4iCwTkVTb12bVrFdaYfa2BRWWtxeRn23bf2KbBlQpdZ5bhnWgTWgAT367m7IyvcGeM0o9dobPNh3ihkGxRIc3sTqOXewdMcwEVhhj4oAVttdVOWuMibc9xldY/izwom37X4BpduZRyi0F+Hrzt7Fd2ZGZw1db9VYZzujZxXsI8vPhrhGdrI5iN3uLYQIw1/Z8LjCxthtK+VGZEcDn9dleKU8z/qI2XBQVynOLkzlbpLfKcCbr9h5n+e4sbr+0I+FBrr/jw95iaGmMOQJg+9qimvUCRCRRRNaLyLlf/s2BU8aYEtvrDMD1rgRRqpF4eQmPXNmdo6cLeGdtutVxlE1JaRmPLdhFVLNAprnQjfIupMa7OonIcqBVFW/9vQ6f084Yc1hEOgArRWQHcLqK9ardeSoi04HpAO3atavDRyvlPvrHhvO7Xq14Y/Ve/tg/mpYhzj1FpCf4aMNBko+d4c0pfV3u1hfVqXHEYIwZZYzpWcXja+CYiLQGsH3NquZ7HLZ9TQdWA32A40CYiJwrpyjg8AVyvG2MSTDGJERGRtbhR1TKvcwY25XSMqPzQzuBk3lFPL80hSGdmjOmR1V/P7sme3clLQCm2p6aENaJAAAPcUlEQVRPBb4+fwURaSYi/rbnEcAQYJcpn7twFXDNhbZXSlUW0zyIm4bE8tmmDHYezrE6jkd7fmkyuYUlPPr7Hi57MVtV7C2GZ4DRIpIKjLa9RkQSRGS2bZ1uQKKIbKO8CJ4xxuyyvTcDeEBE0ig/5jDHzjxKeYQ7L+tEWKAvT36zW+eHtsjOwzl8vOEgNwyKoXPLYKvjOJRdM0cYY04AI6tYngjcYnu+DuhVzfbpwAB7MijliUIDfXng8i7846skFm4/wviL2lgdyaMYY3hswS7Cmvhx/6jOVsdxOL3yWSkXdf2AdvSOCuWJb3ZxWudsaFQLtx9hw/6T/HVMF5eZx7kutBiUclHeXsKTE3tyPLeQF5amWB3HY+QXlfD0t7vp2TaESQnRVsdpEFoMSrmw3lFhTBkYw3s/7ScpUw9EN4Y3Vu/l6OkC/vX7Hi4510JtaDEo5eIeGtOF8CB//v5VEqV6H6UGdfBEPm99n87E+DYkxIZbHafBaDEo5eJCA3155IpubDt0inkbD1odx20ZY/j7Vzvw9RJmjutmdZwGpcWglBuYEN+GwR2a8+x3eziu04A2iPmbM1mbepwZ47rSKtS9rzjXYlDKDYgIT0zswdniUp5etNvqOG7neG4hT3y7i34xzZgyMMbqOA1Oi0EpN9GpRTC3DuvA/M2ZrNcJfRzqsYW7yC8s5dmre+HlpgecK9JiUMqN3D0ijrZhgfzjqySKSsqsjuMWVuw+xsJth7lrRCc6tXCvK5yro8WglBsJ9PPm8Qk9SM3KZdaKVKvjuLwzBcU88lUSXVoGc/slHa2O02i0GJRyMyO7teTqvlG8vjqNLQd/sTqOS3t28R6Oni7gmat74efjOb8uPecnVcqDPDq+O61CAnjws20UFOtsb/WxYd9JPlh/kJsvbk+fdlVOZ++2tBiUckMhAb78+9qLSM/O47nFOm9DXRUUlzJz/naimgXy0Bj3u0leTbQYlHJTQzpFMHVwDP/5cR8/7dWzlOri5RWppGfn8fRVvWjiZ9dNqF2SFoNSbmzGuK7ENm/CQ59t44zegbVW1qUd5801e7mufzTDO3vmbJFaDEq5sSZ+Pjw/KZ4jOWd56lu98K0mJ3ILue+TrXSICOKfv+9udRzL2FUMIhIuIstEJNX29TdHaETkMhHZWuFRICITbe+9KyL7KrwXb08epdRv9Ytpxm2XdGTexkOs3HPM6jhOq6zM8NBn2zh1tphXJvf1yF1I59g7YpgJrDDGxAErbK8rMcasMsbEG2PigRFAPrC0wip/Pfe+MWarnXmUUlW4b1QcXVsFM+OLHfySV2R1HKf033X7WZWczd9/143ubUKsjmMpe4thAjDX9nwuMLGG9a8BvjPG5Nv5uUqpOvD38eaFSfHk5Bdz3ydb9fbc50nKzOGZ73YzqltLbhzs/vdCqom9xdDSGHMEwPa1RQ3rXwd8fN6yp0Rku4i8KCL+1W0oItNFJFFEErOzs+1LrZQH6t4mhH+N78GalGxeXq4zvp2TW1jC3R9voXmQP/++pjci7n8vpJrUWAwislxEkqp4TKjLB4lIa6AXsKTC4oeBrkB/IByYUd32xpi3jTEJxpiEyEjPPFNAKXtNHhDNpIQoZq1MY/kuPd4A8M+vk9h/Io+XrounWZCf1XGcQo3FYIwZZYzpWcXja+CY7Rf+uV/8WRf4VpOAL40xv54zZ4w5YsoVAv8FBtj34yilLkREeHxCT3q1DeX+T7ay73ie1ZEs9eWWDOZvzuTuyzoxqENzq+M4DXt3JS0AptqeTwW+vsC6kzlvN1KFUhHKj08k2ZlHKVWDAF9v3pjSFx9v4fb3N5FfVGJ1JEtszzjFw/N30D+2GfeMjLM6jlOxtxieAUaLSCow2vYaEUkQkdnnVhKRWCAaWHPe9h+KyA5gBxABPGlnHqVULUQ1a8KsyX1IzTrDjC92YIxnHYzOPHWWaXMTaR7kz2t/6ouPt17SVZFdJ+oaY04AI6tYngjcUuH1fqBtFeuNsOfzlVL1NywukofGdOG5xcnER4cxbWh7qyM1ijMFxUx7dyMFRaV8eMdAWgS79zSd9aE1qZQH+8slHRnToyVPL9rNur3HrY7T4EpKy7jroy2kZuXy+pS+dG7pGRPv1JUWg1IeTET432svon1EELe9t4kdGTlWR2owxhj+tXAna1KyeXJiT4bF6dmN1dFiUMrDBQf48v60AYQE+nLjf34m5dgZqyM1iDk/7OOD9Qe5bXgHJg9oZ3Ucp6bFoJSidWggH906EF9vL6bM/pkDJ9zrNNalO4/y1KLdjOvZihlju1odx+lpMSilAIhpHsQHtwykqLSMP83+mSM5Z62O5BDfp2Rzz7wt9I4K44VJ8Xh56ZXNNdFiUEr9qnPLYN778wBO5RczZfbPHM8ttDqSXRYnHeWWuYm0j2jKnKkJBPp5Wx3JJWgxKKUq6R0Vxn9u6k/mqbPcOGcDOWddc4KfLzZlcOdHm+nZNoR5tw4iomm1t2JT59FiUEr9xoD24bw5pR+pWWeYMvtnjuYUWB2pTt77aT8PfraNQR3CeX/aQEKb+FodyaVoMSilqnRplxa8dUM/0rNzGf/qD2w9dMrqSLXy2qo0/vn1TkZ1a8mcqf0J8vfcCXfqS4tBKVWtEV1bMv+OIfj5eDHprZ/4emum1ZGqZYzh2cV7+PeSZCbEt+GNKX0J8NVjCvWhxaCUuqAurYJZcNdQ+kSHce+8rTy3eA9lTjbRT/aZQv787kbeWL2X6we248VJ8fjq/Y/qTcdYSqkahQf58f60gTy6YCevr95LalYuL/4xnqZOsJtm2a5jzPxiO7mFJTw2vgc3Do7RyXbspJWqlKoVPx8vnr6qJ4+N78HKPVlMfO1Hftp7wrI8+UUlPDx/B7e+l0jLkAC+uXsoUy+O1VJwAOvrXinlMkSEqRfH0qlFU2Z8sZ3J76znd71a8fC4bkSHN2m0HNsOneK+T7ay/0Qet13SgQdHd8HPR//OdRRxxfuwJyQkmMTERKtjKOXRCopLeef7dF5fvZcyY7hteAduv7QjTfwa7u/NfcfzmPNDOvM2HKJFsD/PT4pncEedea22RGSTMSahpvXsqlgRuVZEdopImYhU+2EiMlZEkkUkTURmVljeXkR+FpFUEflERHTCVaVcRICvN3ePjGPlQ5cwtmcrZq1MY+Tza/hqSyZFJWUO/axNB05y2/uJjHh+NZ9uzGBS/2i+u2+4lkIDsWvEICLdgDLgLeAh2wQ956/jDaRQPsNbBrARmGyM2SUinwLzjTHzRORNYJsx5o2aPldHDEo5n8T9J/nXwp0kZZ4mOMCH0d1aMrZnK4Z3jqzXaaOlZYZlu47x9vd72XzwFKGBvtwwKIYbL47RyXXqqbYjBntncNtt+7ALrTYASDPGpNvWnQdMEJHdwAjgett6c4F/ATUWg1LK+STEhvP1nUP5PiWbRTuOsGz3MeZvySTIz5vLurZgbM9WtI8IIiTAl9AmvjT18/n1hnYlpWXszc4jKTOHpMM57Mw8zc7DOeQVlRIdHshj43twbUJUg+6mUv+nMf4rtwUOVXidAQwEmgOnjDElFZb/ZvpPpZTr8PYSLuvagsu6tqC4tIz16Sf4LukoS3ce5ZvtRyqt6yXlc0GEBPqQdbqQQtvupwBfL7q3DuHqflFc3LE5o7u3wlvviNqoaiwGEVkOtKrirb8bY76uxWdU9b+oucDy6nJMB6YDtGunk2wo5ex8vb0YFhfJsLhInpjQk+0Zpzh2upDTZ4s5XVBMztnyx+mzxYQH+dMrKoSebULpENlUi8BiNRaDMWaUnZ+RAURXeB0FHAaOA2Ei4mMbNZxbXl2Ot4G3ofwYg52ZlFKNyNtL6NOumdUxVC01xom/G4E42xlIfsB1wAJTftR7FXCNbb2pQG1GIEoppRqQvaerXiUiGcBg4FsRWWJb3kZEFgHYRgN3AUuA3cCnxpidtm8xA3hARNIoP+Ywx548Siml7KcXuCmllIdolAvclFJKuR8tBqWUUpVoMSillKpEi0EppVQlWgxKKaUqccmzkkQkGzhQz80jKL+4zlW5en5w/Z/B1fOD6/8Mrp4frPkZYowxkTWt5JLFYA8RSazN6VrOytXzg+v/DK6eH1z/Z3D1/ODcP4PuSlJKKVWJFoNSSqlKPLEY3rY6gJ1cPT+4/s/g6vnB9X8GV88PTvwzeNwxBqWUUhfmiSMGpZRSF+BRxSAiY0UkWUTSRGSm1XnqQkT+IyJZIpJkdZb6EJFoEVklIrtFZKeI3Gt1proSkQAR2SAi22w/w2NWZ6oPEfEWkS0i8o3VWepDRPaLyA4R2SoiLnc3TREJE5HPRWSP7d/DYKsznc9jdiWJiDeQAoymfPKgjcBkY8wuS4PVkogMB3KB94wxPa3OU1ci0hpobYzZLCLBwCZgoqv89weQ8snNg4wxuSLiC/wA3GuMWW9xtDoRkQeABCDEGHOl1XnqSkT2AwnGGJe8jkFE5gJrjTGzbXPUNDHGnLI6V0WeNGIYAKQZY9KNMUXAPGCCxZlqzRjzPXDS6hz1ZYw5YozZbHt+hvK5OVxqjm9TLtf20tf2cKm/rEQkCrgCmG11Fk8kIiHAcGxzzxhjipytFMCziqEtcKjC6wxc7BeTuxCRWKAP8LO1SerOthtmK5AFLDPGuNrP8BLwN6DM6iB2MMBSEdlkmwvelXQAsoH/2nbnzRaRIKtDnc+TiqGq2cVd6q89dyAiTYEvgPuMMaetzlNXxphSY0w85XOUDxARl9mtJyJXAlnGmE1WZ7HTEGNMX2AccKdtN6ur8AH6Am8YY/oAeYDTHe/0pGLIAKIrvI4CDluUxSPZ9st/AXxojJlvdR572Ib/q4GxFkepiyHAeNs++nnACBH5wNpIdWeMOWz7mgV8SfluYleRAWRUGGl+TnlROBVPKoaNQJyItLcd8LkOWGBxJo9hO3A7B9htjHnB6jz1ISKRIhJmex4IjAL2WJuq9owxDxtjoowxsZT//3+lMWaKxbHqRESCbCcvYNsFczngMmfqGWOOAodEpItt0UjA6U7A8LE6QGMxxpSIyF3AEsAb+I8xZqfFsWpNRD4GLgUiRCQDeNQYM8faVHUyBLgB2GHbRw/w/4wxiyzMVFetgbm2M9y8gE+NMS55yqcLawl8Wf53Bj7AR8aYxdZGqrO7gQ9tf6CmAzdbnOc3POZ0VaWUUrXjSbuSlFJK1YIWg1JKqUq0GJRSSlWixaCUUqoSLQallFKVaDEopZSqRItBKaVUJVoMSimlKvn/IEzFsUG273oAAAAASUVORK5CYII=\n",
          "text/plain": "<Figure size 432x288 with 1 Axes>"
         },
         "metadata": {},
         "output_type": "display_data"
        }
       ]
      }
     },
     "aaf2944a03134a1f8fa53c0eb31b5a96": {
      "model_module": "@jupyter-widgets/output",
      "model_module_version": "1.0.0",
      "model_name": "OutputModel",
      "state": {
       "layout": "IPY_MODEL_d5bbf7e00c9b4be09e264de2e5248a88",
       "outputs": [
        {
         "data": {
          "text/plain": "(10, 5, 2, 7)"
         },
         "metadata": {},
         "output_type": "display_data"
        }
       ]
      }
     },
     "ad879e9f300a484a9a637f928c63d4ef": {
      "model_module": "@jupyter-widgets/base",
      "model_module_version": "1.0.0",
      "model_name": "LayoutModel",
      "state": {}
     },
     "adb49e293e914e1d9c18d0b20742a9f0": {
      "model_module": "@jupyter-widgets/controls",
      "model_module_version": "1.2.0",
      "model_name": "FloatSliderModel",
      "state": {
       "description": "wall_density",
       "layout": "IPY_MODEL_21d5ad7b01e94e619f389b507997cafe",
       "max": 3,
       "step": 0.01,
       "style": "IPY_MODEL_fe54f747843144859741ff99ad715e05",
       "value": 0.35
      }
     },
     "c11f99b119d4459d8f3033ecce851692": {
      "model_module": "@jupyter-widgets/base",
      "model_module_version": "1.0.0",
      "model_name": "LayoutModel",
      "state": {}
     },
     "c2505559a53a4901927637ebf513da44": {
      "model_module": "@jupyter-widgets/controls",
      "model_module_version": "1.2.0",
      "model_name": "SliderStyleModel",
      "state": {
       "description_width": ""
      }
     },
     "c580e8947090404e9a5f0ceda3132ddd": {
      "model_module": "@jupyter-widgets/base",
      "model_module_version": "1.0.0",
      "model_name": "LayoutModel",
      "state": {}
     },
     "cd69e458e2fd4593bd3f977188c907b4": {
      "model_module": "@jupyter-widgets/controls",
      "model_module_version": "1.2.0",
      "model_name": "FloatSliderModel",
      "state": {
       "description": "wall_thickness",
       "layout": "IPY_MODEL_e0f48c17db1c409cb6221defbb577ee3",
       "max": 0.5,
       "step": 0.01,
       "style": "IPY_MODEL_3cc4451b765540b59276db3d2f6eca6c",
       "value": 0.04
      }
     },
     "d5bbf7e00c9b4be09e264de2e5248a88": {
      "model_module": "@jupyter-widgets/base",
      "model_module_version": "1.0.0",
      "model_name": "LayoutModel",
      "state": {}
     },
     "d79fde056018416f8b8bc6f59b6f904d": {
      "model_module": "@jupyter-widgets/controls",
      "model_module_version": "1.2.0",
      "model_name": "VBoxModel",
      "state": {
       "_dom_classes": [
        "widget-interact"
       ],
       "children": [
        "IPY_MODEL_f3696faf342449afb3e41d1748f07f49",
        "IPY_MODEL_748748b6ccb14e639c3f0a23038c2e7d",
        "IPY_MODEL_843a044fa9a3473d9dc007e47e98723b",
        "IPY_MODEL_8c1b97c0387440aca440cd4e630960b8",
        "IPY_MODEL_d967d7c61447410aaae6ab407227e481"
       ],
       "layout": "IPY_MODEL_d7ff41cdeca24aba8fa18d4120883339"
      }
     },
     "d7ff41cdeca24aba8fa18d4120883339": {
      "model_module": "@jupyter-widgets/base",
      "model_module_version": "1.0.0",
      "model_name": "LayoutModel",
      "state": {}
     },
     "d8818c68fc114107859490e4319da57c": {
      "model_module": "@jupyter-widgets/base",
      "model_module_version": "1.0.0",
      "model_name": "LayoutModel",
      "state": {}
     },
     "d967d7c61447410aaae6ab407227e481": {
      "model_module": "@jupyter-widgets/output",
      "model_module_version": "1.0.0",
      "model_name": "OutputModel",
      "state": {
       "layout": "IPY_MODEL_e7b35148094441daab36f9d8427a044a",
       "outputs": [
        {
         "data": {
          "image/svg+xml": "<svg baseProfile=\"full\" height=\"200\" version=\"1.1\" width=\"200\" xmlns=\"http://www.w3.org/2000/svg\" xmlns:ev=\"http://www.w3.org/2001/xml-events\" xmlns:xlink=\"http://www.w3.org/1999/xlink\"><defs/><rect fill=\"black\" height=\"200\" width=\"20.0\" x=\"0\" y=\"0\"/><rect fill=\"black\" height=\"200\" width=\"20.0\" x=\"80.0\" y=\"0\"/><line stroke=\"black\" x1=\"0\" x2=\"100.0\" y1=\"200\" y2=\"200\"/><rect fill=\"blue\" height=\"200\" width=\"60.0\" x=\"20.0\" y=\"80.0\"/><line stroke=\"green\" stroke-width=\"3\" x1=\"0\" x2=\"100.0\" y1=\"110.09345794392522\" y2=\"110.09345794392522\"/></svg>",
          "text/plain": "<IPython.core.display.SVG object>"
         },
         "metadata": {},
         "output_type": "display_data"
        }
       ]
      }
     },
     "dd664bcb273e4bc390579409ccef1858": {
      "model_module": "@jupyter-widgets/controls",
      "model_module_version": "1.2.0",
      "model_name": "SliderStyleModel",
      "state": {
       "description_width": ""
      }
     },
     "e0f48c17db1c409cb6221defbb577ee3": {
      "model_module": "@jupyter-widgets/base",
      "model_module_version": "1.0.0",
      "model_name": "LayoutModel",
      "state": {}
     },
     "e40c2a563a6a4153a0f1a1157f1ca40e": {
      "model_module": "@jupyter-widgets/controls",
      "model_module_version": "1.2.0",
      "model_name": "SliderStyleModel",
      "state": {
       "description_width": ""
      }
     },
     "e7b35148094441daab36f9d8427a044a": {
      "model_module": "@jupyter-widgets/base",
      "model_module_version": "1.0.0",
      "model_name": "LayoutModel",
      "state": {}
     },
     "edefc5aef2554a5aac05ad7f85b6aada": {
      "model_module": "@jupyter-widgets/controls",
      "model_module_version": "1.2.0",
      "model_name": "FloatSliderModel",
      "state": {
       "description": "omega",
       "layout": "IPY_MODEL_d8818c68fc114107859490e4319da57c",
       "max": 3,
       "min": -1,
       "step": 0.1,
       "style": "IPY_MODEL_777cba1c19c64734bda2e94b6ce6198e",
       "value": 1
      }
     },
     "f16aa4fddfb1478ca59afc5afd203f06": {
      "model_module": "@jupyter-widgets/controls",
      "model_module_version": "1.2.0",
      "model_name": "SliderStyleModel",
      "state": {
       "description_width": ""
      }
     },
     "f3696faf342449afb3e41d1748f07f49": {
      "model_module": "@jupyter-widgets/controls",
      "model_module_version": "1.2.0",
      "model_name": "FloatSliderModel",
      "state": {
       "description": "wall_thickness",
       "layout": "IPY_MODEL_c11f99b119d4459d8f3033ecce851692",
       "max": 0.5,
       "step": 0.01,
       "style": "IPY_MODEL_462688b9b62046609177279e50566e70",
       "value": 0.1
      }
     },
     "fe54f747843144859741ff99ad715e05": {
      "model_module": "@jupyter-widgets/controls",
      "model_module_version": "1.2.0",
      "model_name": "SliderStyleModel",
      "state": {
       "description_width": ""
      }
     }
    },
    "version_major": 2,
    "version_minor": 0
   }
  }
 },
 "nbformat": 4,
 "nbformat_minor": 2
}
