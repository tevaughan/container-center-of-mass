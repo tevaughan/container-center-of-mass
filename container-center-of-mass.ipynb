{
 "cells": [
  {
   "cell_type": "markdown",
   "metadata": {},
   "source": [
    "<center style=\"font-size:2em;font-weight:bold\">\n",
    "   The Minimum Height of the Center of Mass\n",
    "</center>\n",
    "<p/>\n",
    "<center style=\"font-size:1.75em;font-weight:bold\">\n",
    "   of a Right-Cylindrical Container of Liquid\n",
    "</center>\n",
    "<p/>\n",
    "<center>Thomas E. Vaughan</center>\n",
    "\n",
    "<!--- vim: set filetype=markdown tw=75: -->\n",
    "\n"
   ]
  },
  {
   "cell_type": "markdown",
   "metadata": {},
   "source": [
    "# Introduction\n",
    "\n",
    "In the shower one morning, I groggily reached for the shampoo, but I ended\n",
    "up knocking the container onto its side.  I was surprised by my clumsiness\n",
    "and woke up a bit.  I saw that there are two main reasons for the ease with\n",
    "which I had knocked over the container.  One was obvious and uninteresting,\n",
    "but the other was interesting enough to keep me thinking long after I\n",
    "exited the shower.\n",
    "\n",
    "The obvious, uninteresting reason is that the container was almost empty.\n",
    "When a container has minimum content, its inertia is minimal.  Any\n",
    "external, disturbing force has maximal effect on an object of minimal\n",
    "inertia.\n",
    "\n",
    "Yet, with water dripping off of my face and onto the floor, I stared down\n",
    "at the container of shampoo as it lay sideways on the floor of the shower.\n",
    "In that moment of thought, I realized that the low mass and low rotational\n",
    "inertia of the nearly empty container did not satisfyingly explain what had\n",
    "happened.  My disturbance of the container had been only very slight\n",
    "indeed.  Even in its low-mass state, the container had not suffered much of\n",
    "an angular perturbation before it fell over.  There was something more\n",
    "interesting involved as well.\n",
    "\n",
    "<!--- vim: set filetype=markdown tw=75: -->"
   ]
  },
  {
   "cell_type": "markdown",
   "metadata": {},
   "source": [
    "# Configuration of Notebook\n",
    "\n",
    "The following javascript-magic cell enables the editing of any cell in the\n",
    "external editor, gvim.\n",
    "\n",
    "<!--- vim: set filetype=markdown tw=75 -->\n",
    "\n"
   ]
  },
  {
   "cell_type": "code",
   "execution_count": 1,
   "metadata": {
    "code_folding": [
     0
    ]
   },
   "outputs": [
    {
     "data": {
      "application/javascript": [
       "\n",
       "// This cell defines two command-mode shortcuts.\n",
       "//\n",
       "// Pressing 'g' in command mode copies the content of the current cell into\n",
       "// a file and then launches gvim to edit that file.\n",
       "//\n",
       "// Pressing 'u' in command mode updates the current cell with the contents\n",
       "// of the file.\n",
       "//\n",
       "// The idea is first to press 'g', then to edit the file with gvim, then to\n",
       "// exit from gvim, and finally to press 'u' to update the cell from the\n",
       "// file.\n",
       "\n",
       "// The 'g' shortcut.\n",
       "IPython.keyboard_manager.command_shortcuts.add_shortcut('g', {\n",
       "    handler : function (event) {\n",
       "        var input = IPython.notebook.get_selected_cell().get_text();\n",
       "        var cmd = \"f = open('.toto.txt', 'w');f.close()\";\n",
       "        if (input != \"\") {\n",
       "            cmd = '%%writefile .toto.txt\\n' + input;\n",
       "        }\n",
       "        IPython.notebook.kernel.execute(cmd);\n",
       "        cmd = \"import os;\"\n",
       "        // Establish a clean PATH that has only operating-system-native\n",
       "        // executables.  On my machine, having '/opt/miniconda3/bin' in the\n",
       "        // PATH, as it is by default, causes youcompleteme to malfunction\n",
       "        // because it finds '/opt/miniconda3/bin/python' before\n",
       "        // '/usr/bin/python'.\n",
       "        cmd = cmd + \"os.putenv('PATH','/bin:/usr/bin');\"\n",
       "        cmd = cmd + \"os.system('gvim .toto.txt')\";\n",
       "        IPython.notebook.kernel.execute(cmd);\n",
       "        return false;\n",
       "    }}\n",
       ");\n",
       "\n",
       "// The 'u' shortcut.\n",
       "IPython.keyboard_manager.command_shortcuts.add_shortcut('u', {\n",
       "    handler : function (event) {\n",
       "        function handle_output(msg) {\n",
       "            var ret = msg.content.text;\n",
       "            IPython.notebook.get_selected_cell().set_text(ret);\n",
       "        }\n",
       "        var callback = {'output': handle_output};\n",
       "        var cmd = \"f = open('.toto.txt', 'r');print(f.read())\";\n",
       "        IPython.notebook.kernel.execute(cmd, {iopub: callback},\n",
       "                                        {silent: false});\n",
       "        return false;\n",
       "    }}\n",
       ");\n",
       "\n",
       "// vim: set filetype=javascript tw=75 sw=4:\n"
      ],
      "text/plain": [
       "<IPython.core.display.Javascript object>"
      ]
     },
     "metadata": {},
     "output_type": "display_data"
    }
   ],
   "source": [
    "%%javascript\n",
    "\n",
    "// This cell defines two command-mode shortcuts.\n",
    "//\n",
    "// Pressing 'g' in command mode copies the content of the current cell into\n",
    "// a file and then launches gvim to edit that file.\n",
    "//\n",
    "// Pressing 'u' in command mode updates the current cell with the contents\n",
    "// of the file.\n",
    "//\n",
    "// The idea is first to press 'g', then to edit the file with gvim, then to\n",
    "// exit from gvim, and finally to press 'u' to update the cell from the\n",
    "// file.\n",
    "\n",
    "// The 'g' shortcut.\n",
    "IPython.keyboard_manager.command_shortcuts.add_shortcut('g', {\n",
    "    handler : function (event) {\n",
    "        var input = IPython.notebook.get_selected_cell().get_text();\n",
    "        var cmd = \"f = open('.toto.txt', 'w');f.close()\";\n",
    "        if (input != \"\") {\n",
    "            cmd = '%%writefile .toto.txt\\n' + input;\n",
    "        }\n",
    "        IPython.notebook.kernel.execute(cmd);\n",
    "        cmd = \"import os;\"\n",
    "        // Establish a clean PATH that has only operating-system-native\n",
    "        // executables.  On my machine, having '/opt/miniconda3/bin' in the\n",
    "        // PATH, as it is by default, causes youcompleteme to malfunction\n",
    "        // because it finds '/opt/miniconda3/bin/python' before\n",
    "        // '/usr/bin/python'.\n",
    "        cmd = cmd + \"os.putenv('PATH','/bin:/usr/bin');\"\n",
    "        cmd = cmd + \"os.system('gvim .toto.txt')\";\n",
    "        IPython.notebook.kernel.execute(cmd);\n",
    "        return false;\n",
    "    }}\n",
    ");\n",
    "\n",
    "// The 'u' shortcut.\n",
    "IPython.keyboard_manager.command_shortcuts.add_shortcut('u', {\n",
    "    handler : function (event) {\n",
    "        function handle_output(msg) {\n",
    "            var ret = msg.content.text;\n",
    "            IPython.notebook.get_selected_cell().set_text(ret);\n",
    "        }\n",
    "        var callback = {'output': handle_output};\n",
    "        var cmd = \"f = open('.toto.txt', 'r');print(f.read())\";\n",
    "        IPython.notebook.kernel.execute(cmd, {iopub: callback},\n",
    "                                        {silent: false});\n",
    "        return false;\n",
    "    }}\n",
    ");\n",
    "\n",
    "// vim: set filetype=javascript tw=75 sw=4:\n",
    "\n"
   ]
  },
  {
   "cell_type": "markdown",
   "metadata": {},
   "source": [
    "The following cell brings in various python libraries."
   ]
  },
  {
   "cell_type": "code",
   "execution_count": 2,
   "metadata": {},
   "outputs": [],
   "source": [
    "from IPython         import display\n",
    "from IPython.display import SVG\n",
    "from ipywidgets      import *\n",
    "\n",
    "import matplotlib.pyplot as plt\n",
    "import numpy as np\n",
    "import svgwrite as sw\n",
    "\n",
    "%matplotlib inline\n",
    "\n",
    "# vim: set tw=75:\n",
    "\n"
   ]
  },
  {
   "cell_type": "markdown",
   "metadata": {},
   "source": [
    "# Stability Against Angular Displacement\n",
    "\n",
    "The container's stability against falling over when released from rest at\n",
    "an angular displacement about the edge of the base depends on the height of\n",
    "the contained liquid.  Before I finished with my shower, I had convinced\n",
    "myself that both the completely empty state and the completely full state\n",
    "are the least stable states.  Each has the highest center of mass, about\n",
    "half the height of the container.\n",
    "\n",
    "This can easily be seen via a couple of visualizations of the model\n",
    "implemented in the python class `container`.\n",
    "\n",
    "<!--- vim: set filetype=markdown tw=75: -->\n",
    "\n"
   ]
  },
  {
   "cell_type": "code",
   "execution_count": 3,
   "metadata": {
    "code_folding": [
     0
    ]
   },
   "outputs": [],
   "source": [
    "class container:\n",
    "    \"\"\"\n",
    "    Model of a cylindric container of liquid.\n",
    "\n",
    "    After construction, the vertical coordinate of the center of mass is\n",
    "    available in the field 'com'.\n",
    "\n",
    "    The coordinate system is a bit odd, though.  The origin is at the\n",
    "    upper-left corner of the drawing, and positive vertical coordinates are\n",
    "    below that corner.\n",
    "\n",
    "    The various methods pull out the geometry of the drawable components in\n",
    "    a way that is easy to plot via the svgwrite module.\n",
    "    \"\"\"\n",
    "\n",
    "    def __init__(self, wh, th, bw, lh, wd):\n",
    "        \"\"\"\n",
    "        Initialize parameters.\n",
    "        wh -- wall height\n",
    "        th -- wall thickness\n",
    "        bw -- base width\n",
    "        lh -- liquid height\n",
    "        wd -- wall density\n",
    "        \"\"\"\n",
    "        self.wh = wh\n",
    "        self.th = th\n",
    "        self.bw = bw\n",
    "        self.lh = lh\n",
    "        self.wd = wd\n",
    "        # Calculate height of center of mass.\n",
    "        r1  = 0.5*bw - th            # inner radius of container\n",
    "        r2  = 0.5*bw                 # outer radius of container\n",
    "        ld  = 1                      # liquid density\n",
    "        wm  = wd*(r2*r2 - r1*r1)*wh  # proportional to mass of wall\n",
    "        lm  = ld*(r1*r1        )*lh  # proportional to mass of liquid\n",
    "        self.com = wh - (0.5*wh*wm + 0.5*lh*lm)/(wm + lm)\n",
    "\n",
    "    def left_wall(self):\n",
    "        \"\"\" Upper-left corner and size of rectangle for left wall. \"\"\"\n",
    "        return ((0, 0), (self.th, self.wh))\n",
    "\n",
    "    def right_wall(self):\n",
    "        \"\"\" Upper-left corner and size of rectangle for right wall. \"\"\"\n",
    "        return ((self.bw - self.th, 0), (self.th, self.wh))\n",
    "\n",
    "    def liquid(self):\n",
    "        \"\"\" Upper-left corner and size of rectangle for liquid. \"\"\"\n",
    "        lw = self.bw - 2.0*self.th\n",
    "        return ((self.th, self.wh - self.lh), (lw, self.wh))\n",
    "\n",
    "    def base(self):\n",
    "        \"\"\" Beginning point and ending point of line for base. \"\"\"\n",
    "        return ((0, self.wh), (self.bw, self.wh))\n",
    "\n",
    "    def center_line(self):\n",
    "        \"\"\"\n",
    "        Beginning point and ending point of line for center of mass.\n",
    "        \"\"\"\n",
    "        return ((0, self.com), (self.bw, self.com))\n",
    "\n",
    "    def tip_line(self):\n",
    "        \"\"\"\n",
    "        Beginning point and ending point of line from edge of base to\n",
    "        center of mass.\n",
    "        \"\"\"\n",
    "        return ((0, self.wh), (0.5*self.bw, self.com))\n",
    "\n",
    "    def tip_angle_loc(self):\n",
    "        \"\"\"\n",
    "        Coordinates of location for drawing character representing tip angle.\n",
    "        \"\"\"\n",
    "        return (0.15*self.bw,  self.com + 0.3*(self.wh - self.com))\n",
    "\n",
    "    def tip_angle(self):\n",
    "        \"\"\" Maximum tip-angle (degrees) before falling over. \"\"\"\n",
    "        # Note that denominator has to correct for weird coordinate system.\n",
    "        return np.arctan(0.5*self.bw/(self.wh - self.com))*180.0/np.pi\n",
    "\n",
    "# vim: set filetype=python tw=75:\n",
    "\n"
   ]
  },
  {
   "cell_type": "markdown",
   "metadata": {},
   "source": [
    "The first visualization superimposes onto a schematic drawing of the\n",
    "container and of the liquid surface both a line representing the height of\n",
    "the center of mass and a line that shows the maximum, stable tip-angle.\n",
    "Sliders allow the user to modify the parameters of the model and to get\n",
    "instant, visual feedback.\n",
    "\n",
    "<!--- vim: set filetype=markdown tw=75: -->\n",
    "\n"
   ]
  },
  {
   "cell_type": "code",
   "execution_count": 4,
   "metadata": {},
   "outputs": [
    {
     "data": {
      "application/vnd.jupyter.widget-view+json": {
       "model_id": "37008892fa1543a2bfd5aa8c6a1ad4e2",
       "version_major": 2,
       "version_minor": 0
      },
      "text/plain": [
       "interactive(children=(FloatSlider(value=0.025, description='wall_thck', max=0.05, step=0.001), FloatSlider(val…"
      ]
     },
     "metadata": {},
     "output_type": "display_data"
    },
    {
     "data": {
      "text/plain": [
       "<function __main__.drawing(wall_thck, wall_dnst, base_wdth, liqd_hght)>"
      ]
     },
     "execution_count": 4,
     "metadata": {},
     "output_type": "execute_result"
    }
   ],
   "source": [
    "def drawing(wall_thck, wall_dnst, base_wdth, liqd_hght):\n",
    "    \"\"\"\n",
    "    Use the svgwrite module to draw schematic of container of liquid.\n",
    "\n",
    "    Parameters:\n",
    "    wall_thck -- Relative to wall height, thickness of walls.\n",
    "    base_wdth -- Relative to wall height, width of base.\n",
    "    liqd_hght -- Relative to wall height, height of liquid surface.\n",
    "    wall_dnst -- Relative to liquid density, density of walls.\n",
    "    \"\"\"\n",
    "\n",
    "    sz = 500 # Size (pixels) of drawing.\n",
    "    dr = sw.Drawing(\"drawing.svg\", (sz, sz))\n",
    "    th = wall_thck*sz # absolute wall thickness\n",
    "    bw = base_wdth*sz # absolute base width\n",
    "    lh = liqd_hght*sz # absolute liquid height\n",
    "    wh = sz           # absolute wall height\n",
    "    c  = container(wh, th, bw, lh, wall_dnst)\n",
    "\n",
    "    dr.add(dr.rect(*c.left_wall() , fill  ='black'))\n",
    "    dr.add(dr.rect(*c.right_wall(), fill  ='black'))\n",
    "    dr.add(dr.rect(*c.liquid()    , fill  ='blue' ))\n",
    "    dr.add(dr.line(*c.base()      , stroke='black'))\n",
    "\n",
    "    dr.add(dr.line(*c.center_line(), stroke='green'  , stroke_width=3))\n",
    "    dr.add(dr.line(*c.tip_line()   , stroke='magenta', stroke_width=3))\n",
    "    dr.add(dr.text('α', insert=c.tip_angle_loc(), stroke='magenta',\n",
    "                   fill='magenta', font_size=24))\n",
    "\n",
    "    # Return SVG object.\n",
    "    return SVG(dr.tostring())\n",
    "\n",
    "interact(drawing,\n",
    "         wall_thck=(0.0, 0.05, 0.001),\n",
    "         base_wdth=(0.0, 1.00, 0.010),\n",
    "         liqd_hght=(0.0, 1.00, 0.010),\n",
    "         wall_dnst=(0.0, 1.00, 0.010))\n",
    "\n",
    "# vim: set filetype=python tw=75:\n",
    "\n"
   ]
  },
  {
   "cell_type": "markdown",
   "metadata": {},
   "source": [
    "The threshold angle $\\alpha$ at which the container would fall over because\n",
    "of gravity is the inverse tangent of the ratio of two lengths,\n",
    "\n",
    "1. $\\frac{L}{2}$, half the length of the base, and\n",
    "2. $h$, the height of the center of mass.\n",
    "\n",
    "\\begin{equation}\n",
    "   \\alpha = \\arctan \\frac{L}{2h}\n",
    "\\end{equation}\n",
    "\n",
    "But $h$ has its maximum possible value, half the height $H$ of the\n",
    "container, both when the container is completely empty and when it is\n",
    "completely full.\n",
    "\\begin{equation}\n",
    "   h_{\\text{max}} = \\frac{H}{2}\n",
    "\\end{equation}\n",
    "The threshold tipping angle is minimized in these conditions.\n",
    "\\begin{equation}\n",
    "   \\alpha_{\\text{min}} = \\arctan \\frac{L}{4H}\n",
    "\\end{equation}\n",
    "So, somewhere in between completely emtpy and completely full, there must\n",
    "be a liquid level that gives the container the maximum safe tipping angle,\n",
    "$\\alpha_{\\text{max}}$.  This corresponds to the minimum height\n",
    "$h_{\\text{min}}$ of the center of mass.\n",
    "\n",
    "But how might I compute and expression for $h_{\\text{min}}$?\n",
    "\n",
    "<!--- vim: set tw=75: -->"
   ]
  },
  {
   "cell_type": "code",
   "execution_count": 5,
   "metadata": {},
   "outputs": [
    {
     "data": {
      "application/vnd.jupyter.widget-view+json": {
       "model_id": "ce9c778f97a14c19a7428f48d6c86ebd",
       "version_major": 2,
       "version_minor": 0
      },
      "text/plain": [
       "interactive(children=(FloatSlider(value=1.0, description='omega', max=3.0, min=-1.0), Output()), _dom_classes=…"
      ]
     },
     "metadata": {},
     "output_type": "display_data"
    },
    {
     "data": {
      "text/plain": [
       "<function __main__.update(omega=1.0)>"
      ]
     },
     "execution_count": 5,
     "metadata": {},
     "output_type": "execute_result"
    }
   ],
   "source": [
    "x = np.linspace(0, 2*np.pi)\n",
    "\n",
    "def update(omega = 1.0):\n",
    "    fig = plt.figure()\n",
    "    ax = fig.add_subplot(1, 1, 1)\n",
    "    ax.plot(x, np.sin(omega*x))\n",
    "    fig.canvas.draw()\n",
    "\n",
    "interact(update)"
   ]
  },
  {
   "cell_type": "markdown",
   "metadata": {},
   "source": [
    "The following cell brings in the libraries needed for linear regression\n",
    "and for plotting."
   ]
  },
  {
   "cell_type": "code",
   "execution_count": 6,
   "metadata": {},
   "outputs": [],
   "source": [
    "import statsmodels.api as sm\n",
    "import statsmodels.formula.api as smf\n",
    "import pandas as pd\n",
    "import numpy as np\n",
    "import matplotlib.pyplot as plt\n",
    "%matplotlib inline"
   ]
  },
  {
   "cell_type": "code",
   "execution_count": null,
   "metadata": {},
   "outputs": [],
   "source": []
  }
 ],
 "metadata": {
  "kernelspec": {
   "display_name": "Python 3",
   "language": "python",
   "name": "python3"
  },
  "language_info": {
   "codemirror_mode": {
    "name": "ipython",
    "version": 3
   },
   "file_extension": ".py",
   "mimetype": "text/x-python",
   "name": "python",
   "nbconvert_exporter": "python",
   "pygments_lexer": "ipython3",
   "version": "3.6.5"
  },
  "latex_envs": {
   "LaTeX_envs_menu_present": true,
   "autoclose": false,
   "autocomplete": true,
   "bibliofile": "biblio.bib",
   "cite_by": "apalike",
   "current_citInitial": 1,
   "eqLabelWithNumbers": true,
   "eqNumInitial": 1,
   "hotkeys": {
    "equation": "Ctrl-E",
    "itemize": "Ctrl-I"
   },
   "labels_anchors": false,
   "latex_user_defs": false,
   "report_style_numbering": false,
   "user_envs_cfg": false
  },
  "widgets": {
   "application/vnd.jupyter.widget-state+json": {
    "state": {
     "00acfc1c2ab640feae5917fcd204653a": {
      "model_module": "@jupyter-widgets/controls",
      "model_module_version": "1.2.0",
      "model_name": "FloatSliderModel",
      "state": {
       "description": "wall_thck",
       "layout": "IPY_MODEL_d3e04445f1c34ad29fd673c203db994f",
       "max": 0.05,
       "step": 0.001,
       "style": "IPY_MODEL_b7af070384e445ad8286a9706619658b",
       "value": 0.025
      }
     },
     "00b0ea029553458f87f9b147419be723": {
      "model_module": "@jupyter-widgets/output",
      "model_module_version": "1.0.0",
      "model_name": "OutputModel",
      "state": {
       "layout": "IPY_MODEL_9ed3a3a5a3f647b2b62e9958fafcca8e",
       "outputs": [
        {
         "data": {
          "image/svg+xml": "<svg baseProfile=\"full\" height=\"400\" version=\"1.1\" width=\"400\" xmlns=\"http://www.w3.org/2000/svg\" xmlns:ev=\"http://www.w3.org/2001/xml-events\" xmlns:xlink=\"http://www.w3.org/1999/xlink\"><defs/><rect fill=\"black\" height=\"400\" width=\"12.0\" x=\"0\" y=\"0\"/><rect fill=\"black\" height=\"400\" width=\"12.0\" x=\"188.0\" y=\"0\"/><rect fill=\"blue\" height=\"400\" width=\"176.0\" x=\"12.0\" y=\"200.0\"/><line stroke=\"black\" x1=\"0\" x2=\"200.0\" y1=\"400\" y2=\"400\"/><line stroke=\"green\" stroke-width=\"3\" x1=\"0\" x2=\"200.0\" y1=\"277.44\" y2=\"277.44\"/><line stroke=\"magenta\" stroke-width=\"3\" x1=\"0\" x2=\"100.0\" y1=\"400\" y2=\"277.44\"/></svg>",
          "text/plain": "<IPython.core.display.SVG object>"
         },
         "metadata": {},
         "output_type": "display_data"
        }
       ]
      }
     },
     "00d0e8fd96ef4b23856e40638ad7f1c5": {
      "model_module": "@jupyter-widgets/controls",
      "model_module_version": "1.2.0",
      "model_name": "FloatSliderModel",
      "state": {
       "description": "liquid_height",
       "layout": "IPY_MODEL_bdc40f11e1f547a6a859bfbc2d6624b7",
       "max": 1,
       "step": 0.01,
       "style": "IPY_MODEL_cfbaac042dc146a3972e7358e10e6fe0",
       "value": 0.6
      }
     },
     "0155c710761043698d29616228eeeb91": {
      "model_module": "@jupyter-widgets/controls",
      "model_module_version": "1.2.0",
      "model_name": "SliderStyleModel",
      "state": {
       "description_width": ""
      }
     },
     "01d3a08deb6945e2a2a027ede76290e5": {
      "model_module": "@jupyter-widgets/base",
      "model_module_version": "1.0.0",
      "model_name": "LayoutModel",
      "state": {}
     },
     "02f2b4b7b8fe46a9b6ba4fd3e4119570": {
      "model_module": "@jupyter-widgets/controls",
      "model_module_version": "1.2.0",
      "model_name": "FloatSliderModel",
      "state": {
       "description": "base_wdth",
       "layout": "IPY_MODEL_7c4a8e9bad3f42b89e061922d69ca1e7",
       "max": 1,
       "step": 0.01,
       "style": "IPY_MODEL_0b93c890999748c4ad99140b4d42d4bc",
       "value": 0.5
      }
     },
     "032a1e4f6275472e8144eebe0e2022d1": {
      "model_module": "@jupyter-widgets/controls",
      "model_module_version": "1.2.0",
      "model_name": "SliderStyleModel",
      "state": {
       "description_width": ""
      }
     },
     "03b1cdd9ea15442d88dbfd6e88b8023b": {
      "model_module": "@jupyter-widgets/output",
      "model_module_version": "1.0.0",
      "model_name": "OutputModel",
      "state": {
       "layout": "IPY_MODEL_598c747c1b374d4692d1297bb354da6e",
       "outputs": [
        {
         "data": {
          "image/svg+xml": "<svg baseProfile=\"full\" height=\"200\" version=\"1.1\" width=\"200\" xmlns=\"http://www.w3.org/2000/svg\" xmlns:ev=\"http://www.w3.org/2001/xml-events\" xmlns:xlink=\"http://www.w3.org/1999/xlink\"><defs/><rect fill=\"black\" height=\"200\" width=\"20.0\" x=\"0\" y=\"0\"/><rect fill=\"black\" height=\"200\" width=\"20.0\" x=\"158.0\" y=\"0\"/><rect fill=\"blue\" height=\"200\" width=\"138.0\" x=\"20.0\" y=\"80.0\"/><line stroke=\"black\" x1=\"0\" x2=\"178.0\" y1=\"200\" y2=\"200\"/><line stroke=\"green\" stroke-width=\"3\" x1=\"0\" x2=\"178.0\" y1=\"118.9914569690523\" y2=\"118.9914569690523\"/></svg>",
          "text/plain": "<IPython.core.display.SVG object>"
         },
         "metadata": {},
         "output_type": "display_data"
        }
       ]
      }
     },
     "043d482f297d43649739acfe2721b360": {
      "model_module": "@jupyter-widgets/base",
      "model_module_version": "1.0.0",
      "model_name": "LayoutModel",
      "state": {}
     },
     "04dab87deec344df899ee103a4169281": {
      "model_module": "@jupyter-widgets/base",
      "model_module_version": "1.0.0",
      "model_name": "LayoutModel",
      "state": {}
     },
     "04e49d7a46f34bbab79e0cc35ff8180f": {
      "model_module": "@jupyter-widgets/controls",
      "model_module_version": "1.2.0",
      "model_name": "SliderStyleModel",
      "state": {
       "description_width": ""
      }
     },
     "04fcf97cffc54a9f9dd25577031e41dd": {
      "model_module": "@jupyter-widgets/output",
      "model_module_version": "1.0.0",
      "model_name": "OutputModel",
      "state": {
       "layout": "IPY_MODEL_94aa4070f2cc42748e0f9c491336cb66",
       "outputs": [
        {
         "data": {
          "image/svg+xml": "<svg baseProfile=\"full\" height=\"200\" version=\"1.1\" width=\"200\" xmlns=\"http://www.w3.org/2000/svg\" xmlns:ev=\"http://www.w3.org/2001/xml-events\" xmlns:xlink=\"http://www.w3.org/1999/xlink\"><defs/><rect fill=\"black\" height=\"200\" width=\"6.0\" x=\"0\" y=\"0\"/><line stroke=\"green\" stroke-width=\"3\" x1=\"0\" x2=\"100.0\" y1=\"126.92628650904034\" y2=\"126.92628650904034\"/></svg>",
          "text/plain": "<IPython.core.display.SVG object>"
         },
         "metadata": {},
         "output_type": "display_data"
        }
       ]
      }
     },
     "0502405bde15474288ac35614f7de6b6": {
      "model_module": "@jupyter-widgets/base",
      "model_module_version": "1.0.0",
      "model_name": "LayoutModel",
      "state": {}
     },
     "05304d36b26d4533bb6c219212bc6dcf": {
      "model_module": "@jupyter-widgets/base",
      "model_module_version": "1.0.0",
      "model_name": "LayoutModel",
      "state": {}
     },
     "053560b920e04c41962d259a13feaf7c": {
      "model_module": "@jupyter-widgets/controls",
      "model_module_version": "1.2.0",
      "model_name": "FloatSliderModel",
      "state": {
       "description": "base_width",
       "layout": "IPY_MODEL_9ee2797982534cec83ad7be4832d7c7a",
       "max": 1,
       "step": 0.01,
       "style": "IPY_MODEL_784ef94b98854328bb4b2b27cf7010a6",
       "value": 0.5
      }
     },
     "05d0c3442f9c446dadfcc520c6dda1e3": {
      "model_module": "@jupyter-widgets/base",
      "model_module_version": "1.0.0",
      "model_name": "LayoutModel",
      "state": {}
     },
     "05dd20b380be4f1fa56e12dd63f3ec81": {
      "model_module": "@jupyter-widgets/controls",
      "model_module_version": "1.2.0",
      "model_name": "SliderStyleModel",
      "state": {
       "description_width": ""
      }
     },
     "05f68f5fe3bc49ebb43057501e953ace": {
      "model_module": "@jupyter-widgets/base",
      "model_module_version": "1.0.0",
      "model_name": "LayoutModel",
      "state": {}
     },
     "0796ea69148a478183dece36e49998d1": {
      "model_module": "@jupyter-widgets/base",
      "model_module_version": "1.0.0",
      "model_name": "LayoutModel",
      "state": {}
     },
     "079e77f8644745059b525ab4e36d930b": {
      "model_module": "@jupyter-widgets/controls",
      "model_module_version": "1.2.0",
      "model_name": "FloatSliderModel",
      "state": {
       "description": "base_wdth",
       "layout": "IPY_MODEL_bdab691537244e8d9fdb191b00fe5774",
       "max": 1,
       "step": 0.01,
       "style": "IPY_MODEL_05dd20b380be4f1fa56e12dd63f3ec81",
       "value": 0.5
      }
     },
     "080055b66e084a58aa5d47cc34cac417": {
      "model_module": "@jupyter-widgets/controls",
      "model_module_version": "1.2.0",
      "model_name": "FloatSliderModel",
      "state": {
       "description": "wall_thck",
       "layout": "IPY_MODEL_01d3a08deb6945e2a2a027ede76290e5",
       "max": 0.05,
       "step": 0.001,
       "style": "IPY_MODEL_04e49d7a46f34bbab79e0cc35ff8180f",
       "value": 0.025
      }
     },
     "085d0938efc748d485f78baa0ea4d56c": {
      "model_module": "@jupyter-widgets/controls",
      "model_module_version": "1.2.0",
      "model_name": "FloatSliderModel",
      "state": {
       "description": "liquid_height",
       "layout": "IPY_MODEL_e9bd5bef098047b2a60101005bc91b62",
       "max": 1,
       "step": 0.01,
       "style": "IPY_MODEL_f7a3b126019648469700a98e21b01ff1",
       "value": 0.6
      }
     },
     "0874b199bd1f4c608bbad0ae70ac6a29": {
      "model_module": "@jupyter-widgets/base",
      "model_module_version": "1.0.0",
      "model_name": "LayoutModel",
      "state": {}
     },
     "08e7f6a245bd450c8bea77d2c5fffccb": {
      "model_module": "@jupyter-widgets/output",
      "model_module_version": "1.0.0",
      "model_name": "OutputModel",
      "state": {
       "layout": "IPY_MODEL_48ea742470e64cdb911fbd9ffe7d5d9b",
       "outputs": [
        {
         "ename": "NameError",
         "evalue": "name 'wall_thickness' is not defined",
         "output_type": "error",
         "traceback": [
          "\u001b[0;31m---------------------------------------------------------------------------\u001b[0m",
          "\u001b[0;31mNameError\u001b[0m                                 Traceback (most recent call last)",
          "\u001b[0;32m/opt/miniconda3/lib/python3.6/site-packages/ipywidgets/widgets/interaction.py\u001b[0m in \u001b[0;36mupdate\u001b[0;34m(self, *args)\u001b[0m\n\u001b[1;32m    249\u001b[0m                     \u001b[0mvalue\u001b[0m \u001b[0;34m=\u001b[0m \u001b[0mwidget\u001b[0m\u001b[0;34m.\u001b[0m\u001b[0mget_interact_value\u001b[0m\u001b[0;34m(\u001b[0m\u001b[0;34m)\u001b[0m\u001b[0;34m\u001b[0m\u001b[0m\n\u001b[1;32m    250\u001b[0m                     \u001b[0mself\u001b[0m\u001b[0;34m.\u001b[0m\u001b[0mkwargs\u001b[0m\u001b[0;34m[\u001b[0m\u001b[0mwidget\u001b[0m\u001b[0;34m.\u001b[0m\u001b[0m_kwarg\u001b[0m\u001b[0;34m]\u001b[0m \u001b[0;34m=\u001b[0m \u001b[0mvalue\u001b[0m\u001b[0;34m\u001b[0m\u001b[0m\n\u001b[0;32m--> 251\u001b[0;31m                 \u001b[0mself\u001b[0m\u001b[0;34m.\u001b[0m\u001b[0mresult\u001b[0m \u001b[0;34m=\u001b[0m \u001b[0mself\u001b[0m\u001b[0;34m.\u001b[0m\u001b[0mf\u001b[0m\u001b[0;34m(\u001b[0m\u001b[0;34m**\u001b[0m\u001b[0mself\u001b[0m\u001b[0;34m.\u001b[0m\u001b[0mkwargs\u001b[0m\u001b[0;34m)\u001b[0m\u001b[0;34m\u001b[0m\u001b[0m\n\u001b[0m\u001b[1;32m    252\u001b[0m                 \u001b[0mshow_inline_matplotlib_plots\u001b[0m\u001b[0;34m(\u001b[0m\u001b[0;34m)\u001b[0m\u001b[0;34m\u001b[0m\u001b[0m\n\u001b[1;32m    253\u001b[0m                 \u001b[0;32mif\u001b[0m \u001b[0mself\u001b[0m\u001b[0;34m.\u001b[0m\u001b[0mauto_display\u001b[0m \u001b[0;32mand\u001b[0m \u001b[0mself\u001b[0m\u001b[0;34m.\u001b[0m\u001b[0mresult\u001b[0m \u001b[0;32mis\u001b[0m \u001b[0;32mnot\u001b[0m \u001b[0;32mNone\u001b[0m\u001b[0;34m:\u001b[0m\u001b[0;34m\u001b[0m\u001b[0m\n",
          "\u001b[0;32m<ipython-input-34-94db26f6a86f>\u001b[0m in \u001b[0;36mdrawing\u001b[0;34m(wall_thck, wall_dnst, base_wdth, liqd_hght)\u001b[0m\n\u001b[1;32m     12\u001b[0m     \u001b[0msz\u001b[0m \u001b[0;34m=\u001b[0m \u001b[0;36m400\u001b[0m \u001b[0;31m# Size (pixels) of drawing.\u001b[0m\u001b[0;34m\u001b[0m\u001b[0m\n\u001b[1;32m     13\u001b[0m     \u001b[0mdr\u001b[0m \u001b[0;34m=\u001b[0m \u001b[0msw\u001b[0m\u001b[0;34m.\u001b[0m\u001b[0mDrawing\u001b[0m\u001b[0;34m(\u001b[0m\u001b[0;34m\"drawing.svg\"\u001b[0m\u001b[0;34m,\u001b[0m \u001b[0;34m(\u001b[0m\u001b[0msz\u001b[0m\u001b[0;34m,\u001b[0m \u001b[0msz\u001b[0m\u001b[0;34m)\u001b[0m\u001b[0;34m)\u001b[0m\u001b[0;34m\u001b[0m\u001b[0m\n\u001b[0;32m---> 14\u001b[0;31m     \u001b[0mth\u001b[0m \u001b[0;34m=\u001b[0m \u001b[0mwall_thickness\u001b[0m\u001b[0;34m*\u001b[0m\u001b[0msz\u001b[0m \u001b[0;31m# absolute wall thickness\u001b[0m\u001b[0;34m\u001b[0m\u001b[0m\n\u001b[0m\u001b[1;32m     15\u001b[0m     \u001b[0mbw\u001b[0m \u001b[0;34m=\u001b[0m \u001b[0mbase_width\u001b[0m    \u001b[0;34m*\u001b[0m\u001b[0msz\u001b[0m \u001b[0;31m# absolute base width\u001b[0m\u001b[0;34m\u001b[0m\u001b[0m\n\u001b[1;32m     16\u001b[0m     \u001b[0mlh\u001b[0m \u001b[0;34m=\u001b[0m \u001b[0mliquid_height\u001b[0m \u001b[0;34m*\u001b[0m\u001b[0msz\u001b[0m \u001b[0;31m# absolute liquid height\u001b[0m\u001b[0;34m\u001b[0m\u001b[0m\n",
          "\u001b[0;31mNameError\u001b[0m: name 'wall_thickness' is not defined"
         ]
        }
       ]
      }
     },
     "08fb6b7ad8a6450e809ba3012346f749": {
      "model_module": "@jupyter-widgets/base",
      "model_module_version": "1.0.0",
      "model_name": "LayoutModel",
      "state": {}
     },
     "090247dc71d4464585ddd22bf61691d6": {
      "model_module": "@jupyter-widgets/base",
      "model_module_version": "1.0.0",
      "model_name": "LayoutModel",
      "state": {}
     },
     "096effc094d543f889858999de796deb": {
      "model_module": "@jupyter-widgets/controls",
      "model_module_version": "1.2.0",
      "model_name": "FloatSliderModel",
      "state": {
       "description": "base_width",
       "layout": "IPY_MODEL_3376de38d58d4e08a5d845d2c15c25fd",
       "max": 1,
       "step": 0.01,
       "style": "IPY_MODEL_dd664bcb273e4bc390579409ccef1858",
       "value": 1
      }
     },
     "097d42dea7554e57b33dadb2e8574a2b": {
      "model_module": "@jupyter-widgets/output",
      "model_module_version": "1.0.0",
      "model_name": "OutputModel",
      "state": {
       "layout": "IPY_MODEL_e4cbcc154b23457494df6be0ab0709b6",
       "outputs": [
        {
         "data": {
          "image/svg+xml": "<svg baseProfile=\"full\" height=\"400\" version=\"1.1\" width=\"400\" xmlns=\"http://www.w3.org/2000/svg\" xmlns:ev=\"http://www.w3.org/2001/xml-events\" xmlns:xlink=\"http://www.w3.org/1999/xlink\"><defs/><rect fill=\"black\" height=\"400\" width=\"4.0\" x=\"0\" y=\"0\"/><rect fill=\"black\" height=\"400\" width=\"4.0\" x=\"264.0\" y=\"0\"/><rect fill=\"blue\" height=\"400\" width=\"260.0\" x=\"4.0\" y=\"160.0\"/><line stroke=\"black\" x1=\"0\" x2=\"268.0\" y1=\"400\" y2=\"400\"/><line stroke=\"green\" stroke-width=\"3\" x1=\"0\" x2=\"268.0\" y1=\"272.454448017149\" y2=\"272.454448017149\"/></svg>",
          "text/plain": "<IPython.core.display.SVG object>"
         },
         "metadata": {},
         "output_type": "display_data"
        }
       ]
      }
     },
     "09a9631cca2b4848924c4ac80283915f": {
      "model_module": "@jupyter-widgets/controls",
      "model_module_version": "1.2.0",
      "model_name": "SliderStyleModel",
      "state": {
       "description_width": ""
      }
     },
     "09c4183c41f94aeeb6c382671b93d222": {
      "model_module": "@jupyter-widgets/controls",
      "model_module_version": "1.2.0",
      "model_name": "SliderStyleModel",
      "state": {
       "description_width": ""
      }
     },
     "0a5eebed00ae423db3069632398467a7": {
      "model_module": "@jupyter-widgets/controls",
      "model_module_version": "1.2.0",
      "model_name": "SliderStyleModel",
      "state": {
       "description_width": ""
      }
     },
     "0a6af4e8a95d4582b1dcbf81531c44a6": {
      "model_module": "@jupyter-widgets/controls",
      "model_module_version": "1.2.0",
      "model_name": "VBoxModel",
      "state": {
       "_dom_classes": [
        "widget-interact"
       ],
       "children": [
        "IPY_MODEL_96ae140e19aa48878c646c86a356810c",
        "IPY_MODEL_ffc44349157849f890bd846b6f9ef670",
        "IPY_MODEL_93d7e6b82ce847408b710c506fc2729d",
        "IPY_MODEL_3bff44a99ebb47ff8528e4e1e3f48d3a",
        "IPY_MODEL_be2c486de2c24830abd0ecb6b6c96933"
       ],
       "layout": "IPY_MODEL_1ac7276b781f459bb6d164971666af12"
      }
     },
     "0a708db52abd44febb2a7968c9e15b9a": {
      "model_module": "@jupyter-widgets/controls",
      "model_module_version": "1.2.0",
      "model_name": "SliderStyleModel",
      "state": {
       "description_width": ""
      }
     },
     "0a794c88f2064b97a5c9c7e38333788e": {
      "model_module": "@jupyter-widgets/controls",
      "model_module_version": "1.2.0",
      "model_name": "FloatSliderModel",
      "state": {
       "description": "liqd_hght",
       "layout": "IPY_MODEL_4bafd5a64a034bb5a86eb4efdc947817",
       "max": 1,
       "step": 0.01,
       "style": "IPY_MODEL_455e6a9cc42f432b9e542224a8dbe18e",
       "value": 0.22
      }
     },
     "0a8665942ac240f4bfb8e8d87eacd961": {
      "model_module": "@jupyter-widgets/controls",
      "model_module_version": "1.2.0",
      "model_name": "SliderStyleModel",
      "state": {
       "description_width": ""
      }
     },
     "0a9772b9c73f4520b29d978be330d590": {
      "model_module": "@jupyter-widgets/controls",
      "model_module_version": "1.2.0",
      "model_name": "FloatSliderModel",
      "state": {
       "description": "liquid_height",
       "layout": "IPY_MODEL_b103519ff2f648499c6ba3b141944f6e",
       "max": 1,
       "step": 0.01,
       "style": "IPY_MODEL_0a8665942ac240f4bfb8e8d87eacd961",
       "value": 0.6
      }
     },
     "0b740887bde04cf88c6bd415255270df": {
      "model_module": "@jupyter-widgets/output",
      "model_module_version": "1.0.0",
      "model_name": "OutputModel",
      "state": {
       "layout": "IPY_MODEL_fa7f04c28a7648e984a12e93101a060b",
       "outputs": [
        {
         "data": {
          "image/svg+xml": "<svg baseProfile=\"full\" height=\"200\" version=\"1.1\" width=\"200\" xmlns=\"http://www.w3.org/2000/svg\" xmlns:ev=\"http://www.w3.org/2001/xml-events\" xmlns:xlink=\"http://www.w3.org/1999/xlink\"><defs/><rect fill=\"black\" height=\"200\" width=\"20.0\" x=\"0\" y=\"0\"/><rect fill=\"black\" height=\"200\" width=\"20.0\" x=\"136.0\" y=\"0\"/><line stroke=\"black\" x1=\"0\" x2=\"156.0\" y1=\"200\" y2=\"200\"/><rect fill=\"blue\" height=\"200\" width=\"116.0\" x=\"20.0\" y=\"102.0\"/><line stroke=\"green\" stroke-width=\"3\" x1=\"0\" x2=\"156.0\" y1=\"134.11285688779236\" y2=\"134.11285688779236\"/></svg>",
          "text/plain": "<IPython.core.display.SVG object>"
         },
         "metadata": {},
         "output_type": "display_data"
        }
       ]
      }
     },
     "0b91facd73114d96a2e912c6824bf901": {
      "model_module": "@jupyter-widgets/base",
      "model_module_version": "1.0.0",
      "model_name": "LayoutModel",
      "state": {}
     },
     "0b93c890999748c4ad99140b4d42d4bc": {
      "model_module": "@jupyter-widgets/controls",
      "model_module_version": "1.2.0",
      "model_name": "SliderStyleModel",
      "state": {
       "description_width": ""
      }
     },
     "0c308ca58ab645c585b269ee10a673a3": {
      "model_module": "@jupyter-widgets/base",
      "model_module_version": "1.0.0",
      "model_name": "LayoutModel",
      "state": {}
     },
     "0cd3395d1b23449083530c02328fa73a": {
      "model_module": "@jupyter-widgets/base",
      "model_module_version": "1.0.0",
      "model_name": "LayoutModel",
      "state": {}
     },
     "0cd7cc4848ac4f60b086649cdebab676": {
      "model_module": "@jupyter-widgets/controls",
      "model_module_version": "1.2.0",
      "model_name": "SliderStyleModel",
      "state": {
       "description_width": ""
      }
     },
     "0cfaee88d4d44ff6b64028d4ebfe6108": {
      "model_module": "@jupyter-widgets/controls",
      "model_module_version": "1.2.0",
      "model_name": "FloatSliderModel",
      "state": {
       "description": "base_wdth",
       "layout": "IPY_MODEL_fb9159bccb3345a8b3fe82685b93d98e",
       "max": 1,
       "step": 0.01,
       "style": "IPY_MODEL_2566afae4f45461ea5e151019999c058",
       "value": 0.5
      }
     },
     "0d39f8ccdde642a7bd4a56ac63ee0190": {
      "model_module": "@jupyter-widgets/controls",
      "model_module_version": "1.2.0",
      "model_name": "VBoxModel",
      "state": {
       "_dom_classes": [
        "widget-interact"
       ],
       "children": [
        "IPY_MODEL_51cb7e9022a44ed98b29045b30e7b824",
        "IPY_MODEL_2007407783fd4ef3991acd4af6a80387",
        "IPY_MODEL_7cff32a98b1f460fb69df5d52ad88681",
        "IPY_MODEL_53019f2800804fa6bc2361d9af29eddc",
        "IPY_MODEL_89686288abfd40a9b5737515468d9915"
       ],
       "layout": "IPY_MODEL_161fbd430f0e44d79bf228227be3873f"
      }
     },
     "0d40e58adbfc4dec88034d59aeb5ae56": {
      "model_module": "@jupyter-widgets/controls",
      "model_module_version": "1.2.0",
      "model_name": "FloatSliderModel",
      "state": {
       "description": "wall_thickness",
       "layout": "IPY_MODEL_aadda429ba2c4a25b44dfc72542961eb",
       "max": 0.5,
       "step": 0.01,
       "style": "IPY_MODEL_c8a8cb0708944d1a95cdd253c0efbcfe",
       "value": 0.1
      }
     },
     "0d5363df078d49f4a453abfdda1f1f3c": {
      "model_module": "@jupyter-widgets/controls",
      "model_module_version": "1.2.0",
      "model_name": "SliderStyleModel",
      "state": {
       "description_width": ""
      }
     },
     "0d586bf5c7674559bb6aa35e68ee9484": {
      "model_module": "@jupyter-widgets/controls",
      "model_module_version": "1.2.0",
      "model_name": "SliderStyleModel",
      "state": {
       "description_width": ""
      }
     },
     "0dafb115117545a19b376bb75bb4dbda": {
      "model_module": "@jupyter-widgets/base",
      "model_module_version": "1.0.0",
      "model_name": "LayoutModel",
      "state": {}
     },
     "0e3c41c2c88345d49739549f81135ee3": {
      "model_module": "@jupyter-widgets/controls",
      "model_module_version": "1.2.0",
      "model_name": "SliderStyleModel",
      "state": {
       "description_width": ""
      }
     },
     "0ed670f4a9cf4c9db52f05c90cbb5921": {
      "model_module": "@jupyter-widgets/base",
      "model_module_version": "1.0.0",
      "model_name": "LayoutModel",
      "state": {}
     },
     "102d74970f9e4450ba349067556cce23": {
      "model_module": "@jupyter-widgets/base",
      "model_module_version": "1.0.0",
      "model_name": "LayoutModel",
      "state": {}
     },
     "10768eb98ab340aa9cfd0eae64999dd7": {
      "model_module": "@jupyter-widgets/controls",
      "model_module_version": "1.2.0",
      "model_name": "SliderStyleModel",
      "state": {
       "description_width": ""
      }
     },
     "10bfcf146e814a4e940c375d8781ba86": {
      "model_module": "@jupyter-widgets/base",
      "model_module_version": "1.0.0",
      "model_name": "LayoutModel",
      "state": {}
     },
     "10c7fafbebf34b5b9883ec513d7d33ae": {
      "model_module": "@jupyter-widgets/controls",
      "model_module_version": "1.2.0",
      "model_name": "IntSliderModel",
      "state": {
       "description": "h",
       "layout": "IPY_MODEL_589f54874c6a4d1db729dc56618b6580",
       "max": 21,
       "min": -7,
       "style": "IPY_MODEL_1d520f2c86704dfd9d67e0762c4a3fcb",
       "value": 7
      }
     },
     "110d24d2aca044be8df3f525700805df": {
      "model_module": "@jupyter-widgets/base",
      "model_module_version": "1.0.0",
      "model_name": "LayoutModel",
      "state": {}
     },
     "114fa7a5208b439bad9e1ad383ac7703": {
      "model_module": "@jupyter-widgets/base",
      "model_module_version": "1.0.0",
      "model_name": "LayoutModel",
      "state": {}
     },
     "1195c687fe7e4deca1b6199b1e2391b8": {
      "model_module": "@jupyter-widgets/base",
      "model_module_version": "1.0.0",
      "model_name": "LayoutModel",
      "state": {}
     },
     "1198d9e5c2614231b680d58a32b40fc0": {
      "model_module": "@jupyter-widgets/base",
      "model_module_version": "1.0.0",
      "model_name": "LayoutModel",
      "state": {}
     },
     "11eaa5b2a9544f33afdfb52c36093b0f": {
      "model_module": "@jupyter-widgets/base",
      "model_module_version": "1.0.0",
      "model_name": "LayoutModel",
      "state": {}
     },
     "12011bbcf869421f93bd27cb4e62efc8": {
      "model_module": "@jupyter-widgets/controls",
      "model_module_version": "1.2.0",
      "model_name": "FloatSliderModel",
      "state": {
       "description": "liqd_hght",
       "layout": "IPY_MODEL_5dd7b3d5b3b9430bb0e325354bfab113",
       "max": 1,
       "step": 0.01,
       "style": "IPY_MODEL_f05f31ac59a241bda7a99e20fcfb02b4",
       "value": 0.5
      }
     },
     "124ef11b6c914ed79e8942c6ce7fdc24": {
      "model_module": "@jupyter-widgets/base",
      "model_module_version": "1.0.0",
      "model_name": "LayoutModel",
      "state": {}
     },
     "1252655c13254419af2c622268e80673": {
      "model_module": "@jupyter-widgets/base",
      "model_module_version": "1.0.0",
      "model_name": "LayoutModel",
      "state": {}
     },
     "130fe83895ff451681da3594c10ec644": {
      "model_module": "@jupyter-widgets/controls",
      "model_module_version": "1.2.0",
      "model_name": "FloatSliderModel",
      "state": {
       "description": "wall_density",
       "layout": "IPY_MODEL_d2e5731e5d7b42cd8c89b6f2831318dd",
       "max": 3,
       "step": 0.01,
       "style": "IPY_MODEL_acd2fa34c9f4424089ae5ea05ae21128",
       "value": 1
      }
     },
     "13e21e1cf9184ac6af383a7de7466dd7": {
      "model_module": "@jupyter-widgets/controls",
      "model_module_version": "1.2.0",
      "model_name": "VBoxModel",
      "state": {
       "_dom_classes": [
        "widget-interact"
       ],
       "children": [
        "IPY_MODEL_8a9e96127c8a4e679064c24573b59d5b",
        "IPY_MODEL_cd6813cad86e4728aa7d1339da7f0ba7",
        "IPY_MODEL_a29a84f54fe744408216644cd1a93d97",
        "IPY_MODEL_e34b717f91364a69b024b723bcc375fe",
        "IPY_MODEL_c8dc2bf09f384d7a8a1fe047c31e98c8"
       ],
       "layout": "IPY_MODEL_60774740a3584845acefbd4021ccc11b"
      }
     },
     "1453ea9403554eeebaf033221d214d6b": {
      "model_module": "@jupyter-widgets/base",
      "model_module_version": "1.0.0",
      "model_name": "LayoutModel",
      "state": {}
     },
     "14d084af0573469c802b5c7849156f81": {
      "model_module": "@jupyter-widgets/controls",
      "model_module_version": "1.2.0",
      "model_name": "SliderStyleModel",
      "state": {
       "description_width": ""
      }
     },
     "15929d95756c42f6abccd571c5066536": {
      "model_module": "@jupyter-widgets/controls",
      "model_module_version": "1.2.0",
      "model_name": "SliderStyleModel",
      "state": {
       "description_width": ""
      }
     },
     "161c8674813d41d1bf44b70a5cd3af8c": {
      "model_module": "@jupyter-widgets/base",
      "model_module_version": "1.0.0",
      "model_name": "LayoutModel",
      "state": {}
     },
     "161fbd430f0e44d79bf228227be3873f": {
      "model_module": "@jupyter-widgets/base",
      "model_module_version": "1.0.0",
      "model_name": "LayoutModel",
      "state": {}
     },
     "16ccf4c2ceca47578561164270e66998": {
      "model_module": "@jupyter-widgets/controls",
      "model_module_version": "1.2.0",
      "model_name": "SliderStyleModel",
      "state": {
       "description_width": ""
      }
     },
     "16ee8adbb6dd42a0903e9fb5f79f88a6": {
      "model_module": "@jupyter-widgets/controls",
      "model_module_version": "1.2.0",
      "model_name": "SliderStyleModel",
      "state": {
       "description_width": ""
      }
     },
     "1772f318c1ce458aaf0329dc2d0c67a3": {
      "model_module": "@jupyter-widgets/controls",
      "model_module_version": "1.2.0",
      "model_name": "SliderStyleModel",
      "state": {
       "description_width": ""
      }
     },
     "181601cbd5114d2386b27cdd60b48c7a": {
      "model_module": "@jupyter-widgets/controls",
      "model_module_version": "1.2.0",
      "model_name": "SliderStyleModel",
      "state": {
       "description_width": ""
      }
     },
     "1978d6af671a48a1bf7667417218b544": {
      "model_module": "@jupyter-widgets/controls",
      "model_module_version": "1.2.0",
      "model_name": "SliderStyleModel",
      "state": {
       "description_width": ""
      }
     },
     "19dec1585b2d473289fc32ec0e750612": {
      "model_module": "@jupyter-widgets/base",
      "model_module_version": "1.0.0",
      "model_name": "LayoutModel",
      "state": {}
     },
     "1a43a37b6f8a4ab58c6e5f6e5d4db3f7": {
      "model_module": "@jupyter-widgets/controls",
      "model_module_version": "1.2.0",
      "model_name": "SliderStyleModel",
      "state": {
       "description_width": ""
      }
     },
     "1ab12b38ba1e42b991affa8a5ff2c5c5": {
      "model_module": "@jupyter-widgets/controls",
      "model_module_version": "1.2.0",
      "model_name": "FloatSliderModel",
      "state": {
       "description": "wall_dnst",
       "layout": "IPY_MODEL_86daf0d995cf418c9d98a8f2cc72a766",
       "max": 1,
       "step": 0.01,
       "style": "IPY_MODEL_779fa006dd7d444d85d23cc7739aae59",
       "value": 0.5
      }
     },
     "1ac7276b781f459bb6d164971666af12": {
      "model_module": "@jupyter-widgets/base",
      "model_module_version": "1.0.0",
      "model_name": "LayoutModel",
      "state": {}
     },
     "1b5698e56b3143a0a68dd7f3a4fb7b2b": {
      "model_module": "@jupyter-widgets/output",
      "model_module_version": "1.0.0",
      "model_name": "OutputModel",
      "state": {
       "layout": "IPY_MODEL_e5d9c8c15b324ae8b6ab36616811cf38",
       "outputs": [
        {
         "data": {
          "image/svg+xml": "<svg baseProfile=\"full\" height=\"200\" version=\"1.1\" width=\"200\" xmlns=\"http://www.w3.org/2000/svg\" xmlns:ev=\"http://www.w3.org/2001/xml-events\" xmlns:xlink=\"http://www.w3.org/1999/xlink\"><defs/><rect fill=\"black\" height=\"200\" width=\"20.0\" x=\"0\" y=\"0\"/><rect fill=\"black\" height=\"200\" width=\"20.0\" x=\"138.0\" y=\"0\"/><rect fill=\"blue\" height=\"200\" width=\"118.0\" x=\"20.0\" y=\"80.0\"/><line stroke=\"black\" x1=\"0\" x2=\"158.0\" y1=\"200\" y2=\"200\"/><line stroke=\"green\" stroke-width=\"3\" x1=\"0\" x2=\"158.0\" y1=\"117.2305407746566\" y2=\"117.2305407746566\"/></svg>",
          "text/plain": "<IPython.core.display.SVG object>"
         },
         "metadata": {},
         "output_type": "display_data"
        }
       ]
      }
     },
     "1c65ed262d3c404ab55e98a4e175577e": {
      "model_module": "@jupyter-widgets/base",
      "model_module_version": "1.0.0",
      "model_name": "LayoutModel",
      "state": {}
     },
     "1c69fd0ef07945c58ae6779bfd217c5d": {
      "model_module": "@jupyter-widgets/output",
      "model_module_version": "1.0.0",
      "model_name": "OutputModel",
      "state": {
       "layout": "IPY_MODEL_b536a5e40aca4545a96cf4e798ed59c5",
       "outputs": [
        {
         "data": {
          "image/svg+xml": "<svg baseProfile=\"full\" height=\"400\" version=\"1.1\" width=\"400\" xmlns=\"http://www.w3.org/2000/svg\" xmlns:ev=\"http://www.w3.org/2001/xml-events\" xmlns:xlink=\"http://www.w3.org/1999/xlink\"><defs/><rect fill=\"black\" height=\"400\" width=\"8.0\" x=\"0\" y=\"0\"/><rect fill=\"black\" height=\"400\" width=\"8.0\" x=\"392.0\" y=\"0\"/><rect fill=\"blue\" height=\"400\" width=\"384.0\" x=\"8.0\" y=\"132.0\"/><line stroke=\"black\" x1=\"0\" x2=\"400.0\" y1=\"400\" y2=\"400\"/><line stroke=\"green\" stroke-width=\"3\" x1=\"0\" x2=\"400.0\" y1=\"264.6859000406339\" y2=\"264.6859000406339\"/></svg>",
          "text/plain": "<IPython.core.display.SVG object>"
         },
         "metadata": {},
         "output_type": "display_data"
        }
       ]
      }
     },
     "1c8b07c87d184d3db2223945e2a1a38a": {
      "model_module": "@jupyter-widgets/controls",
      "model_module_version": "1.2.0",
      "model_name": "SliderStyleModel",
      "state": {
       "description_width": ""
      }
     },
     "1d28e1f1a1824d4b99eff437e8511910": {
      "model_module": "@jupyter-widgets/controls",
      "model_module_version": "1.2.0",
      "model_name": "SliderStyleModel",
      "state": {
       "description_width": ""
      }
     },
     "1d520f2c86704dfd9d67e0762c4a3fcb": {
      "model_module": "@jupyter-widgets/controls",
      "model_module_version": "1.2.0",
      "model_name": "SliderStyleModel",
      "state": {
       "description_width": ""
      }
     },
     "1e63508dccd149bb94bfa625c146863d": {
      "model_module": "@jupyter-widgets/controls",
      "model_module_version": "1.2.0",
      "model_name": "FloatSliderModel",
      "state": {
       "description": "base_wdth",
       "layout": "IPY_MODEL_e793b05f65344447aa37edb69dbeef89",
       "max": 1,
       "step": 0.01,
       "style": "IPY_MODEL_be1fbbc3617a4e428d4ea7ef5ed7cd0f",
       "value": 0.5
      }
     },
     "1f1fc220c1744d59b1753f36f40242a2": {
      "model_module": "@jupyter-widgets/controls",
      "model_module_version": "1.2.0",
      "model_name": "SliderStyleModel",
      "state": {
       "description_width": ""
      }
     },
     "1f334e9b7b394a7c954563a5996ec08a": {
      "model_module": "@jupyter-widgets/controls",
      "model_module_version": "1.2.0",
      "model_name": "VBoxModel",
      "state": {
       "_dom_classes": [
        "widget-interact"
       ],
       "children": [
        "IPY_MODEL_0d40e58adbfc4dec88034d59aeb5ae56",
        "IPY_MODEL_361281b8f39f4fae96b2b03f1a95a9ab",
        "IPY_MODEL_97d5c7d78b9140db896f3f89a715167c",
        "IPY_MODEL_38e0e6b56749435f95e4aec8bf75e5a3",
        "IPY_MODEL_814818d2930b4be6a6e31ee0a7602a84"
       ],
       "layout": "IPY_MODEL_1195c687fe7e4deca1b6199b1e2391b8"
      }
     },
     "1f4074e1db6e414da7a535ae117bba84": {
      "model_module": "@jupyter-widgets/controls",
      "model_module_version": "1.2.0",
      "model_name": "VBoxModel",
      "state": {
       "_dom_classes": [
        "widget-interact"
       ],
       "children": [
        "IPY_MODEL_e25a1a66c25a468fbfed80f86978aa44",
        "IPY_MODEL_7945adb1cfa944f086a547a76eb93de6",
        "IPY_MODEL_e93e4ac2de2a4f81b05fe3f623afdccf",
        "IPY_MODEL_845df9f4e368442da95abb0ad4bfee4a",
        "IPY_MODEL_6f2245b09dc44bd0b7ac7174a996485a"
       ],
       "layout": "IPY_MODEL_0cd3395d1b23449083530c02328fa73a"
      }
     },
     "2007407783fd4ef3991acd4af6a80387": {
      "model_module": "@jupyter-widgets/controls",
      "model_module_version": "1.2.0",
      "model_name": "FloatSliderModel",
      "state": {
       "description": "wall_dnst",
       "layout": "IPY_MODEL_34e914cdeb074373a57aac051c366db2",
       "max": 1,
       "step": 0.01,
       "style": "IPY_MODEL_3f61bbfdf0304529a6f5775ab2a64cd7",
       "value": 0.5
      }
     },
     "2008de80baed4f6884170f1d0bed169a": {
      "model_module": "@jupyter-widgets/controls",
      "model_module_version": "1.2.0",
      "model_name": "VBoxModel",
      "state": {
       "_dom_classes": [
        "widget-interact"
       ],
       "children": [
        "IPY_MODEL_96edb3ec4c7f4c548aff6d604886f829",
        "IPY_MODEL_b7eab4b98f3148b7afb6e1ac95e00921",
        "IPY_MODEL_c549f07dee314f2ba79769039d1462d9",
        "IPY_MODEL_fd14a00b1af843e5a6b479cf242a77fb",
        "IPY_MODEL_3b203f4365ba4766b908eb4d197c080b"
       ],
       "layout": "IPY_MODEL_23606a796610442e98325c2a67ac291f"
      }
     },
     "206ef7267d0e4d9681c62504de891188": {
      "model_module": "@jupyter-widgets/controls",
      "model_module_version": "1.2.0",
      "model_name": "SliderStyleModel",
      "state": {
       "description_width": ""
      }
     },
     "20eec22d4f05451b85e7665a32d1f401": {
      "model_module": "@jupyter-widgets/controls",
      "model_module_version": "1.2.0",
      "model_name": "SliderStyleModel",
      "state": {
       "description_width": ""
      }
     },
     "217b380be68043d5960ec961bf97f37e": {
      "model_module": "@jupyter-widgets/controls",
      "model_module_version": "1.2.0",
      "model_name": "FloatSliderModel",
      "state": {
       "description": "wall_dnst",
       "layout": "IPY_MODEL_42fc7be4aa8642aa9b407819cef8ca47",
       "max": 1,
       "step": 0.01,
       "style": "IPY_MODEL_10768eb98ab340aa9cfd0eae64999dd7",
       "value": 0.5
      }
     },
     "21d5ad7b01e94e619f389b507997cafe": {
      "model_module": "@jupyter-widgets/base",
      "model_module_version": "1.0.0",
      "model_name": "LayoutModel",
      "state": {}
     },
     "2217085890ab4dd88166f97a5a122903": {
      "model_module": "@jupyter-widgets/base",
      "model_module_version": "1.0.0",
      "model_name": "LayoutModel",
      "state": {}
     },
     "228cbf97033844f39405cd1b082a0d8d": {
      "model_module": "@jupyter-widgets/controls",
      "model_module_version": "1.2.0",
      "model_name": "SliderStyleModel",
      "state": {
       "description_width": ""
      }
     },
     "22b5e8e752484b8285dd213f4de86389": {
      "model_module": "@jupyter-widgets/controls",
      "model_module_version": "1.2.0",
      "model_name": "FloatSliderModel",
      "state": {
       "description": "wall_thck",
       "layout": "IPY_MODEL_3dc0d9d78ac34525a1b8a2315b43c5e9",
       "max": 0.05,
       "step": 0.001,
       "style": "IPY_MODEL_ec1e0eaf6367402dbbf3ecb6166c8f49",
       "value": 0.025
      }
     },
     "22b65e3970604fbeb0f8a052a04c27a1": {
      "model_module": "@jupyter-widgets/base",
      "model_module_version": "1.0.0",
      "model_name": "LayoutModel",
      "state": {}
     },
     "22fa50b6b28f43aaa1ee6b9c38aed580": {
      "model_module": "@jupyter-widgets/controls",
      "model_module_version": "1.2.0",
      "model_name": "SliderStyleModel",
      "state": {
       "description_width": ""
      }
     },
     "23606a796610442e98325c2a67ac291f": {
      "model_module": "@jupyter-widgets/base",
      "model_module_version": "1.0.0",
      "model_name": "LayoutModel",
      "state": {}
     },
     "24444b1c53ab4c5a8dbf6a84acceb067": {
      "model_module": "@jupyter-widgets/controls",
      "model_module_version": "1.2.0",
      "model_name": "VBoxModel",
      "state": {
       "_dom_classes": [
        "widget-interact"
       ],
       "children": [
        "IPY_MODEL_cd69e458e2fd4593bd3f977188c907b4",
        "IPY_MODEL_adb49e293e914e1d9c18d0b20742a9f0",
        "IPY_MODEL_096effc094d543f889858999de796deb",
        "IPY_MODEL_8ca6ee0603034922af97d8a85d7fa016",
        "IPY_MODEL_9fcfad1a2bea47518ca328651479b907"
       ],
       "layout": "IPY_MODEL_5f03af68bf9642cbbbaa50cc688a4ee8"
      }
     },
     "24713dd44b3e4553a03fae069963d8c6": {
      "model_module": "@jupyter-widgets/base",
      "model_module_version": "1.0.0",
      "model_name": "LayoutModel",
      "state": {}
     },
     "24773c6ba562467a8bb1c2323650d795": {
      "model_module": "@jupyter-widgets/controls",
      "model_module_version": "1.2.0",
      "model_name": "FloatSliderModel",
      "state": {
       "description": "base_width",
       "layout": "IPY_MODEL_b7a99f892af34f0381e0a90b2b937f37",
       "max": 1,
       "step": 0.01,
       "style": "IPY_MODEL_8348f60ecadd4e19ab0688a50f1e5ba8",
       "value": 0.7
      }
     },
     "2513c2e7fc01466dadbcdb81fd01942e": {
      "model_module": "@jupyter-widgets/controls",
      "model_module_version": "1.2.0",
      "model_name": "FloatSliderModel",
      "state": {
       "description": "wall_thck",
       "layout": "IPY_MODEL_d8bbfd88571e4cb3bc04bb579a7ebeda",
       "max": 0.05,
       "step": 0.001,
       "style": "IPY_MODEL_4c1e3090865b4da48dd7c7bab7aaa6d4",
       "value": 0.025
      }
     },
     "252a94a2188a4a09861ca0409ff0d533": {
      "model_module": "@jupyter-widgets/base",
      "model_module_version": "1.0.0",
      "model_name": "LayoutModel",
      "state": {}
     },
     "252f0926dd5645c8a8980522c79f719e": {
      "model_module": "@jupyter-widgets/controls",
      "model_module_version": "1.2.0",
      "model_name": "SliderStyleModel",
      "state": {
       "description_width": ""
      }
     },
     "2566afae4f45461ea5e151019999c058": {
      "model_module": "@jupyter-widgets/controls",
      "model_module_version": "1.2.0",
      "model_name": "SliderStyleModel",
      "state": {
       "description_width": ""
      }
     },
     "25e2e83ac9174f3194d9bf68884b4c60": {
      "model_module": "@jupyter-widgets/output",
      "model_module_version": "1.0.0",
      "model_name": "OutputModel",
      "state": {
       "layout": "IPY_MODEL_ae8539f93a66480a8b6be20913d44acb",
       "outputs": [
        {
         "data": {
          "image/svg+xml": "<svg baseProfile=\"full\" height=\"400\" version=\"1.1\" width=\"400\" xmlns=\"http://www.w3.org/2000/svg\" xmlns:ev=\"http://www.w3.org/2001/xml-events\" xmlns:xlink=\"http://www.w3.org/1999/xlink\"><defs/><rect fill=\"black\" height=\"400\" width=\"10.0\" x=\"0\" y=\"0\"/><rect fill=\"black\" height=\"400\" width=\"10.0\" x=\"190.0\" y=\"0\"/><rect fill=\"blue\" height=\"400\" width=\"180.0\" x=\"10.0\" y=\"200.0\"/><line stroke=\"black\" x1=\"0\" x2=\"200.0\" y1=\"400\" y2=\"400\"/><line stroke=\"green\" stroke-width=\"3\" x1=\"0\" x2=\"200.0\" y1=\"281.0\" y2=\"281.0\"/><line stroke=\"magenta\" stroke-width=\"3\" x1=\"0\" x2=\"100.0\" y1=\"400\" y2=\"281.0\"/><text x=\"30.0\" y=\"316.7\">a</text></svg>",
          "text/plain": "<IPython.core.display.SVG object>"
         },
         "metadata": {},
         "output_type": "display_data"
        }
       ]
      }
     },
     "25e6eabb88ce4900a7118556be5310af": {
      "model_module": "@jupyter-widgets/output",
      "model_module_version": "1.0.0",
      "model_name": "OutputModel",
      "state": {
       "layout": "IPY_MODEL_b4692fc9786c4ab1b4d2d00d6805fea0",
       "outputs": [
        {
         "data": {
          "image/svg+xml": "<svg baseProfile=\"full\" height=\"500\" version=\"1.1\" width=\"500\" xmlns=\"http://www.w3.org/2000/svg\" xmlns:ev=\"http://www.w3.org/2001/xml-events\" xmlns:xlink=\"http://www.w3.org/1999/xlink\"><defs/><rect fill=\"black\" height=\"500\" width=\"12.5\" x=\"0\" y=\"0\"/><rect fill=\"black\" height=\"500\" width=\"12.5\" x=\"237.5\" y=\"0\"/><rect fill=\"blue\" height=\"500\" width=\"225.0\" x=\"12.5\" y=\"250.0\"/><line stroke=\"black\" x1=\"0\" x2=\"250.0\" y1=\"500\" y2=\"500\"/><line stroke=\"green\" stroke-width=\"3\" x1=\"0\" x2=\"250.0\" y1=\"351.25\" y2=\"351.25\"/><line stroke=\"magenta\" stroke-width=\"3\" x1=\"0\" x2=\"125.0\" y1=\"500\" y2=\"351.25\"/><text fill=\"magenta\" font-size=\"24\" stroke=\"magenta\" x=\"37.5\" y=\"395.875\">α</text></svg>",
          "text/plain": "<IPython.core.display.SVG object>"
         },
         "metadata": {},
         "output_type": "display_data"
        }
       ]
      }
     },
     "261803a91da54398adbb815ce36b7fc9": {
      "model_module": "@jupyter-widgets/controls",
      "model_module_version": "1.2.0",
      "model_name": "FloatSliderModel",
      "state": {
       "description": "wall_dnst",
       "layout": "IPY_MODEL_ec47963946ed4b93b0398a68f4a0fd31",
       "max": 1,
       "step": 0.01,
       "style": "IPY_MODEL_5c8b1926f0c8459aabe958e18be9a478",
       "value": 0.5
      }
     },
     "2693a83cb8d046189347975cf91f37ec": {
      "model_module": "@jupyter-widgets/controls",
      "model_module_version": "1.2.0",
      "model_name": "FloatSliderModel",
      "state": {
       "description": "base_wdth",
       "layout": "IPY_MODEL_4806e7319a0e4fc0955ad1ee34055059",
       "max": 1,
       "step": 0.01,
       "style": "IPY_MODEL_3d7f3e30b02a48218f9c659f615c2e8e",
       "value": 0.5
      }
     },
     "27544a10d4d54c3d829db3deff2426fc": {
      "model_module": "@jupyter-widgets/base",
      "model_module_version": "1.0.0",
      "model_name": "LayoutModel",
      "state": {}
     },
     "27820e3fe78e4a549c3e2ebc0294ebe6": {
      "model_module": "@jupyter-widgets/base",
      "model_module_version": "1.0.0",
      "model_name": "LayoutModel",
      "state": {}
     },
     "27df3ca53df44ffcbc8e6d8c60040c1d": {
      "model_module": "@jupyter-widgets/controls",
      "model_module_version": "1.2.0",
      "model_name": "FloatSliderModel",
      "state": {
       "description": "liqd_hght",
       "layout": "IPY_MODEL_dafb1af9012f422387996e57dcfa793b",
       "max": 1,
       "step": 0.01,
       "style": "IPY_MODEL_329f3bae78c84143aae9ec82a37f8b2c",
       "value": 0.5
      }
     },
     "2839d2c07c814daba4be224ddc02f64a": {
      "model_module": "@jupyter-widgets/controls",
      "model_module_version": "1.2.0",
      "model_name": "VBoxModel",
      "state": {
       "_dom_classes": [
        "widget-interact"
       ],
       "children": [
        "IPY_MODEL_4083ce49c5de48128608b7b5b9fb268e",
        "IPY_MODEL_cfc4fab139fd46cbbb9786aa7e19b9cb",
        "IPY_MODEL_8ffd68a9c25c4db09e93b3962546c275",
        "IPY_MODEL_538ef230b1674941ba447aa3a30f63e9",
        "IPY_MODEL_d3e1b2f8830b435688e4425a860ba760"
       ],
       "layout": "IPY_MODEL_8941be57ed084b54a45e791d432ee36f"
      }
     },
     "2858c71524424a67a587afb9a7a64b3f": {
      "model_module": "@jupyter-widgets/output",
      "model_module_version": "1.0.0",
      "model_name": "OutputModel",
      "state": {
       "layout": "IPY_MODEL_28b5d8249a004080b24635f1be34dbec",
       "outputs": [
        {
         "data": {
          "image/png": "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\n",
          "text/plain": "<Figure size 432x288 with 1 Axes>"
         },
         "metadata": {},
         "output_type": "display_data"
        }
       ]
      }
     },
     "287c6e1130a641998828d11d8f08743b": {
      "model_module": "@jupyter-widgets/base",
      "model_module_version": "1.0.0",
      "model_name": "LayoutModel",
      "state": {}
     },
     "2881ce5aa38e4e25964f0ee32f0ce26e": {
      "model_module": "@jupyter-widgets/base",
      "model_module_version": "1.0.0",
      "model_name": "LayoutModel",
      "state": {}
     },
     "28957d85c25a417cb9675e68387119a1": {
      "model_module": "@jupyter-widgets/controls",
      "model_module_version": "1.2.0",
      "model_name": "FloatSliderModel",
      "state": {
       "description": "base_width",
       "layout": "IPY_MODEL_6ac025f122664e83a42f9029f09ff4c5",
       "max": 1,
       "step": 0.01,
       "style": "IPY_MODEL_432f786e7ec44d2396cbe0e88e0ac93d",
       "value": 0.5
      }
     },
     "28b5d8249a004080b24635f1be34dbec": {
      "model_module": "@jupyter-widgets/base",
      "model_module_version": "1.0.0",
      "model_name": "LayoutModel",
      "state": {}
     },
     "2a3f5840a31f4a7490f37bc8c48833b0": {
      "model_module": "@jupyter-widgets/base",
      "model_module_version": "1.0.0",
      "model_name": "LayoutModel",
      "state": {}
     },
     "2cb58f2d16f14a509e933c4227b7e600": {
      "model_module": "@jupyter-widgets/controls",
      "model_module_version": "1.2.0",
      "model_name": "VBoxModel",
      "state": {
       "_dom_classes": [
        "widget-interact"
       ],
       "children": [
        "IPY_MODEL_2513c2e7fc01466dadbcdb81fd01942e",
        "IPY_MODEL_1ab12b38ba1e42b991affa8a5ff2c5c5",
        "IPY_MODEL_53a94883436d4dbdab26cd52c16a7820",
        "IPY_MODEL_b4357a7a31014bc88dc447b7290f4899",
        "IPY_MODEL_ad1d91d4fab4445c91465fd04b778195"
       ],
       "layout": "IPY_MODEL_cc5a880e378042239ba64ffda858d980"
      }
     },
     "2dbe7d08a23d4d72ae7ee1d931f61007": {
      "model_module": "@jupyter-widgets/base",
      "model_module_version": "1.0.0",
      "model_name": "LayoutModel",
      "state": {}
     },
     "2dda850ee21b413f8d8948ad1ed70888": {
      "model_module": "@jupyter-widgets/controls",
      "model_module_version": "1.2.0",
      "model_name": "FloatSliderModel",
      "state": {
       "description": "wall_dnst",
       "layout": "IPY_MODEL_499c9416b3f142be91edac8a44355aa6",
       "max": 3,
       "step": 0.01,
       "style": "IPY_MODEL_c98316243a2f4764be856fe6c401f5a0",
       "value": 1.5
      }
     },
     "2e32b562ef634609b291ae9ad65de604": {
      "model_module": "@jupyter-widgets/controls",
      "model_module_version": "1.2.0",
      "model_name": "SliderStyleModel",
      "state": {
       "description_width": ""
      }
     },
     "2e8f726d3bfb46edabca228731033ecd": {
      "model_module": "@jupyter-widgets/controls",
      "model_module_version": "1.2.0",
      "model_name": "SliderStyleModel",
      "state": {
       "description_width": ""
      }
     },
     "2f73d816db8d4836981197458a3c3d20": {
      "model_module": "@jupyter-widgets/base",
      "model_module_version": "1.0.0",
      "model_name": "LayoutModel",
      "state": {}
     },
     "2f83cf97b5064b98aa9ecc6383e85a79": {
      "model_module": "@jupyter-widgets/controls",
      "model_module_version": "1.2.0",
      "model_name": "SliderStyleModel",
      "state": {
       "description_width": ""
      }
     },
     "2fc451febe7b40c398e04df196146e46": {
      "model_module": "@jupyter-widgets/controls",
      "model_module_version": "1.2.0",
      "model_name": "VBoxModel",
      "state": {
       "_dom_classes": [
        "widget-interact"
       ],
       "layout": "IPY_MODEL_d72e260c562e49b08261ffb642309b07"
      }
     },
     "2fe06639ddf24e1983e84f66b95c936e": {
      "model_module": "@jupyter-widgets/controls",
      "model_module_version": "1.2.0",
      "model_name": "VBoxModel",
      "state": {
       "_dom_classes": [
        "widget-interact"
       ],
       "children": [
        "IPY_MODEL_93d810b1959d42f8af4c91f29ba88689",
        "IPY_MODEL_fa1257ddc03d45c6aa501bb01dc51b8c",
        "IPY_MODEL_698ff13b826f4cd48676ed6ff86fe294",
        "IPY_MODEL_44dd9cd50bcd4918a06f9627fec10cec",
        "IPY_MODEL_0b740887bde04cf88c6bd415255270df"
       ],
       "layout": "IPY_MODEL_f66a56763d86445492db5252ea0acc7a"
      }
     },
     "2ffaff0db2504c6eaf9e306a8032b333": {
      "model_module": "@jupyter-widgets/base",
      "model_module_version": "1.0.0",
      "model_name": "LayoutModel",
      "state": {}
     },
     "300f024dfa5243879e6fae88742040b0": {
      "model_module": "@jupyter-widgets/controls",
      "model_module_version": "1.2.0",
      "model_name": "SliderStyleModel",
      "state": {
       "description_width": ""
      }
     },
     "30161d4f71bf47ceb2f95cb7175e8480": {
      "model_module": "@jupyter-widgets/controls",
      "model_module_version": "1.2.0",
      "model_name": "FloatSliderModel",
      "state": {
       "description": "liqd_hght",
       "layout": "IPY_MODEL_807756a40b8c4df5b7bb49999cff5ccc",
       "max": 1,
       "step": 0.01,
       "style": "IPY_MODEL_b4bc5bd624c4423fa5ca53ae2328feb6",
       "value": 0.27
      }
     },
     "303af936a9cb4b64ac778751cb9874e4": {
      "model_module": "@jupyter-widgets/output",
      "model_module_version": "1.0.0",
      "model_name": "OutputModel",
      "state": {
       "layout": "IPY_MODEL_11eaa5b2a9544f33afdfb52c36093b0f",
       "outputs": [
        {
         "data": {
          "image/png": "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\n",
          "text/plain": "<Figure size 432x288 with 1 Axes>"
         },
         "metadata": {},
         "output_type": "display_data"
        }
       ]
      }
     },
     "30a79a87754a4d59b28716ae72877719": {
      "model_module": "@jupyter-widgets/controls",
      "model_module_version": "1.2.0",
      "model_name": "VBoxModel",
      "state": {
       "_dom_classes": [
        "widget-interact"
       ],
       "children": [
        "IPY_MODEL_e34cbb9565c849d788a2472ed76613ca",
        "IPY_MODEL_130fe83895ff451681da3594c10ec644",
        "IPY_MODEL_b1bf88e0308a420aabfaa9bdfcace88d",
        "IPY_MODEL_b23ba31098a742d18b74630f19998e9b",
        "IPY_MODEL_1b5698e56b3143a0a68dd7f3a4fb7b2b"
       ],
       "layout": "IPY_MODEL_5b4de028859647508e51a8da22955520"
      }
     },
     "30df9799a8884b1da08a393da05f4329": {
      "model_module": "@jupyter-widgets/controls",
      "model_module_version": "1.2.0",
      "model_name": "SliderStyleModel",
      "state": {
       "description_width": ""
      }
     },
     "313a1428d37942e2b8d8289baf049765": {
      "model_module": "@jupyter-widgets/base",
      "model_module_version": "1.0.0",
      "model_name": "LayoutModel",
      "state": {}
     },
     "313bdf15e93e4569ae58994c20e52074": {
      "model_module": "@jupyter-widgets/base",
      "model_module_version": "1.0.0",
      "model_name": "LayoutModel",
      "state": {}
     },
     "320cabd7f1764eb7b93dad3c6897ddbc": {
      "model_module": "@jupyter-widgets/base",
      "model_module_version": "1.0.0",
      "model_name": "LayoutModel",
      "state": {}
     },
     "320e94678f604122b9e857ebff7c2791": {
      "model_module": "@jupyter-widgets/controls",
      "model_module_version": "1.2.0",
      "model_name": "SliderStyleModel",
      "state": {
       "description_width": ""
      }
     },
     "329f3bae78c84143aae9ec82a37f8b2c": {
      "model_module": "@jupyter-widgets/controls",
      "model_module_version": "1.2.0",
      "model_name": "SliderStyleModel",
      "state": {
       "description_width": ""
      }
     },
     "32a313075e174dbdb678bf812a256d3b": {
      "model_module": "@jupyter-widgets/controls",
      "model_module_version": "1.2.0",
      "model_name": "SliderStyleModel",
      "state": {
       "description_width": ""
      }
     },
     "330b5a89bd3f4c1e99d9b7c78d28b838": {
      "model_module": "@jupyter-widgets/base",
      "model_module_version": "1.0.0",
      "model_name": "LayoutModel",
      "state": {}
     },
     "333cf5a3fb624612b8cd9028ba804003": {
      "model_module": "@jupyter-widgets/base",
      "model_module_version": "1.0.0",
      "model_name": "LayoutModel",
      "state": {}
     },
     "3376de38d58d4e08a5d845d2c15c25fd": {
      "model_module": "@jupyter-widgets/base",
      "model_module_version": "1.0.0",
      "model_name": "LayoutModel",
      "state": {}
     },
     "339a3ed8f0ee440fad4766411ac991bb": {
      "model_module": "@jupyter-widgets/base",
      "model_module_version": "1.0.0",
      "model_name": "LayoutModel",
      "state": {}
     },
     "33c20aab52dc4698b11476127ae74c8e": {
      "model_module": "@jupyter-widgets/base",
      "model_module_version": "1.0.0",
      "model_name": "LayoutModel",
      "state": {}
     },
     "33e3c893926b4d7ba32258cae1b67711": {
      "model_module": "@jupyter-widgets/base",
      "model_module_version": "1.0.0",
      "model_name": "LayoutModel",
      "state": {}
     },
     "33ecf8aac40b46f6b38418d62a836751": {
      "model_module": "@jupyter-widgets/controls",
      "model_module_version": "1.2.0",
      "model_name": "FloatSliderModel",
      "state": {
       "description": "base_width",
       "layout": "IPY_MODEL_d55da9ed76b849bab016067cfb458341",
       "max": 1,
       "step": 0.01,
       "style": "IPY_MODEL_2f83cf97b5064b98aa9ecc6383e85a79",
       "value": 1
      }
     },
     "349ee094d0b146b88c7eee0156704b81": {
      "model_module": "@jupyter-widgets/controls",
      "model_module_version": "1.2.0",
      "model_name": "FloatSliderModel",
      "state": {
       "description": "wall_dnst",
       "layout": "IPY_MODEL_50b021d71ea6413aa95e73ef31cecccb",
       "max": 1,
       "step": 0.01,
       "style": "IPY_MODEL_a961737db95845879eec6e8ce15b4df3",
       "value": 0.5
      }
     },
     "34e914cdeb074373a57aac051c366db2": {
      "model_module": "@jupyter-widgets/base",
      "model_module_version": "1.0.0",
      "model_name": "LayoutModel",
      "state": {}
     },
     "3513173ceb134134b2c8fcd916ba494c": {
      "model_module": "@jupyter-widgets/controls",
      "model_module_version": "1.2.0",
      "model_name": "SliderStyleModel",
      "state": {
       "description_width": ""
      }
     },
     "3560ed53f10541ba8f0dd94afb48ece3": {
      "model_module": "@jupyter-widgets/controls",
      "model_module_version": "1.2.0",
      "model_name": "FloatSliderModel",
      "state": {
       "description": "wall_thck",
       "layout": "IPY_MODEL_cc5b419220414dcf93a6017cad5514ec",
       "max": 0.05,
       "step": 0.001,
       "style": "IPY_MODEL_357bbaaca2e949038d4cebdf0b06a9be",
       "value": 0.025
      }
     },
     "357bbaaca2e949038d4cebdf0b06a9be": {
      "model_module": "@jupyter-widgets/controls",
      "model_module_version": "1.2.0",
      "model_name": "SliderStyleModel",
      "state": {
       "description_width": ""
      }
     },
     "35e052eaf18d4917814fa56e112fa3cc": {
      "model_module": "@jupyter-widgets/controls",
      "model_module_version": "1.2.0",
      "model_name": "FloatSliderModel",
      "state": {
       "description": "base_width",
       "layout": "IPY_MODEL_76622eca84a64bf39260f4f20d9ed4d6",
       "max": 1,
       "step": 0.01,
       "style": "IPY_MODEL_252f0926dd5645c8a8980522c79f719e",
       "value": 0.37
      }
     },
     "361281b8f39f4fae96b2b03f1a95a9ab": {
      "model_module": "@jupyter-widgets/controls",
      "model_module_version": "1.2.0",
      "model_name": "FloatSliderModel",
      "state": {
       "description": "wall_density",
       "layout": "IPY_MODEL_7247907e850949129252aee42c6a1658",
       "max": 3,
       "step": 0.01,
       "style": "IPY_MODEL_c3aefe063dcb45619dcb0029348d4958",
       "value": 1
      }
     },
     "361a698701cc4be5bd6c045649fdf5b5": {
      "model_module": "@jupyter-widgets/base",
      "model_module_version": "1.0.0",
      "model_name": "LayoutModel",
      "state": {}
     },
     "362563f385874ecb8dd2dbcb46c0c347": {
      "model_module": "@jupyter-widgets/base",
      "model_module_version": "1.0.0",
      "model_name": "LayoutModel",
      "state": {}
     },
     "365418adb79a42a2bd533426f926b561": {
      "model_module": "@jupyter-widgets/controls",
      "model_module_version": "1.2.0",
      "model_name": "SliderStyleModel",
      "state": {
       "description_width": ""
      }
     },
     "3656b6ee342c461c857da7b971532bea": {
      "model_module": "@jupyter-widgets/controls",
      "model_module_version": "1.2.0",
      "model_name": "VBoxModel",
      "state": {
       "_dom_classes": [
        "widget-interact"
       ],
       "children": [
        "IPY_MODEL_d86d39e0286049439263fefc6e9b6bff",
        "IPY_MODEL_b3ba333991c24e02ad69b483dc36a5e1",
        "IPY_MODEL_f13d8ba262924cb980ada4ba8c56acd1",
        "IPY_MODEL_00d0e8fd96ef4b23856e40638ad7f1c5",
        "IPY_MODEL_d438ecdd477747a99f4d9a877fb34efd"
       ],
       "layout": "IPY_MODEL_f09ca4eb2aef411ea51e8b54a024cfd5"
      }
     },
     "3698d07aa65c4bb5870c107a02b35c69": {
      "model_module": "@jupyter-widgets/controls",
      "model_module_version": "1.2.0",
      "model_name": "SliderStyleModel",
      "state": {
       "description_width": ""
      }
     },
     "37008892fa1543a2bfd5aa8c6a1ad4e2": {
      "model_module": "@jupyter-widgets/controls",
      "model_module_version": "1.2.0",
      "model_name": "VBoxModel",
      "state": {
       "_dom_classes": [
        "widget-interact"
       ],
       "children": [
        "IPY_MODEL_a287e6e960e04401bf6034eb170cf291",
        "IPY_MODEL_ca3db8a4e9854b798c0da44f6d2a8c1d",
        "IPY_MODEL_a40d92c664d84d6ab4f7a5e674791ad0",
        "IPY_MODEL_fc29f6dbc61c4f79b5f5d75e65c5c1aa",
        "IPY_MODEL_25e6eabb88ce4900a7118556be5310af"
       ],
       "layout": "IPY_MODEL_3d61f79ac21e49f386fd930ac15c2864"
      }
     },
     "373553cefff54787a8b0b7a924dca8f1": {
      "model_module": "@jupyter-widgets/controls",
      "model_module_version": "1.2.0",
      "model_name": "SliderStyleModel",
      "state": {
       "description_width": ""
      }
     },
     "378a90963a0844b6a167f87e3e2b05d5": {
      "model_module": "@jupyter-widgets/controls",
      "model_module_version": "1.2.0",
      "model_name": "SliderStyleModel",
      "state": {
       "description_width": ""
      }
     },
     "38e0e6b56749435f95e4aec8bf75e5a3": {
      "model_module": "@jupyter-widgets/controls",
      "model_module_version": "1.2.0",
      "model_name": "FloatSliderModel",
      "state": {
       "description": "liquid_height",
       "layout": "IPY_MODEL_de5f3954fc9a462ba4dd5bd49237fad8",
       "max": 1,
       "step": 0.01,
       "style": "IPY_MODEL_a505fef8593b4b0e87d1976fa0c299a5",
       "value": 0.6
      }
     },
     "38f37f73d2a043589c84c27897e0c26b": {
      "model_module": "@jupyter-widgets/controls",
      "model_module_version": "1.2.0",
      "model_name": "SliderStyleModel",
      "state": {
       "description_width": ""
      }
     },
     "38fc7a5f22ff46f6b576de329aab7362": {
      "model_module": "@jupyter-widgets/controls",
      "model_module_version": "1.2.0",
      "model_name": "FloatSliderModel",
      "state": {
       "description": "liquid_height",
       "layout": "IPY_MODEL_4d4189c7277946049b55d4a8dab6f89a",
       "max": 1,
       "step": 0.01,
       "style": "IPY_MODEL_8b49b5a7706749bea4616e18d91910f0",
       "value": 0.6
      }
     },
     "39836b7fddbf4caa8e626a427ad8c8ef": {
      "model_module": "@jupyter-widgets/base",
      "model_module_version": "1.0.0",
      "model_name": "LayoutModel",
      "state": {}
     },
     "3a595820fdb74f3eb029a3f7d34ea846": {
      "model_module": "@jupyter-widgets/controls",
      "model_module_version": "1.2.0",
      "model_name": "FloatSliderModel",
      "state": {
       "description": "omega",
       "layout": "IPY_MODEL_0874b199bd1f4c608bbad0ae70ac6a29",
       "max": 3,
       "min": -1,
       "step": 0.1,
       "style": "IPY_MODEL_8af58f9c23cd42558b6afa209e9bf3cf",
       "value": 1
      }
     },
     "3ab1251d7b7040cf93c2b30beb70ae97": {
      "model_module": "@jupyter-widgets/base",
      "model_module_version": "1.0.0",
      "model_name": "LayoutModel",
      "state": {}
     },
     "3ab3448354e44112a81338b64d7deb01": {
      "model_module": "@jupyter-widgets/base",
      "model_module_version": "1.0.0",
      "model_name": "LayoutModel",
      "state": {}
     },
     "3ae0e7cb3f124e27be6f60360ba7435d": {
      "model_module": "@jupyter-widgets/controls",
      "model_module_version": "1.2.0",
      "model_name": "SliderStyleModel",
      "state": {
       "description_width": ""
      }
     },
     "3b203f4365ba4766b908eb4d197c080b": {
      "model_module": "@jupyter-widgets/output",
      "model_module_version": "1.0.0",
      "model_name": "OutputModel",
      "state": {
       "layout": "IPY_MODEL_b37cd54e00ab40efba65c3b0fada38f3",
       "outputs": [
        {
         "data": {
          "image/svg+xml": "<svg baseProfile=\"full\" height=\"200\" version=\"1.1\" width=\"200\" xmlns=\"http://www.w3.org/2000/svg\" xmlns:ev=\"http://www.w3.org/2001/xml-events\" xmlns:xlink=\"http://www.w3.org/1999/xlink\"><defs/><rect fill=\"black\" height=\"200\" width=\"24.0\" x=\"0\" y=\"0\"/><rect fill=\"black\" height=\"200\" width=\"24.0\" x=\"128.0\" y=\"0\"/><line stroke=\"black\" x1=\"0\" x2=\"152.0\" y1=\"200\" y2=\"200\"/><rect fill=\"blue\" height=\"200\" width=\"104.0\" x=\"24.0\" y=\"138.0\"/><line stroke=\"green\" stroke-width=\"3\" x1=\"0\" x2=\"152.0\" y1=\"127.98134530536419\" y2=\"127.98134530536419\"/></svg>",
          "text/plain": "<IPython.core.display.SVG object>"
         },
         "metadata": {},
         "output_type": "display_data"
        }
       ]
      }
     },
     "3b52e49f0a364644a0928283df7e8d8d": {
      "model_module": "@jupyter-widgets/controls",
      "model_module_version": "1.2.0",
      "model_name": "IntSliderModel",
      "state": {
       "description": "W",
       "layout": "IPY_MODEL_926be6fcb66d4197a9023bbe7264e0a4",
       "max": 15,
       "min": -5,
       "style": "IPY_MODEL_09c4183c41f94aeeb6c382671b93d222",
       "value": 5
      }
     },
     "3b76fa94944a41748572fe85c2f76d64": {
      "model_module": "@jupyter-widgets/controls",
      "model_module_version": "1.2.0",
      "model_name": "SliderStyleModel",
      "state": {
       "description_width": ""
      }
     },
     "3bff44a99ebb47ff8528e4e1e3f48d3a": {
      "model_module": "@jupyter-widgets/controls",
      "model_module_version": "1.2.0",
      "model_name": "FloatSliderModel",
      "state": {
       "description": "liquid_height",
       "layout": "IPY_MODEL_05f68f5fe3bc49ebb43057501e953ace",
       "max": 1,
       "step": 0.01,
       "style": "IPY_MODEL_719bad1a1cd14d1b8ce159c4d276a760",
       "value": 0.6
      }
     },
     "3c042f238c614dae85d4942ee21bdf10": {
      "model_module": "@jupyter-widgets/controls",
      "model_module_version": "1.2.0",
      "model_name": "FloatSliderModel",
      "state": {
       "description": "base_width",
       "layout": "IPY_MODEL_333cf5a3fb624612b8cd9028ba804003",
       "max": 1,
       "step": 0.01,
       "style": "IPY_MODEL_ef6a549f52cd43b4bd1ee4abd83654a2",
       "value": 0.5
      }
     },
     "3cc4451b765540b59276db3d2f6eca6c": {
      "model_module": "@jupyter-widgets/controls",
      "model_module_version": "1.2.0",
      "model_name": "SliderStyleModel",
      "state": {
       "description_width": ""
      }
     },
     "3d61f79ac21e49f386fd930ac15c2864": {
      "model_module": "@jupyter-widgets/base",
      "model_module_version": "1.0.0",
      "model_name": "LayoutModel",
      "state": {}
     },
     "3d721300e19849709df8408c812bc8e1": {
      "model_module": "@jupyter-widgets/controls",
      "model_module_version": "1.2.0",
      "model_name": "FloatSliderModel",
      "state": {
       "description": "wall_thickness",
       "layout": "IPY_MODEL_fd0bbeb4248643d885c9e13129e259c4",
       "max": 0.5,
       "step": 0.01,
       "style": "IPY_MODEL_30df9799a8884b1da08a393da05f4329",
       "value": 0.1
      }
     },
     "3d7f3e30b02a48218f9c659f615c2e8e": {
      "model_module": "@jupyter-widgets/controls",
      "model_module_version": "1.2.0",
      "model_name": "SliderStyleModel",
      "state": {
       "description_width": ""
      }
     },
     "3dc0d9d78ac34525a1b8a2315b43c5e9": {
      "model_module": "@jupyter-widgets/base",
      "model_module_version": "1.0.0",
      "model_name": "LayoutModel",
      "state": {}
     },
     "3e99e0e9ef7e4a3dbebb3d0153e10a4c": {
      "model_module": "@jupyter-widgets/output",
      "model_module_version": "1.0.0",
      "model_name": "OutputModel",
      "state": {
       "layout": "IPY_MODEL_0502405bde15474288ac35614f7de6b6",
       "outputs": [
        {
         "ename": "TypeError",
         "evalue": "'float' object is not iterable",
         "output_type": "error",
         "traceback": [
          "\u001b[0;31m---------------------------------------------------------------------------\u001b[0m",
          "\u001b[0;31mTypeError\u001b[0m                                 Traceback (most recent call last)",
          "\u001b[0;32m/opt/miniconda3/lib/python3.6/site-packages/ipywidgets/widgets/interaction.py\u001b[0m in \u001b[0;36mupdate\u001b[0;34m(self, *args)\u001b[0m\n\u001b[1;32m    249\u001b[0m                     \u001b[0mvalue\u001b[0m \u001b[0;34m=\u001b[0m \u001b[0mwidget\u001b[0m\u001b[0;34m.\u001b[0m\u001b[0mget_interact_value\u001b[0m\u001b[0;34m(\u001b[0m\u001b[0;34m)\u001b[0m\u001b[0;34m\u001b[0m\u001b[0m\n\u001b[1;32m    250\u001b[0m                     \u001b[0mself\u001b[0m\u001b[0;34m.\u001b[0m\u001b[0mkwargs\u001b[0m\u001b[0;34m[\u001b[0m\u001b[0mwidget\u001b[0m\u001b[0;34m.\u001b[0m\u001b[0m_kwarg\u001b[0m\u001b[0;34m]\u001b[0m \u001b[0;34m=\u001b[0m \u001b[0mvalue\u001b[0m\u001b[0;34m\u001b[0m\u001b[0m\n\u001b[0;32m--> 251\u001b[0;31m                 \u001b[0mself\u001b[0m\u001b[0;34m.\u001b[0m\u001b[0mresult\u001b[0m \u001b[0;34m=\u001b[0m \u001b[0mself\u001b[0m\u001b[0;34m.\u001b[0m\u001b[0mf\u001b[0m\u001b[0;34m(\u001b[0m\u001b[0;34m**\u001b[0m\u001b[0mself\u001b[0m\u001b[0;34m.\u001b[0m\u001b[0mkwargs\u001b[0m\u001b[0;34m)\u001b[0m\u001b[0;34m\u001b[0m\u001b[0m\n\u001b[0m\u001b[1;32m    252\u001b[0m                 \u001b[0mshow_inline_matplotlib_plots\u001b[0m\u001b[0;34m(\u001b[0m\u001b[0;34m)\u001b[0m\u001b[0;34m\u001b[0m\u001b[0m\n\u001b[1;32m    253\u001b[0m                 \u001b[0;32mif\u001b[0m \u001b[0mself\u001b[0m\u001b[0;34m.\u001b[0m\u001b[0mauto_display\u001b[0m \u001b[0;32mand\u001b[0m \u001b[0mself\u001b[0m\u001b[0;34m.\u001b[0m\u001b[0mresult\u001b[0m \u001b[0;32mis\u001b[0m \u001b[0;32mnot\u001b[0m \u001b[0;32mNone\u001b[0m\u001b[0;34m:\u001b[0m\u001b[0;34m\u001b[0m\u001b[0m\n",
          "\u001b[0;32m<ipython-input-44-bf6a973c11dc>\u001b[0m in \u001b[0;36mdrawing\u001b[0;34m(wall_thck, wall_dnst, base_wdth, liqd_hght)\u001b[0m\n\u001b[1;32m     25\u001b[0m     \u001b[0mdr\u001b[0m\u001b[0;34m.\u001b[0m\u001b[0madd\u001b[0m\u001b[0;34m(\u001b[0m\u001b[0mdr\u001b[0m\u001b[0;34m.\u001b[0m\u001b[0mline\u001b[0m\u001b[0;34m(\u001b[0m\u001b[0;34m*\u001b[0m\u001b[0mc\u001b[0m\u001b[0;34m.\u001b[0m\u001b[0mcenter_line\u001b[0m\u001b[0;34m(\u001b[0m\u001b[0;34m)\u001b[0m\u001b[0;34m,\u001b[0m \u001b[0mstroke\u001b[0m\u001b[0;34m=\u001b[0m\u001b[0;34m'green'\u001b[0m  \u001b[0;34m,\u001b[0m \u001b[0mstroke_width\u001b[0m\u001b[0;34m=\u001b[0m\u001b[0;36m3\u001b[0m\u001b[0;34m)\u001b[0m\u001b[0;34m)\u001b[0m\u001b[0;34m\u001b[0m\u001b[0m\n\u001b[1;32m     26\u001b[0m     \u001b[0mdr\u001b[0m\u001b[0;34m.\u001b[0m\u001b[0madd\u001b[0m\u001b[0;34m(\u001b[0m\u001b[0mdr\u001b[0m\u001b[0;34m.\u001b[0m\u001b[0mline\u001b[0m\u001b[0;34m(\u001b[0m\u001b[0;34m*\u001b[0m\u001b[0mc\u001b[0m\u001b[0;34m.\u001b[0m\u001b[0mtip_line\u001b[0m\u001b[0;34m(\u001b[0m\u001b[0;34m)\u001b[0m   \u001b[0;34m,\u001b[0m \u001b[0mstroke\u001b[0m\u001b[0;34m=\u001b[0m\u001b[0;34m'magenta'\u001b[0m\u001b[0;34m,\u001b[0m \u001b[0mstroke_width\u001b[0m\u001b[0;34m=\u001b[0m\u001b[0;36m3\u001b[0m\u001b[0;34m)\u001b[0m\u001b[0;34m)\u001b[0m\u001b[0;34m\u001b[0m\u001b[0m\n\u001b[0;32m---> 27\u001b[0;31m     \u001b[0mdr\u001b[0m\u001b[0;34m.\u001b[0m\u001b[0madd\u001b[0m\u001b[0;34m(\u001b[0m\u001b[0mdr\u001b[0m\u001b[0;34m.\u001b[0m\u001b[0mtext\u001b[0m\u001b[0;34m(\u001b[0m\u001b[0;34m'a'\u001b[0m\u001b[0;34m,\u001b[0m \u001b[0mx\u001b[0m\u001b[0;34m=\u001b[0m\u001b[0mc\u001b[0m\u001b[0;34m.\u001b[0m\u001b[0mtip_angle_loc\u001b[0m\u001b[0;34m(\u001b[0m\u001b[0;34m)\u001b[0m\u001b[0;34m[\u001b[0m\u001b[0;36m0\u001b[0m\u001b[0;34m]\u001b[0m\u001b[0;34m,\u001b[0m \u001b[0my\u001b[0m\u001b[0;34m=\u001b[0m\u001b[0mc\u001b[0m\u001b[0;34m.\u001b[0m\u001b[0mtip_angle_loc\u001b[0m\u001b[0;34m(\u001b[0m\u001b[0;34m)\u001b[0m\u001b[0;34m[\u001b[0m\u001b[0;36m1\u001b[0m\u001b[0;34m]\u001b[0m\u001b[0;34m)\u001b[0m\u001b[0;34m)\u001b[0m\u001b[0;34m\u001b[0m\u001b[0m\n\u001b[0m\u001b[1;32m     28\u001b[0m \u001b[0;34m\u001b[0m\u001b[0m\n\u001b[1;32m     29\u001b[0m     \u001b[0;31m# Return SVG object.\u001b[0m\u001b[0;34m\u001b[0m\u001b[0;34m\u001b[0m\u001b[0m\n",
          "\u001b[0;32m/opt/miniconda3/lib/python3.6/site-packages/svgwrite/elementfactory.py\u001b[0m in \u001b[0;36m__call__\u001b[0;34m(self, *args, **kwargs)\u001b[0m\n\u001b[1;32m     66\u001b[0m         \u001b[0mkwargs\u001b[0m\u001b[0;34m[\u001b[0m\u001b[0;34m'factory'\u001b[0m\u001b[0;34m]\u001b[0m \u001b[0;34m=\u001b[0m \u001b[0mself\u001b[0m\u001b[0;34m.\u001b[0m\u001b[0mfactory\u001b[0m\u001b[0;34m\u001b[0m\u001b[0m\n\u001b[1;32m     67\u001b[0m         \u001b[0;31m# create an object of type 'cls'\u001b[0m\u001b[0;34m\u001b[0m\u001b[0;34m\u001b[0m\u001b[0m\n\u001b[0;32m---> 68\u001b[0;31m         \u001b[0;32mreturn\u001b[0m \u001b[0mself\u001b[0m\u001b[0;34m.\u001b[0m\u001b[0mcls\u001b[0m\u001b[0;34m(\u001b[0m\u001b[0;34m*\u001b[0m\u001b[0margs\u001b[0m\u001b[0;34m,\u001b[0m \u001b[0;34m**\u001b[0m\u001b[0mkwargs\u001b[0m\u001b[0;34m)\u001b[0m\u001b[0;34m\u001b[0m\u001b[0m\n\u001b[0m\u001b[1;32m     69\u001b[0m \u001b[0;34m\u001b[0m\u001b[0m\n\u001b[1;32m     70\u001b[0m \u001b[0;34m\u001b[0m\u001b[0m\n",
          "\u001b[0;32m/opt/miniconda3/lib/python3.6/site-packages/svgwrite/text.py\u001b[0m in \u001b[0;36m__init__\u001b[0;34m(self, text, insert, x, y, dx, dy, rotate, **extra)\u001b[0m\n\u001b[1;32m     56\u001b[0m \u001b[0;34m\u001b[0m\u001b[0m\n\u001b[1;32m     57\u001b[0m         \u001b[0;32mif\u001b[0m \u001b[0mx\u001b[0m \u001b[0;32mis\u001b[0m \u001b[0;32mnot\u001b[0m \u001b[0;32mNone\u001b[0m\u001b[0;34m:\u001b[0m\u001b[0;34m\u001b[0m\u001b[0m\n\u001b[0;32m---> 58\u001b[0;31m             \u001b[0mself\u001b[0m\u001b[0;34m[\u001b[0m\u001b[0;34m'x'\u001b[0m\u001b[0;34m]\u001b[0m \u001b[0;34m=\u001b[0m \u001b[0mstrlist\u001b[0m\u001b[0;34m(\u001b[0m\u001b[0mlist\u001b[0m\u001b[0;34m(\u001b[0m\u001b[0miterflatlist\u001b[0m\u001b[0;34m(\u001b[0m\u001b[0mx\u001b[0m\u001b[0;34m)\u001b[0m\u001b[0;34m)\u001b[0m\u001b[0;34m,\u001b[0m \u001b[0;34m' '\u001b[0m\u001b[0;34m)\u001b[0m\u001b[0;34m\u001b[0m\u001b[0m\n\u001b[0m\u001b[1;32m     59\u001b[0m         \u001b[0;32mif\u001b[0m \u001b[0my\u001b[0m \u001b[0;32mis\u001b[0m \u001b[0;32mnot\u001b[0m \u001b[0;32mNone\u001b[0m\u001b[0;34m:\u001b[0m\u001b[0;34m\u001b[0m\u001b[0m\n\u001b[1;32m     60\u001b[0m             \u001b[0mself\u001b[0m\u001b[0;34m[\u001b[0m\u001b[0;34m'y'\u001b[0m\u001b[0;34m]\u001b[0m \u001b[0;34m=\u001b[0m \u001b[0mstrlist\u001b[0m\u001b[0;34m(\u001b[0m\u001b[0mlist\u001b[0m\u001b[0;34m(\u001b[0m\u001b[0miterflatlist\u001b[0m\u001b[0;34m(\u001b[0m\u001b[0my\u001b[0m\u001b[0;34m)\u001b[0m\u001b[0;34m)\u001b[0m\u001b[0;34m,\u001b[0m \u001b[0;34m' '\u001b[0m\u001b[0;34m)\u001b[0m\u001b[0;34m\u001b[0m\u001b[0m\n",
          "\u001b[0;32m/opt/miniconda3/lib/python3.6/site-packages/svgwrite/utils.py\u001b[0m in \u001b[0;36miterflatlist\u001b[0;34m(values)\u001b[0m\n\u001b[1;32m     88\u001b[0m \u001b[0;34m\u001b[0m\u001b[0m\n\u001b[1;32m     89\u001b[0m     \"\"\"\n\u001b[0;32m---> 90\u001b[0;31m     \u001b[0;32mfor\u001b[0m \u001b[0melement\u001b[0m \u001b[0;32min\u001b[0m \u001b[0mvalues\u001b[0m\u001b[0;34m:\u001b[0m\u001b[0;34m\u001b[0m\u001b[0m\n\u001b[0m\u001b[1;32m     91\u001b[0m         \u001b[0;32mif\u001b[0m \u001b[0mhasattr\u001b[0m\u001b[0;34m(\u001b[0m\u001b[0melement\u001b[0m\u001b[0;34m,\u001b[0m \u001b[0;34m\"__iter__\"\u001b[0m\u001b[0;34m)\u001b[0m \u001b[0;32mand\u001b[0m \u001b[0;32mnot\u001b[0m \u001b[0mis_string\u001b[0m\u001b[0;34m(\u001b[0m\u001b[0melement\u001b[0m\u001b[0;34m)\u001b[0m\u001b[0;34m:\u001b[0m\u001b[0;34m\u001b[0m\u001b[0m\n\u001b[1;32m     92\u001b[0m             \u001b[0;32mfor\u001b[0m \u001b[0mitem\u001b[0m \u001b[0;32min\u001b[0m \u001b[0miterflatlist\u001b[0m\u001b[0;34m(\u001b[0m\u001b[0melement\u001b[0m\u001b[0;34m)\u001b[0m\u001b[0;34m:\u001b[0m\u001b[0;34m\u001b[0m\u001b[0m\n",
          "\u001b[0;31mTypeError\u001b[0m: 'float' object is not iterable"
         ]
        }
       ]
      }
     },
     "3e9fa8a20c7a42089e9fc2c6427bb5d2": {
      "model_module": "@jupyter-widgets/controls",
      "model_module_version": "1.2.0",
      "model_name": "FloatSliderModel",
      "state": {
       "description": "wall_dnst",
       "layout": "IPY_MODEL_5d66fd3460d64910a4d65a2cccaabe49",
       "max": 1,
       "step": 0.01,
       "style": "IPY_MODEL_f6c3e1ce561741d18dc892f60bb71327",
       "value": 0.5
      }
     },
     "3ecf23201c544839a83a9aae03d29155": {
      "model_module": "@jupyter-widgets/controls",
      "model_module_version": "1.2.0",
      "model_name": "FloatSliderModel",
      "state": {
       "description": "wall_dnst",
       "layout": "IPY_MODEL_ceeb9c987539456cbf6b3c3d0c4b23ad",
       "max": 1,
       "step": 0.01,
       "style": "IPY_MODEL_aaebefdb567d4b3492ca6882605b9c91",
       "value": 0.5
      }
     },
     "3f61bbfdf0304529a6f5775ab2a64cd7": {
      "model_module": "@jupyter-widgets/controls",
      "model_module_version": "1.2.0",
      "model_name": "SliderStyleModel",
      "state": {
       "description_width": ""
      }
     },
     "3f789fed29c54e51bc1ee59c74b7a8a0": {
      "model_module": "@jupyter-widgets/controls",
      "model_module_version": "1.2.0",
      "model_name": "SliderStyleModel",
      "state": {
       "description_width": ""
      }
     },
     "3f9c29e3893d409aa06be1629832c15b": {
      "model_module": "@jupyter-widgets/controls",
      "model_module_version": "1.2.0",
      "model_name": "FloatSliderModel",
      "state": {
       "description": "wall_density",
       "layout": "IPY_MODEL_22b65e3970604fbeb0f8a052a04c27a1",
       "max": 3,
       "step": 0.01,
       "style": "IPY_MODEL_d43f15ca4a07461eaafd6479fb4dfed3",
       "value": 1
      }
     },
     "3f9da010281e4be4a8d066b993f176fe": {
      "model_module": "@jupyter-widgets/base",
      "model_module_version": "1.0.0",
      "model_name": "LayoutModel",
      "state": {}
     },
     "3ff3cd1100cd4942ba0108c1d169d383": {
      "model_module": "@jupyter-widgets/base",
      "model_module_version": "1.0.0",
      "model_name": "LayoutModel",
      "state": {}
     },
     "40732731a10548f5a8ffc56c2641db9c": {
      "model_module": "@jupyter-widgets/controls",
      "model_module_version": "1.2.0",
      "model_name": "SliderStyleModel",
      "state": {
       "description_width": ""
      }
     },
     "4083ce49c5de48128608b7b5b9fb268e": {
      "model_module": "@jupyter-widgets/controls",
      "model_module_version": "1.2.0",
      "model_name": "FloatSliderModel",
      "state": {
       "description": "wall_thck",
       "layout": "IPY_MODEL_d198efef3dca4faf9cbb824596336d4b",
       "max": 0.05,
       "step": 0.001,
       "style": "IPY_MODEL_bf446b579f774b8aab27782da4166f26",
       "value": 0.025
      }
     },
     "408c362af0414c9ebef2c30362d5c851": {
      "model_module": "@jupyter-widgets/controls",
      "model_module_version": "1.2.0",
      "model_name": "VBoxModel",
      "state": {
       "_dom_classes": [
        "widget-interact"
       ],
       "children": [
        "IPY_MODEL_00acfc1c2ab640feae5917fcd204653a",
        "IPY_MODEL_3ecf23201c544839a83a9aae03d29155",
        "IPY_MODEL_2693a83cb8d046189347975cf91f37ec",
        "IPY_MODEL_9d344047ac594d02bbef4b01f29d5c2b",
        "IPY_MODEL_fc33def98b564afd9824f25dff8402ca"
       ],
       "layout": "IPY_MODEL_c9a4c001d89a477a8f7ed22d4cb3174c"
      }
     },
     "40a2cf8a394c49599f026f5585c434ad": {
      "model_module": "@jupyter-widgets/controls",
      "model_module_version": "1.2.0",
      "model_name": "SliderStyleModel",
      "state": {
       "description_width": ""
      }
     },
     "41747bee56044f959c80405a622fbec8": {
      "model_module": "@jupyter-widgets/base",
      "model_module_version": "1.0.0",
      "model_name": "LayoutModel",
      "state": {}
     },
     "419892e352f348ebb691f4d16532805a": {
      "model_module": "@jupyter-widgets/controls",
      "model_module_version": "1.2.0",
      "model_name": "SliderStyleModel",
      "state": {
       "description_width": ""
      }
     },
     "41c1707e57be4fa8af99ac84c49f4b26": {
      "model_module": "@jupyter-widgets/base",
      "model_module_version": "1.0.0",
      "model_name": "LayoutModel",
      "state": {}
     },
     "429a7622bf96462bbb8980fbd264436b": {
      "model_module": "@jupyter-widgets/base",
      "model_module_version": "1.0.0",
      "model_name": "LayoutModel",
      "state": {}
     },
     "42fc7be4aa8642aa9b407819cef8ca47": {
      "model_module": "@jupyter-widgets/base",
      "model_module_version": "1.0.0",
      "model_name": "LayoutModel",
      "state": {}
     },
     "43121089ee5948e1aad9f0bbcaa73023": {
      "model_module": "@jupyter-widgets/controls",
      "model_module_version": "1.2.0",
      "model_name": "FloatSliderModel",
      "state": {
       "description": "wall_density",
       "layout": "IPY_MODEL_9fd0df8df7ff47a8aaed1577fba48c02",
       "max": 3,
       "step": 0.01,
       "style": "IPY_MODEL_f5ef1ebd180949ecab20c519805ca92c",
       "value": 1
      }
     },
     "432f786e7ec44d2396cbe0e88e0ac93d": {
      "model_module": "@jupyter-widgets/controls",
      "model_module_version": "1.2.0",
      "model_name": "SliderStyleModel",
      "state": {
       "description_width": ""
      }
     },
     "435d1b24f3a44611b504549ee9ef5abb": {
      "model_module": "@jupyter-widgets/base",
      "model_module_version": "1.0.0",
      "model_name": "LayoutModel",
      "state": {}
     },
     "43bf67ba76284ed3aea45a6d302235fd": {
      "model_module": "@jupyter-widgets/controls",
      "model_module_version": "1.2.0",
      "model_name": "FloatSliderModel",
      "state": {
       "description": "wall_thck",
       "layout": "IPY_MODEL_f3ad7a4329724c38bc88d17ab16593b5",
       "max": 0.05,
       "step": 0.001,
       "style": "IPY_MODEL_8c1b104962f94c82b4edf0080668a8da",
       "value": 0.025
      }
     },
     "43fcf569d1584222bbdf191bb4e3647e": {
      "model_module": "@jupyter-widgets/controls",
      "model_module_version": "1.2.0",
      "model_name": "FloatSliderModel",
      "state": {
       "description": "liqd_hght",
       "layout": "IPY_MODEL_27544a10d4d54c3d829db3deff2426fc",
       "max": 1,
       "step": 0.01,
       "style": "IPY_MODEL_4833d8459d184401bcb9603749c882da",
       "value": 0.51
      }
     },
     "443b6229cd884298a1f29c21209999c3": {
      "model_module": "@jupyter-widgets/base",
      "model_module_version": "1.0.0",
      "model_name": "LayoutModel",
      "state": {}
     },
     "44547a9a4fba47919e608418df9cc3bd": {
      "model_module": "@jupyter-widgets/base",
      "model_module_version": "1.0.0",
      "model_name": "LayoutModel",
      "state": {}
     },
     "447d23fcb976443c8355d15e97eb16ac": {
      "model_module": "@jupyter-widgets/controls",
      "model_module_version": "1.2.0",
      "model_name": "SliderStyleModel",
      "state": {
       "description_width": ""
      }
     },
     "44dd9cd50bcd4918a06f9627fec10cec": {
      "model_module": "@jupyter-widgets/controls",
      "model_module_version": "1.2.0",
      "model_name": "FloatSliderModel",
      "state": {
       "description": "fluid_height",
       "layout": "IPY_MODEL_6a7dd4ffb023447095dfd17895819848",
       "max": 1,
       "step": 0.01,
       "style": "IPY_MODEL_373553cefff54787a8b0b7a924dca8f1",
       "value": 0.49
      }
     },
     "455e6a9cc42f432b9e542224a8dbe18e": {
      "model_module": "@jupyter-widgets/controls",
      "model_module_version": "1.2.0",
      "model_name": "SliderStyleModel",
      "state": {
       "description_width": ""
      }
     },
     "460f8d164d49493b8a7220f325db96b6": {
      "model_module": "@jupyter-widgets/controls",
      "model_module_version": "1.2.0",
      "model_name": "SliderStyleModel",
      "state": {
       "description_width": ""
      }
     },
     "462688b9b62046609177279e50566e70": {
      "model_module": "@jupyter-widgets/controls",
      "model_module_version": "1.2.0",
      "model_name": "SliderStyleModel",
      "state": {
       "description_width": ""
      }
     },
     "4626a9b3415b45e48bcbe7416752d019": {
      "model_module": "@jupyter-widgets/base",
      "model_module_version": "1.0.0",
      "model_name": "LayoutModel",
      "state": {}
     },
     "4690bae587cc4ce9987aac51fcb14b3a": {
      "model_module": "@jupyter-widgets/controls",
      "model_module_version": "1.2.0",
      "model_name": "SliderStyleModel",
      "state": {
       "description_width": ""
      }
     },
     "47463d64cd604713949cde226b23aa8e": {
      "model_module": "@jupyter-widgets/controls",
      "model_module_version": "1.2.0",
      "model_name": "FloatSliderModel",
      "state": {
       "description": "liquid_height",
       "layout": "IPY_MODEL_b5b015c9b81e4817ab35254ab58db054",
       "max": 1,
       "step": 0.01,
       "style": "IPY_MODEL_ed55fbbbce864c8e93c3f8671235c3a8",
       "value": 0.6
      }
     },
     "476c471f722d46f58e5c04038b9394f1": {
      "model_module": "@jupyter-widgets/base",
      "model_module_version": "1.0.0",
      "model_name": "LayoutModel",
      "state": {}
     },
     "479c30385e064cfe956517139d92a729": {
      "model_module": "@jupyter-widgets/controls",
      "model_module_version": "1.2.0",
      "model_name": "VBoxModel",
      "state": {
       "_dom_classes": [
        "widget-interact"
       ],
       "children": [
        "IPY_MODEL_809553fcde414d70b595925ebfd029bd",
        "IPY_MODEL_c0c3ce6e5fe6449ca1de7c0ca0e2579e",
        "IPY_MODEL_60b5443cbca448e98e9ea9c002252da7",
        "IPY_MODEL_dc3f4d7231e84a25b33db69f6a726632",
        "IPY_MODEL_08e7f6a245bd450c8bea77d2c5fffccb"
       ],
       "layout": "IPY_MODEL_b1fda35007204db1b32eebb3c68e3a62"
      }
     },
     "4806e7319a0e4fc0955ad1ee34055059": {
      "model_module": "@jupyter-widgets/base",
      "model_module_version": "1.0.0",
      "model_name": "LayoutModel",
      "state": {}
     },
     "4830d1005d574c4287e7a5c5d0e7c9a1": {
      "model_module": "@jupyter-widgets/controls",
      "model_module_version": "1.2.0",
      "model_name": "VBoxModel",
      "state": {
       "_dom_classes": [
        "widget-interact"
       ],
       "children": [
        "IPY_MODEL_f0109362765e4921b698a390b00fc2c8",
        "IPY_MODEL_fd1f3513fa034967aa3588c0c59b7182",
        "IPY_MODEL_053560b920e04c41962d259a13feaf7c",
        "IPY_MODEL_d90009a0f5294b2ea447a9138d1c59c2",
        "IPY_MODEL_e8d83f809dca418389e7d3ae93b79ced"
       ],
       "layout": "IPY_MODEL_794f944fbdb54f38ab5d46a71e41219d"
      }
     },
     "4833d8459d184401bcb9603749c882da": {
      "model_module": "@jupyter-widgets/controls",
      "model_module_version": "1.2.0",
      "model_name": "SliderStyleModel",
      "state": {
       "description_width": ""
      }
     },
     "483c2c61c6d445748e5612875ee61f85": {
      "model_module": "@jupyter-widgets/controls",
      "model_module_version": "1.2.0",
      "model_name": "FloatSliderModel",
      "state": {
       "description": "base_width",
       "layout": "IPY_MODEL_726f39b42d8a44e89e81c186f6f8f981",
       "max": 1,
       "step": 0.01,
       "style": "IPY_MODEL_cc4413b8779a4ae4a172c6067de7d3b8",
       "value": 0.67
      }
     },
     "48ea742470e64cdb911fbd9ffe7d5d9b": {
      "model_module": "@jupyter-widgets/base",
      "model_module_version": "1.0.0",
      "model_name": "LayoutModel",
      "state": {}
     },
     "48f9d47404e94d41ac746ce72f63e3cb": {
      "model_module": "@jupyter-widgets/controls",
      "model_module_version": "1.2.0",
      "model_name": "SliderStyleModel",
      "state": {
       "description_width": ""
      }
     },
     "499c9416b3f142be91edac8a44355aa6": {
      "model_module": "@jupyter-widgets/base",
      "model_module_version": "1.0.0",
      "model_name": "LayoutModel",
      "state": {}
     },
     "4a3287ea282548ec8dca5c233352a230": {
      "model_module": "@jupyter-widgets/base",
      "model_module_version": "1.0.0",
      "model_name": "LayoutModel",
      "state": {}
     },
     "4a42960a77414b4ab92dfa394129f11b": {
      "model_module": "@jupyter-widgets/controls",
      "model_module_version": "1.2.0",
      "model_name": "SliderStyleModel",
      "state": {
       "description_width": ""
      }
     },
     "4a911fb4fb244dd6bfe334fda2b7730e": {
      "model_module": "@jupyter-widgets/controls",
      "model_module_version": "1.2.0",
      "model_name": "FloatSliderModel",
      "state": {
       "description": "wall_density",
       "layout": "IPY_MODEL_10bfcf146e814a4e940c375d8781ba86",
       "max": 3,
       "step": 0.01,
       "style": "IPY_MODEL_9bb2c33759124b7c9a524f262fda6e27",
       "value": 1
      }
     },
     "4a9ec532b5bd4dbabb917c32fbe5859a": {
      "model_module": "@jupyter-widgets/controls",
      "model_module_version": "1.2.0",
      "model_name": "VBoxModel",
      "state": {
       "_dom_classes": [
        "widget-interact"
       ],
       "children": [
        "IPY_MODEL_c8cae00cd91d45199e9bf1ea361fd43b",
        "IPY_MODEL_2dda850ee21b413f8d8948ad1ed70888",
        "IPY_MODEL_1e63508dccd149bb94bfa625c146863d",
        "IPY_MODEL_5260c006acd94347a5d3c4068cd18818",
        "IPY_MODEL_a639bda171d748d898e873e834bb57ba"
       ],
       "layout": "IPY_MODEL_967e62af3d314a519e23b701eac31643"
      }
     },
     "4b4c6244dec34669879cb0e03ce2e92a": {
      "model_module": "@jupyter-widgets/controls",
      "model_module_version": "1.2.0",
      "model_name": "SliderStyleModel",
      "state": {
       "description_width": ""
      }
     },
     "4b9f3250d76a463e903e5daf040c4d6f": {
      "model_module": "@jupyter-widgets/base",
      "model_module_version": "1.0.0",
      "model_name": "LayoutModel",
      "state": {}
     },
     "4bafd5a64a034bb5a86eb4efdc947817": {
      "model_module": "@jupyter-widgets/base",
      "model_module_version": "1.0.0",
      "model_name": "LayoutModel",
      "state": {}
     },
     "4bd8bfc8f39a431eb4664f28617a87a8": {
      "model_module": "@jupyter-widgets/controls",
      "model_module_version": "1.2.0",
      "model_name": "FloatSliderModel",
      "state": {
       "description": "liquid_height",
       "layout": "IPY_MODEL_44547a9a4fba47919e608418df9cc3bd",
       "max": 1,
       "step": 0.01,
       "style": "IPY_MODEL_e0677ccb0d0d467d8b3b0462b64e8d36",
       "value": 0.67
      }
     },
     "4beaf36389a243969aed3163ebe8d6b0": {
      "model_module": "@jupyter-widgets/base",
      "model_module_version": "1.0.0",
      "model_name": "LayoutModel",
      "state": {}
     },
     "4c1e3090865b4da48dd7c7bab7aaa6d4": {
      "model_module": "@jupyter-widgets/controls",
      "model_module_version": "1.2.0",
      "model_name": "SliderStyleModel",
      "state": {
       "description_width": ""
      }
     },
     "4d0829199f984f6bbb6f8232913dfedb": {
      "model_module": "@jupyter-widgets/base",
      "model_module_version": "1.0.0",
      "model_name": "LayoutModel",
      "state": {}
     },
     "4d29898820cc4925a9ee5ba093ccfe53": {
      "model_module": "@jupyter-widgets/controls",
      "model_module_version": "1.2.0",
      "model_name": "FloatSliderModel",
      "state": {
       "description": "wall_thck",
       "layout": "IPY_MODEL_41c1707e57be4fa8af99ac84c49f4b26",
       "max": 0.05,
       "step": 0.01,
       "style": "IPY_MODEL_3513173ceb134134b2c8fcd916ba494c",
       "value": 0.03
      }
     },
     "4d4189c7277946049b55d4a8dab6f89a": {
      "model_module": "@jupyter-widgets/base",
      "model_module_version": "1.0.0",
      "model_name": "LayoutModel",
      "state": {}
     },
     "4d85f4d642d0421badcf9d3f18f23fef": {
      "model_module": "@jupyter-widgets/controls",
      "model_module_version": "1.2.0",
      "model_name": "SliderStyleModel",
      "state": {
       "description_width": ""
      }
     },
     "4d89e385c40643c48f0b20f45b39c3e8": {
      "model_module": "@jupyter-widgets/output",
      "model_module_version": "1.0.0",
      "model_name": "OutputModel",
      "state": {
       "layout": "IPY_MODEL_e0080c1cc7b342fe98028a8cfd063d70",
       "outputs": [
        {
         "data": {
          "image/svg+xml": "<svg baseProfile=\"full\" height=\"200\" version=\"1.1\" width=\"200\" xmlns=\"http://www.w3.org/2000/svg\" xmlns:ev=\"http://www.w3.org/2001/xml-events\" xmlns:xlink=\"http://www.w3.org/1999/xlink\"><defs/><rect fill=\"black\" height=\"200\" width=\"20.0\" x=\"0\" y=\"0\"/><rect fill=\"black\" height=\"200\" width=\"20.0\" x=\"180.0\" y=\"0\"/><line stroke=\"black\" x1=\"0\" x2=\"200.0\" y1=\"200\" y2=\"200\"/><rect fill=\"blue\" height=\"200\" width=\"160.0\" x=\"20.0\" y=\"126.0\"/><line stroke=\"green\" stroke-width=\"3\" x1=\"0\" x2=\"200.0\" y1=\"126.43231750531538\" y2=\"126.43231750531538\"/></svg>",
          "text/plain": "<IPython.core.display.SVG object>"
         },
         "metadata": {},
         "output_type": "display_data"
        }
       ]
      }
     },
     "4d8c12e772554ce9a0f48b7fd6063da5": {
      "model_module": "@jupyter-widgets/base",
      "model_module_version": "1.0.0",
      "model_name": "LayoutModel",
      "state": {}
     },
     "4d926ebd0e4c498fad2f48a9e5847469": {
      "model_module": "@jupyter-widgets/controls",
      "model_module_version": "1.2.0",
      "model_name": "SliderStyleModel",
      "state": {
       "description_width": ""
      }
     },
     "4daf32e60cd34c31a57caeb8a51dde36": {
      "model_module": "@jupyter-widgets/controls",
      "model_module_version": "1.2.0",
      "model_name": "VBoxModel",
      "state": {
       "_dom_classes": [
        "widget-interact"
       ],
       "children": [
        "IPY_MODEL_edefc5aef2554a5aac05ad7f85b6aada",
        "IPY_MODEL_a680c8fc2b2f4595b8725f1c50675544"
       ],
       "layout": "IPY_MODEL_59b000fa60b0454a858ce7e4942cc862"
      }
     },
     "4dbb0649335e4090982bcff6722fb374": {
      "model_module": "@jupyter-widgets/controls",
      "model_module_version": "1.2.0",
      "model_name": "FloatSliderModel",
      "state": {
       "description": "base_wdth",
       "layout": "IPY_MODEL_24713dd44b3e4553a03fae069963d8c6",
       "max": 1,
       "step": 0.01,
       "style": "IPY_MODEL_d8e71fb3023d4f3f871add24af68eb75",
       "value": 0.52
      }
     },
     "4dc876e2be494f9c8d668c2f07964050": {
      "model_module": "@jupyter-widgets/controls",
      "model_module_version": "1.2.0",
      "model_name": "FloatSliderModel",
      "state": {
       "description": "liqd_hght",
       "layout": "IPY_MODEL_313bdf15e93e4569ae58994c20e52074",
       "max": 1,
       "step": 0.01,
       "style": "IPY_MODEL_7b43c637adf54eeeabe2f2825f1e4d6b",
       "value": 0.14
      }
     },
     "4dd7371dad4e4737854c11e6c891b328": {
      "model_module": "@jupyter-widgets/controls",
      "model_module_version": "1.2.0",
      "model_name": "SliderStyleModel",
      "state": {
       "description_width": ""
      }
     },
     "4de571528ad541d48866b6778ade4822": {
      "model_module": "@jupyter-widgets/base",
      "model_module_version": "1.0.0",
      "model_name": "LayoutModel",
      "state": {}
     },
     "4e719b88e4a141eaa7c9084454120b8a": {
      "model_module": "@jupyter-widgets/controls",
      "model_module_version": "1.2.0",
      "model_name": "VBoxModel",
      "state": {
       "_dom_classes": [
        "widget-interact"
       ],
       "children": [
        "IPY_MODEL_22b5e8e752484b8285dd213f4de86389",
        "IPY_MODEL_217b380be68043d5960ec961bf97f37e",
        "IPY_MODEL_78573276e2e34ae8b34b330289e2344e",
        "IPY_MODEL_85b06eefcfa541afba165e9b2c7ead6d",
        "IPY_MODEL_d058e3af6f1947d693f29ee71d62526c"
       ],
       "layout": "IPY_MODEL_ec398eee5dd14e5280696a1df294f979"
      }
     },
     "4e82d1fa14e8448b9cadd6400e226a98": {
      "model_module": "@jupyter-widgets/base",
      "model_module_version": "1.0.0",
      "model_name": "LayoutModel",
      "state": {}
     },
     "4eb2bd4d779644908b18515d8029eda2": {
      "model_module": "@jupyter-widgets/base",
      "model_module_version": "1.0.0",
      "model_name": "LayoutModel",
      "state": {}
     },
     "4ed5f9c54b7f4a2dbfaa1ccca4bc5d47": {
      "model_module": "@jupyter-widgets/controls",
      "model_module_version": "1.2.0",
      "model_name": "SliderStyleModel",
      "state": {
       "description_width": ""
      }
     },
     "4f7366ca79a44c1c98a7123cf7d16b47": {
      "model_module": "@jupyter-widgets/controls",
      "model_module_version": "1.2.0",
      "model_name": "FloatSliderModel",
      "state": {
       "description": "wall_dnst",
       "layout": "IPY_MODEL_0ed670f4a9cf4c9db52f05c90cbb5921",
       "max": 1,
       "step": 0.01,
       "style": "IPY_MODEL_95eda11975524381a1b4a73bd32db54b",
       "value": 0.5
      }
     },
     "4f7c8e1bf1d94caa9f847b9a4c195ff1": {
      "model_module": "@jupyter-widgets/controls",
      "model_module_version": "1.2.0",
      "model_name": "FloatSliderModel",
      "state": {
       "description": "wall_thck",
       "layout": "IPY_MODEL_429a7622bf96462bbb8980fbd264436b",
       "max": 0.05,
       "step": 0.001,
       "style": "IPY_MODEL_38f37f73d2a043589c84c27897e0c26b",
       "value": 0.025
      }
     },
     "4fedb46b312a4df0832b438960dbbdfb": {
      "model_module": "@jupyter-widgets/base",
      "model_module_version": "1.0.0",
      "model_name": "LayoutModel",
      "state": {}
     },
     "5050b910876948e3a2877cbb70d4f549": {
      "model_module": "@jupyter-widgets/controls",
      "model_module_version": "1.2.0",
      "model_name": "VBoxModel",
      "state": {
       "_dom_classes": [
        "widget-interact"
       ],
       "children": [
        "IPY_MODEL_b204f780db5d4296b8e31627001a65fa",
        "IPY_MODEL_e559a7c48586498897a8520af4739189",
        "IPY_MODEL_483c2c61c6d445748e5612875ee61f85",
        "IPY_MODEL_47463d64cd604713949cde226b23aa8e",
        "IPY_MODEL_097d42dea7554e57b33dadb2e8574a2b"
       ],
       "layout": "IPY_MODEL_4beaf36389a243969aed3163ebe8d6b0"
      }
     },
     "50893c29e6b343db9acff16092470cdb": {
      "model_module": "@jupyter-widgets/output",
      "model_module_version": "1.0.0",
      "model_name": "OutputModel",
      "state": {
       "layout": "IPY_MODEL_baa73e20a2d74f698fff7f57d71f3510",
       "outputs": [
        {
         "data": {
          "image/svg+xml": "<svg baseProfile=\"full\" height=\"400\" version=\"1.1\" width=\"400\" xmlns=\"http://www.w3.org/2000/svg\" xmlns:ev=\"http://www.w3.org/2001/xml-events\" xmlns:xlink=\"http://www.w3.org/1999/xlink\"><defs/><rect fill=\"black\" height=\"400\" width=\"10.0\" x=\"0\" y=\"0\"/><rect fill=\"black\" height=\"400\" width=\"10.0\" x=\"190.0\" y=\"0\"/><rect fill=\"blue\" height=\"400\" width=\"180.0\" x=\"10.0\" y=\"200.0\"/><line stroke=\"black\" x1=\"0\" x2=\"200.0\" y1=\"400\" y2=\"400\"/><line stroke=\"green\" stroke-width=\"3\" x1=\"0\" x2=\"200.0\" y1=\"281.0\" y2=\"281.0\"/><line stroke=\"magenta\" stroke-width=\"3\" x1=\"0\" x2=\"100.0\" y1=\"400\" y2=\"281.0\"/></svg>",
          "text/plain": "<IPython.core.display.SVG object>"
         },
         "metadata": {},
         "output_type": "display_data"
        }
       ]
      }
     },
     "508aef4f1d5d48c0b829ff2cac431d41": {
      "model_module": "@jupyter-widgets/base",
      "model_module_version": "1.0.0",
      "model_name": "LayoutModel",
      "state": {}
     },
     "509453dfe01b466e8a5e01efe9dca3a5": {
      "model_module": "@jupyter-widgets/controls",
      "model_module_version": "1.2.0",
      "model_name": "VBoxModel",
      "state": {
       "_dom_classes": [
        "widget-interact"
       ],
       "children": [
        "IPY_MODEL_b99eb687c2bb42ada2ad110e9575aa10",
        "IPY_MODEL_7449c563c2bd43149ca18fe5c26561f2",
        "IPY_MODEL_c5666c0d8e7642a3a4eb9720aba1912f",
        "IPY_MODEL_6f69d5c0ab9343afa436f21057287990",
        "IPY_MODEL_f0d03055e4274d26b0bde0adb66ba410"
       ],
       "layout": "IPY_MODEL_5b850d1519a442b2a024d394b7721346"
      }
     },
     "50afce73b2de4123ac40339b0fdbf8c9": {
      "model_module": "@jupyter-widgets/controls",
      "model_module_version": "1.2.0",
      "model_name": "VBoxModel",
      "state": {
       "_dom_classes": [
        "widget-interact"
       ],
       "children": [
        "IPY_MODEL_3d721300e19849709df8408c812bc8e1",
        "IPY_MODEL_ad5851659c6f48f79399d0d18d0e7f64",
        "IPY_MODEL_c7564e8a208b45e2bff4e728aa9b2e42",
        "IPY_MODEL_d78e4b6ece854eec932a8c06a9b4a113",
        "IPY_MODEL_b708f59a76e24083b295acbbc36ca4dc"
       ],
       "layout": "IPY_MODEL_2881ce5aa38e4e25964f0ee32f0ce26e"
      }
     },
     "50b021d71ea6413aa95e73ef31cecccb": {
      "model_module": "@jupyter-widgets/base",
      "model_module_version": "1.0.0",
      "model_name": "LayoutModel",
      "state": {}
     },
     "51043ba143954745acccd16ed7de0bf3": {
      "model_module": "@jupyter-widgets/base",
      "model_module_version": "1.0.0",
      "model_name": "LayoutModel",
      "state": {}
     },
     "5136e2a43db54405b7d3b0134c89951a": {
      "model_module": "@jupyter-widgets/base",
      "model_module_version": "1.0.0",
      "model_name": "LayoutModel",
      "state": {}
     },
     "5148b5eb6dd14d15ad0da7301cd710d1": {
      "model_module": "@jupyter-widgets/base",
      "model_module_version": "1.0.0",
      "model_name": "LayoutModel",
      "state": {}
     },
     "518ce162f2794bf59d56f04f2020249d": {
      "model_module": "@jupyter-widgets/base",
      "model_module_version": "1.0.0",
      "model_name": "LayoutModel",
      "state": {}
     },
     "51a7bada882c413782e3b6f1127aa2e2": {
      "model_module": "@jupyter-widgets/controls",
      "model_module_version": "1.2.0",
      "model_name": "FloatSliderModel",
      "state": {
       "description": "wall_thickness",
       "layout": "IPY_MODEL_252a94a2188a4a09861ca0409ff0d533",
       "max": 0.5,
       "step": 0.01,
       "style": "IPY_MODEL_419892e352f348ebb691f4d16532805a",
       "value": 0.1
      }
     },
     "51cb7e9022a44ed98b29045b30e7b824": {
      "model_module": "@jupyter-widgets/controls",
      "model_module_version": "1.2.0",
      "model_name": "FloatSliderModel",
      "state": {
       "description": "wall_thck",
       "layout": "IPY_MODEL_552ce2b446364c8f9e29b9fd4cee9778",
       "max": 0.05,
       "step": 0.001,
       "style": "IPY_MODEL_5f0f2e6bbc674976aa0a242fa988e410",
       "value": 0.025
      }
     },
     "51e80c1953e248458ee40da948343db3": {
      "model_module": "@jupyter-widgets/controls",
      "model_module_version": "1.2.0",
      "model_name": "FloatSliderModel",
      "state": {
       "description": "wall_dnst",
       "layout": "IPY_MODEL_0b91facd73114d96a2e912c6824bf901",
       "max": 1,
       "step": 0.01,
       "style": "IPY_MODEL_62eaa77833fc4b2eb4e56c2c761e6495",
       "value": 0.5
      }
     },
     "5246b9cdb58a4551bc0de9ed25ab6294": {
      "model_module": "@jupyter-widgets/base",
      "model_module_version": "1.0.0",
      "model_name": "LayoutModel",
      "state": {}
     },
     "525855dd70af4954986f00d5cea5ccea": {
      "model_module": "@jupyter-widgets/controls",
      "model_module_version": "1.2.0",
      "model_name": "SliderStyleModel",
      "state": {
       "description_width": ""
      }
     },
     "5260c006acd94347a5d3c4068cd18818": {
      "model_module": "@jupyter-widgets/controls",
      "model_module_version": "1.2.0",
      "model_name": "FloatSliderModel",
      "state": {
       "description": "liqd_hght",
       "layout": "IPY_MODEL_8ad3d76f89504fdc9527c04608137aed",
       "max": 1,
       "step": 0.01,
       "style": "IPY_MODEL_228cbf97033844f39405cd1b082a0d8d",
       "value": 0.45
      }
     },
     "53019f2800804fa6bc2361d9af29eddc": {
      "model_module": "@jupyter-widgets/controls",
      "model_module_version": "1.2.0",
      "model_name": "FloatSliderModel",
      "state": {
       "description": "liqd_hght",
       "layout": "IPY_MODEL_f40005c8e1174defaa014eadd30a02b1",
       "max": 1,
       "step": 0.01,
       "style": "IPY_MODEL_93c6829bafd945e09d412ff4dfb5eb33",
       "value": 0.37
      }
     },
     "5304782132b14e8eb3921ff60f65115b": {
      "model_module": "@jupyter-widgets/base",
      "model_module_version": "1.0.0",
      "model_name": "LayoutModel",
      "state": {}
     },
     "531a46b5b96e415da326cef58233cb4e": {
      "model_module": "@jupyter-widgets/base",
      "model_module_version": "1.0.0",
      "model_name": "LayoutModel",
      "state": {}
     },
     "538ef230b1674941ba447aa3a30f63e9": {
      "model_module": "@jupyter-widgets/controls",
      "model_module_version": "1.2.0",
      "model_name": "FloatSliderModel",
      "state": {
       "description": "liqd_hght",
       "layout": "IPY_MODEL_54a2b1171d51489ab13f7858d613edc2",
       "max": 1,
       "step": 0.01,
       "style": "IPY_MODEL_f57961a51adb44328c8edb0c3f1853fe",
       "value": 0.5
      }
     },
     "53a94883436d4dbdab26cd52c16a7820": {
      "model_module": "@jupyter-widgets/controls",
      "model_module_version": "1.2.0",
      "model_name": "FloatSliderModel",
      "state": {
       "description": "base_wdth",
       "layout": "IPY_MODEL_287c6e1130a641998828d11d8f08743b",
       "max": 1,
       "step": 0.01,
       "style": "IPY_MODEL_b9a6b6a613fe4f4d9f76dc18e0d6a04e",
       "value": 0.5
      }
     },
     "53e3640a319a43729822976fc305b35d": {
      "model_module": "@jupyter-widgets/controls",
      "model_module_version": "1.2.0",
      "model_name": "SliderStyleModel",
      "state": {
       "description_width": ""
      }
     },
     "5444cd1e40cb4999963113496f8a3169": {
      "model_module": "@jupyter-widgets/controls",
      "model_module_version": "1.2.0",
      "model_name": "FloatSliderModel",
      "state": {
       "description": "wall_density",
       "layout": "IPY_MODEL_7b8fe677e5e64aaf8f268c11449a73fd",
       "max": 3,
       "step": 0.01,
       "style": "IPY_MODEL_09a9631cca2b4848924c4ac80283915f",
       "value": 1
      }
     },
     "5476551e25374e90a5c7b30c21f66911": {
      "model_module": "@jupyter-widgets/base",
      "model_module_version": "1.0.0",
      "model_name": "LayoutModel",
      "state": {}
     },
     "547e44b07b9944b1b5f73ea774e023a1": {
      "model_module": "@jupyter-widgets/base",
      "model_module_version": "1.0.0",
      "model_name": "LayoutModel",
      "state": {}
     },
     "54957dfd18b44a16b17a1d34bac20c5b": {
      "model_module": "@jupyter-widgets/controls",
      "model_module_version": "1.2.0",
      "model_name": "FloatSliderModel",
      "state": {
       "description": "liqd_hght",
       "layout": "IPY_MODEL_6142eb28e3c6452ca0f07cfa3dc9f85c",
       "max": 1,
       "step": 0.01,
       "style": "IPY_MODEL_92c87a0214c24ca8abfdcfb235179aca",
       "value": 0.5
      }
     },
     "54997581af9a487689f5123aa6fa7c8d": {
      "model_module": "@jupyter-widgets/base",
      "model_module_version": "1.0.0",
      "model_name": "LayoutModel",
      "state": {}
     },
     "54a2b1171d51489ab13f7858d613edc2": {
      "model_module": "@jupyter-widgets/base",
      "model_module_version": "1.0.0",
      "model_name": "LayoutModel",
      "state": {}
     },
     "552ce2b446364c8f9e29b9fd4cee9778": {
      "model_module": "@jupyter-widgets/base",
      "model_module_version": "1.0.0",
      "model_name": "LayoutModel",
      "state": {}
     },
     "55cf388d56b14e1699a44fd409612874": {
      "model_module": "@jupyter-widgets/output",
      "model_module_version": "1.0.0",
      "model_name": "OutputModel",
      "state": {
       "layout": "IPY_MODEL_2dbe7d08a23d4d72ae7ee1d931f61007",
       "outputs": [
        {
         "ename": "AttributeError",
         "evalue": "'container' object has no attribute 'tip_angle_loc'",
         "output_type": "error",
         "traceback": [
          "\u001b[0;31m---------------------------------------------------------------------------\u001b[0m",
          "\u001b[0;31mAttributeError\u001b[0m                            Traceback (most recent call last)",
          "\u001b[0;32m/opt/miniconda3/lib/python3.6/site-packages/ipywidgets/widgets/interaction.py\u001b[0m in \u001b[0;36mupdate\u001b[0;34m(self, *args)\u001b[0m\n\u001b[1;32m    249\u001b[0m                     \u001b[0mvalue\u001b[0m \u001b[0;34m=\u001b[0m \u001b[0mwidget\u001b[0m\u001b[0;34m.\u001b[0m\u001b[0mget_interact_value\u001b[0m\u001b[0;34m(\u001b[0m\u001b[0;34m)\u001b[0m\u001b[0;34m\u001b[0m\u001b[0m\n\u001b[1;32m    250\u001b[0m                     \u001b[0mself\u001b[0m\u001b[0;34m.\u001b[0m\u001b[0mkwargs\u001b[0m\u001b[0;34m[\u001b[0m\u001b[0mwidget\u001b[0m\u001b[0;34m.\u001b[0m\u001b[0m_kwarg\u001b[0m\u001b[0;34m]\u001b[0m \u001b[0;34m=\u001b[0m \u001b[0mvalue\u001b[0m\u001b[0;34m\u001b[0m\u001b[0m\n\u001b[0;32m--> 251\u001b[0;31m                 \u001b[0mself\u001b[0m\u001b[0;34m.\u001b[0m\u001b[0mresult\u001b[0m \u001b[0;34m=\u001b[0m \u001b[0mself\u001b[0m\u001b[0;34m.\u001b[0m\u001b[0mf\u001b[0m\u001b[0;34m(\u001b[0m\u001b[0;34m**\u001b[0m\u001b[0mself\u001b[0m\u001b[0;34m.\u001b[0m\u001b[0mkwargs\u001b[0m\u001b[0;34m)\u001b[0m\u001b[0;34m\u001b[0m\u001b[0m\n\u001b[0m\u001b[1;32m    252\u001b[0m                 \u001b[0mshow_inline_matplotlib_plots\u001b[0m\u001b[0;34m(\u001b[0m\u001b[0;34m)\u001b[0m\u001b[0;34m\u001b[0m\u001b[0m\n\u001b[1;32m    253\u001b[0m                 \u001b[0;32mif\u001b[0m \u001b[0mself\u001b[0m\u001b[0;34m.\u001b[0m\u001b[0mauto_display\u001b[0m \u001b[0;32mand\u001b[0m \u001b[0mself\u001b[0m\u001b[0;34m.\u001b[0m\u001b[0mresult\u001b[0m \u001b[0;32mis\u001b[0m \u001b[0;32mnot\u001b[0m \u001b[0;32mNone\u001b[0m\u001b[0;34m:\u001b[0m\u001b[0;34m\u001b[0m\u001b[0m\n",
          "\u001b[0;32m<ipython-input-42-bf6a973c11dc>\u001b[0m in \u001b[0;36mdrawing\u001b[0;34m(wall_thck, wall_dnst, base_wdth, liqd_hght)\u001b[0m\n\u001b[1;32m     25\u001b[0m     \u001b[0mdr\u001b[0m\u001b[0;34m.\u001b[0m\u001b[0madd\u001b[0m\u001b[0;34m(\u001b[0m\u001b[0mdr\u001b[0m\u001b[0;34m.\u001b[0m\u001b[0mline\u001b[0m\u001b[0;34m(\u001b[0m\u001b[0;34m*\u001b[0m\u001b[0mc\u001b[0m\u001b[0;34m.\u001b[0m\u001b[0mcenter_line\u001b[0m\u001b[0;34m(\u001b[0m\u001b[0;34m)\u001b[0m\u001b[0;34m,\u001b[0m \u001b[0mstroke\u001b[0m\u001b[0;34m=\u001b[0m\u001b[0;34m'green'\u001b[0m  \u001b[0;34m,\u001b[0m \u001b[0mstroke_width\u001b[0m\u001b[0;34m=\u001b[0m\u001b[0;36m3\u001b[0m\u001b[0;34m)\u001b[0m\u001b[0;34m)\u001b[0m\u001b[0;34m\u001b[0m\u001b[0m\n\u001b[1;32m     26\u001b[0m     \u001b[0mdr\u001b[0m\u001b[0;34m.\u001b[0m\u001b[0madd\u001b[0m\u001b[0;34m(\u001b[0m\u001b[0mdr\u001b[0m\u001b[0;34m.\u001b[0m\u001b[0mline\u001b[0m\u001b[0;34m(\u001b[0m\u001b[0;34m*\u001b[0m\u001b[0mc\u001b[0m\u001b[0;34m.\u001b[0m\u001b[0mtip_line\u001b[0m\u001b[0;34m(\u001b[0m\u001b[0;34m)\u001b[0m   \u001b[0;34m,\u001b[0m \u001b[0mstroke\u001b[0m\u001b[0;34m=\u001b[0m\u001b[0;34m'magenta'\u001b[0m\u001b[0;34m,\u001b[0m \u001b[0mstroke_width\u001b[0m\u001b[0;34m=\u001b[0m\u001b[0;36m3\u001b[0m\u001b[0;34m)\u001b[0m\u001b[0;34m)\u001b[0m\u001b[0;34m\u001b[0m\u001b[0m\n\u001b[0;32m---> 27\u001b[0;31m     \u001b[0mdr\u001b[0m\u001b[0;34m.\u001b[0m\u001b[0madd\u001b[0m\u001b[0;34m(\u001b[0m\u001b[0mdr\u001b[0m\u001b[0;34m.\u001b[0m\u001b[0mtext\u001b[0m\u001b[0;34m(\u001b[0m\u001b[0;34m'a'\u001b[0m\u001b[0;34m,\u001b[0m \u001b[0mx\u001b[0m\u001b[0;34m=\u001b[0m\u001b[0mc\u001b[0m\u001b[0;34m.\u001b[0m\u001b[0mtip_angle_loc\u001b[0m\u001b[0;34m(\u001b[0m\u001b[0;34m)\u001b[0m\u001b[0;34m[\u001b[0m\u001b[0;36m0\u001b[0m\u001b[0;34m]\u001b[0m\u001b[0;34m,\u001b[0m \u001b[0my\u001b[0m\u001b[0;34m=\u001b[0m\u001b[0mc\u001b[0m\u001b[0;34m.\u001b[0m\u001b[0mtip_angle_loc\u001b[0m\u001b[0;34m(\u001b[0m\u001b[0;34m)\u001b[0m\u001b[0;34m[\u001b[0m\u001b[0;36m1\u001b[0m\u001b[0;34m]\u001b[0m\u001b[0;34m)\u001b[0m\u001b[0;34m)\u001b[0m\u001b[0;34m\u001b[0m\u001b[0m\n\u001b[0m\u001b[1;32m     28\u001b[0m \u001b[0;34m\u001b[0m\u001b[0m\n\u001b[1;32m     29\u001b[0m     \u001b[0;31m# Return SVG object.\u001b[0m\u001b[0;34m\u001b[0m\u001b[0;34m\u001b[0m\u001b[0m\n",
          "\u001b[0;31mAttributeError\u001b[0m: 'container' object has no attribute 'tip_angle_loc'"
         ]
        }
       ]
      }
     },
     "5672c8c321ee4ce98946ca41ce98135c": {
      "model_module": "@jupyter-widgets/controls",
      "model_module_version": "1.2.0",
      "model_name": "SliderStyleModel",
      "state": {
       "description_width": ""
      }
     },
     "571bf8aa40ca47459b48ce6071cbbf70": {
      "model_module": "@jupyter-widgets/base",
      "model_module_version": "1.0.0",
      "model_name": "LayoutModel",
      "state": {}
     },
     "577ab132f512429ea22cc5144bdb0936": {
      "model_module": "@jupyter-widgets/controls",
      "model_module_version": "1.2.0",
      "model_name": "FloatSliderModel",
      "state": {
       "description": "base_wdth",
       "layout": "IPY_MODEL_6b0babb9d425424e9cc03709a68b145e",
       "max": 1,
       "step": 0.01,
       "style": "IPY_MODEL_365418adb79a42a2bd533426f926b561",
       "value": 0.5
      }
     },
     "588608e7d98846ee88be82fae6730d1b": {
      "model_module": "@jupyter-widgets/base",
      "model_module_version": "1.0.0",
      "model_name": "LayoutModel",
      "state": {}
     },
     "589f54874c6a4d1db729dc56618b6580": {
      "model_module": "@jupyter-widgets/base",
      "model_module_version": "1.0.0",
      "model_name": "LayoutModel",
      "state": {}
     },
     "58c14de76d1a42d68b73792bf284889c": {
      "model_module": "@jupyter-widgets/base",
      "model_module_version": "1.0.0",
      "model_name": "LayoutModel",
      "state": {}
     },
     "58ff9bcb4cf840bdb830af01b821e94f": {
      "model_module": "@jupyter-widgets/base",
      "model_module_version": "1.0.0",
      "model_name": "LayoutModel",
      "state": {}
     },
     "598c747c1b374d4692d1297bb354da6e": {
      "model_module": "@jupyter-widgets/base",
      "model_module_version": "1.0.0",
      "model_name": "LayoutModel",
      "state": {}
     },
     "59915f483a3f4fe292c62c6254b86a50": {
      "model_module": "@jupyter-widgets/base",
      "model_module_version": "1.0.0",
      "model_name": "LayoutModel",
      "state": {}
     },
     "59a51d5d0a764d5d866fe0ca2a94c996": {
      "model_module": "@jupyter-widgets/controls",
      "model_module_version": "1.2.0",
      "model_name": "FloatSliderModel",
      "state": {
       "description": "wall_thck",
       "layout": "IPY_MODEL_b4d321c1e7514fa5afdc705f95464586",
       "max": 0.05,
       "step": 0.001,
       "style": "IPY_MODEL_c3f0aaabf80945fea344743529efdf4b",
       "value": 0.025
      }
     },
     "59b000fa60b0454a858ce7e4942cc862": {
      "model_module": "@jupyter-widgets/base",
      "model_module_version": "1.0.0",
      "model_name": "LayoutModel",
      "state": {}
     },
     "59c401db48694f77afb32d22d7d1be8b": {
      "model_module": "@jupyter-widgets/controls",
      "model_module_version": "1.2.0",
      "model_name": "SliderStyleModel",
      "state": {
       "description_width": ""
      }
     },
     "59ee7a6d98a64cf9a800f4ca70e39cec": {
      "model_module": "@jupyter-widgets/controls",
      "model_module_version": "1.2.0",
      "model_name": "VBoxModel",
      "state": {
       "_dom_classes": [
        "widget-interact"
       ],
       "children": [
        "IPY_MODEL_cdd63c9cb8cd4cc0bac2ed837cc9553e",
        "IPY_MODEL_cab4407dcd62406ab95ff28970d90a44",
        "IPY_MODEL_4dbb0649335e4090982bcff6722fb374",
        "IPY_MODEL_7ec04573dbb3455bb7e93112cc4b1c27",
        "IPY_MODEL_a8af228e1d3b4adba6d4a5177149f17e"
       ],
       "layout": "IPY_MODEL_6d61144898a0483f8c38cda6794bc3f1"
      }
     },
     "5ac20303b57d4a3e8860e3d98164a2e7": {
      "model_module": "@jupyter-widgets/base",
      "model_module_version": "1.0.0",
      "model_name": "LayoutModel",
      "state": {}
     },
     "5b2e5f011a5b42628c09c3a9e1e1a968": {
      "model_module": "@jupyter-widgets/base",
      "model_module_version": "1.0.0",
      "model_name": "LayoutModel",
      "state": {}
     },
     "5b4de028859647508e51a8da22955520": {
      "model_module": "@jupyter-widgets/base",
      "model_module_version": "1.0.0",
      "model_name": "LayoutModel",
      "state": {}
     },
     "5b6c8ebb0fcd4063b6b9fe83b4753180": {
      "model_module": "@jupyter-widgets/output",
      "model_module_version": "1.0.0",
      "model_name": "OutputModel",
      "state": {
       "layout": "IPY_MODEL_ad879e9f300a484a9a637f928c63d4ef",
       "outputs": [
        {
         "data": {
          "image/png": "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\n",
          "text/plain": "<Figure size 432x288 with 1 Axes>"
         },
         "metadata": {},
         "output_type": "display_data"
        }
       ]
      }
     },
     "5b850d1519a442b2a024d394b7721346": {
      "model_module": "@jupyter-widgets/base",
      "model_module_version": "1.0.0",
      "model_name": "LayoutModel",
      "state": {}
     },
     "5c6ce795877740e8baa73bd7be69bfda": {
      "model_module": "@jupyter-widgets/controls",
      "model_module_version": "1.2.0",
      "model_name": "VBoxModel",
      "state": {
       "_dom_classes": [
        "widget-interact"
       ],
       "children": [
        "IPY_MODEL_6e362ca66c0b458fa971e5de99706361",
        "IPY_MODEL_3b52e49f0a364644a0928283df7e8d8d",
        "IPY_MODEL_89ecf739dfb5434e92f82617fb3d3633",
        "IPY_MODEL_10c7fafbebf34b5b9883ec513d7d33ae",
        "IPY_MODEL_aaf2944a03134a1f8fa53c0eb31b5a96"
       ],
       "layout": "IPY_MODEL_58c14de76d1a42d68b73792bf284889c"
      }
     },
     "5c8b1926f0c8459aabe958e18be9a478": {
      "model_module": "@jupyter-widgets/controls",
      "model_module_version": "1.2.0",
      "model_name": "SliderStyleModel",
      "state": {
       "description_width": ""
      }
     },
     "5cd90e5a8b774096a7004e7c5bf5f3ee": {
      "model_module": "@jupyter-widgets/base",
      "model_module_version": "1.0.0",
      "model_name": "LayoutModel",
      "state": {}
     },
     "5d66fd3460d64910a4d65a2cccaabe49": {
      "model_module": "@jupyter-widgets/base",
      "model_module_version": "1.0.0",
      "model_name": "LayoutModel",
      "state": {}
     },
     "5d89ff42003f40acac4da82a5286e4ad": {
      "model_module": "@jupyter-widgets/base",
      "model_module_version": "1.0.0",
      "model_name": "LayoutModel",
      "state": {}
     },
     "5dd7b3d5b3b9430bb0e325354bfab113": {
      "model_module": "@jupyter-widgets/base",
      "model_module_version": "1.0.0",
      "model_name": "LayoutModel",
      "state": {}
     },
     "5e2c702f9aa94c86bfb58615e61bd730": {
      "model_module": "@jupyter-widgets/controls",
      "model_module_version": "1.2.0",
      "model_name": "SliderStyleModel",
      "state": {
       "description_width": ""
      }
     },
     "5f03af68bf9642cbbbaa50cc688a4ee8": {
      "model_module": "@jupyter-widgets/base",
      "model_module_version": "1.0.0",
      "model_name": "LayoutModel",
      "state": {}
     },
     "5f0f2e6bbc674976aa0a242fa988e410": {
      "model_module": "@jupyter-widgets/controls",
      "model_module_version": "1.2.0",
      "model_name": "SliderStyleModel",
      "state": {
       "description_width": ""
      }
     },
     "60774740a3584845acefbd4021ccc11b": {
      "model_module": "@jupyter-widgets/base",
      "model_module_version": "1.0.0",
      "model_name": "LayoutModel",
      "state": {}
     },
     "60b5443cbca448e98e9ea9c002252da7": {
      "model_module": "@jupyter-widgets/controls",
      "model_module_version": "1.2.0",
      "model_name": "FloatSliderModel",
      "state": {
       "description": "base_wdth",
       "layout": "IPY_MODEL_ce24a4299d3f43e4a06a66bc31f110d7",
       "max": 1,
       "step": 0.01,
       "style": "IPY_MODEL_a806531b43f8452787755e82d27a6865",
       "value": 0.5
      }
     },
     "60e20f9c49b7448bba6feffb9efb3bab": {
      "model_module": "@jupyter-widgets/base",
      "model_module_version": "1.0.0",
      "model_name": "LayoutModel",
      "state": {}
     },
     "6100912a1ada40e7832d1ea52e371f8c": {
      "model_module": "@jupyter-widgets/output",
      "model_module_version": "1.0.0",
      "model_name": "OutputModel",
      "state": {
       "layout": "IPY_MODEL_7df0b93755f34020b547f3a500bd3f49",
       "outputs": [
        {
         "data": {
          "image/svg+xml": "<svg baseProfile=\"full\" height=\"400\" version=\"1.1\" width=\"400\" xmlns=\"http://www.w3.org/2000/svg\" xmlns:ev=\"http://www.w3.org/2001/xml-events\" xmlns:xlink=\"http://www.w3.org/1999/xlink\"><defs/><rect fill=\"black\" height=\"400\" width=\"10.0\" x=\"0\" y=\"0\"/><rect fill=\"black\" height=\"400\" width=\"10.0\" x=\"190.0\" y=\"0\"/><rect fill=\"blue\" height=\"400\" width=\"180.0\" x=\"10.0\" y=\"200.0\"/><line stroke=\"black\" x1=\"0\" x2=\"200.0\" y1=\"400\" y2=\"400\"/><line stroke=\"green\" stroke-width=\"3\" x1=\"0\" x2=\"200.0\" y1=\"281.0\" y2=\"281.0\"/><line stroke=\"magenta\" stroke-width=\"3\" x1=\"0\" x2=\"100.0\" y1=\"400\" y2=\"281.0\"/><text x=\"50.0\" y=\"316.7\">a</text></svg>",
          "text/plain": "<IPython.core.display.SVG object>"
         },
         "metadata": {},
         "output_type": "display_data"
        }
       ]
      }
     },
     "6142eb28e3c6452ca0f07cfa3dc9f85c": {
      "model_module": "@jupyter-widgets/base",
      "model_module_version": "1.0.0",
      "model_name": "LayoutModel",
      "state": {}
     },
     "6207fe480b524222997324531337aef8": {
      "model_module": "@jupyter-widgets/controls",
      "model_module_version": "1.2.0",
      "model_name": "SliderStyleModel",
      "state": {
       "description_width": ""
      }
     },
     "62c0496278d245dd874b0e81145dd429": {
      "model_module": "@jupyter-widgets/base",
      "model_module_version": "1.0.0",
      "model_name": "LayoutModel",
      "state": {}
     },
     "62eaa77833fc4b2eb4e56c2c761e6495": {
      "model_module": "@jupyter-widgets/controls",
      "model_module_version": "1.2.0",
      "model_name": "SliderStyleModel",
      "state": {
       "description_width": ""
      }
     },
     "631d9883f2da4f1cba94046f4adb874d": {
      "model_module": "@jupyter-widgets/base",
      "model_module_version": "1.0.0",
      "model_name": "LayoutModel",
      "state": {}
     },
     "63211dec51444328bddc759640797304": {
      "model_module": "@jupyter-widgets/base",
      "model_module_version": "1.0.0",
      "model_name": "LayoutModel",
      "state": {}
     },
     "64210675c97e439bbfb3f3b9357372e8": {
      "model_module": "@jupyter-widgets/controls",
      "model_module_version": "1.2.0",
      "model_name": "FloatSliderModel",
      "state": {
       "description": "wall_thickness",
       "layout": "IPY_MODEL_58ff9bcb4cf840bdb830af01b821e94f",
       "max": 0.5,
       "step": 0.01,
       "style": "IPY_MODEL_320e94678f604122b9e857ebff7c2791",
       "value": 0.1
      }
     },
     "644ebc9a9560429d9833cf8d3e97e311": {
      "model_module": "@jupyter-widgets/output",
      "model_module_version": "1.0.0",
      "model_name": "OutputModel",
      "state": {
       "layout": "IPY_MODEL_d565e8fd170b4c46997358afd90d49b5",
       "outputs": [
        {
         "data": {
          "image/svg+xml": "<svg baseProfile=\"full\" height=\"400\" version=\"1.1\" width=\"400\" xmlns=\"http://www.w3.org/2000/svg\" xmlns:ev=\"http://www.w3.org/2001/xml-events\" xmlns:xlink=\"http://www.w3.org/1999/xlink\"><defs/><rect fill=\"black\" height=\"400\" width=\"20.0\" x=\"0\" y=\"0\"/><rect fill=\"black\" height=\"400\" width=\"20.0\" x=\"180.0\" y=\"0\"/><rect fill=\"blue\" height=\"400\" width=\"160.0\" x=\"20.0\" y=\"196.0\"/><line stroke=\"black\" x1=\"0\" x2=\"200.0\" y1=\"400\" y2=\"400\"/><line stroke=\"green\" stroke-width=\"3\" x1=\"0\" x2=\"200.0\" y1=\"236.9196675900277\" y2=\"236.9196675900277\"/><line stroke=\"magenta\" stroke-width=\"3\" x1=\"0\" x2=\"100.0\" y1=\"400\" y2=\"236.9196675900277\"/></svg>",
          "text/plain": "<IPython.core.display.SVG object>"
         },
         "metadata": {},
         "output_type": "display_data"
        }
       ]
      }
     },
     "6682a53bea194fe29eeee1ca72ccf350": {
      "model_module": "@jupyter-widgets/controls",
      "model_module_version": "1.2.0",
      "model_name": "SliderStyleModel",
      "state": {
       "description_width": ""
      }
     },
     "66d91818b8c1476b9ea56df85627ae81": {
      "model_module": "@jupyter-widgets/controls",
      "model_module_version": "1.2.0",
      "model_name": "FloatSliderModel",
      "state": {
       "description": "wall_thickness",
       "layout": "IPY_MODEL_9e637b92e9aa4c459aec3a71864c2813",
       "max": 0.5,
       "step": 0.01,
       "style": "IPY_MODEL_703c15e5763f43f6809b3bfce7c978bb",
       "value": 0.03
      }
     },
     "6710c28ea3db4a63ade47b875ffffb64": {
      "model_module": "@jupyter-widgets/controls",
      "model_module_version": "1.2.0",
      "model_name": "SliderStyleModel",
      "state": {
       "description_width": ""
      }
     },
     "6787ee67d5ff4111a550807bcf47b92f": {
      "model_module": "@jupyter-widgets/controls",
      "model_module_version": "1.2.0",
      "model_name": "SliderStyleModel",
      "state": {
       "description_width": ""
      }
     },
     "67be243810db4d2d876ff769d70d788b": {
      "model_module": "@jupyter-widgets/controls",
      "model_module_version": "1.2.0",
      "model_name": "FloatSliderModel",
      "state": {
       "description": "base_wdth",
       "layout": "IPY_MODEL_19dec1585b2d473289fc32ec0e750612",
       "max": 1,
       "step": 0.01,
       "style": "IPY_MODEL_b251fa76fa95422d9027e1b0a348e4c5",
       "value": 0.5
      }
     },
     "68229320728b4854af82c3ebe17f7139": {
      "model_module": "@jupyter-widgets/controls",
      "model_module_version": "1.2.0",
      "model_name": "SliderStyleModel",
      "state": {
       "description_width": ""
      }
     },
     "683ed46b8e334ec1a43ec1f4eedf031b": {
      "model_module": "@jupyter-widgets/controls",
      "model_module_version": "1.2.0",
      "model_name": "FloatSliderModel",
      "state": {
       "description": "wall_dnst",
       "layout": "IPY_MODEL_5304782132b14e8eb3921ff60f65115b",
       "max": 1,
       "step": 0.01,
       "style": "IPY_MODEL_e803eac8d55b4d4bbf1ce48f048217a4",
       "value": 0.5
      }
     },
     "684b4017433943728e9a1657a24d21a0": {
      "model_module": "@jupyter-widgets/controls",
      "model_module_version": "1.2.0",
      "model_name": "SliderStyleModel",
      "state": {
       "description_width": ""
      }
     },
     "685de08364614da2b701048f39874510": {
      "model_module": "@jupyter-widgets/base",
      "model_module_version": "1.0.0",
      "model_name": "LayoutModel",
      "state": {}
     },
     "6912a59837df4c48a9fe530a2b93d59b": {
      "model_module": "@jupyter-widgets/base",
      "model_module_version": "1.0.0",
      "model_name": "LayoutModel",
      "state": {}
     },
     "69366d2cf9bb40289f0d47eb5d2c7177": {
      "model_module": "@jupyter-widgets/base",
      "model_module_version": "1.0.0",
      "model_name": "LayoutModel",
      "state": {}
     },
     "698ff13b826f4cd48676ed6ff86fe294": {
      "model_module": "@jupyter-widgets/controls",
      "model_module_version": "1.2.0",
      "model_name": "FloatSliderModel",
      "state": {
       "description": "base_width",
       "layout": "IPY_MODEL_4de571528ad541d48866b6778ade4822",
       "max": 1,
       "step": 0.01,
       "style": "IPY_MODEL_22fa50b6b28f43aaa1ee6b9c38aed580",
       "value": 0.78
      }
     },
     "69a8749f2415493b8a1ea2e1b614a36b": {
      "model_module": "@jupyter-widgets/controls",
      "model_module_version": "1.2.0",
      "model_name": "SliderStyleModel",
      "state": {
       "description_width": ""
      }
     },
     "69f57a03cac549dcaf728685e9e83a09": {
      "model_module": "@jupyter-widgets/controls",
      "model_module_version": "1.2.0",
      "model_name": "FloatSliderModel",
      "state": {
       "description": "wall_density",
       "layout": "IPY_MODEL_b055ceb403db4c27b2afd5f3f8c61a35",
       "max": 3,
       "step": 0.01,
       "style": "IPY_MODEL_78a1e9f2143d46d0afb74e59b28c42c0",
       "value": 0.16
      }
     },
     "6a13ae4ece57448b8348aa2bf4d51b58": {
      "model_module": "@jupyter-widgets/base",
      "model_module_version": "1.0.0",
      "model_name": "LayoutModel",
      "state": {}
     },
     "6a7dd4ffb023447095dfd17895819848": {
      "model_module": "@jupyter-widgets/base",
      "model_module_version": "1.0.0",
      "model_name": "LayoutModel",
      "state": {}
     },
     "6ab406a0688843b0b3cc78c0ce288b7f": {
      "model_module": "@jupyter-widgets/base",
      "model_module_version": "1.0.0",
      "model_name": "LayoutModel",
      "state": {}
     },
     "6ac025f122664e83a42f9029f09ff4c5": {
      "model_module": "@jupyter-widgets/base",
      "model_module_version": "1.0.0",
      "model_name": "LayoutModel",
      "state": {}
     },
     "6b0babb9d425424e9cc03709a68b145e": {
      "model_module": "@jupyter-widgets/base",
      "model_module_version": "1.0.0",
      "model_name": "LayoutModel",
      "state": {}
     },
     "6b3a0b0b09b44fc08ae2b8c9f7032ae7": {
      "model_module": "@jupyter-widgets/base",
      "model_module_version": "1.0.0",
      "model_name": "LayoutModel",
      "state": {}
     },
     "6b4ee1d68a2b4d1b8f651a53adcd8361": {
      "model_module": "@jupyter-widgets/base",
      "model_module_version": "1.0.0",
      "model_name": "LayoutModel",
      "state": {}
     },
     "6b6169882cf6481fb135324bf998e8c6": {
      "model_module": "@jupyter-widgets/base",
      "model_module_version": "1.0.0",
      "model_name": "LayoutModel",
      "state": {}
     },
     "6bfbb535dcab49ab8fd2c0fe17c6c79e": {
      "model_module": "@jupyter-widgets/controls",
      "model_module_version": "1.2.0",
      "model_name": "FloatSliderModel",
      "state": {
       "description": "liquid_height",
       "layout": "IPY_MODEL_acffb7aa9f894bcbaf7de1e130193afd",
       "max": 1,
       "step": 0.01,
       "style": "IPY_MODEL_d89553e6a8b74f8d9c9b2b12271ef367",
       "value": 0.17
      }
     },
     "6d61144898a0483f8c38cda6794bc3f1": {
      "model_module": "@jupyter-widgets/base",
      "model_module_version": "1.0.0",
      "model_name": "LayoutModel",
      "state": {}
     },
     "6e16dbd400b94159bfde86fdcc77b85f": {
      "model_module": "@jupyter-widgets/controls",
      "model_module_version": "1.2.0",
      "model_name": "FloatSliderModel",
      "state": {
       "description": "wall_density",
       "layout": "IPY_MODEL_7195b5d8e4c64f40824ad0f144a3f671",
       "max": 3,
       "step": 0.01,
       "style": "IPY_MODEL_6682a53bea194fe29eeee1ca72ccf350",
       "value": 0.96
      }
     },
     "6e362ca66c0b458fa971e5de99706361": {
      "model_module": "@jupyter-widgets/controls",
      "model_module_version": "1.2.0",
      "model_name": "IntSliderModel",
      "state": {
       "description": "H",
       "layout": "IPY_MODEL_59915f483a3f4fe292c62c6254b86a50",
       "max": 30,
       "min": -10,
       "style": "IPY_MODEL_f16aa4fddfb1478ca59afc5afd203f06",
       "value": 10
      }
     },
     "6f2245b09dc44bd0b7ac7174a996485a": {
      "model_module": "@jupyter-widgets/output",
      "model_module_version": "1.0.0",
      "model_name": "OutputModel",
      "state": {
       "layout": "IPY_MODEL_531a46b5b96e415da326cef58233cb4e",
       "outputs": [
        {
         "data": {
          "image/svg+xml": "<svg baseProfile=\"full\" height=\"200\" version=\"1.1\" width=\"200\" xmlns=\"http://www.w3.org/2000/svg\" xmlns:ev=\"http://www.w3.org/2001/xml-events\" xmlns:xlink=\"http://www.w3.org/1999/xlink\"><defs/><rect fill=\"black\" height=\"200\" width=\"20.0\" x=\"0\" y=\"0\"/><rect fill=\"black\" height=\"200\" width=\"20.0\" x=\"80.0\" y=\"0\"/><rect fill=\"blue\" height=\"200\" width=\"60.0\" x=\"20.0\" y=\"100.0\"/><line stroke=\"black\" x1=\"0\" x2=\"100.0\" y1=\"200\" y2=\"200\"/><line stroke=\"green\" stroke-width=\"3\" x1=\"0\" x2=\"100.0\" y1=\"110.97560975609755\" y2=\"110.97560975609755\"/></svg>",
          "text/plain": "<IPython.core.display.SVG object>"
         },
         "metadata": {},
         "output_type": "display_data"
        }
       ]
      }
     },
     "6f5d68617d9748eb8af51961507e759c": {
      "model_module": "@jupyter-widgets/base",
      "model_module_version": "1.0.0",
      "model_name": "LayoutModel",
      "state": {}
     },
     "6f69d5c0ab9343afa436f21057287990": {
      "model_module": "@jupyter-widgets/controls",
      "model_module_version": "1.2.0",
      "model_name": "FloatSliderModel",
      "state": {
       "description": "liquid_height",
       "layout": "IPY_MODEL_63211dec51444328bddc759640797304",
       "max": 1,
       "step": 0.01,
       "style": "IPY_MODEL_53e3640a319a43729822976fc305b35d",
       "value": 0.45
      }
     },
     "700887d9b60c4e1a88fe68e39370232b": {
      "model_module": "@jupyter-widgets/base",
      "model_module_version": "1.0.0",
      "model_name": "LayoutModel",
      "state": {}
     },
     "703c15e5763f43f6809b3bfce7c978bb": {
      "model_module": "@jupyter-widgets/controls",
      "model_module_version": "1.2.0",
      "model_name": "SliderStyleModel",
      "state": {
       "description_width": ""
      }
     },
     "70c05ce955ca410d8a81302396978e9c": {
      "model_module": "@jupyter-widgets/controls",
      "model_module_version": "1.2.0",
      "model_name": "SliderStyleModel",
      "state": {
       "description_width": ""
      }
     },
     "70f9ef6a6595422bae7e2fd96b51a2d6": {
      "model_module": "@jupyter-widgets/controls",
      "model_module_version": "1.2.0",
      "model_name": "SliderStyleModel",
      "state": {
       "description_width": ""
      }
     },
     "7195b5d8e4c64f40824ad0f144a3f671": {
      "model_module": "@jupyter-widgets/base",
      "model_module_version": "1.0.0",
      "model_name": "LayoutModel",
      "state": {}
     },
     "719bad1a1cd14d1b8ce159c4d276a760": {
      "model_module": "@jupyter-widgets/controls",
      "model_module_version": "1.2.0",
      "model_name": "SliderStyleModel",
      "state": {
       "description_width": ""
      }
     },
     "72090b251e944cfa815bf4994761939a": {
      "model_module": "@jupyter-widgets/base",
      "model_module_version": "1.0.0",
      "model_name": "LayoutModel",
      "state": {}
     },
     "7242674eb2a3417e94c529d879c1749c": {
      "model_module": "@jupyter-widgets/controls",
      "model_module_version": "1.2.0",
      "model_name": "FloatSliderModel",
      "state": {
       "description": "fluid_height",
       "layout": "IPY_MODEL_87b02a7bc63c4d4fbeab80c12b3f5dbc",
       "max": 1,
       "step": 0.01,
       "style": "IPY_MODEL_0d586bf5c7674559bb6aa35e68ee9484",
       "value": 0.6
      }
     },
     "7247907e850949129252aee42c6a1658": {
      "model_module": "@jupyter-widgets/base",
      "model_module_version": "1.0.0",
      "model_name": "LayoutModel",
      "state": {}
     },
     "726f39b42d8a44e89e81c186f6f8f981": {
      "model_module": "@jupyter-widgets/base",
      "model_module_version": "1.0.0",
      "model_name": "LayoutModel",
      "state": {}
     },
     "72d3a4770e6241e4b53f1eb023a1b536": {
      "model_module": "@jupyter-widgets/controls",
      "model_module_version": "1.2.0",
      "model_name": "SliderStyleModel",
      "state": {
       "description_width": ""
      }
     },
     "72d626899d6049a4b5736078110e752a": {
      "model_module": "@jupyter-widgets/controls",
      "model_module_version": "1.2.0",
      "model_name": "VBoxModel",
      "state": {
       "_dom_classes": [
        "widget-interact"
       ],
       "children": [
        "IPY_MODEL_731bc43d15ad4e6dab24189b2b1068dd",
        "IPY_MODEL_e69205cfff854e398d4b3182503885cd",
        "IPY_MODEL_bd36c8ed65c742d1a4cee168995926a9",
        "IPY_MODEL_aef1f4691c8f4a0d9cbadf7b8e942b93",
        "IPY_MODEL_4d89e385c40643c48f0b20f45b39c3e8"
       ],
       "layout": "IPY_MODEL_e7485dcdcce446609f5cb6e0b555ad60"
      }
     },
     "7316f60a6d1945309b10341458bc04ca": {
      "model_module": "@jupyter-widgets/base",
      "model_module_version": "1.0.0",
      "model_name": "LayoutModel",
      "state": {}
     },
     "731bc43d15ad4e6dab24189b2b1068dd": {
      "model_module": "@jupyter-widgets/controls",
      "model_module_version": "1.2.0",
      "model_name": "FloatSliderModel",
      "state": {
       "description": "wall_thickness",
       "layout": "IPY_MODEL_1c65ed262d3c404ab55e98a4e175577e",
       "max": 0.5,
       "step": 0.01,
       "style": "IPY_MODEL_6207fe480b524222997324531337aef8",
       "value": 0.1
      }
     },
     "733a41a5c6114f34ab607d3949a80f55": {
      "model_module": "@jupyter-widgets/base",
      "model_module_version": "1.0.0",
      "model_name": "LayoutModel",
      "state": {}
     },
     "73eec33474344505bad1939321341b23": {
      "model_module": "@jupyter-widgets/base",
      "model_module_version": "1.0.0",
      "model_name": "LayoutModel",
      "state": {}
     },
     "7449c563c2bd43149ca18fe5c26561f2": {
      "model_module": "@jupyter-widgets/controls",
      "model_module_version": "1.2.0",
      "model_name": "FloatSliderModel",
      "state": {
       "description": "wall_density",
       "layout": "IPY_MODEL_7de3632afcd046a4bed2a2a12290aad8",
       "max": 3,
       "step": 0.01,
       "style": "IPY_MODEL_69a8749f2415493b8a1ea2e1b614a36b",
       "value": 1
      }
     },
     "7452f2ee7bae4c73b238e9e58ef965b1": {
      "model_module": "@jupyter-widgets/controls",
      "model_module_version": "1.2.0",
      "model_name": "SliderStyleModel",
      "state": {
       "description_width": ""
      }
     },
     "748748b6ccb14e639c3f0a23038c2e7d": {
      "model_module": "@jupyter-widgets/controls",
      "model_module_version": "1.2.0",
      "model_name": "FloatSliderModel",
      "state": {
       "description": "wall_density",
       "layout": "IPY_MODEL_2a3f5840a31f4a7490f37bc8c48833b0",
       "max": 3,
       "step": 0.01,
       "style": "IPY_MODEL_c2505559a53a4901927637ebf513da44",
       "value": 1
      }
     },
     "749486e1e0a44b5b803424977c573d0f": {
      "model_module": "@jupyter-widgets/controls",
      "model_module_version": "1.2.0",
      "model_name": "SliderStyleModel",
      "state": {
       "description_width": ""
      }
     },
     "750fcc02d8ad48c0bf131f037ee5e789": {
      "model_module": "@jupyter-widgets/base",
      "model_module_version": "1.0.0",
      "model_name": "LayoutModel",
      "state": {}
     },
     "75f18729b67e45e18f917da5cde6ffdc": {
      "model_module": "@jupyter-widgets/controls",
      "model_module_version": "1.2.0",
      "model_name": "SliderStyleModel",
      "state": {
       "description_width": ""
      }
     },
     "764180753b1d400db8242c664b2c49a3": {
      "model_module": "@jupyter-widgets/base",
      "model_module_version": "1.0.0",
      "model_name": "LayoutModel",
      "state": {}
     },
     "76622eca84a64bf39260f4f20d9ed4d6": {
      "model_module": "@jupyter-widgets/base",
      "model_module_version": "1.0.0",
      "model_name": "LayoutModel",
      "state": {}
     },
     "769a56cc6d4e4da5ad50d3e7c2364b33": {
      "model_module": "@jupyter-widgets/base",
      "model_module_version": "1.0.0",
      "model_name": "LayoutModel",
      "state": {}
     },
     "777cba1c19c64734bda2e94b6ce6198e": {
      "model_module": "@jupyter-widgets/controls",
      "model_module_version": "1.2.0",
      "model_name": "SliderStyleModel",
      "state": {
       "description_width": ""
      }
     },
     "779fa006dd7d444d85d23cc7739aae59": {
      "model_module": "@jupyter-widgets/controls",
      "model_module_version": "1.2.0",
      "model_name": "SliderStyleModel",
      "state": {
       "description_width": ""
      }
     },
     "784ef94b98854328bb4b2b27cf7010a6": {
      "model_module": "@jupyter-widgets/controls",
      "model_module_version": "1.2.0",
      "model_name": "SliderStyleModel",
      "state": {
       "description_width": ""
      }
     },
     "78573276e2e34ae8b34b330289e2344e": {
      "model_module": "@jupyter-widgets/controls",
      "model_module_version": "1.2.0",
      "model_name": "FloatSliderModel",
      "state": {
       "description": "base_wdth",
       "layout": "IPY_MODEL_764180753b1d400db8242c664b2c49a3",
       "max": 1,
       "step": 0.01,
       "style": "IPY_MODEL_84462e42f05d4a7b99724c354f9dd2dd",
       "value": 0.5
      }
     },
     "7858049691bf49dd9a1d0a3c23ca5f0b": {
      "model_module": "@jupyter-widgets/controls",
      "model_module_version": "1.2.0",
      "model_name": "FloatSliderModel",
      "state": {
       "description": "liqd_hght",
       "layout": "IPY_MODEL_cfc5429e86474ec981699f6e7083189b",
       "max": 1,
       "step": 0.01,
       "style": "IPY_MODEL_3ae0e7cb3f124e27be6f60360ba7435d",
       "value": 0.5
      }
     },
     "78a1e9f2143d46d0afb74e59b28c42c0": {
      "model_module": "@jupyter-widgets/controls",
      "model_module_version": "1.2.0",
      "model_name": "SliderStyleModel",
      "state": {
       "description_width": ""
      }
     },
     "7945adb1cfa944f086a547a76eb93de6": {
      "model_module": "@jupyter-widgets/controls",
      "model_module_version": "1.2.0",
      "model_name": "FloatSliderModel",
      "state": {
       "description": "wall_density",
       "layout": "IPY_MODEL_6a13ae4ece57448b8348aa2bf4d51b58",
       "max": 3,
       "step": 0.01,
       "style": "IPY_MODEL_0a5eebed00ae423db3069632398467a7",
       "value": 1
      }
     },
     "794f944fbdb54f38ab5d46a71e41219d": {
      "model_module": "@jupyter-widgets/base",
      "model_module_version": "1.0.0",
      "model_name": "LayoutModel",
      "state": {}
     },
     "797730fefd7043b69710a03d96a33070": {
      "model_module": "@jupyter-widgets/controls",
      "model_module_version": "1.2.0",
      "model_name": "FloatSliderModel",
      "state": {
       "description": "wall_dnst",
       "layout": "IPY_MODEL_e50ca6a3218e44f7b09ef991cfaa9669",
       "max": 1,
       "step": 0.01,
       "style": "IPY_MODEL_97d40090c8604305bf46d07a50191a3a",
       "value": 0.5
      }
     },
     "7a5449bdfa5940d28d52c543f52d55d3": {
      "model_module": "@jupyter-widgets/base",
      "model_module_version": "1.0.0",
      "model_name": "LayoutModel",
      "state": {}
     },
     "7ac2af6b3e1d48079591bb0e49ac3425": {
      "model_module": "@jupyter-widgets/controls",
      "model_module_version": "1.2.0",
      "model_name": "FloatSliderModel",
      "state": {
       "description": "wall_thck",
       "layout": "IPY_MODEL_04dab87deec344df899ee103a4169281",
       "max": 0.05,
       "step": 0.01,
       "style": "IPY_MODEL_a077cb05ac054e008123e3c7dd7400ff",
       "value": 0.02
      }
     },
     "7b43c637adf54eeeabe2f2825f1e4d6b": {
      "model_module": "@jupyter-widgets/controls",
      "model_module_version": "1.2.0",
      "model_name": "SliderStyleModel",
      "state": {
       "description_width": ""
      }
     },
     "7b54a8a09f5f460cb6440e256797c7b5": {
      "model_module": "@jupyter-widgets/controls",
      "model_module_version": "1.2.0",
      "model_name": "FloatSliderModel",
      "state": {
       "description": "wall_thck",
       "layout": "IPY_MODEL_2217085890ab4dd88166f97a5a122903",
       "max": 0.05,
       "step": 0.001,
       "style": "IPY_MODEL_4dd7371dad4e4737854c11e6c891b328",
       "value": 0.025
      }
     },
     "7b8fe677e5e64aaf8f268c11449a73fd": {
      "model_module": "@jupyter-widgets/base",
      "model_module_version": "1.0.0",
      "model_name": "LayoutModel",
      "state": {}
     },
     "7bc9ad0d0502408799131e1c647ee3b9": {
      "model_module": "@jupyter-widgets/controls",
      "model_module_version": "1.2.0",
      "model_name": "SliderStyleModel",
      "state": {
       "description_width": ""
      }
     },
     "7c4a8e9bad3f42b89e061922d69ca1e7": {
      "model_module": "@jupyter-widgets/base",
      "model_module_version": "1.0.0",
      "model_name": "LayoutModel",
      "state": {}
     },
     "7c8000149ed64021b2039ec21c80d011": {
      "model_module": "@jupyter-widgets/controls",
      "model_module_version": "1.2.0",
      "model_name": "FloatSliderModel",
      "state": {
       "description": "wall_thck",
       "layout": "IPY_MODEL_ac38d5f8e85e4161b5af24ffb33c3029",
       "max": 0.1,
       "step": 0.01,
       "style": "IPY_MODEL_447d23fcb976443c8355d15e97eb16ac",
       "value": 0.05
      }
     },
     "7cdf5909f47146459d2c9fa623c07bad": {
      "model_module": "@jupyter-widgets/controls",
      "model_module_version": "1.2.0",
      "model_name": "SliderStyleModel",
      "state": {
       "description_width": ""
      }
     },
     "7cff32a98b1f460fb69df5d52ad88681": {
      "model_module": "@jupyter-widgets/controls",
      "model_module_version": "1.2.0",
      "model_name": "FloatSliderModel",
      "state": {
       "description": "base_wdth",
       "layout": "IPY_MODEL_a5552be73fe747499e3d98c4d00ed3e1",
       "max": 1,
       "step": 0.01,
       "style": "IPY_MODEL_5672c8c321ee4ce98946ca41ce98135c",
       "value": 0.5
      }
     },
     "7d6634a0f74542f1b7d2d90754b5e9db": {
      "model_module": "@jupyter-widgets/base",
      "model_module_version": "1.0.0",
      "model_name": "LayoutModel",
      "state": {}
     },
     "7d9643196bd7446da2da9701e396e382": {
      "model_module": "@jupyter-widgets/controls",
      "model_module_version": "1.2.0",
      "model_name": "FloatSliderModel",
      "state": {
       "description": "wall_dnst",
       "layout": "IPY_MODEL_bc19610c3df34a6eb108f7eabf831c8c",
       "max": 1,
       "step": 0.01,
       "style": "IPY_MODEL_e85db70d0b2e4483bc95a319d9e13dcf",
       "value": 0.5
      }
     },
     "7da3382f07e04a88a476ce9f20d757c5": {
      "model_module": "@jupyter-widgets/base",
      "model_module_version": "1.0.0",
      "model_name": "LayoutModel",
      "state": {}
     },
     "7de3632afcd046a4bed2a2a12290aad8": {
      "model_module": "@jupyter-widgets/base",
      "model_module_version": "1.0.0",
      "model_name": "LayoutModel",
      "state": {}
     },
     "7df0b93755f34020b547f3a500bd3f49": {
      "model_module": "@jupyter-widgets/base",
      "model_module_version": "1.0.0",
      "model_name": "LayoutModel",
      "state": {}
     },
     "7e5e778e670b4cf28b0c5d363773a558": {
      "model_module": "@jupyter-widgets/controls",
      "model_module_version": "1.2.0",
      "model_name": "SliderStyleModel",
      "state": {
       "description_width": ""
      }
     },
     "7eb6a8b1ac8c445e8fb38bcdec8ac6ee": {
      "model_module": "@jupyter-widgets/controls",
      "model_module_version": "1.2.0",
      "model_name": "FloatSliderModel",
      "state": {
       "description": "omega",
       "layout": "IPY_MODEL_cbce9677664f4764bc4909a58c2725d5",
       "max": 3,
       "min": -1,
       "step": 0.1,
       "style": "IPY_MODEL_40732731a10548f5a8ffc56c2641db9c",
       "value": 1
      }
     },
     "7ec04573dbb3455bb7e93112cc4b1c27": {
      "model_module": "@jupyter-widgets/controls",
      "model_module_version": "1.2.0",
      "model_name": "FloatSliderModel",
      "state": {
       "description": "liqd_hght",
       "layout": "IPY_MODEL_b7594e6ac53f4dcd89fb809c46ccf747",
       "max": 1,
       "step": 0.01,
       "style": "IPY_MODEL_75f18729b67e45e18f917da5cde6ffdc",
       "value": 0.5
      }
     },
     "7efb736ccf114a0ba704376000457501": {
      "model_module": "@jupyter-widgets/base",
      "model_module_version": "1.0.0",
      "model_name": "LayoutModel",
      "state": {}
     },
     "7f026c03133d40778e96b98ae56ee5a6": {
      "model_module": "@jupyter-widgets/controls",
      "model_module_version": "1.2.0",
      "model_name": "FloatSliderModel",
      "state": {
       "description": "base_width",
       "layout": "IPY_MODEL_320cabd7f1764eb7b93dad3c6897ddbc",
       "max": 1,
       "step": 0.01,
       "style": "IPY_MODEL_98efa0abf4194df2a8d4e72086ce6347",
       "value": 0.5
      }
     },
     "7f074578838b4bc594776e94e49423d0": {
      "model_module": "@jupyter-widgets/base",
      "model_module_version": "1.0.0",
      "model_name": "LayoutModel",
      "state": {}
     },
     "7f1c5822f6064f13b4f5410fe1480bca": {
      "model_module": "@jupyter-widgets/controls",
      "model_module_version": "1.2.0",
      "model_name": "FloatSliderModel",
      "state": {
       "description": "liquid_height",
       "layout": "IPY_MODEL_8f3f782ad394469a84406343bfe57736",
       "max": 1,
       "step": 0.01,
       "style": "IPY_MODEL_82e273c2e6334074b19c24c92d3f3cd6",
       "value": 0.47
      }
     },
     "7fc64e2f1b4240c39da40ff8a0ed53dc": {
      "model_module": "@jupyter-widgets/controls",
      "model_module_version": "1.2.0",
      "model_name": "SliderStyleModel",
      "state": {
       "description_width": ""
      }
     },
     "80096a70bed345e8ba4306e5fa9ae9cd": {
      "model_module": "@jupyter-widgets/controls",
      "model_module_version": "1.2.0",
      "model_name": "FloatSliderModel",
      "state": {
       "description": "base_wdth",
       "layout": "IPY_MODEL_9387928000fd42af98f8a556eabc3c9a",
       "max": 1,
       "step": 0.01,
       "style": "IPY_MODEL_4ed5f9c54b7f4a2dbfaa1ccca4bc5d47",
       "value": 0.5
      }
     },
     "80184bbb25214f0ca12e786062d490f7": {
      "model_module": "@jupyter-widgets/output",
      "model_module_version": "1.0.0",
      "model_name": "OutputModel",
      "state": {
       "layout": "IPY_MODEL_d5aa0472935a44c0b3a8a1bebedbd6ca",
       "outputs": [
        {
         "ename": "TypeError",
         "evalue": "'' is not a valid value for attribute 'rx' at svg-element <rect>.",
         "output_type": "error",
         "traceback": [
          "\u001b[0;31m---------------------------------------------------------------------------\u001b[0m",
          "\u001b[0;31mTypeError\u001b[0m                                 Traceback (most recent call last)",
          "\u001b[0;32m/opt/miniconda3/lib/python3.6/site-packages/ipywidgets/widgets/interaction.py\u001b[0m in \u001b[0;36mupdate\u001b[0;34m(self, *args)\u001b[0m\n\u001b[1;32m    249\u001b[0m                     \u001b[0mvalue\u001b[0m \u001b[0;34m=\u001b[0m \u001b[0mwidget\u001b[0m\u001b[0;34m.\u001b[0m\u001b[0mget_interact_value\u001b[0m\u001b[0;34m(\u001b[0m\u001b[0;34m)\u001b[0m\u001b[0;34m\u001b[0m\u001b[0m\n\u001b[1;32m    250\u001b[0m                     \u001b[0mself\u001b[0m\u001b[0;34m.\u001b[0m\u001b[0mkwargs\u001b[0m\u001b[0;34m[\u001b[0m\u001b[0mwidget\u001b[0m\u001b[0;34m.\u001b[0m\u001b[0m_kwarg\u001b[0m\u001b[0;34m]\u001b[0m \u001b[0;34m=\u001b[0m \u001b[0mvalue\u001b[0m\u001b[0;34m\u001b[0m\u001b[0m\n\u001b[0;32m--> 251\u001b[0;31m                 \u001b[0mself\u001b[0m\u001b[0;34m.\u001b[0m\u001b[0mresult\u001b[0m \u001b[0;34m=\u001b[0m \u001b[0mself\u001b[0m\u001b[0;34m.\u001b[0m\u001b[0mf\u001b[0m\u001b[0;34m(\u001b[0m\u001b[0;34m**\u001b[0m\u001b[0mself\u001b[0m\u001b[0;34m.\u001b[0m\u001b[0mkwargs\u001b[0m\u001b[0;34m)\u001b[0m\u001b[0;34m\u001b[0m\u001b[0m\n\u001b[0m\u001b[1;32m    252\u001b[0m                 \u001b[0mshow_inline_matplotlib_plots\u001b[0m\u001b[0;34m(\u001b[0m\u001b[0;34m)\u001b[0m\u001b[0;34m\u001b[0m\u001b[0m\n\u001b[1;32m    253\u001b[0m                 \u001b[0;32mif\u001b[0m \u001b[0mself\u001b[0m\u001b[0;34m.\u001b[0m\u001b[0mauto_display\u001b[0m \u001b[0;32mand\u001b[0m \u001b[0mself\u001b[0m\u001b[0;34m.\u001b[0m\u001b[0mresult\u001b[0m \u001b[0;32mis\u001b[0m \u001b[0;32mnot\u001b[0m \u001b[0;32mNone\u001b[0m\u001b[0;34m:\u001b[0m\u001b[0;34m\u001b[0m\u001b[0m\n",
          "\u001b[0;32m<ipython-input-17-bc47a9a5ae0d>\u001b[0m in \u001b[0;36mdrawing\u001b[0;34m(wall_thickness, wall_density, base_width, liquid_height)\u001b[0m\n\u001b[1;32m     63\u001b[0m \u001b[0;34m\u001b[0m\u001b[0m\n\u001b[1;32m     64\u001b[0m     \u001b[0mdr\u001b[0m\u001b[0;34m.\u001b[0m\u001b[0madd\u001b[0m\u001b[0;34m(\u001b[0m\u001b[0mdr\u001b[0m\u001b[0;34m.\u001b[0m\u001b[0mrect\u001b[0m\u001b[0;34m(\u001b[0m\u001b[0;34m*\u001b[0m\u001b[0mc\u001b[0m\u001b[0;34m.\u001b[0m\u001b[0mleft_wall\u001b[0m\u001b[0;34m(\u001b[0m\u001b[0;34m)\u001b[0m \u001b[0;34m,\u001b[0m \u001b[0mfill\u001b[0m  \u001b[0;34m=\u001b[0m\u001b[0;34m'black'\u001b[0m\u001b[0;34m)\u001b[0m\u001b[0;34m)\u001b[0m\u001b[0;34m\u001b[0m\u001b[0m\n\u001b[0;32m---> 65\u001b[0;31m     \u001b[0mdr\u001b[0m\u001b[0;34m.\u001b[0m\u001b[0madd\u001b[0m\u001b[0;34m(\u001b[0m\u001b[0mdr\u001b[0m\u001b[0;34m.\u001b[0m\u001b[0mrect\u001b[0m\u001b[0;34m(\u001b[0m\u001b[0;34m*\u001b[0m\u001b[0mc\u001b[0m\u001b[0;34m.\u001b[0m\u001b[0mright_wall\u001b[0m\u001b[0;34m(\u001b[0m\u001b[0;34m)\u001b[0m\u001b[0;34m,\u001b[0m \u001b[0mfill\u001b[0m  \u001b[0;34m=\u001b[0m\u001b[0;34m'black'\u001b[0m\u001b[0;34m)\u001b[0m\u001b[0;34m)\u001b[0m\u001b[0;34m\u001b[0m\u001b[0m\n\u001b[0m\u001b[1;32m     66\u001b[0m     \u001b[0mdr\u001b[0m\u001b[0;34m.\u001b[0m\u001b[0madd\u001b[0m\u001b[0;34m(\u001b[0m\u001b[0mdr\u001b[0m\u001b[0;34m.\u001b[0m\u001b[0mrect\u001b[0m\u001b[0;34m(\u001b[0m\u001b[0;34m*\u001b[0m\u001b[0mc\u001b[0m\u001b[0;34m.\u001b[0m\u001b[0mliquid\u001b[0m\u001b[0;34m(\u001b[0m\u001b[0;34m)\u001b[0m    \u001b[0;34m,\u001b[0m \u001b[0mfill\u001b[0m  \u001b[0;34m=\u001b[0m\u001b[0;34m'blue'\u001b[0m \u001b[0;34m)\u001b[0m\u001b[0;34m)\u001b[0m\u001b[0;34m\u001b[0m\u001b[0m\n\u001b[1;32m     67\u001b[0m     \u001b[0;31m#dr.add(dr.line(*c.base()      , stroke='black'))\u001b[0m\u001b[0;34m\u001b[0m\u001b[0;34m\u001b[0m\u001b[0m\n",
          "\u001b[0;32m/opt/miniconda3/lib/python3.6/site-packages/svgwrite/elementfactory.py\u001b[0m in \u001b[0;36m__call__\u001b[0;34m(self, *args, **kwargs)\u001b[0m\n\u001b[1;32m     66\u001b[0m         \u001b[0mkwargs\u001b[0m\u001b[0;34m[\u001b[0m\u001b[0;34m'factory'\u001b[0m\u001b[0;34m]\u001b[0m \u001b[0;34m=\u001b[0m \u001b[0mself\u001b[0m\u001b[0;34m.\u001b[0m\u001b[0mfactory\u001b[0m\u001b[0;34m\u001b[0m\u001b[0m\n\u001b[1;32m     67\u001b[0m         \u001b[0;31m# create an object of type 'cls'\u001b[0m\u001b[0;34m\u001b[0m\u001b[0;34m\u001b[0m\u001b[0m\n\u001b[0;32m---> 68\u001b[0;31m         \u001b[0;32mreturn\u001b[0m \u001b[0mself\u001b[0m\u001b[0;34m.\u001b[0m\u001b[0mcls\u001b[0m\u001b[0;34m(\u001b[0m\u001b[0;34m*\u001b[0m\u001b[0margs\u001b[0m\u001b[0;34m,\u001b[0m \u001b[0;34m**\u001b[0m\u001b[0mkwargs\u001b[0m\u001b[0;34m)\u001b[0m\u001b[0;34m\u001b[0m\u001b[0m\n\u001b[0m\u001b[1;32m     69\u001b[0m \u001b[0;34m\u001b[0m\u001b[0m\n\u001b[1;32m     70\u001b[0m \u001b[0;34m\u001b[0m\u001b[0m\n",
          "\u001b[0;32m/opt/miniconda3/lib/python3.6/site-packages/svgwrite/shapes.py\u001b[0m in \u001b[0;36m__init__\u001b[0;34m(self, insert, size, rx, ry, **extra)\u001b[0m\n\u001b[1;32m     70\u001b[0m         \u001b[0mself\u001b[0m\u001b[0;34m[\u001b[0m\u001b[0;34m'height'\u001b[0m\u001b[0;34m]\u001b[0m \u001b[0;34m=\u001b[0m \u001b[0mheight\u001b[0m\u001b[0;34m\u001b[0m\u001b[0m\n\u001b[1;32m     71\u001b[0m         \u001b[0;32mif\u001b[0m \u001b[0mrx\u001b[0m \u001b[0;32mis\u001b[0m \u001b[0;32mnot\u001b[0m \u001b[0;32mNone\u001b[0m\u001b[0;34m:\u001b[0m\u001b[0;34m\u001b[0m\u001b[0m\n\u001b[0;32m---> 72\u001b[0;31m             \u001b[0mself\u001b[0m\u001b[0;34m[\u001b[0m\u001b[0;34m'rx'\u001b[0m\u001b[0;34m]\u001b[0m \u001b[0;34m=\u001b[0m \u001b[0mrx\u001b[0m\u001b[0;34m\u001b[0m\u001b[0m\n\u001b[0m\u001b[1;32m     73\u001b[0m         \u001b[0;32mif\u001b[0m \u001b[0mry\u001b[0m \u001b[0;32mis\u001b[0m \u001b[0;32mnot\u001b[0m \u001b[0;32mNone\u001b[0m\u001b[0;34m:\u001b[0m\u001b[0;34m\u001b[0m\u001b[0m\n\u001b[1;32m     74\u001b[0m             \u001b[0mself\u001b[0m\u001b[0;34m[\u001b[0m\u001b[0;34m'ry'\u001b[0m\u001b[0;34m]\u001b[0m \u001b[0;34m=\u001b[0m \u001b[0mry\u001b[0m\u001b[0;34m\u001b[0m\u001b[0m\n",
          "\u001b[0;32m/opt/miniconda3/lib/python3.6/site-packages/svgwrite/base.py\u001b[0m in \u001b[0;36m__setitem__\u001b[0;34m(self, key, value)\u001b[0m\n\u001b[1;32m    160\u001b[0m         \u001b[0;31m# by self['attribute'] = value\u001b[0m\u001b[0;34m\u001b[0m\u001b[0;34m\u001b[0m\u001b[0m\n\u001b[1;32m    161\u001b[0m         \u001b[0;32mif\u001b[0m \u001b[0mself\u001b[0m\u001b[0;34m.\u001b[0m\u001b[0mdebug\u001b[0m\u001b[0;34m:\u001b[0m\u001b[0;34m\u001b[0m\u001b[0m\n\u001b[0;32m--> 162\u001b[0;31m             \u001b[0mself\u001b[0m\u001b[0;34m.\u001b[0m\u001b[0mvalidator\u001b[0m\u001b[0;34m.\u001b[0m\u001b[0mcheck_svg_attribute_value\u001b[0m\u001b[0;34m(\u001b[0m\u001b[0mself\u001b[0m\u001b[0;34m.\u001b[0m\u001b[0melementname\u001b[0m\u001b[0;34m,\u001b[0m \u001b[0mkey\u001b[0m\u001b[0;34m,\u001b[0m \u001b[0mvalue\u001b[0m\u001b[0;34m)\u001b[0m\u001b[0;34m\u001b[0m\u001b[0m\n\u001b[0m\u001b[1;32m    163\u001b[0m         \u001b[0mself\u001b[0m\u001b[0;34m.\u001b[0m\u001b[0mattribs\u001b[0m\u001b[0;34m[\u001b[0m\u001b[0mkey\u001b[0m\u001b[0;34m]\u001b[0m \u001b[0;34m=\u001b[0m \u001b[0mvalue\u001b[0m\u001b[0;34m\u001b[0m\u001b[0m\n\u001b[1;32m    164\u001b[0m \u001b[0;34m\u001b[0m\u001b[0m\n",
          "\u001b[0;32m/opt/miniconda3/lib/python3.6/site-packages/svgwrite/validator2.py\u001b[0m in \u001b[0;36mcheck_svg_attribute_value\u001b[0;34m(self, elementname, attributename, value)\u001b[0m\n\u001b[1;32m     60\u001b[0m         \"\"\"\n\u001b[1;32m     61\u001b[0m         \u001b[0mself\u001b[0m\u001b[0;34m.\u001b[0m\u001b[0m_check_valid_svg_attribute_name\u001b[0m\u001b[0;34m(\u001b[0m\u001b[0melementname\u001b[0m\u001b[0;34m,\u001b[0m \u001b[0mattributename\u001b[0m\u001b[0;34m)\u001b[0m\u001b[0;34m\u001b[0m\u001b[0m\n\u001b[0;32m---> 62\u001b[0;31m         \u001b[0mself\u001b[0m\u001b[0;34m.\u001b[0m\u001b[0m_check_svg_value\u001b[0m\u001b[0;34m(\u001b[0m\u001b[0melementname\u001b[0m\u001b[0;34m,\u001b[0m \u001b[0mattributename\u001b[0m\u001b[0;34m,\u001b[0m \u001b[0mvalue\u001b[0m\u001b[0;34m)\u001b[0m\u001b[0;34m\u001b[0m\u001b[0m\n\u001b[0m\u001b[1;32m     63\u001b[0m \u001b[0;34m\u001b[0m\u001b[0m\n\u001b[1;32m     64\u001b[0m     \u001b[0;32mdef\u001b[0m \u001b[0m_check_svg_value\u001b[0m\u001b[0;34m(\u001b[0m\u001b[0mself\u001b[0m\u001b[0;34m,\u001b[0m \u001b[0melementname\u001b[0m\u001b[0;34m,\u001b[0m \u001b[0mattributename\u001b[0m\u001b[0;34m,\u001b[0m \u001b[0mvalue\u001b[0m\u001b[0;34m)\u001b[0m\u001b[0;34m:\u001b[0m\u001b[0;34m\u001b[0m\u001b[0m\n",
          "\u001b[0;32m/opt/miniconda3/lib/python3.6/site-packages/svgwrite/validator2.py\u001b[0m in \u001b[0;36m_check_svg_value\u001b[0;34m(self, elementname, attributename, value)\u001b[0m\n\u001b[1;32m     77\u001b[0m         \u001b[0mvaluestr\u001b[0m \u001b[0;34m=\u001b[0m \u001b[0mstr\u001b[0m\u001b[0;34m(\u001b[0m\u001b[0mvalue\u001b[0m\u001b[0;34m)\u001b[0m\u001b[0;34m\u001b[0m\u001b[0m\n\u001b[1;32m     78\u001b[0m         \u001b[0;32mif\u001b[0m \u001b[0;32mnot\u001b[0m \u001b[0mvaluestr\u001b[0m \u001b[0;32min\u001b[0m \u001b[0mattribute\u001b[0m\u001b[0;34m.\u001b[0m\u001b[0mget_const\u001b[0m\u001b[0;34m(\u001b[0m\u001b[0melementname\u001b[0m\u001b[0;34m)\u001b[0m\u001b[0;34m:\u001b[0m\u001b[0;34m\u001b[0m\u001b[0m\n\u001b[0;32m---> 79\u001b[0;31m             \u001b[0;32mraise\u001b[0m \u001b[0mTypeError\u001b[0m\u001b[0;34m(\u001b[0m\u001b[0;34m\"'%s' is not a valid value for attribute '%s' at svg-element <%s>.\"\u001b[0m \u001b[0;34m%\u001b[0m \u001b[0;34m(\u001b[0m\u001b[0mvalue\u001b[0m\u001b[0;34m,\u001b[0m \u001b[0mattributename\u001b[0m\u001b[0;34m,\u001b[0m \u001b[0melementname\u001b[0m\u001b[0;34m)\u001b[0m\u001b[0;34m)\u001b[0m\u001b[0;34m\u001b[0m\u001b[0m\n\u001b[0m\u001b[1;32m     80\u001b[0m \u001b[0;34m\u001b[0m\u001b[0m\n\u001b[1;32m     81\u001b[0m     \u001b[0;32mdef\u001b[0m \u001b[0m_check_valid_svg_attribute_name\u001b[0m\u001b[0;34m(\u001b[0m\u001b[0mself\u001b[0m\u001b[0;34m,\u001b[0m \u001b[0melementname\u001b[0m\u001b[0;34m,\u001b[0m \u001b[0mattributename\u001b[0m\u001b[0;34m)\u001b[0m\u001b[0;34m:\u001b[0m\u001b[0;34m\u001b[0m\u001b[0m\n",
          "\u001b[0;31mTypeError\u001b[0m: '' is not a valid value for attribute 'rx' at svg-element <rect>."
         ]
        }
       ]
      }
     },
     "807756a40b8c4df5b7bb49999cff5ccc": {
      "model_module": "@jupyter-widgets/base",
      "model_module_version": "1.0.0",
      "model_name": "LayoutModel",
      "state": {}
     },
     "809553fcde414d70b595925ebfd029bd": {
      "model_module": "@jupyter-widgets/controls",
      "model_module_version": "1.2.0",
      "model_name": "FloatSliderModel",
      "state": {
       "description": "wall_thck",
       "layout": "IPY_MODEL_27820e3fe78e4a549c3e2ebc0294ebe6",
       "max": 0.2,
       "step": 0.01,
       "style": "IPY_MODEL_0d5363df078d49f4a453abfdda1f1f3c",
       "value": 0.1
      }
     },
     "80e76546c9ba43ec8c5798a0fd9ec329": {
      "model_module": "@jupyter-widgets/base",
      "model_module_version": "1.0.0",
      "model_name": "LayoutModel",
      "state": {}
     },
     "814818d2930b4be6a6e31ee0a7602a84": {
      "model_module": "@jupyter-widgets/output",
      "model_module_version": "1.0.0",
      "model_name": "OutputModel",
      "state": {
       "layout": "IPY_MODEL_3f9da010281e4be4a8d066b993f176fe",
       "outputs": [
        {
         "ename": "TypeError",
         "evalue": "'' is not a valid value for attribute 'rx' at svg-element <rect>.",
         "output_type": "error",
         "traceback": [
          "\u001b[0;31m---------------------------------------------------------------------------\u001b[0m",
          "\u001b[0;31mTypeError\u001b[0m                                 Traceback (most recent call last)",
          "\u001b[0;32m/opt/miniconda3/lib/python3.6/site-packages/ipywidgets/widgets/interaction.py\u001b[0m in \u001b[0;36mupdate\u001b[0;34m(self, *args)\u001b[0m\n\u001b[1;32m    249\u001b[0m                     \u001b[0mvalue\u001b[0m \u001b[0;34m=\u001b[0m \u001b[0mwidget\u001b[0m\u001b[0;34m.\u001b[0m\u001b[0mget_interact_value\u001b[0m\u001b[0;34m(\u001b[0m\u001b[0;34m)\u001b[0m\u001b[0;34m\u001b[0m\u001b[0m\n\u001b[1;32m    250\u001b[0m                     \u001b[0mself\u001b[0m\u001b[0;34m.\u001b[0m\u001b[0mkwargs\u001b[0m\u001b[0;34m[\u001b[0m\u001b[0mwidget\u001b[0m\u001b[0;34m.\u001b[0m\u001b[0m_kwarg\u001b[0m\u001b[0;34m]\u001b[0m \u001b[0;34m=\u001b[0m \u001b[0mvalue\u001b[0m\u001b[0;34m\u001b[0m\u001b[0m\n\u001b[0;32m--> 251\u001b[0;31m                 \u001b[0mself\u001b[0m\u001b[0;34m.\u001b[0m\u001b[0mresult\u001b[0m \u001b[0;34m=\u001b[0m \u001b[0mself\u001b[0m\u001b[0;34m.\u001b[0m\u001b[0mf\u001b[0m\u001b[0;34m(\u001b[0m\u001b[0;34m**\u001b[0m\u001b[0mself\u001b[0m\u001b[0;34m.\u001b[0m\u001b[0mkwargs\u001b[0m\u001b[0;34m)\u001b[0m\u001b[0;34m\u001b[0m\u001b[0m\n\u001b[0m\u001b[1;32m    252\u001b[0m                 \u001b[0mshow_inline_matplotlib_plots\u001b[0m\u001b[0;34m(\u001b[0m\u001b[0;34m)\u001b[0m\u001b[0;34m\u001b[0m\u001b[0m\n\u001b[1;32m    253\u001b[0m                 \u001b[0;32mif\u001b[0m \u001b[0mself\u001b[0m\u001b[0;34m.\u001b[0m\u001b[0mauto_display\u001b[0m \u001b[0;32mand\u001b[0m \u001b[0mself\u001b[0m\u001b[0;34m.\u001b[0m\u001b[0mresult\u001b[0m \u001b[0;32mis\u001b[0m \u001b[0;32mnot\u001b[0m \u001b[0;32mNone\u001b[0m\u001b[0;34m:\u001b[0m\u001b[0;34m\u001b[0m\u001b[0m\n",
          "\u001b[0;32m<ipython-input-18-ff1011923b31>\u001b[0m in \u001b[0;36mdrawing\u001b[0;34m(wall_thickness, wall_density, base_width, liquid_height)\u001b[0m\n\u001b[1;32m     63\u001b[0m \u001b[0;34m\u001b[0m\u001b[0m\n\u001b[1;32m     64\u001b[0m     \u001b[0mdr\u001b[0m\u001b[0;34m.\u001b[0m\u001b[0madd\u001b[0m\u001b[0;34m(\u001b[0m\u001b[0mdr\u001b[0m\u001b[0;34m.\u001b[0m\u001b[0mrect\u001b[0m\u001b[0;34m(\u001b[0m\u001b[0;34m*\u001b[0m\u001b[0mc\u001b[0m\u001b[0;34m.\u001b[0m\u001b[0mleft_wall\u001b[0m\u001b[0;34m(\u001b[0m\u001b[0;34m)\u001b[0m \u001b[0;34m,\u001b[0m \u001b[0mfill\u001b[0m  \u001b[0;34m=\u001b[0m\u001b[0;34m'black'\u001b[0m\u001b[0;34m)\u001b[0m\u001b[0;34m)\u001b[0m\u001b[0;34m\u001b[0m\u001b[0m\n\u001b[0;32m---> 65\u001b[0;31m     \u001b[0mdr\u001b[0m\u001b[0;34m.\u001b[0m\u001b[0madd\u001b[0m\u001b[0;34m(\u001b[0m\u001b[0mdr\u001b[0m\u001b[0;34m.\u001b[0m\u001b[0mrect\u001b[0m\u001b[0;34m(\u001b[0m\u001b[0;34m*\u001b[0m\u001b[0mc\u001b[0m\u001b[0;34m.\u001b[0m\u001b[0mright_wall\u001b[0m\u001b[0;34m(\u001b[0m\u001b[0;34m)\u001b[0m\u001b[0;34m,\u001b[0m \u001b[0mfill\u001b[0m  \u001b[0;34m=\u001b[0m\u001b[0;34m'black'\u001b[0m\u001b[0;34m)\u001b[0m\u001b[0;34m)\u001b[0m\u001b[0;34m\u001b[0m\u001b[0m\n\u001b[0m\u001b[1;32m     66\u001b[0m     \u001b[0;31m#dr.add(dr.rect(*c.liquid()    , fill  ='blue' ))\u001b[0m\u001b[0;34m\u001b[0m\u001b[0;34m\u001b[0m\u001b[0m\n\u001b[1;32m     67\u001b[0m     \u001b[0;31m#dr.add(dr.line(*c.base()      , stroke='black'))\u001b[0m\u001b[0;34m\u001b[0m\u001b[0;34m\u001b[0m\u001b[0m\n",
          "\u001b[0;32m/opt/miniconda3/lib/python3.6/site-packages/svgwrite/elementfactory.py\u001b[0m in \u001b[0;36m__call__\u001b[0;34m(self, *args, **kwargs)\u001b[0m\n\u001b[1;32m     66\u001b[0m         \u001b[0mkwargs\u001b[0m\u001b[0;34m[\u001b[0m\u001b[0;34m'factory'\u001b[0m\u001b[0;34m]\u001b[0m \u001b[0;34m=\u001b[0m \u001b[0mself\u001b[0m\u001b[0;34m.\u001b[0m\u001b[0mfactory\u001b[0m\u001b[0;34m\u001b[0m\u001b[0m\n\u001b[1;32m     67\u001b[0m         \u001b[0;31m# create an object of type 'cls'\u001b[0m\u001b[0;34m\u001b[0m\u001b[0;34m\u001b[0m\u001b[0m\n\u001b[0;32m---> 68\u001b[0;31m         \u001b[0;32mreturn\u001b[0m \u001b[0mself\u001b[0m\u001b[0;34m.\u001b[0m\u001b[0mcls\u001b[0m\u001b[0;34m(\u001b[0m\u001b[0;34m*\u001b[0m\u001b[0margs\u001b[0m\u001b[0;34m,\u001b[0m \u001b[0;34m**\u001b[0m\u001b[0mkwargs\u001b[0m\u001b[0;34m)\u001b[0m\u001b[0;34m\u001b[0m\u001b[0m\n\u001b[0m\u001b[1;32m     69\u001b[0m \u001b[0;34m\u001b[0m\u001b[0m\n\u001b[1;32m     70\u001b[0m \u001b[0;34m\u001b[0m\u001b[0m\n",
          "\u001b[0;32m/opt/miniconda3/lib/python3.6/site-packages/svgwrite/shapes.py\u001b[0m in \u001b[0;36m__init__\u001b[0;34m(self, insert, size, rx, ry, **extra)\u001b[0m\n\u001b[1;32m     70\u001b[0m         \u001b[0mself\u001b[0m\u001b[0;34m[\u001b[0m\u001b[0;34m'height'\u001b[0m\u001b[0;34m]\u001b[0m \u001b[0;34m=\u001b[0m \u001b[0mheight\u001b[0m\u001b[0;34m\u001b[0m\u001b[0m\n\u001b[1;32m     71\u001b[0m         \u001b[0;32mif\u001b[0m \u001b[0mrx\u001b[0m \u001b[0;32mis\u001b[0m \u001b[0;32mnot\u001b[0m \u001b[0;32mNone\u001b[0m\u001b[0;34m:\u001b[0m\u001b[0;34m\u001b[0m\u001b[0m\n\u001b[0;32m---> 72\u001b[0;31m             \u001b[0mself\u001b[0m\u001b[0;34m[\u001b[0m\u001b[0;34m'rx'\u001b[0m\u001b[0;34m]\u001b[0m \u001b[0;34m=\u001b[0m \u001b[0mrx\u001b[0m\u001b[0;34m\u001b[0m\u001b[0m\n\u001b[0m\u001b[1;32m     73\u001b[0m         \u001b[0;32mif\u001b[0m \u001b[0mry\u001b[0m \u001b[0;32mis\u001b[0m \u001b[0;32mnot\u001b[0m \u001b[0;32mNone\u001b[0m\u001b[0;34m:\u001b[0m\u001b[0;34m\u001b[0m\u001b[0m\n\u001b[1;32m     74\u001b[0m             \u001b[0mself\u001b[0m\u001b[0;34m[\u001b[0m\u001b[0;34m'ry'\u001b[0m\u001b[0;34m]\u001b[0m \u001b[0;34m=\u001b[0m \u001b[0mry\u001b[0m\u001b[0;34m\u001b[0m\u001b[0m\n",
          "\u001b[0;32m/opt/miniconda3/lib/python3.6/site-packages/svgwrite/base.py\u001b[0m in \u001b[0;36m__setitem__\u001b[0;34m(self, key, value)\u001b[0m\n\u001b[1;32m    160\u001b[0m         \u001b[0;31m# by self['attribute'] = value\u001b[0m\u001b[0;34m\u001b[0m\u001b[0;34m\u001b[0m\u001b[0m\n\u001b[1;32m    161\u001b[0m         \u001b[0;32mif\u001b[0m \u001b[0mself\u001b[0m\u001b[0;34m.\u001b[0m\u001b[0mdebug\u001b[0m\u001b[0;34m:\u001b[0m\u001b[0;34m\u001b[0m\u001b[0m\n\u001b[0;32m--> 162\u001b[0;31m             \u001b[0mself\u001b[0m\u001b[0;34m.\u001b[0m\u001b[0mvalidator\u001b[0m\u001b[0;34m.\u001b[0m\u001b[0mcheck_svg_attribute_value\u001b[0m\u001b[0;34m(\u001b[0m\u001b[0mself\u001b[0m\u001b[0;34m.\u001b[0m\u001b[0melementname\u001b[0m\u001b[0;34m,\u001b[0m \u001b[0mkey\u001b[0m\u001b[0;34m,\u001b[0m \u001b[0mvalue\u001b[0m\u001b[0;34m)\u001b[0m\u001b[0;34m\u001b[0m\u001b[0m\n\u001b[0m\u001b[1;32m    163\u001b[0m         \u001b[0mself\u001b[0m\u001b[0;34m.\u001b[0m\u001b[0mattribs\u001b[0m\u001b[0;34m[\u001b[0m\u001b[0mkey\u001b[0m\u001b[0;34m]\u001b[0m \u001b[0;34m=\u001b[0m \u001b[0mvalue\u001b[0m\u001b[0;34m\u001b[0m\u001b[0m\n\u001b[1;32m    164\u001b[0m \u001b[0;34m\u001b[0m\u001b[0m\n",
          "\u001b[0;32m/opt/miniconda3/lib/python3.6/site-packages/svgwrite/validator2.py\u001b[0m in \u001b[0;36mcheck_svg_attribute_value\u001b[0;34m(self, elementname, attributename, value)\u001b[0m\n\u001b[1;32m     60\u001b[0m         \"\"\"\n\u001b[1;32m     61\u001b[0m         \u001b[0mself\u001b[0m\u001b[0;34m.\u001b[0m\u001b[0m_check_valid_svg_attribute_name\u001b[0m\u001b[0;34m(\u001b[0m\u001b[0melementname\u001b[0m\u001b[0;34m,\u001b[0m \u001b[0mattributename\u001b[0m\u001b[0;34m)\u001b[0m\u001b[0;34m\u001b[0m\u001b[0m\n\u001b[0;32m---> 62\u001b[0;31m         \u001b[0mself\u001b[0m\u001b[0;34m.\u001b[0m\u001b[0m_check_svg_value\u001b[0m\u001b[0;34m(\u001b[0m\u001b[0melementname\u001b[0m\u001b[0;34m,\u001b[0m \u001b[0mattributename\u001b[0m\u001b[0;34m,\u001b[0m \u001b[0mvalue\u001b[0m\u001b[0;34m)\u001b[0m\u001b[0;34m\u001b[0m\u001b[0m\n\u001b[0m\u001b[1;32m     63\u001b[0m \u001b[0;34m\u001b[0m\u001b[0m\n\u001b[1;32m     64\u001b[0m     \u001b[0;32mdef\u001b[0m \u001b[0m_check_svg_value\u001b[0m\u001b[0;34m(\u001b[0m\u001b[0mself\u001b[0m\u001b[0;34m,\u001b[0m \u001b[0melementname\u001b[0m\u001b[0;34m,\u001b[0m \u001b[0mattributename\u001b[0m\u001b[0;34m,\u001b[0m \u001b[0mvalue\u001b[0m\u001b[0;34m)\u001b[0m\u001b[0;34m:\u001b[0m\u001b[0;34m\u001b[0m\u001b[0m\n",
          "\u001b[0;32m/opt/miniconda3/lib/python3.6/site-packages/svgwrite/validator2.py\u001b[0m in \u001b[0;36m_check_svg_value\u001b[0;34m(self, elementname, attributename, value)\u001b[0m\n\u001b[1;32m     77\u001b[0m         \u001b[0mvaluestr\u001b[0m \u001b[0;34m=\u001b[0m \u001b[0mstr\u001b[0m\u001b[0;34m(\u001b[0m\u001b[0mvalue\u001b[0m\u001b[0;34m)\u001b[0m\u001b[0;34m\u001b[0m\u001b[0m\n\u001b[1;32m     78\u001b[0m         \u001b[0;32mif\u001b[0m \u001b[0;32mnot\u001b[0m \u001b[0mvaluestr\u001b[0m \u001b[0;32min\u001b[0m \u001b[0mattribute\u001b[0m\u001b[0;34m.\u001b[0m\u001b[0mget_const\u001b[0m\u001b[0;34m(\u001b[0m\u001b[0melementname\u001b[0m\u001b[0;34m)\u001b[0m\u001b[0;34m:\u001b[0m\u001b[0;34m\u001b[0m\u001b[0m\n\u001b[0;32m---> 79\u001b[0;31m             \u001b[0;32mraise\u001b[0m \u001b[0mTypeError\u001b[0m\u001b[0;34m(\u001b[0m\u001b[0;34m\"'%s' is not a valid value for attribute '%s' at svg-element <%s>.\"\u001b[0m \u001b[0;34m%\u001b[0m \u001b[0;34m(\u001b[0m\u001b[0mvalue\u001b[0m\u001b[0;34m,\u001b[0m \u001b[0mattributename\u001b[0m\u001b[0;34m,\u001b[0m \u001b[0melementname\u001b[0m\u001b[0;34m)\u001b[0m\u001b[0;34m)\u001b[0m\u001b[0;34m\u001b[0m\u001b[0m\n\u001b[0m\u001b[1;32m     80\u001b[0m \u001b[0;34m\u001b[0m\u001b[0m\n\u001b[1;32m     81\u001b[0m     \u001b[0;32mdef\u001b[0m \u001b[0m_check_valid_svg_attribute_name\u001b[0m\u001b[0;34m(\u001b[0m\u001b[0mself\u001b[0m\u001b[0;34m,\u001b[0m \u001b[0melementname\u001b[0m\u001b[0;34m,\u001b[0m \u001b[0mattributename\u001b[0m\u001b[0;34m)\u001b[0m\u001b[0;34m:\u001b[0m\u001b[0;34m\u001b[0m\u001b[0m\n",
          "\u001b[0;31mTypeError\u001b[0m: '' is not a valid value for attribute 'rx' at svg-element <rect>."
         ]
        }
       ]
      }
     },
     "81701de7a85547c0b853e2c9473dc68c": {
      "model_module": "@jupyter-widgets/controls",
      "model_module_version": "1.2.0",
      "model_name": "SliderStyleModel",
      "state": {
       "description_width": ""
      }
     },
     "81cb5be326f141a2827d2a7bff216c07": {
      "model_module": "@jupyter-widgets/base",
      "model_module_version": "1.0.0",
      "model_name": "LayoutModel",
      "state": {}
     },
     "82e273c2e6334074b19c24c92d3f3cd6": {
      "model_module": "@jupyter-widgets/controls",
      "model_module_version": "1.2.0",
      "model_name": "SliderStyleModel",
      "state": {
       "description_width": ""
      }
     },
     "8348f60ecadd4e19ab0688a50f1e5ba8": {
      "model_module": "@jupyter-widgets/controls",
      "model_module_version": "1.2.0",
      "model_name": "SliderStyleModel",
      "state": {
       "description_width": ""
      }
     },
     "839350b63ecb4e728c129efe9af52d6d": {
      "model_module": "@jupyter-widgets/base",
      "model_module_version": "1.0.0",
      "model_name": "LayoutModel",
      "state": {}
     },
     "83a3cd2634d5496593ac1fa14030d5f3": {
      "model_module": "@jupyter-widgets/base",
      "model_module_version": "1.0.0",
      "model_name": "LayoutModel",
      "state": {}
     },
     "843a044fa9a3473d9dc007e47e98723b": {
      "model_module": "@jupyter-widgets/controls",
      "model_module_version": "1.2.0",
      "model_name": "FloatSliderModel",
      "state": {
       "description": "base_width",
       "layout": "IPY_MODEL_4d0829199f984f6bbb6f8232913dfedb",
       "max": 1,
       "step": 0.01,
       "style": "IPY_MODEL_0cd7cc4848ac4f60b086649cdebab676",
       "value": 0.5
      }
     },
     "84462e42f05d4a7b99724c354f9dd2dd": {
      "model_module": "@jupyter-widgets/controls",
      "model_module_version": "1.2.0",
      "model_name": "SliderStyleModel",
      "state": {
       "description_width": ""
      }
     },
     "844d74ef2dfe4930aed5003e5b9c6da3": {
      "model_module": "@jupyter-widgets/base",
      "model_module_version": "1.0.0",
      "model_name": "LayoutModel",
      "state": {}
     },
     "845df9f4e368442da95abb0ad4bfee4a": {
      "model_module": "@jupyter-widgets/controls",
      "model_module_version": "1.2.0",
      "model_name": "FloatSliderModel",
      "state": {
       "description": "liquid_height",
       "layout": "IPY_MODEL_ffeb3f14d6634c60a14466ddc0b662d3",
       "max": 1.7999999999999998,
       "min": -0.6,
       "step": 0.1,
       "style": "IPY_MODEL_e62e077b00ec4dd396b6449a444928ac",
       "value": 0.5
      }
     },
     "84962315b69a4155974b1824bbaed56f": {
      "model_module": "@jupyter-widgets/controls",
      "model_module_version": "1.2.0",
      "model_name": "SliderStyleModel",
      "state": {
       "description_width": ""
      }
     },
     "84e7774e3ce943669d15f7bdf5261c28": {
      "model_module": "@jupyter-widgets/base",
      "model_module_version": "1.0.0",
      "model_name": "LayoutModel",
      "state": {}
     },
     "85b06eefcfa541afba165e9b2c7ead6d": {
      "model_module": "@jupyter-widgets/controls",
      "model_module_version": "1.2.0",
      "model_name": "FloatSliderModel",
      "state": {
       "description": "liqd_hght",
       "layout": "IPY_MODEL_571bf8aa40ca47459b48ce6071cbbf70",
       "max": 1,
       "step": 0.01,
       "style": "IPY_MODEL_9cd40acb253641d1b215bfa3f7310974",
       "value": 0.23
      }
     },
     "860f957cc4fa403abc8900378dee089e": {
      "model_module": "@jupyter-widgets/output",
      "model_module_version": "1.0.0",
      "model_name": "OutputModel",
      "state": {
       "layout": "IPY_MODEL_60e20f9c49b7448bba6feffb9efb3bab",
       "outputs": [
        {
         "data": {
          "image/svg+xml": "<svg baseProfile=\"full\" height=\"400\" version=\"1.1\" width=\"400\" xmlns=\"http://www.w3.org/2000/svg\" xmlns:ev=\"http://www.w3.org/2001/xml-events\" xmlns:xlink=\"http://www.w3.org/1999/xlink\"><defs/><rect fill=\"black\" height=\"400\" width=\"8.0\" x=\"0\" y=\"0\"/><rect fill=\"black\" height=\"400\" width=\"8.0\" x=\"192.0\" y=\"0\"/><rect fill=\"blue\" height=\"400\" width=\"184.0\" x=\"8.0\" y=\"312.0\"/><line stroke=\"black\" x1=\"0\" x2=\"200.0\" y1=\"400\" y2=\"400\"/><line stroke=\"green\" stroke-width=\"3\" x1=\"0\" x2=\"200.0\" y1=\"310.4470130186154\" y2=\"310.4470130186154\"/><line stroke=\"magenta\" stroke-width=\"3\" x1=\"0\" x2=\"100.0\" y1=\"400\" y2=\"310.4470130186154\"/></svg>",
          "text/plain": "<IPython.core.display.SVG object>"
         },
         "metadata": {},
         "output_type": "display_data"
        }
       ]
      }
     },
     "86daf0d995cf418c9d98a8f2cc72a766": {
      "model_module": "@jupyter-widgets/base",
      "model_module_version": "1.0.0",
      "model_name": "LayoutModel",
      "state": {}
     },
     "86dc2a4d65e04051acbafc699d869b72": {
      "model_module": "@jupyter-widgets/base",
      "model_module_version": "1.0.0",
      "model_name": "LayoutModel",
      "state": {}
     },
     "875f2b5972f04612bbfc2ad84b3b9dc6": {
      "model_module": "@jupyter-widgets/output",
      "model_module_version": "1.0.0",
      "model_name": "OutputModel",
      "state": {
       "layout": "IPY_MODEL_c1cc1550117e4831a22252aad872d57e",
       "outputs": [
        {
         "data": {
          "image/svg+xml": "<svg baseProfile=\"full\" height=\"200\" version=\"1.1\" width=\"200\" xmlns=\"http://www.w3.org/2000/svg\" xmlns:ev=\"http://www.w3.org/2001/xml-events\" xmlns:xlink=\"http://www.w3.org/1999/xlink\"><defs/><rect fill=\"black\" height=\"200\" width=\"20.0\" x=\"0\" y=\"0\"/><rect fill=\"black\" height=\"200\" width=\"20.0\" x=\"80.0\" y=\"0\"/><line stroke=\"black\" x1=\"0\" x2=\"100.0\" y1=\"200\" y2=\"200\"/><rect fill=\"blue\" height=\"200\" width=\"60.0\" x=\"20.0\" y=\"80.0\"/><line stroke=\"green\" stroke-width=\"3\" x1=\"0\" x2=\"100.0\" y1=\"110.09345794392522\" y2=\"110.09345794392522\"/></svg>",
          "text/plain": "<IPython.core.display.SVG object>"
         },
         "metadata": {},
         "output_type": "display_data"
        }
       ]
      }
     },
     "87713329319c48b18e03001dd8400c7d": {
      "model_module": "@jupyter-widgets/base",
      "model_module_version": "1.0.0",
      "model_name": "LayoutModel",
      "state": {}
     },
     "87b02a7bc63c4d4fbeab80c12b3f5dbc": {
      "model_module": "@jupyter-widgets/base",
      "model_module_version": "1.0.0",
      "model_name": "LayoutModel",
      "state": {}
     },
     "885d3f3395424e3eba6203613b35b45f": {
      "model_module": "@jupyter-widgets/base",
      "model_module_version": "1.0.0",
      "model_name": "LayoutModel",
      "state": {}
     },
     "8910b7f813fe427291f2e5f478e5a5f2": {
      "model_module": "@jupyter-widgets/base",
      "model_module_version": "1.0.0",
      "model_name": "LayoutModel",
      "state": {}
     },
     "89229c4112bd43d3bfa6ed670ec2fe8c": {
      "model_module": "@jupyter-widgets/output",
      "model_module_version": "1.0.0",
      "model_name": "OutputModel",
      "state": {
       "layout": "IPY_MODEL_700887d9b60c4e1a88fe68e39370232b",
       "outputs": [
        {
         "data": {
          "image/svg+xml": "<svg baseProfile=\"full\" height=\"400\" version=\"1.1\" width=\"400\" xmlns=\"http://www.w3.org/2000/svg\" xmlns:ev=\"http://www.w3.org/2001/xml-events\" xmlns:xlink=\"http://www.w3.org/1999/xlink\"><defs/><rect fill=\"black\" height=\"400\" width=\"10.0\" x=\"0\" y=\"0\"/><rect fill=\"black\" height=\"400\" width=\"10.0\" x=\"190.0\" y=\"0\"/><rect fill=\"blue\" height=\"400\" width=\"180.0\" x=\"10.0\" y=\"292.0\"/><line stroke=\"black\" x1=\"0\" x2=\"200.0\" y1=\"400\" y2=\"400\"/><line stroke=\"green\" stroke-width=\"3\" x1=\"0\" x2=\"200.0\" y1=\"301.78578259483584\" y2=\"301.78578259483584\"/><line stroke=\"magenta\" stroke-width=\"3\" x1=\"0\" x2=\"100.0\" y1=\"400\" y2=\"301.78578259483584\"/><text fill=\"magenta\" font-size=\"24\" stroke=\"red\" x=\"30.0\" y=\"331.25004781638506\">α</text></svg>",
          "text/plain": "<IPython.core.display.SVG object>"
         },
         "metadata": {},
         "output_type": "display_data"
        }
       ]
      }
     },
     "8941be57ed084b54a45e791d432ee36f": {
      "model_module": "@jupyter-widgets/base",
      "model_module_version": "1.0.0",
      "model_name": "LayoutModel",
      "state": {}
     },
     "894a4d30384941d09955ebd5d13d7daa": {
      "model_module": "@jupyter-widgets/controls",
      "model_module_version": "1.2.0",
      "model_name": "VBoxModel",
      "state": {
       "_dom_classes": [
        "widget-interact"
       ],
       "children": [
        "IPY_MODEL_3560ed53f10541ba8f0dd94afb48ece3",
        "IPY_MODEL_797730fefd7043b69710a03d96a33070",
        "IPY_MODEL_9dc4365f7b4f42eea47b6ff0ddf3ece8",
        "IPY_MODEL_b895ec5d5fe54e728bc638a7a0c1aa12",
        "IPY_MODEL_effa81dde1774a11a9404d47b89308f2"
       ],
       "layout": "IPY_MODEL_339a3ed8f0ee440fad4766411ac991bb"
      }
     },
     "89686288abfd40a9b5737515468d9915": {
      "model_module": "@jupyter-widgets/output",
      "model_module_version": "1.0.0",
      "model_name": "OutputModel",
      "state": {
       "layout": "IPY_MODEL_4b9f3250d76a463e903e5daf040c4d6f",
       "outputs": [
        {
         "data": {
          "image/svg+xml": "<svg baseProfile=\"full\" height=\"400\" version=\"1.1\" width=\"400\" xmlns=\"http://www.w3.org/2000/svg\" xmlns:ev=\"http://www.w3.org/2001/xml-events\" xmlns:xlink=\"http://www.w3.org/1999/xlink\"><defs/><rect fill=\"black\" height=\"400\" width=\"10.0\" x=\"0\" y=\"0\"/><rect fill=\"black\" height=\"400\" width=\"10.0\" x=\"190.0\" y=\"0\"/><rect fill=\"blue\" height=\"400\" width=\"180.0\" x=\"10.0\" y=\"252.0\"/><line stroke=\"black\" x1=\"0\" x2=\"200.0\" y1=\"400\" y2=\"400\"/><line stroke=\"green\" stroke-width=\"3\" x1=\"0\" x2=\"200.0\" y1=\"295.6731694958196\" y2=\"295.6731694958196\"/><line stroke=\"magenta\" stroke-width=\"3\" x1=\"0\" x2=\"100.0\" y1=\"400\" y2=\"295.6731694958196\"/><text stroke=\"magenta\" x=\"30.0\" y=\"326.9712186470737\">a</text></svg>",
          "text/plain": "<IPython.core.display.SVG object>"
         },
         "metadata": {},
         "output_type": "display_data"
        }
       ]
      }
     },
     "89ecf739dfb5434e92f82617fb3d3633": {
      "model_module": "@jupyter-widgets/controls",
      "model_module_version": "1.2.0",
      "model_name": "IntSliderModel",
      "state": {
       "description": "D",
       "layout": "IPY_MODEL_c580e8947090404e9a5f0ceda3132ddd",
       "max": 6,
       "min": -2,
       "style": "IPY_MODEL_32a313075e174dbdb678bf812a256d3b",
       "value": 2
      }
     },
     "8a9e96127c8a4e679064c24573b59d5b": {
      "model_module": "@jupyter-widgets/controls",
      "model_module_version": "1.2.0",
      "model_name": "FloatSliderModel",
      "state": {
       "description": "wall_thck",
       "layout": "IPY_MODEL_ba457a31915346c49605562e1632b78e",
       "max": 0.05,
       "step": 0.001,
       "style": "IPY_MODEL_b3ee4bc8ff98435c84414c34c4345277",
       "value": 0.015
      }
     },
     "8ad3d76f89504fdc9527c04608137aed": {
      "model_module": "@jupyter-widgets/base",
      "model_module_version": "1.0.0",
      "model_name": "LayoutModel",
      "state": {}
     },
     "8af58f9c23cd42558b6afa209e9bf3cf": {
      "model_module": "@jupyter-widgets/controls",
      "model_module_version": "1.2.0",
      "model_name": "SliderStyleModel",
      "state": {
       "description_width": ""
      }
     },
     "8b49b5a7706749bea4616e18d91910f0": {
      "model_module": "@jupyter-widgets/controls",
      "model_module_version": "1.2.0",
      "model_name": "SliderStyleModel",
      "state": {
       "description_width": ""
      }
     },
     "8b67e7e374dc4fc39685cadba51a7c94": {
      "model_module": "@jupyter-widgets/controls",
      "model_module_version": "1.2.0",
      "model_name": "SliderStyleModel",
      "state": {
       "description_width": ""
      }
     },
     "8b8495fdf4cc416aa6bfc269abc9df48": {
      "model_module": "@jupyter-widgets/controls",
      "model_module_version": "1.2.0",
      "model_name": "FloatSliderModel",
      "state": {
       "description": "base_wdth",
       "layout": "IPY_MODEL_3ab1251d7b7040cf93c2b30beb70ae97",
       "max": 1,
       "step": 0.01,
       "style": "IPY_MODEL_48f9d47404e94d41ac746ce72f63e3cb",
       "value": 0.5
      }
     },
     "8c1b104962f94c82b4edf0080668a8da": {
      "model_module": "@jupyter-widgets/controls",
      "model_module_version": "1.2.0",
      "model_name": "SliderStyleModel",
      "state": {
       "description_width": ""
      }
     },
     "8c1b97c0387440aca440cd4e630960b8": {
      "model_module": "@jupyter-widgets/controls",
      "model_module_version": "1.2.0",
      "model_name": "FloatSliderModel",
      "state": {
       "description": "fluid_height",
       "layout": "IPY_MODEL_05d0c3442f9c446dadfcc520c6dda1e3",
       "max": 1,
       "step": 0.01,
       "style": "IPY_MODEL_e40c2a563a6a4153a0f1a1157f1ca40e",
       "value": 0.6
      }
     },
     "8c977cac5a9041c89a6952f9246d5f73": {
      "model_module": "@jupyter-widgets/base",
      "model_module_version": "1.0.0",
      "model_name": "LayoutModel",
      "state": {}
     },
     "8c983b3a86fe4c9bbc395713d87f7180": {
      "model_module": "@jupyter-widgets/controls",
      "model_module_version": "1.2.0",
      "model_name": "VBoxModel",
      "state": {
       "_dom_classes": [
        "widget-interact"
       ],
       "children": [
        "IPY_MODEL_bbae8f47b039439f8cc203b5564fb2b5",
        "IPY_MODEL_f90825b01edf49bba67d690ec00ecee9",
        "IPY_MODEL_24773c6ba562467a8bb1c2323650d795",
        "IPY_MODEL_38fc7a5f22ff46f6b576de329aab7362",
        "IPY_MODEL_b1cd0e906de344498787dd71e7b72085"
       ],
       "layout": "IPY_MODEL_df8041d19c884bedbf328b8ad20cabf4"
      }
     },
     "8ca6ee0603034922af97d8a85d7fa016": {
      "model_module": "@jupyter-widgets/controls",
      "model_module_version": "1.2.0",
      "model_name": "FloatSliderModel",
      "state": {
       "description": "fluid_height",
       "layout": "IPY_MODEL_86dc2a4d65e04051acbafc699d869b72",
       "max": 1,
       "step": 0.01,
       "style": "IPY_MODEL_1f1fc220c1744d59b1753f36f40242a2",
       "value": 0.14
      }
     },
     "8d46bddc744141689e02d8ee64840097": {
      "model_module": "@jupyter-widgets/controls",
      "model_module_version": "1.2.0",
      "model_name": "FloatSliderModel",
      "state": {
       "description": "liqd_hght",
       "layout": "IPY_MODEL_a299157860394c4e82dd9d8c444c89cb",
       "max": 1,
       "step": 0.01,
       "style": "IPY_MODEL_1772f318c1ce458aaf0329dc2d0c67a3",
       "value": 0.5
      }
     },
     "8e09bcac299544708db410d85c3d7809": {
      "model_module": "@jupyter-widgets/controls",
      "model_module_version": "1.2.0",
      "model_name": "VBoxModel",
      "state": {
       "_dom_classes": [
        "widget-interact"
       ],
       "children": [
        "IPY_MODEL_ca8c86b5d9434dbd854ce747cae785f5",
        "IPY_MODEL_a36111415c9344068c297e3c9acd9f5c",
        "IPY_MODEL_f49abb1bfe0e4de1aa78b7939647a381",
        "IPY_MODEL_f8d916e49ae14d7f8f7d0539028873ac",
        "IPY_MODEL_03b1cdd9ea15442d88dbfd6e88b8023b"
       ],
       "layout": "IPY_MODEL_aeb4dc1db6314bf5976249ed621a4692"
      }
     },
     "8e40323345b744409a6e0f4e1d0c0468": {
      "model_module": "@jupyter-widgets/controls",
      "model_module_version": "1.2.0",
      "model_name": "VBoxModel",
      "state": {
       "_dom_classes": [
        "widget-interact"
       ],
       "children": [
        "IPY_MODEL_9d6a4ece2f544f7cb4754ead577c3eb8",
        "IPY_MODEL_51e80c1953e248458ee40da948343db3",
        "IPY_MODEL_c4e92dc5d5fa4c9fae915ecf47d771b2",
        "IPY_MODEL_909046e1ccfa474fbb38e2303748f72c",
        "IPY_MODEL_a5b79e75ab254cb381f76c566f9c56bd"
       ],
       "layout": "IPY_MODEL_769a56cc6d4e4da5ad50d3e7c2364b33"
      }
     },
     "8e5018e9958b4c679327090d77a3fdf8": {
      "model_module": "@jupyter-widgets/controls",
      "model_module_version": "1.2.0",
      "model_name": "VBoxModel",
      "state": {
       "_dom_classes": [
        "widget-interact"
       ],
       "children": [
        "IPY_MODEL_ed47eff859c647cfb2c0b47c915abb2c",
        "IPY_MODEL_3e9fa8a20c7a42089e9fc2c6427bb5d2",
        "IPY_MODEL_80096a70bed345e8ba4306e5fa9ae9cd",
        "IPY_MODEL_12011bbcf869421f93bd27cb4e62efc8",
        "IPY_MODEL_55cf388d56b14e1699a44fd409612874"
       ],
       "layout": "IPY_MODEL_e042b6148bb34c678ce2b2721c3e2ffa"
      }
     },
     "8efe0cfa38ac403aa1f7bedb9156216a": {
      "model_module": "@jupyter-widgets/base",
      "model_module_version": "1.0.0",
      "model_name": "LayoutModel",
      "state": {}
     },
     "8f3f782ad394469a84406343bfe57736": {
      "model_module": "@jupyter-widgets/base",
      "model_module_version": "1.0.0",
      "model_name": "LayoutModel",
      "state": {}
     },
     "8ffd68a9c25c4db09e93b3962546c275": {
      "model_module": "@jupyter-widgets/controls",
      "model_module_version": "1.2.0",
      "model_name": "FloatSliderModel",
      "state": {
       "description": "base_wdth",
       "layout": "IPY_MODEL_547e44b07b9944b1b5f73ea774e023a1",
       "max": 1,
       "step": 0.01,
       "style": "IPY_MODEL_684b4017433943728e9a1657a24d21a0",
       "value": 0.5
      }
     },
     "909046e1ccfa474fbb38e2303748f72c": {
      "model_module": "@jupyter-widgets/controls",
      "model_module_version": "1.2.0",
      "model_name": "FloatSliderModel",
      "state": {
       "description": "liqd_hght",
       "layout": "IPY_MODEL_6b4ee1d68a2b4d1b8f651a53adcd8361",
       "max": 1,
       "step": 0.01,
       "style": "IPY_MODEL_7cdf5909f47146459d2c9fa623c07bad",
       "value": 0.5
      }
     },
     "909de7fccfb449b6af3a3c7d134833e1": {
      "model_module": "@jupyter-widgets/controls",
      "model_module_version": "1.2.0",
      "model_name": "SliderStyleModel",
      "state": {
       "description_width": ""
      }
     },
     "90eef1872c924e0cae064f748023eb6a": {
      "model_module": "@jupyter-widgets/controls",
      "model_module_version": "1.2.0",
      "model_name": "SliderStyleModel",
      "state": {
       "description_width": ""
      }
     },
     "9139837046714cb9ae5151f98e800a62": {
      "model_module": "@jupyter-widgets/controls",
      "model_module_version": "1.2.0",
      "model_name": "VBoxModel",
      "state": {
       "_dom_classes": [
        "widget-interact"
       ],
       "children": [
        "IPY_MODEL_66d91818b8c1476b9ea56df85627ae81",
        "IPY_MODEL_43121089ee5948e1aad9f0bbcaa73023",
        "IPY_MODEL_28957d85c25a417cb9675e68387119a1",
        "IPY_MODEL_0a9772b9c73f4520b29d978be330d590",
        "IPY_MODEL_04fcf97cffc54a9f9dd25577031e41dd"
       ],
       "layout": "IPY_MODEL_d2d8e65d480d431c80108d9cb292a92a"
      }
     },
     "91556a506f5d4516a6149bfc3bc1ee47": {
      "model_module": "@jupyter-widgets/controls",
      "model_module_version": "1.2.0",
      "model_name": "VBoxModel",
      "state": {
       "_dom_classes": [
        "widget-interact"
       ],
       "children": [
        "IPY_MODEL_fc4ab80acddc4a358bfa9a7626dba594",
        "IPY_MODEL_261803a91da54398adbb815ce36b7fc9",
        "IPY_MODEL_d163882b5f1241bfa621e1c6682a12a6",
        "IPY_MODEL_4dc876e2be494f9c8d668c2f07964050",
        "IPY_MODEL_b0f1ac29cd894581adb4a820e7e7352d"
       ],
       "layout": "IPY_MODEL_ce08a9ab9c7c4b78ab2a5d9c5e977c52"
      }
     },
     "91ee4da0a4a04c42904b2a0abad17691": {
      "model_module": "@jupyter-widgets/base",
      "model_module_version": "1.0.0",
      "model_name": "LayoutModel",
      "state": {}
     },
     "91f94e49e6964c129dc9c5f52335ba42": {
      "model_module": "@jupyter-widgets/base",
      "model_module_version": "1.0.0",
      "model_name": "LayoutModel",
      "state": {}
     },
     "9222ca3a7b26470f942f4517bd516c4f": {
      "model_module": "@jupyter-widgets/controls",
      "model_module_version": "1.2.0",
      "model_name": "VBoxModel",
      "state": {
       "_dom_classes": [
        "widget-interact"
       ],
       "children": [
        "IPY_MODEL_a8c18eb2758348dab40f82d91732d4b9",
        "IPY_MODEL_69f57a03cac549dcaf728685e9e83a09",
        "IPY_MODEL_33ecf8aac40b46f6b38418d62a836751",
        "IPY_MODEL_4bd8bfc8f39a431eb4664f28617a87a8",
        "IPY_MODEL_1c69fd0ef07945c58ae6779bfd217c5d"
       ],
       "layout": "IPY_MODEL_ecf975908d8b4617b95020bb8cf61440"
      }
     },
     "926be6fcb66d4197a9023bbe7264e0a4": {
      "model_module": "@jupyter-widgets/base",
      "model_module_version": "1.0.0",
      "model_name": "LayoutModel",
      "state": {}
     },
     "92a608c2ab6d433aa227da159f4248b1": {
      "model_module": "@jupyter-widgets/controls",
      "model_module_version": "1.2.0",
      "model_name": "SliderStyleModel",
      "state": {
       "description_width": ""
      }
     },
     "92c87a0214c24ca8abfdcfb235179aca": {
      "model_module": "@jupyter-widgets/controls",
      "model_module_version": "1.2.0",
      "model_name": "SliderStyleModel",
      "state": {
       "description_width": ""
      }
     },
     "937862d409404baca4822bb8f2a1bce9": {
      "model_module": "@jupyter-widgets/base",
      "model_module_version": "1.0.0",
      "model_name": "LayoutModel",
      "state": {}
     },
     "9387928000fd42af98f8a556eabc3c9a": {
      "model_module": "@jupyter-widgets/base",
      "model_module_version": "1.0.0",
      "model_name": "LayoutModel",
      "state": {}
     },
     "939da451e9eb44dca8dd63ca9ef35543": {
      "model_module": "@jupyter-widgets/base",
      "model_module_version": "1.0.0",
      "model_name": "LayoutModel",
      "state": {}
     },
     "93c6829bafd945e09d412ff4dfb5eb33": {
      "model_module": "@jupyter-widgets/controls",
      "model_module_version": "1.2.0",
      "model_name": "SliderStyleModel",
      "state": {
       "description_width": ""
      }
     },
     "93d7e6b82ce847408b710c506fc2729d": {
      "model_module": "@jupyter-widgets/controls",
      "model_module_version": "1.2.0",
      "model_name": "FloatSliderModel",
      "state": {
       "description": "base_width",
       "layout": "IPY_MODEL_6912a59837df4c48a9fe530a2b93d59b",
       "max": 1,
       "step": 0.01,
       "style": "IPY_MODEL_ca9b96e82f5049089c2579040d025b6b",
       "value": 0.5
      }
     },
     "93d810b1959d42f8af4c91f29ba88689": {
      "model_module": "@jupyter-widgets/controls",
      "model_module_version": "1.2.0",
      "model_name": "FloatSliderModel",
      "state": {
       "description": "wall_thickness",
       "layout": "IPY_MODEL_1198d9e5c2614231b680d58a32b40fc0",
       "max": 0.5,
       "step": 0.01,
       "style": "IPY_MODEL_300f024dfa5243879e6fae88742040b0",
       "value": 0.1
      }
     },
     "94091b868adf42128925aa77aa3ddd3c": {
      "model_module": "@jupyter-widgets/controls",
      "model_module_version": "1.2.0",
      "model_name": "SliderStyleModel",
      "state": {
       "description_width": ""
      }
     },
     "94aa4070f2cc42748e0f9c491336cb66": {
      "model_module": "@jupyter-widgets/base",
      "model_module_version": "1.0.0",
      "model_name": "LayoutModel",
      "state": {}
     },
     "95eda11975524381a1b4a73bd32db54b": {
      "model_module": "@jupyter-widgets/controls",
      "model_module_version": "1.2.0",
      "model_name": "SliderStyleModel",
      "state": {
       "description_width": ""
      }
     },
     "967e62af3d314a519e23b701eac31643": {
      "model_module": "@jupyter-widgets/base",
      "model_module_version": "1.0.0",
      "model_name": "LayoutModel",
      "state": {}
     },
     "96ae140e19aa48878c646c86a356810c": {
      "model_module": "@jupyter-widgets/controls",
      "model_module_version": "1.2.0",
      "model_name": "FloatSliderModel",
      "state": {
       "description": "wall_thickness",
       "layout": "IPY_MODEL_4626a9b3415b45e48bcbe7416752d019",
       "max": 0.5,
       "step": 0.01,
       "style": "IPY_MODEL_4d85f4d642d0421badcf9d3f18f23fef",
       "value": 0.1
      }
     },
     "96edb3ec4c7f4c548aff6d604886f829": {
      "model_module": "@jupyter-widgets/controls",
      "model_module_version": "1.2.0",
      "model_name": "FloatSliderModel",
      "state": {
       "description": "wall_thickness",
       "layout": "IPY_MODEL_8c977cac5a9041c89a6952f9246d5f73",
       "max": 0.5,
       "step": 0.01,
       "style": "IPY_MODEL_525855dd70af4954986f00d5cea5ccea",
       "value": 0.12
      }
     },
     "97d40090c8604305bf46d07a50191a3a": {
      "model_module": "@jupyter-widgets/controls",
      "model_module_version": "1.2.0",
      "model_name": "SliderStyleModel",
      "state": {
       "description_width": ""
      }
     },
     "97d5c7d78b9140db896f3f89a715167c": {
      "model_module": "@jupyter-widgets/controls",
      "model_module_version": "1.2.0",
      "model_name": "FloatSliderModel",
      "state": {
       "description": "base_width",
       "layout": "IPY_MODEL_2f73d816db8d4836981197458a3c3d20",
       "max": 1,
       "step": 0.01,
       "style": "IPY_MODEL_94091b868adf42128925aa77aa3ddd3c",
       "value": 0.5
      }
     },
     "982441362a2344e4a29fe28955331630": {
      "model_module": "@jupyter-widgets/base",
      "model_module_version": "1.0.0",
      "model_name": "LayoutModel",
      "state": {}
     },
     "9840199a9cc4461c9e8927590c1384bb": {
      "model_module": "@jupyter-widgets/controls",
      "model_module_version": "1.2.0",
      "model_name": "SliderStyleModel",
      "state": {
       "description_width": ""
      }
     },
     "98888435b8bf40f08ffd29d74416bd4f": {
      "model_module": "@jupyter-widgets/controls",
      "model_module_version": "1.2.0",
      "model_name": "SliderStyleModel",
      "state": {
       "description_width": ""
      }
     },
     "98efa0abf4194df2a8d4e72086ce6347": {
      "model_module": "@jupyter-widgets/controls",
      "model_module_version": "1.2.0",
      "model_name": "SliderStyleModel",
      "state": {
       "description_width": ""
      }
     },
     "9a3e7d1a50fc4c17a6f94db8b04e8e96": {
      "model_module": "@jupyter-widgets/controls",
      "model_module_version": "1.2.0",
      "model_name": "SliderStyleModel",
      "state": {
       "description_width": ""
      }
     },
     "9ab6133b3ff84afcb3825794d4b9e4c7": {
      "model_module": "@jupyter-widgets/controls",
      "model_module_version": "1.2.0",
      "model_name": "VBoxModel",
      "state": {
       "_dom_classes": [
        "widget-interact"
       ],
       "children": [
        "IPY_MODEL_3a595820fdb74f3eb029a3f7d34ea846",
        "IPY_MODEL_5b6c8ebb0fcd4063b6b9fe83b4753180"
       ],
       "layout": "IPY_MODEL_3ab3448354e44112a81338b64d7deb01"
      }
     },
     "9abd1608c2fb464893330d266c60608d": {
      "model_module": "@jupyter-widgets/controls",
      "model_module_version": "1.2.0",
      "model_name": "FloatSliderModel",
      "state": {
       "description": "liqd_hght",
       "layout": "IPY_MODEL_518ce162f2794bf59d56f04f2020249d",
       "max": 1,
       "step": 0.01,
       "style": "IPY_MODEL_b6029b246ec74e93b3009fb3b0d706ed",
       "value": 0.5
      }
     },
     "9bb2c33759124b7c9a524f262fda6e27": {
      "model_module": "@jupyter-widgets/controls",
      "model_module_version": "1.2.0",
      "model_name": "SliderStyleModel",
      "state": {
       "description_width": ""
      }
     },
     "9bd483b1d8584e4d9d3f62cef7771299": {
      "model_module": "@jupyter-widgets/base",
      "model_module_version": "1.0.0",
      "model_name": "LayoutModel",
      "state": {}
     },
     "9cd40acb253641d1b215bfa3f7310974": {
      "model_module": "@jupyter-widgets/controls",
      "model_module_version": "1.2.0",
      "model_name": "SliderStyleModel",
      "state": {
       "description_width": ""
      }
     },
     "9d1537186c6f430097091ad93114ac49": {
      "model_module": "@jupyter-widgets/base",
      "model_module_version": "1.0.0",
      "model_name": "LayoutModel",
      "state": {}
     },
     "9d344047ac594d02bbef4b01f29d5c2b": {
      "model_module": "@jupyter-widgets/controls",
      "model_module_version": "1.2.0",
      "model_name": "FloatSliderModel",
      "state": {
       "description": "liqd_hght",
       "layout": "IPY_MODEL_844d74ef2dfe4930aed5003e5b9c6da3",
       "max": 1,
       "step": 0.01,
       "style": "IPY_MODEL_5e2c702f9aa94c86bfb58615e61bd730",
       "value": 0.5
      }
     },
     "9d6a4ece2f544f7cb4754ead577c3eb8": {
      "model_module": "@jupyter-widgets/controls",
      "model_module_version": "1.2.0",
      "model_name": "FloatSliderModel",
      "state": {
       "description": "wall_thck",
       "layout": "IPY_MODEL_2ffaff0db2504c6eaf9e306a8032b333",
       "max": 0.05,
       "step": 0.001,
       "style": "IPY_MODEL_ecd9fc2b3c01482faaf4ac902690d8d7",
       "value": 0.025
      }
     },
     "9dc4365f7b4f42eea47b6ff0ddf3ece8": {
      "model_module": "@jupyter-widgets/controls",
      "model_module_version": "1.2.0",
      "model_name": "FloatSliderModel",
      "state": {
       "description": "base_wdth",
       "layout": "IPY_MODEL_80e76546c9ba43ec8c5798a0fd9ec329",
       "max": 1,
       "step": 0.01,
       "style": "IPY_MODEL_15929d95756c42f6abccd571c5066536",
       "value": 0.73
      }
     },
     "9e2f2a4a01c84d2bbf6eae7fe229720f": {
      "model_module": "@jupyter-widgets/controls",
      "model_module_version": "1.2.0",
      "model_name": "FloatSliderModel",
      "state": {
       "description": "liqd_hght",
       "layout": "IPY_MODEL_e34740091b7e4e5baf7ebabe606607cd",
       "max": 1,
       "step": 0.01,
       "style": "IPY_MODEL_bcd1cbcde7d148e0a3c7246209ea27ed",
       "value": 0.5
      }
     },
     "9e4df9d376194642aca0a9a2553deaf0": {
      "model_module": "@jupyter-widgets/controls",
      "model_module_version": "1.2.0",
      "model_name": "SliderStyleModel",
      "state": {
       "description_width": ""
      }
     },
     "9e637b92e9aa4c459aec3a71864c2813": {
      "model_module": "@jupyter-widgets/base",
      "model_module_version": "1.0.0",
      "model_name": "LayoutModel",
      "state": {}
     },
     "9ed3a3a5a3f647b2b62e9958fafcca8e": {
      "model_module": "@jupyter-widgets/base",
      "model_module_version": "1.0.0",
      "model_name": "LayoutModel",
      "state": {}
     },
     "9ee2797982534cec83ad7be4832d7c7a": {
      "model_module": "@jupyter-widgets/base",
      "model_module_version": "1.0.0",
      "model_name": "LayoutModel",
      "state": {}
     },
     "9f57238a4211492987e36f47fa23bec4": {
      "model_module": "@jupyter-widgets/base",
      "model_module_version": "1.0.0",
      "model_name": "LayoutModel",
      "state": {}
     },
     "9fb5f137e0de47b898d46836646854ee": {
      "model_module": "@jupyter-widgets/base",
      "model_module_version": "1.0.0",
      "model_name": "LayoutModel",
      "state": {}
     },
     "9fcd7eda6a734f169ed1d1fe323e47cd": {
      "model_module": "@jupyter-widgets/base",
      "model_module_version": "1.0.0",
      "model_name": "LayoutModel",
      "state": {}
     },
     "9fcfad1a2bea47518ca328651479b907": {
      "model_module": "@jupyter-widgets/output",
      "model_module_version": "1.0.0",
      "model_name": "OutputModel",
      "state": {
       "layout": "IPY_MODEL_9bd483b1d8584e4d9d3f62cef7771299",
       "outputs": [
        {
         "data": {
          "image/svg+xml": "<svg baseProfile=\"full\" height=\"200\" version=\"1.1\" width=\"200\" xmlns=\"http://www.w3.org/2000/svg\" xmlns:ev=\"http://www.w3.org/2001/xml-events\" xmlns:xlink=\"http://www.w3.org/1999/xlink\"><defs/><rect fill=\"black\" height=\"200\" width=\"8.0\" x=\"0\" y=\"0\"/><rect fill=\"black\" height=\"200\" width=\"8.0\" x=\"192.0\" y=\"0\"/><line stroke=\"black\" x1=\"0\" x2=\"200.0\" y1=\"200\" y2=\"200\"/><rect fill=\"blue\" height=\"200\" width=\"184.0\" x=\"8.0\" y=\"172.0\"/><line stroke=\"green\" stroke-width=\"3\" x1=\"0\" x2=\"200.0\" y1=\"159.15994798439533\" y2=\"159.15994798439533\"/></svg>",
          "text/plain": "<IPython.core.display.SVG object>"
         },
         "metadata": {},
         "output_type": "display_data"
        }
       ]
      }
     },
     "9fd0df8df7ff47a8aaed1577fba48c02": {
      "model_module": "@jupyter-widgets/base",
      "model_module_version": "1.0.0",
      "model_name": "LayoutModel",
      "state": {}
     },
     "9fdac950f5e343ababde4ce98b228bbe": {
      "model_module": "@jupyter-widgets/output",
      "model_module_version": "1.0.0",
      "model_name": "OutputModel",
      "state": {
       "layout": "IPY_MODEL_7da3382f07e04a88a476ce9f20d757c5",
       "outputs": [
        {
         "data": {
          "image/svg+xml": "<svg baseProfile=\"full\" height=\"400\" version=\"1.1\" width=\"400\" xmlns=\"http://www.w3.org/2000/svg\" xmlns:ev=\"http://www.w3.org/2001/xml-events\" xmlns:xlink=\"http://www.w3.org/1999/xlink\"><defs/><rect fill=\"black\" height=\"400\" width=\"20.0\" x=\"0\" y=\"0\"/><rect fill=\"black\" height=\"400\" width=\"20.0\" x=\"180.0\" y=\"0\"/><rect fill=\"blue\" height=\"400\" width=\"160.0\" x=\"20.0\" y=\"200.0\"/><line stroke=\"black\" x1=\"0\" x2=\"200.0\" y1=\"400\" y2=\"400\"/><line stroke=\"green\" stroke-width=\"3\" x1=\"0\" x2=\"200.0\" y1=\"264.0\" y2=\"264.0\"/><line stroke=\"magenta\" stroke-width=\"3\" x1=\"0\" x2=\"100.0\" y1=\"400\" y2=\"264.0\"/></svg>",
          "text/plain": "<IPython.core.display.SVG object>"
         },
         "metadata": {},
         "output_type": "display_data"
        }
       ]
      }
     },
     "a015d7f146fa45b29c167bb75ace0e5a": {
      "model_module": "@jupyter-widgets/base",
      "model_module_version": "1.0.0",
      "model_name": "LayoutModel",
      "state": {}
     },
     "a077cb05ac054e008123e3c7dd7400ff": {
      "model_module": "@jupyter-widgets/controls",
      "model_module_version": "1.2.0",
      "model_name": "SliderStyleModel",
      "state": {
       "description_width": ""
      }
     },
     "a287e6e960e04401bf6034eb170cf291": {
      "model_module": "@jupyter-widgets/controls",
      "model_module_version": "1.2.0",
      "model_name": "FloatSliderModel",
      "state": {
       "description": "wall_thck",
       "layout": "IPY_MODEL_5ac20303b57d4a3e8860e3d98164a2e7",
       "max": 0.05,
       "step": 0.001,
       "style": "IPY_MODEL_d466629491f94f79988b126cfb0951ea",
       "value": 0.025
      }
     },
     "a299157860394c4e82dd9d8c444c89cb": {
      "model_module": "@jupyter-widgets/base",
      "model_module_version": "1.0.0",
      "model_name": "LayoutModel",
      "state": {}
     },
     "a29a84f54fe744408216644cd1a93d97": {
      "model_module": "@jupyter-widgets/controls",
      "model_module_version": "1.2.0",
      "model_name": "FloatSliderModel",
      "state": {
       "description": "base_wdth",
       "layout": "IPY_MODEL_87713329319c48b18e03001dd8400c7d",
       "max": 1,
       "step": 0.01,
       "style": "IPY_MODEL_8b67e7e374dc4fc39685cadba51a7c94",
       "value": 1
      }
     },
     "a2a0df96a03b42e982c7d4e0b0f4fe66": {
      "model_module": "@jupyter-widgets/controls",
      "model_module_version": "1.2.0",
      "model_name": "SliderStyleModel",
      "state": {
       "description_width": ""
      }
     },
     "a3121666d5d846c581c2d8abf1180c49": {
      "model_module": "@jupyter-widgets/base",
      "model_module_version": "1.0.0",
      "model_name": "LayoutModel",
      "state": {}
     },
     "a36111415c9344068c297e3c9acd9f5c": {
      "model_module": "@jupyter-widgets/controls",
      "model_module_version": "1.2.0",
      "model_name": "FloatSliderModel",
      "state": {
       "description": "wall_density",
       "layout": "IPY_MODEL_5b2e5f011a5b42628c09c3a9e1e1a968",
       "max": 3,
       "step": 0.01,
       "style": "IPY_MODEL_a825a489dff145d79eb8585676397a94",
       "value": 1
      }
     },
     "a3e79661e4f04f5983126f4a852b747f": {
      "model_module": "@jupyter-widgets/base",
      "model_module_version": "1.0.0",
      "model_name": "LayoutModel",
      "state": {}
     },
     "a3ecb48834af4d39802a632e66cddc81": {
      "model_module": "@jupyter-widgets/controls",
      "model_module_version": "1.2.0",
      "model_name": "VBoxModel",
      "state": {
       "_dom_classes": [
        "widget-interact"
       ],
       "children": [
        "IPY_MODEL_080055b66e084a58aa5d47cc34cac417",
        "IPY_MODEL_dcf85124cdc44273a554aa34e34a185b",
        "IPY_MODEL_079e77f8644745059b525ab4e36d930b",
        "IPY_MODEL_9abd1608c2fb464893330d266c60608d",
        "IPY_MODEL_6100912a1ada40e7832d1ea52e371f8c"
       ],
       "layout": "IPY_MODEL_5136e2a43db54405b7d3b0134c89951a"
      }
     },
     "a40d92c664d84d6ab4f7a5e674791ad0": {
      "model_module": "@jupyter-widgets/controls",
      "model_module_version": "1.2.0",
      "model_name": "FloatSliderModel",
      "state": {
       "description": "base_wdth",
       "layout": "IPY_MODEL_33c20aab52dc4698b11476127ae74c8e",
       "max": 1,
       "step": 0.01,
       "style": "IPY_MODEL_c094402070674224871ab81e419741ad",
       "value": 0.5
      }
     },
     "a43f5217fa07462fb065accf00dc00a4": {
      "model_module": "@jupyter-widgets/base",
      "model_module_version": "1.0.0",
      "model_name": "LayoutModel",
      "state": {}
     },
     "a47f33a8e93f43408d2960dd4ebea943": {
      "model_module": "@jupyter-widgets/base",
      "model_module_version": "1.0.0",
      "model_name": "LayoutModel",
      "state": {}
     },
     "a505fef8593b4b0e87d1976fa0c299a5": {
      "model_module": "@jupyter-widgets/controls",
      "model_module_version": "1.2.0",
      "model_name": "SliderStyleModel",
      "state": {
       "description_width": ""
      }
     },
     "a5552be73fe747499e3d98c4d00ed3e1": {
      "model_module": "@jupyter-widgets/base",
      "model_module_version": "1.0.0",
      "model_name": "LayoutModel",
      "state": {}
     },
     "a5b5c89c5e784400bb164057dcb21578": {
      "model_module": "@jupyter-widgets/controls",
      "model_module_version": "1.2.0",
      "model_name": "FloatSliderModel",
      "state": {
       "description": "base_width",
       "layout": "IPY_MODEL_be02778244284090822b6ce1c8cc4ced",
       "max": 1,
       "step": 0.01,
       "style": "IPY_MODEL_9840199a9cc4461c9e8927590c1384bb",
       "value": 0.5
      }
     },
     "a5b79e75ab254cb381f76c566f9c56bd": {
      "model_module": "@jupyter-widgets/output",
      "model_module_version": "1.0.0",
      "model_name": "OutputModel",
      "state": {
       "layout": "IPY_MODEL_e412abb4865440bb82fe38e6805380cc",
       "outputs": [
        {
         "data": {
          "image/svg+xml": "<svg baseProfile=\"full\" height=\"400\" version=\"1.1\" width=\"400\" xmlns=\"http://www.w3.org/2000/svg\" xmlns:ev=\"http://www.w3.org/2001/xml-events\" xmlns:xlink=\"http://www.w3.org/1999/xlink\"><defs/><rect fill=\"black\" height=\"400\" width=\"10.0\" x=\"0\" y=\"0\"/><rect fill=\"black\" height=\"400\" width=\"10.0\" x=\"190.0\" y=\"0\"/><rect fill=\"blue\" height=\"400\" width=\"180.0\" x=\"10.0\" y=\"200.0\"/><line stroke=\"black\" x1=\"0\" x2=\"200.0\" y1=\"400\" y2=\"400\"/><line stroke=\"green\" stroke-width=\"3\" x1=\"0\" x2=\"200.0\" y1=\"281.0\" y2=\"281.0\"/><line stroke=\"magenta\" stroke-width=\"3\" x1=\"0\" x2=\"100.0\" y1=\"400\" y2=\"281.0\"/><text fill=\"magenta\" font-size=\"24\" stroke=\"magenta\" x=\"30.0\" y=\"316.7\">α</text></svg>",
          "text/plain": "<IPython.core.display.SVG object>"
         },
         "metadata": {},
         "output_type": "display_data"
        }
       ]
      }
     },
     "a639bda171d748d898e873e834bb57ba": {
      "model_module": "@jupyter-widgets/output",
      "model_module_version": "1.0.0",
      "model_name": "OutputModel",
      "state": {
       "layout": "IPY_MODEL_3ff3cd1100cd4942ba0108c1d169d383",
       "outputs": [
        {
         "data": {
          "image/svg+xml": "<svg baseProfile=\"full\" height=\"400\" version=\"1.1\" width=\"400\" xmlns=\"http://www.w3.org/2000/svg\" xmlns:ev=\"http://www.w3.org/2001/xml-events\" xmlns:xlink=\"http://www.w3.org/1999/xlink\"><defs/><rect fill=\"black\" height=\"400\" width=\"40.0\" x=\"0\" y=\"0\"/><rect fill=\"black\" height=\"400\" width=\"40.0\" x=\"160.0\" y=\"0\"/><rect fill=\"blue\" height=\"400\" width=\"120.0\" x=\"40.0\" y=\"220.0\"/><line stroke=\"black\" x1=\"0\" x2=\"200.0\" y1=\"400\" y2=\"400\"/><line stroke=\"green\" stroke-width=\"3\" x1=\"0\" x2=\"200.0\" y1=\"215.88235294117646\" y2=\"215.88235294117646\"/><line stroke=\"magenta\" stroke-width=\"3\" x1=\"0\" x2=\"100.0\" y1=\"400\" y2=\"215.88235294117646\"/></svg>",
          "text/plain": "<IPython.core.display.SVG object>"
         },
         "metadata": {},
         "output_type": "display_data"
        }
       ]
      }
     },
     "a66709a201a9408ba83d3a5e2b0f362e": {
      "model_module": "@jupyter-widgets/controls",
      "model_module_version": "1.2.0",
      "model_name": "FloatSliderModel",
      "state": {
       "description": "wall_density",
       "layout": "IPY_MODEL_91ee4da0a4a04c42904b2a0abad17691",
       "max": 3,
       "step": 0.01,
       "style": "IPY_MODEL_c78562a1873b4d31a76c0cb2a1638aa1",
       "value": 1
      }
     },
     "a680c8fc2b2f4595b8725f1c50675544": {
      "model_module": "@jupyter-widgets/output",
      "model_module_version": "1.0.0",
      "model_name": "OutputModel",
      "state": {
       "layout": "IPY_MODEL_7f074578838b4bc594776e94e49423d0",
       "outputs": [
        {
         "data": {
          "image/png": "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\n",
          "text/plain": "<Figure size 432x288 with 1 Axes>"
         },
         "metadata": {},
         "output_type": "display_data"
        }
       ]
      }
     },
     "a6e163a7f67841b8a4520f373d327ce7": {
      "model_module": "@jupyter-widgets/controls",
      "model_module_version": "1.2.0",
      "model_name": "FloatSliderModel",
      "state": {
       "description": "liquid_height",
       "layout": "IPY_MODEL_dfa770988aad4b37b2a6f792c376a72d",
       "max": 1,
       "step": 0.01,
       "style": "IPY_MODEL_16ee8adbb6dd42a0903e9fb5f79f88a6",
       "value": 0.6
      }
     },
     "a71c91c26c744f5db396e3995b498dcf": {
      "model_module": "@jupyter-widgets/controls",
      "model_module_version": "1.2.0",
      "model_name": "SliderStyleModel",
      "state": {
       "description_width": ""
      }
     },
     "a73315bb8da642cc86f5a34da02210be": {
      "model_module": "@jupyter-widgets/base",
      "model_module_version": "1.0.0",
      "model_name": "LayoutModel",
      "state": {}
     },
     "a7e9fd23d8154581b7c449e078291f56": {
      "model_module": "@jupyter-widgets/controls",
      "model_module_version": "1.2.0",
      "model_name": "VBoxModel",
      "state": {
       "_dom_classes": [
        "widget-interact"
       ],
       "children": [
        "IPY_MODEL_7c8000149ed64021b2039ec21c80d011",
        "IPY_MODEL_4f7366ca79a44c1c98a7123cf7d16b47",
        "IPY_MODEL_577ab132f512429ea22cc5144bdb0936",
        "IPY_MODEL_9e2f2a4a01c84d2bbf6eae7fe229720f",
        "IPY_MODEL_9fdac950f5e343ababde4ce98b228bbe"
       ],
       "layout": "IPY_MODEL_937862d409404baca4822bb8f2a1bce9"
      }
     },
     "a806531b43f8452787755e82d27a6865": {
      "model_module": "@jupyter-widgets/controls",
      "model_module_version": "1.2.0",
      "model_name": "SliderStyleModel",
      "state": {
       "description_width": ""
      }
     },
     "a825a489dff145d79eb8585676397a94": {
      "model_module": "@jupyter-widgets/controls",
      "model_module_version": "1.2.0",
      "model_name": "SliderStyleModel",
      "state": {
       "description_width": ""
      }
     },
     "a8af228e1d3b4adba6d4a5177149f17e": {
      "model_module": "@jupyter-widgets/output",
      "model_module_version": "1.0.0",
      "model_name": "OutputModel",
      "state": {
       "layout": "IPY_MODEL_ff07391526014ce698f8e2d0970a0814",
       "outputs": [
        {
         "data": {
          "image/svg+xml": "<svg baseProfile=\"full\" height=\"400\" version=\"1.1\" width=\"400\" xmlns=\"http://www.w3.org/2000/svg\" xmlns:ev=\"http://www.w3.org/2001/xml-events\" xmlns:xlink=\"http://www.w3.org/1999/xlink\"><defs/><rect fill=\"black\" height=\"400\" width=\"10.0\" x=\"0\" y=\"0\"/><rect fill=\"black\" height=\"400\" width=\"10.0\" x=\"198.0\" y=\"0\"/><rect fill=\"blue\" height=\"400\" width=\"188.0\" x=\"10.0\" y=\"200.0\"/><line stroke=\"black\" x1=\"0\" x2=\"208.0\" y1=\"400\" y2=\"400\"/><line stroke=\"green\" stroke-width=\"3\" x1=\"0\" x2=\"208.0\" y1=\"281.6937869822485\" y2=\"281.6937869822485\"/><line stroke=\"magenta\" stroke-width=\"3\" x1=\"0\" x2=\"104.0\" y1=\"400\" y2=\"281.6937869822485\"/><text fill=\"magenta\" font-size=\"24\" stroke=\"magenta\" x=\"31.2\" y=\"317.18565088757396\">α</text></svg>",
          "text/plain": "<IPython.core.display.SVG object>"
         },
         "metadata": {},
         "output_type": "display_data"
        }
       ]
      }
     },
     "a8c18eb2758348dab40f82d91732d4b9": {
      "model_module": "@jupyter-widgets/controls",
      "model_module_version": "1.2.0",
      "model_name": "FloatSliderModel",
      "state": {
       "description": "wall_thickness",
       "layout": "IPY_MODEL_9f57238a4211492987e36f47fa23bec4",
       "max": 0.2,
       "step": 0.01,
       "style": "IPY_MODEL_f8992b6bac734e5c95fe667224a64bdb",
       "value": 0.02
      }
     },
     "a8e26a3f781d4d729a4a9b75d913baf0": {
      "model_module": "@jupyter-widgets/base",
      "model_module_version": "1.0.0",
      "model_name": "LayoutModel",
      "state": {}
     },
     "a8f5611b91934b3a869bc0e68c275d78": {
      "model_module": "@jupyter-widgets/controls",
      "model_module_version": "1.2.0",
      "model_name": "VBoxModel",
      "state": {
       "_dom_classes": [
        "widget-interact"
       ],
       "children": [
        "IPY_MODEL_64210675c97e439bbfb3f3b9357372e8",
        "IPY_MODEL_a66709a201a9408ba83d3a5e2b0f362e",
        "IPY_MODEL_3c042f238c614dae85d4942ee21bdf10",
        "IPY_MODEL_a6e163a7f67841b8a4520f373d327ce7",
        "IPY_MODEL_80184bbb25214f0ca12e786062d490f7"
       ],
       "layout": "IPY_MODEL_7316f60a6d1945309b10341458bc04ca"
      }
     },
     "a961737db95845879eec6e8ce15b4df3": {
      "model_module": "@jupyter-widgets/controls",
      "model_module_version": "1.2.0",
      "model_name": "SliderStyleModel",
      "state": {
       "description_width": ""
      }
     },
     "a9be888c2597401682e55a19f59acaf6": {
      "model_module": "@jupyter-widgets/controls",
      "model_module_version": "1.2.0",
      "model_name": "SliderStyleModel",
      "state": {
       "description_width": ""
      }
     },
     "aa0fe14794f54fe1afd5dfb3faa56912": {
      "model_module": "@jupyter-widgets/controls",
      "model_module_version": "1.2.0",
      "model_name": "FloatSliderModel",
      "state": {
       "description": "liqd_hght",
       "layout": "IPY_MODEL_8910b7f813fe427291f2e5f478e5a5f2",
       "max": 1,
       "step": 0.01,
       "style": "IPY_MODEL_d9ff1818407140378dfe51a4465bf787",
       "value": 0.5
      }
     },
     "aadda429ba2c4a25b44dfc72542961eb": {
      "model_module": "@jupyter-widgets/base",
      "model_module_version": "1.0.0",
      "model_name": "LayoutModel",
      "state": {}
     },
     "aaebefdb567d4b3492ca6882605b9c91": {
      "model_module": "@jupyter-widgets/controls",
      "model_module_version": "1.2.0",
      "model_name": "SliderStyleModel",
      "state": {
       "description_width": ""
      }
     },
     "aaf2944a03134a1f8fa53c0eb31b5a96": {
      "model_module": "@jupyter-widgets/output",
      "model_module_version": "1.0.0",
      "model_name": "OutputModel",
      "state": {
       "layout": "IPY_MODEL_d5bbf7e00c9b4be09e264de2e5248a88",
       "outputs": [
        {
         "data": {
          "text/plain": "(10, 5, 2, 7)"
         },
         "metadata": {},
         "output_type": "display_data"
        }
       ]
      }
     },
     "ac28b4a978bd48dc8a374ac140e3edcd": {
      "model_module": "@jupyter-widgets/output",
      "model_module_version": "1.0.0",
      "model_name": "OutputModel",
      "state": {
       "layout": "IPY_MODEL_83a3cd2634d5496593ac1fa14030d5f3",
       "outputs": [
        {
         "data": {
          "image/svg+xml": "<svg baseProfile=\"full\" height=\"400\" version=\"1.1\" width=\"400\" xmlns=\"http://www.w3.org/2000/svg\" xmlns:ev=\"http://www.w3.org/2001/xml-events\" xmlns:xlink=\"http://www.w3.org/1999/xlink\"><defs/><rect fill=\"black\" height=\"400\" width=\"10.0\" x=\"0\" y=\"0\"/><rect fill=\"black\" height=\"400\" width=\"10.0\" x=\"190.0\" y=\"0\"/><rect fill=\"blue\" height=\"400\" width=\"180.0\" x=\"10.0\" y=\"200.0\"/><line stroke=\"black\" x1=\"0\" x2=\"200.0\" y1=\"400\" y2=\"400\"/><line stroke=\"green\" stroke-width=\"3\" x1=\"0\" x2=\"200.0\" y1=\"281.0\" y2=\"281.0\"/><line stroke=\"magenta\" stroke-width=\"3\" x1=\"0\" x2=\"100.0\" y1=\"400\" y2=\"281.0\"/><text font-size=\"18\" stroke=\"magenta\" x=\"30.0\" y=\"316.7\">α</text></svg>",
          "text/plain": "<IPython.core.display.SVG object>"
         },
         "metadata": {},
         "output_type": "display_data"
        }
       ]
      }
     },
     "ac38d5f8e85e4161b5af24ffb33c3029": {
      "model_module": "@jupyter-widgets/base",
      "model_module_version": "1.0.0",
      "model_name": "LayoutModel",
      "state": {}
     },
     "acc5d0c61aec4b288a178e3a77542380": {
      "model_module": "@jupyter-widgets/base",
      "model_module_version": "1.0.0",
      "model_name": "LayoutModel",
      "state": {}
     },
     "acd2fa34c9f4424089ae5ea05ae21128": {
      "model_module": "@jupyter-widgets/controls",
      "model_module_version": "1.2.0",
      "model_name": "SliderStyleModel",
      "state": {
       "description_width": ""
      }
     },
     "acffb7aa9f894bcbaf7de1e130193afd": {
      "model_module": "@jupyter-widgets/base",
      "model_module_version": "1.0.0",
      "model_name": "LayoutModel",
      "state": {}
     },
     "ad1d91d4fab4445c91465fd04b778195": {
      "model_module": "@jupyter-widgets/output",
      "model_module_version": "1.0.0",
      "model_name": "OutputModel",
      "state": {
       "layout": "IPY_MODEL_ee3d5bd430d54c8386a027e762c33127",
       "outputs": [
        {
         "data": {
          "image/svg+xml": "<svg baseProfile=\"full\" height=\"400\" version=\"1.1\" width=\"400\" xmlns=\"http://www.w3.org/2000/svg\" xmlns:ev=\"http://www.w3.org/2001/xml-events\" xmlns:xlink=\"http://www.w3.org/1999/xlink\"><defs/><rect fill=\"black\" height=\"400\" width=\"10.0\" x=\"0\" y=\"0\"/><rect fill=\"black\" height=\"400\" width=\"10.0\" x=\"190.0\" y=\"0\"/><rect fill=\"blue\" height=\"400\" width=\"180.0\" x=\"10.0\" y=\"200.0\"/><line stroke=\"black\" x1=\"0\" x2=\"200.0\" y1=\"400\" y2=\"400\"/><line stroke=\"green\" stroke-width=\"3\" x1=\"0\" x2=\"200.0\" y1=\"281.0\" y2=\"281.0\"/><line stroke=\"magenta\" stroke-width=\"3\" x1=\"0\" x2=\"100.0\" y1=\"400\" y2=\"281.0\"/><text fill=\"magenta\" font-size=\"24\" stroke=\"magenta\" x=\"30.0\" y=\"316.7\">α</text></svg>",
          "text/plain": "<IPython.core.display.SVG object>"
         },
         "metadata": {},
         "output_type": "display_data"
        }
       ]
      }
     },
     "ad5851659c6f48f79399d0d18d0e7f64": {
      "model_module": "@jupyter-widgets/controls",
      "model_module_version": "1.2.0",
      "model_name": "FloatSliderModel",
      "state": {
       "description": "wall_density",
       "layout": "IPY_MODEL_a3121666d5d846c581c2d8abf1180c49",
       "max": 3,
       "step": 0.01,
       "style": "IPY_MODEL_16ccf4c2ceca47578561164270e66998",
       "value": 1
      }
     },
     "ad879e9f300a484a9a637f928c63d4ef": {
      "model_module": "@jupyter-widgets/base",
      "model_module_version": "1.0.0",
      "model_name": "LayoutModel",
      "state": {}
     },
     "ad9b4c32231248c5bb799eb48ee9ee9f": {
      "model_module": "@jupyter-widgets/base",
      "model_module_version": "1.0.0",
      "model_name": "LayoutModel",
      "state": {}
     },
     "adb49e293e914e1d9c18d0b20742a9f0": {
      "model_module": "@jupyter-widgets/controls",
      "model_module_version": "1.2.0",
      "model_name": "FloatSliderModel",
      "state": {
       "description": "wall_density",
       "layout": "IPY_MODEL_21d5ad7b01e94e619f389b507997cafe",
       "max": 3,
       "step": 0.01,
       "style": "IPY_MODEL_fe54f747843144859741ff99ad715e05",
       "value": 0.35
      }
     },
     "ae2507b2aa384a0fa4ce0eda26a29c5f": {
      "model_module": "@jupyter-widgets/controls",
      "model_module_version": "1.2.0",
      "model_name": "FloatSliderModel",
      "state": {
       "description": "base_wdth",
       "layout": "IPY_MODEL_b842da6cdcc1434985b60b8610365bad",
       "max": 1,
       "step": 0.01,
       "style": "IPY_MODEL_2e8f726d3bfb46edabca228731033ecd",
       "value": 0.5
      }
     },
     "ae8539f93a66480a8b6be20913d44acb": {
      "model_module": "@jupyter-widgets/base",
      "model_module_version": "1.0.0",
      "model_name": "LayoutModel",
      "state": {}
     },
     "aeb45a536f5a4deb9cb177b0d7154d8a": {
      "model_module": "@jupyter-widgets/controls",
      "model_module_version": "1.2.0",
      "model_name": "VBoxModel",
      "state": {
       "_dom_classes": [
        "widget-interact"
       ],
       "children": [
        "IPY_MODEL_7b54a8a09f5f460cb6440e256797c7b5",
        "IPY_MODEL_f13b12abbfe54647858cdc168c966a56",
        "IPY_MODEL_c5322129f58d45cdb949d4b0c7be9baa",
        "IPY_MODEL_8d46bddc744141689e02d8ee64840097",
        "IPY_MODEL_fb1e77476b4a437c92219682521388b7"
       ],
       "layout": "IPY_MODEL_05304d36b26d4533bb6c219212bc6dcf"
      }
     },
     "aeb4dc1db6314bf5976249ed621a4692": {
      "model_module": "@jupyter-widgets/base",
      "model_module_version": "1.0.0",
      "model_name": "LayoutModel",
      "state": {}
     },
     "aef1f4691c8f4a0d9cbadf7b8e942b93": {
      "model_module": "@jupyter-widgets/controls",
      "model_module_version": "1.2.0",
      "model_name": "FloatSliderModel",
      "state": {
       "description": "fluid_height",
       "layout": "IPY_MODEL_dbddded035024afc8ab6cab61133dfa1",
       "max": 1,
       "step": 0.01,
       "style": "IPY_MODEL_d240689222004895bffe8e82a19452d0",
       "value": 0.37
      }
     },
     "af116c8f61724a23805078a34b50c5e5": {
      "model_module": "@jupyter-widgets/base",
      "model_module_version": "1.0.0",
      "model_name": "LayoutModel",
      "state": {}
     },
     "b055ceb403db4c27b2afd5f3f8c61a35": {
      "model_module": "@jupyter-widgets/base",
      "model_module_version": "1.0.0",
      "model_name": "LayoutModel",
      "state": {}
     },
     "b0a4bdc9ef0442c598f6fbb8e35c51ec": {
      "model_module": "@jupyter-widgets/controls",
      "model_module_version": "1.2.0",
      "model_name": "SliderStyleModel",
      "state": {
       "description_width": ""
      }
     },
     "b0f1ac29cd894581adb4a820e7e7352d": {
      "model_module": "@jupyter-widgets/output",
      "model_module_version": "1.0.0",
      "model_name": "OutputModel",
      "state": {
       "layout": "IPY_MODEL_ad9b4c32231248c5bb799eb48ee9ee9f",
       "outputs": [
        {
         "data": {
          "image/svg+xml": "<svg baseProfile=\"full\" height=\"400\" version=\"1.1\" width=\"400\" xmlns=\"http://www.w3.org/2000/svg\" xmlns:ev=\"http://www.w3.org/2001/xml-events\" xmlns:xlink=\"http://www.w3.org/1999/xlink\"><defs/><rect fill=\"black\" height=\"400\" width=\"10.0\" x=\"0\" y=\"0\"/><rect fill=\"black\" height=\"400\" width=\"10.0\" x=\"190.0\" y=\"0\"/><rect fill=\"blue\" height=\"400\" width=\"180.0\" x=\"10.0\" y=\"344.0\"/><line stroke=\"black\" x1=\"0\" x2=\"200.0\" y1=\"400\" y2=\"400\"/><line stroke=\"green\" stroke-width=\"3\" x1=\"0\" x2=\"200.0\" y1=\"293.59309021113245\" y2=\"293.59309021113245\"/><line stroke=\"magenta\" stroke-width=\"3\" x1=\"0\" x2=\"100.0\" y1=\"400\" y2=\"293.59309021113245\"/><text stroke=\"magenta\" x=\"30.0\" y=\"325.5151631477927\">α</text></svg>",
          "text/plain": "<IPython.core.display.SVG object>"
         },
         "metadata": {},
         "output_type": "display_data"
        }
       ]
      }
     },
     "b103519ff2f648499c6ba3b141944f6e": {
      "model_module": "@jupyter-widgets/base",
      "model_module_version": "1.0.0",
      "model_name": "LayoutModel",
      "state": {}
     },
     "b1bf88e0308a420aabfaa9bdfcace88d": {
      "model_module": "@jupyter-widgets/controls",
      "model_module_version": "1.2.0",
      "model_name": "FloatSliderModel",
      "state": {
       "description": "base_width",
       "layout": "IPY_MODEL_e51d5af07a6d4d128b9278d6296c2274",
       "max": 1,
       "step": 0.01,
       "style": "IPY_MODEL_1d28e1f1a1824d4b99eff437e8511910",
       "value": 0.79
      }
     },
     "b1cd0e906de344498787dd71e7b72085": {
      "model_module": "@jupyter-widgets/output",
      "model_module_version": "1.0.0",
      "model_name": "OutputModel",
      "state": {
       "layout": "IPY_MODEL_af116c8f61724a23805078a34b50c5e5",
       "outputs": [
        {
         "data": {
          "image/svg+xml": "<svg baseProfile=\"full\" height=\"200\" version=\"1.1\" width=\"200\" xmlns=\"http://www.w3.org/2000/svg\" xmlns:ev=\"http://www.w3.org/2001/xml-events\" xmlns:xlink=\"http://www.w3.org/1999/xlink\"><defs/><rect fill=\"black\" height=\"200\" width=\"20.0\" x=\"0\" y=\"0\"/><rect fill=\"black\" height=\"200\" width=\"20.0\" x=\"120.0\" y=\"0\"/><rect fill=\"blue\" height=\"200\" width=\"100.0\" x=\"20.0\" y=\"80.0\"/><line stroke=\"black\" x1=\"0\" x2=\"140.0\" y1=\"200\" y2=\"200\"/><line stroke=\"green\" stroke-width=\"3\" x1=\"0\" x2=\"140.0\" y1=\"115.38461538461539\" y2=\"115.38461538461539\"/></svg>",
          "text/plain": "<IPython.core.display.SVG object>"
         },
         "metadata": {},
         "output_type": "display_data"
        }
       ]
      }
     },
     "b1fda35007204db1b32eebb3c68e3a62": {
      "model_module": "@jupyter-widgets/base",
      "model_module_version": "1.0.0",
      "model_name": "LayoutModel",
      "state": {}
     },
     "b204f780db5d4296b8e31627001a65fa": {
      "model_module": "@jupyter-widgets/controls",
      "model_module_version": "1.2.0",
      "model_name": "FloatSliderModel",
      "state": {
       "description": "wall_thickness",
       "layout": "IPY_MODEL_362563f385874ecb8dd2dbcb46c0c347",
       "max": 0.2,
       "step": 0.01,
       "style": "IPY_MODEL_72d3a4770e6241e4b53f1eb023a1b536",
       "value": 0.01
      }
     },
     "b23ba31098a742d18b74630f19998e9b": {
      "model_module": "@jupyter-widgets/controls",
      "model_module_version": "1.2.0",
      "model_name": "FloatSliderModel",
      "state": {
       "description": "liquid_height",
       "layout": "IPY_MODEL_6b3a0b0b09b44fc08ae2b8c9f7032ae7",
       "max": 1,
       "step": 0.01,
       "style": "IPY_MODEL_6710c28ea3db4a63ade47b875ffffb64",
       "value": 0.6
      }
     },
     "b251fa76fa95422d9027e1b0a348e4c5": {
      "model_module": "@jupyter-widgets/controls",
      "model_module_version": "1.2.0",
      "model_name": "SliderStyleModel",
      "state": {
       "description_width": ""
      }
     },
     "b37cd54e00ab40efba65c3b0fada38f3": {
      "model_module": "@jupyter-widgets/base",
      "model_module_version": "1.0.0",
      "model_name": "LayoutModel",
      "state": {}
     },
     "b3ba333991c24e02ad69b483dc36a5e1": {
      "model_module": "@jupyter-widgets/controls",
      "model_module_version": "1.2.0",
      "model_name": "FloatSliderModel",
      "state": {
       "description": "wall_density",
       "layout": "IPY_MODEL_fe68175f564c453480c2fb504be5fc71",
       "max": 3,
       "step": 0.01,
       "style": "IPY_MODEL_6787ee67d5ff4111a550807bcf47b92f",
       "value": 1
      }
     },
     "b3ee4bc8ff98435c84414c34c4345277": {
      "model_module": "@jupyter-widgets/controls",
      "model_module_version": "1.2.0",
      "model_name": "SliderStyleModel",
      "state": {
       "description_width": ""
      }
     },
     "b4357a7a31014bc88dc447b7290f4899": {
      "model_module": "@jupyter-widgets/controls",
      "model_module_version": "1.2.0",
      "model_name": "FloatSliderModel",
      "state": {
       "description": "liqd_hght",
       "layout": "IPY_MODEL_c88a0ae4e42a49b8a3d0b5b608e4bdd4",
       "max": 1,
       "step": 0.01,
       "style": "IPY_MODEL_14d084af0573469c802b5c7849156f81",
       "value": 0.5
      }
     },
     "b4692fc9786c4ab1b4d2d00d6805fea0": {
      "model_module": "@jupyter-widgets/base",
      "model_module_version": "1.0.0",
      "model_name": "LayoutModel",
      "state": {}
     },
     "b484ee70ebc84379975ea951db67f6c6": {
      "model_module": "@jupyter-widgets/base",
      "model_module_version": "1.0.0",
      "model_name": "LayoutModel",
      "state": {}
     },
     "b4bc5bd624c4423fa5ca53ae2328feb6": {
      "model_module": "@jupyter-widgets/controls",
      "model_module_version": "1.2.0",
      "model_name": "SliderStyleModel",
      "state": {
       "description_width": ""
      }
     },
     "b4d321c1e7514fa5afdc705f95464586": {
      "model_module": "@jupyter-widgets/base",
      "model_module_version": "1.0.0",
      "model_name": "LayoutModel",
      "state": {}
     },
     "b536a5e40aca4545a96cf4e798ed59c5": {
      "model_module": "@jupyter-widgets/base",
      "model_module_version": "1.0.0",
      "model_name": "LayoutModel",
      "state": {}
     },
     "b5714262370c4645b5c4f7640b40206a": {
      "model_module": "@jupyter-widgets/controls",
      "model_module_version": "1.2.0",
      "model_name": "SliderStyleModel",
      "state": {
       "description_width": ""
      }
     },
     "b5b015c9b81e4817ab35254ab58db054": {
      "model_module": "@jupyter-widgets/base",
      "model_module_version": "1.0.0",
      "model_name": "LayoutModel",
      "state": {}
     },
     "b6029b246ec74e93b3009fb3b0d706ed": {
      "model_module": "@jupyter-widgets/controls",
      "model_module_version": "1.2.0",
      "model_name": "SliderStyleModel",
      "state": {
       "description_width": ""
      }
     },
     "b708f59a76e24083b295acbbc36ca4dc": {
      "model_module": "@jupyter-widgets/output",
      "model_module_version": "1.0.0",
      "model_name": "OutputModel",
      "state": {
       "layout": "IPY_MODEL_5cd90e5a8b774096a7004e7c5bf5f3ee",
       "outputs": [
        {
         "ename": "NameError",
         "evalue": "name 'fh' is not defined",
         "output_type": "error",
         "traceback": [
          "\u001b[0;31m---------------------------------------------------------------------------\u001b[0m",
          "\u001b[0;31mNameError\u001b[0m                                 Traceback (most recent call last)",
          "\u001b[0;32m/opt/miniconda3/lib/python3.6/site-packages/ipywidgets/widgets/interaction.py\u001b[0m in \u001b[0;36mupdate\u001b[0;34m(self, *args)\u001b[0m\n\u001b[1;32m    249\u001b[0m                     \u001b[0mvalue\u001b[0m \u001b[0;34m=\u001b[0m \u001b[0mwidget\u001b[0m\u001b[0;34m.\u001b[0m\u001b[0mget_interact_value\u001b[0m\u001b[0;34m(\u001b[0m\u001b[0;34m)\u001b[0m\u001b[0;34m\u001b[0m\u001b[0m\n\u001b[1;32m    250\u001b[0m                     \u001b[0mself\u001b[0m\u001b[0;34m.\u001b[0m\u001b[0mkwargs\u001b[0m\u001b[0;34m[\u001b[0m\u001b[0mwidget\u001b[0m\u001b[0;34m.\u001b[0m\u001b[0m_kwarg\u001b[0m\u001b[0;34m]\u001b[0m \u001b[0;34m=\u001b[0m \u001b[0mvalue\u001b[0m\u001b[0;34m\u001b[0m\u001b[0m\n\u001b[0;32m--> 251\u001b[0;31m                 \u001b[0mself\u001b[0m\u001b[0;34m.\u001b[0m\u001b[0mresult\u001b[0m \u001b[0;34m=\u001b[0m \u001b[0mself\u001b[0m\u001b[0;34m.\u001b[0m\u001b[0mf\u001b[0m\u001b[0;34m(\u001b[0m\u001b[0;34m**\u001b[0m\u001b[0mself\u001b[0m\u001b[0;34m.\u001b[0m\u001b[0mkwargs\u001b[0m\u001b[0;34m)\u001b[0m\u001b[0;34m\u001b[0m\u001b[0m\n\u001b[0m\u001b[1;32m    252\u001b[0m                 \u001b[0mshow_inline_matplotlib_plots\u001b[0m\u001b[0;34m(\u001b[0m\u001b[0;34m)\u001b[0m\u001b[0;34m\u001b[0m\u001b[0m\n\u001b[1;32m    253\u001b[0m                 \u001b[0;32mif\u001b[0m \u001b[0mself\u001b[0m\u001b[0;34m.\u001b[0m\u001b[0mauto_display\u001b[0m \u001b[0;32mand\u001b[0m \u001b[0mself\u001b[0m\u001b[0;34m.\u001b[0m\u001b[0mresult\u001b[0m \u001b[0;32mis\u001b[0m \u001b[0;32mnot\u001b[0m \u001b[0;32mNone\u001b[0m\u001b[0;34m:\u001b[0m\u001b[0;34m\u001b[0m\u001b[0m\n",
          "\u001b[0;32m<ipython-input-10-62f507c9bc9b>\u001b[0m in \u001b[0;36mdrawing\u001b[0;34m(wall_thickness, wall_density, base_width, liquid_height)\u001b[0m\n\u001b[1;32m     37\u001b[0m     \u001b[0mld\u001b[0m  \u001b[0;34m=\u001b[0m \u001b[0;36m1\u001b[0m                     \u001b[0;31m# liquid density\u001b[0m\u001b[0;34m\u001b[0m\u001b[0m\n\u001b[1;32m     38\u001b[0m     \u001b[0mwm\u001b[0m  \u001b[0;34m=\u001b[0m \u001b[0mwd\u001b[0m\u001b[0;34m*\u001b[0m\u001b[0;34m(\u001b[0m\u001b[0mr2\u001b[0m\u001b[0;34m*\u001b[0m\u001b[0mr2\u001b[0m \u001b[0;34m-\u001b[0m \u001b[0mr1\u001b[0m\u001b[0;34m*\u001b[0m\u001b[0mr1\u001b[0m\u001b[0;34m)\u001b[0m\u001b[0;34m*\u001b[0m\u001b[0mwh\u001b[0m \u001b[0;31m# proportional to mass of wall\u001b[0m\u001b[0;34m\u001b[0m\u001b[0m\n\u001b[0;32m---> 39\u001b[0;31m     \u001b[0mfm\u001b[0m  \u001b[0;34m=\u001b[0m \u001b[0mld\u001b[0m\u001b[0;34m*\u001b[0m\u001b[0;34m(\u001b[0m\u001b[0mr1\u001b[0m\u001b[0;34m*\u001b[0m\u001b[0mr1\u001b[0m        \u001b[0;34m)\u001b[0m\u001b[0;34m*\u001b[0m\u001b[0mfh\u001b[0m \u001b[0;31m# proportional to mass of liquid\u001b[0m\u001b[0;34m\u001b[0m\u001b[0m\n\u001b[0m\u001b[1;32m     40\u001b[0m     \u001b[0mcom\u001b[0m \u001b[0;34m=\u001b[0m \u001b[0mwh\u001b[0m \u001b[0;34m-\u001b[0m \u001b[0;34m(\u001b[0m\u001b[0;36m0.5\u001b[0m\u001b[0;34m*\u001b[0m\u001b[0mwh\u001b[0m\u001b[0;34m*\u001b[0m\u001b[0mwm\u001b[0m \u001b[0;34m+\u001b[0m \u001b[0;36m0.5\u001b[0m\u001b[0;34m*\u001b[0m\u001b[0mfh\u001b[0m\u001b[0;34m*\u001b[0m\u001b[0mfm\u001b[0m\u001b[0;34m)\u001b[0m\u001b[0;34m/\u001b[0m\u001b[0;34m(\u001b[0m\u001b[0mwm\u001b[0m \u001b[0;34m+\u001b[0m \u001b[0mfm\u001b[0m\u001b[0;34m)\u001b[0m\u001b[0;34m\u001b[0m\u001b[0m\n\u001b[1;32m     41\u001b[0m     \u001b[0mdr\u001b[0m\u001b[0;34m.\u001b[0m\u001b[0madd\u001b[0m\u001b[0;34m(\u001b[0m\u001b[0mdr\u001b[0m\u001b[0;34m.\u001b[0m\u001b[0mline\u001b[0m\u001b[0;34m(\u001b[0m\u001b[0;34m(\u001b[0m\u001b[0;36m0\u001b[0m\u001b[0;34m,\u001b[0m \u001b[0mcom\u001b[0m\u001b[0;34m)\u001b[0m\u001b[0;34m,\u001b[0m \u001b[0;34m(\u001b[0m\u001b[0mbw\u001b[0m\u001b[0;34m,\u001b[0m \u001b[0mcom\u001b[0m\u001b[0;34m)\u001b[0m\u001b[0;34m,\u001b[0m \u001b[0mstroke\u001b[0m\u001b[0;34m=\u001b[0m\u001b[0;34m'green'\u001b[0m\u001b[0;34m,\u001b[0m \u001b[0mstroke_width\u001b[0m\u001b[0;34m=\u001b[0m\u001b[0;36m3\u001b[0m\u001b[0;34m)\u001b[0m\u001b[0;34m)\u001b[0m\u001b[0;34m\u001b[0m\u001b[0m\n",
          "\u001b[0;31mNameError\u001b[0m: name 'fh' is not defined"
         ]
        }
       ]
      }
     },
     "b721318ab5ad43eebd5a41e5e9f1b0f1": {
      "model_module": "@jupyter-widgets/controls",
      "model_module_version": "1.2.0",
      "model_name": "VBoxModel",
      "state": {
       "_dom_classes": [
        "widget-interact"
       ],
       "children": [
        "IPY_MODEL_ec5f7352ea4445de94c14b016cc79f03",
        "IPY_MODEL_4a911fb4fb244dd6bfe334fda2b7730e",
        "IPY_MODEL_7f026c03133d40778e96b98ae56ee5a6",
        "IPY_MODEL_085d0938efc748d485f78baa0ea4d56c",
        "IPY_MODEL_fb3d940f58b24e76ac52bf0ee38b1791"
       ],
       "layout": "IPY_MODEL_313a1428d37942e2b8d8289baf049765"
      }
     },
     "b7594e6ac53f4dcd89fb809c46ccf747": {
      "model_module": "@jupyter-widgets/base",
      "model_module_version": "1.0.0",
      "model_name": "LayoutModel",
      "state": {}
     },
     "b7a99f892af34f0381e0a90b2b937f37": {
      "model_module": "@jupyter-widgets/base",
      "model_module_version": "1.0.0",
      "model_name": "LayoutModel",
      "state": {}
     },
     "b7af070384e445ad8286a9706619658b": {
      "model_module": "@jupyter-widgets/controls",
      "model_module_version": "1.2.0",
      "model_name": "SliderStyleModel",
      "state": {
       "description_width": ""
      }
     },
     "b7eab4b98f3148b7afb6e1ac95e00921": {
      "model_module": "@jupyter-widgets/controls",
      "model_module_version": "1.2.0",
      "model_name": "FloatSliderModel",
      "state": {
       "description": "wall_density",
       "layout": "IPY_MODEL_4d8c12e772554ce9a0f48b7fd6063da5",
       "max": 3,
       "step": 0.01,
       "style": "IPY_MODEL_bc20646fa1ce4d509da6b03726b61809",
       "value": 0.4
      }
     },
     "b842da6cdcc1434985b60b8610365bad": {
      "model_module": "@jupyter-widgets/base",
      "model_module_version": "1.0.0",
      "model_name": "LayoutModel",
      "state": {}
     },
     "b895ec5d5fe54e728bc638a7a0c1aa12": {
      "model_module": "@jupyter-widgets/controls",
      "model_module_version": "1.2.0",
      "model_name": "FloatSliderModel",
      "state": {
       "description": "liqd_hght",
       "layout": "IPY_MODEL_beb3d24ea0ea4d58944d1d9e9826758a",
       "max": 1,
       "step": 0.01,
       "style": "IPY_MODEL_749486e1e0a44b5b803424977c573d0f",
       "value": 0.5
      }
     },
     "b99eb687c2bb42ada2ad110e9575aa10": {
      "model_module": "@jupyter-widgets/controls",
      "model_module_version": "1.2.0",
      "model_name": "FloatSliderModel",
      "state": {
       "description": "wall_thickness",
       "layout": "IPY_MODEL_443b6229cd884298a1f29c21209999c3",
       "max": 0.5,
       "step": 0.01,
       "style": "IPY_MODEL_1c8b07c87d184d3db2223945e2a1a38a",
       "value": 0.1
      }
     },
     "b9a6b6a613fe4f4d9f76dc18e0d6a04e": {
      "model_module": "@jupyter-widgets/controls",
      "model_module_version": "1.2.0",
      "model_name": "SliderStyleModel",
      "state": {
       "description_width": ""
      }
     },
     "ba457a31915346c49605562e1632b78e": {
      "model_module": "@jupyter-widgets/base",
      "model_module_version": "1.0.0",
      "model_name": "LayoutModel",
      "state": {}
     },
     "ba9bf13a9d864e43b7bc8e40d07614da": {
      "model_module": "@jupyter-widgets/controls",
      "model_module_version": "1.2.0",
      "model_name": "SliderStyleModel",
      "state": {
       "description_width": ""
      }
     },
     "baa73e20a2d74f698fff7f57d71f3510": {
      "model_module": "@jupyter-widgets/base",
      "model_module_version": "1.0.0",
      "model_name": "LayoutModel",
      "state": {}
     },
     "baaaced1c514460ebf94c5b16b0d2072": {
      "model_module": "@jupyter-widgets/controls",
      "model_module_version": "1.2.0",
      "model_name": "VBoxModel",
      "state": {
       "_dom_classes": [
        "widget-interact"
       ],
       "children": [
        "IPY_MODEL_7eb6a8b1ac8c445e8fb38bcdec8ac6ee",
        "IPY_MODEL_2858c71524424a67a587afb9a7a64b3f"
       ],
       "layout": "IPY_MODEL_330b5a89bd3f4c1e99d9b7c78d28b838"
      }
     },
     "bb7c02956c0148f2978a2793cc12f249": {
      "model_module": "@jupyter-widgets/controls",
      "model_module_version": "1.2.0",
      "model_name": "VBoxModel",
      "state": {
       "_dom_classes": [
        "widget-interact"
       ],
       "children": [
        "IPY_MODEL_c37208d0c6964099a71f2f150427608c",
        "IPY_MODEL_349ee094d0b146b88c7eee0156704b81",
        "IPY_MODEL_d01da204cc3e4595b541520f11fce05e",
        "IPY_MODEL_7858049691bf49dd9a1d0a3c23ca5f0b",
        "IPY_MODEL_ac28b4a978bd48dc8a374ac140e3edcd"
       ],
       "layout": "IPY_MODEL_a3e79661e4f04f5983126f4a852b747f"
      }
     },
     "bb8998e767b647b0a40eebafae12bee0": {
      "model_module": "@jupyter-widgets/controls",
      "model_module_version": "1.2.0",
      "model_name": "VBoxModel",
      "state": {
       "_dom_classes": [
        "widget-interact"
       ],
       "children": [
        "IPY_MODEL_43bf67ba76284ed3aea45a6d302235fd",
        "IPY_MODEL_de7ff03083d84975bc2b1d20c13304a3",
        "IPY_MODEL_ae2507b2aa384a0fa4ce0eda26a29c5f",
        "IPY_MODEL_27df3ca53df44ffcbc8e6d8c60040c1d",
        "IPY_MODEL_50893c29e6b343db9acff16092470cdb"
       ],
       "layout": "IPY_MODEL_102d74970f9e4450ba349067556cce23"
      }
     },
     "bbae8f47b039439f8cc203b5564fb2b5": {
      "model_module": "@jupyter-widgets/controls",
      "model_module_version": "1.2.0",
      "model_name": "FloatSliderModel",
      "state": {
       "description": "wall_thickness",
       "layout": "IPY_MODEL_c6b53202f85d4bea94d55cac0c803a04",
       "max": 0.5,
       "step": 0.01,
       "style": "IPY_MODEL_20eec22d4f05451b85e7665a32d1f401",
       "value": 0.1
      }
     },
     "bc19610c3df34a6eb108f7eabf831c8c": {
      "model_module": "@jupyter-widgets/base",
      "model_module_version": "1.0.0",
      "model_name": "LayoutModel",
      "state": {}
     },
     "bc20646fa1ce4d509da6b03726b61809": {
      "model_module": "@jupyter-widgets/controls",
      "model_module_version": "1.2.0",
      "model_name": "SliderStyleModel",
      "state": {
       "description_width": ""
      }
     },
     "bc244fe03047497aa7b830207bb53051": {
      "model_module": "@jupyter-widgets/controls",
      "model_module_version": "1.2.0",
      "model_name": "SliderStyleModel",
      "state": {
       "description_width": ""
      }
     },
     "bcd1cbcde7d148e0a3c7246209ea27ed": {
      "model_module": "@jupyter-widgets/controls",
      "model_module_version": "1.2.0",
      "model_name": "SliderStyleModel",
      "state": {
       "description_width": ""
      }
     },
     "bcd7e275e417421180f22c30f533f099": {
      "model_module": "@jupyter-widgets/base",
      "model_module_version": "1.0.0",
      "model_name": "LayoutModel",
      "state": {}
     },
     "bd36c8ed65c742d1a4cee168995926a9": {
      "model_module": "@jupyter-widgets/controls",
      "model_module_version": "1.2.0",
      "model_name": "FloatSliderModel",
      "state": {
       "description": "base_width",
       "layout": "IPY_MODEL_4e82d1fa14e8448b9cadd6400e226a98",
       "max": 1,
       "step": 0.01,
       "style": "IPY_MODEL_eaf1230f6fdd47e4a69a2ecc605a0b72",
       "value": 1
      }
     },
     "bdab691537244e8d9fdb191b00fe5774": {
      "model_module": "@jupyter-widgets/base",
      "model_module_version": "1.0.0",
      "model_name": "LayoutModel",
      "state": {}
     },
     "bdc40f11e1f547a6a859bfbc2d6624b7": {
      "model_module": "@jupyter-widgets/base",
      "model_module_version": "1.0.0",
      "model_name": "LayoutModel",
      "state": {}
     },
     "be02778244284090822b6ce1c8cc4ced": {
      "model_module": "@jupyter-widgets/base",
      "model_module_version": "1.0.0",
      "model_name": "LayoutModel",
      "state": {}
     },
     "be1fbbc3617a4e428d4ea7ef5ed7cd0f": {
      "model_module": "@jupyter-widgets/controls",
      "model_module_version": "1.2.0",
      "model_name": "SliderStyleModel",
      "state": {
       "description_width": ""
      }
     },
     "be2c486de2c24830abd0ecb6b6c96933": {
      "model_module": "@jupyter-widgets/output",
      "model_module_version": "1.0.0",
      "model_name": "OutputModel",
      "state": {
       "layout": "IPY_MODEL_939da451e9eb44dca8dd63ca9ef35543",
       "outputs": [
        {
         "ename": "TypeError",
         "evalue": "left_wall() takes 0 positional arguments but 1 was given",
         "output_type": "error",
         "traceback": [
          "\u001b[0;31m---------------------------------------------------------------------------\u001b[0m",
          "\u001b[0;31mTypeError\u001b[0m                                 Traceback (most recent call last)",
          "\u001b[0;32m/opt/miniconda3/lib/python3.6/site-packages/ipywidgets/widgets/interaction.py\u001b[0m in \u001b[0;36mupdate\u001b[0;34m(self, *args)\u001b[0m\n\u001b[1;32m    249\u001b[0m                     \u001b[0mvalue\u001b[0m \u001b[0;34m=\u001b[0m \u001b[0mwidget\u001b[0m\u001b[0;34m.\u001b[0m\u001b[0mget_interact_value\u001b[0m\u001b[0;34m(\u001b[0m\u001b[0;34m)\u001b[0m\u001b[0;34m\u001b[0m\u001b[0m\n\u001b[1;32m    250\u001b[0m                     \u001b[0mself\u001b[0m\u001b[0;34m.\u001b[0m\u001b[0mkwargs\u001b[0m\u001b[0;34m[\u001b[0m\u001b[0mwidget\u001b[0m\u001b[0;34m.\u001b[0m\u001b[0m_kwarg\u001b[0m\u001b[0;34m]\u001b[0m \u001b[0;34m=\u001b[0m \u001b[0mvalue\u001b[0m\u001b[0;34m\u001b[0m\u001b[0m\n\u001b[0;32m--> 251\u001b[0;31m                 \u001b[0mself\u001b[0m\u001b[0;34m.\u001b[0m\u001b[0mresult\u001b[0m \u001b[0;34m=\u001b[0m \u001b[0mself\u001b[0m\u001b[0;34m.\u001b[0m\u001b[0mf\u001b[0m\u001b[0;34m(\u001b[0m\u001b[0;34m**\u001b[0m\u001b[0mself\u001b[0m\u001b[0;34m.\u001b[0m\u001b[0mkwargs\u001b[0m\u001b[0;34m)\u001b[0m\u001b[0;34m\u001b[0m\u001b[0m\n\u001b[0m\u001b[1;32m    252\u001b[0m                 \u001b[0mshow_inline_matplotlib_plots\u001b[0m\u001b[0;34m(\u001b[0m\u001b[0;34m)\u001b[0m\u001b[0;34m\u001b[0m\u001b[0m\n\u001b[1;32m    253\u001b[0m                 \u001b[0;32mif\u001b[0m \u001b[0mself\u001b[0m\u001b[0;34m.\u001b[0m\u001b[0mauto_display\u001b[0m \u001b[0;32mand\u001b[0m \u001b[0mself\u001b[0m\u001b[0;34m.\u001b[0m\u001b[0mresult\u001b[0m \u001b[0;32mis\u001b[0m \u001b[0;32mnot\u001b[0m \u001b[0;32mNone\u001b[0m\u001b[0;34m:\u001b[0m\u001b[0;34m\u001b[0m\u001b[0m\n",
          "\u001b[0;32m<ipython-input-14-1310aa34fa1b>\u001b[0m in \u001b[0;36mdrawing\u001b[0;34m(wall_thickness, wall_density, base_width, liquid_height)\u001b[0m\n\u001b[1;32m     62\u001b[0m     \u001b[0mc\u001b[0m  \u001b[0;34m=\u001b[0m \u001b[0mcontainer\u001b[0m\u001b[0;34m(\u001b[0m\u001b[0mwh\u001b[0m\u001b[0;34m,\u001b[0m \u001b[0mth\u001b[0m\u001b[0;34m,\u001b[0m \u001b[0mbw\u001b[0m\u001b[0;34m,\u001b[0m \u001b[0mlh\u001b[0m\u001b[0;34m)\u001b[0m\u001b[0;34m\u001b[0m\u001b[0m\n\u001b[1;32m     63\u001b[0m \u001b[0;34m\u001b[0m\u001b[0m\n\u001b[0;32m---> 64\u001b[0;31m     \u001b[0mdr\u001b[0m\u001b[0;34m.\u001b[0m\u001b[0madd\u001b[0m\u001b[0;34m(\u001b[0m\u001b[0mdr\u001b[0m\u001b[0;34m.\u001b[0m\u001b[0mrect\u001b[0m\u001b[0;34m(\u001b[0m\u001b[0;34m*\u001b[0m\u001b[0mc\u001b[0m\u001b[0;34m.\u001b[0m\u001b[0mleft_wall\u001b[0m\u001b[0;34m(\u001b[0m\u001b[0;34m)\u001b[0m\u001b[0;34m,\u001b[0m \u001b[0mfill\u001b[0m\u001b[0;34m=\u001b[0m\u001b[0;34m'black'\u001b[0m\u001b[0;34m)\u001b[0m\u001b[0;34m)\u001b[0m\u001b[0;34m\u001b[0m\u001b[0m\n\u001b[0m\u001b[1;32m     65\u001b[0m     \u001b[0;31m#draw_container(dr, bw, wh, th, lh)\u001b[0m\u001b[0;34m\u001b[0m\u001b[0;34m\u001b[0m\u001b[0m\n\u001b[1;32m     66\u001b[0m \u001b[0;34m\u001b[0m\u001b[0m\n",
          "\u001b[0;31mTypeError\u001b[0m: left_wall() takes 0 positional arguments but 1 was given"
         ]
        }
       ]
      }
     },
     "beb3d24ea0ea4d58944d1d9e9826758a": {
      "model_module": "@jupyter-widgets/base",
      "model_module_version": "1.0.0",
      "model_name": "LayoutModel",
      "state": {}
     },
     "bf446b579f774b8aab27782da4166f26": {
      "model_module": "@jupyter-widgets/controls",
      "model_module_version": "1.2.0",
      "model_name": "SliderStyleModel",
      "state": {
       "description_width": ""
      }
     },
     "c060805722874f6187964e1d65009f69": {
      "model_module": "@jupyter-widgets/controls",
      "model_module_version": "1.2.0",
      "model_name": "FloatSliderModel",
      "state": {
       "description": "wall_thickness",
       "layout": "IPY_MODEL_982441362a2344e4a29fe28955331630",
       "max": 0.2,
       "step": 0.01,
       "style": "IPY_MODEL_909de7fccfb449b6af3a3c7d134833e1",
       "value": 0.02
      }
     },
     "c094402070674224871ab81e419741ad": {
      "model_module": "@jupyter-widgets/controls",
      "model_module_version": "1.2.0",
      "model_name": "SliderStyleModel",
      "state": {
       "description_width": ""
      }
     },
     "c0c3ce6e5fe6449ca1de7c0ca0e2579e": {
      "model_module": "@jupyter-widgets/controls",
      "model_module_version": "1.2.0",
      "model_name": "FloatSliderModel",
      "state": {
       "description": "wall_dnst",
       "layout": "IPY_MODEL_f879f142ac434d6480bc549b10cd7e81",
       "max": 3,
       "step": 0.01,
       "style": "IPY_MODEL_f64d7b2ec81941469206aedaa56fcbb0",
       "value": 1.5
      }
     },
     "c11f99b119d4459d8f3033ecce851692": {
      "model_module": "@jupyter-widgets/base",
      "model_module_version": "1.0.0",
      "model_name": "LayoutModel",
      "state": {}
     },
     "c14826d9b3794612aef5b92d9de6cfc0": {
      "model_module": "@jupyter-widgets/base",
      "model_module_version": "1.0.0",
      "model_name": "LayoutModel",
      "state": {}
     },
     "c178c414251b450f888f7a03b33e7cd7": {
      "model_module": "@jupyter-widgets/base",
      "model_module_version": "1.0.0",
      "model_name": "LayoutModel",
      "state": {}
     },
     "c1cc1550117e4831a22252aad872d57e": {
      "model_module": "@jupyter-widgets/base",
      "model_module_version": "1.0.0",
      "model_name": "LayoutModel",
      "state": {}
     },
     "c2505559a53a4901927637ebf513da44": {
      "model_module": "@jupyter-widgets/controls",
      "model_module_version": "1.2.0",
      "model_name": "SliderStyleModel",
      "state": {
       "description_width": ""
      }
     },
     "c37208d0c6964099a71f2f150427608c": {
      "model_module": "@jupyter-widgets/controls",
      "model_module_version": "1.2.0",
      "model_name": "FloatSliderModel",
      "state": {
       "description": "wall_thck",
       "layout": "IPY_MODEL_fa7d36680254419bbb1cd7d040c36aa5",
       "max": 0.05,
       "step": 0.001,
       "style": "IPY_MODEL_181601cbd5114d2386b27cdd60b48c7a",
       "value": 0.025
      }
     },
     "c3aefe063dcb45619dcb0029348d4958": {
      "model_module": "@jupyter-widgets/controls",
      "model_module_version": "1.2.0",
      "model_name": "SliderStyleModel",
      "state": {
       "description_width": ""
      }
     },
     "c3f0aaabf80945fea344743529efdf4b": {
      "model_module": "@jupyter-widgets/controls",
      "model_module_version": "1.2.0",
      "model_name": "SliderStyleModel",
      "state": {
       "description_width": ""
      }
     },
     "c4e92dc5d5fa4c9fae915ecf47d771b2": {
      "model_module": "@jupyter-widgets/controls",
      "model_module_version": "1.2.0",
      "model_name": "FloatSliderModel",
      "state": {
       "description": "base_wdth",
       "layout": "IPY_MODEL_62c0496278d245dd874b0e81145dd429",
       "max": 1,
       "step": 0.01,
       "style": "IPY_MODEL_b5714262370c4645b5c4f7640b40206a",
       "value": 0.5
      }
     },
     "c5322129f58d45cdb949d4b0c7be9baa": {
      "model_module": "@jupyter-widgets/controls",
      "model_module_version": "1.2.0",
      "model_name": "FloatSliderModel",
      "state": {
       "description": "base_wdth",
       "layout": "IPY_MODEL_69366d2cf9bb40289f0d47eb5d2c7177",
       "max": 1,
       "step": 0.01,
       "style": "IPY_MODEL_eebb789d66cc49c2afe59665a58a6abb",
       "value": 0.5
      }
     },
     "c549f07dee314f2ba79769039d1462d9": {
      "model_module": "@jupyter-widgets/controls",
      "model_module_version": "1.2.0",
      "model_name": "FloatSliderModel",
      "state": {
       "description": "base_width",
       "layout": "IPY_MODEL_435d1b24f3a44611b504549ee9ef5abb",
       "max": 1,
       "step": 0.01,
       "style": "IPY_MODEL_3b76fa94944a41748572fe85c2f76d64",
       "value": 0.76
      }
     },
     "c5666c0d8e7642a3a4eb9720aba1912f": {
      "model_module": "@jupyter-widgets/controls",
      "model_module_version": "1.2.0",
      "model_name": "FloatSliderModel",
      "state": {
       "description": "base_width",
       "layout": "IPY_MODEL_a8e26a3f781d4d729a4a9b75d913baf0",
       "max": 1,
       "step": 0.01,
       "style": "IPY_MODEL_f37dc6dc53414e12b130a58bbeffa66d",
       "value": 0.5
      }
     },
     "c580e8947090404e9a5f0ceda3132ddd": {
      "model_module": "@jupyter-widgets/base",
      "model_module_version": "1.0.0",
      "model_name": "LayoutModel",
      "state": {}
     },
     "c6b53202f85d4bea94d55cac0c803a04": {
      "model_module": "@jupyter-widgets/base",
      "model_module_version": "1.0.0",
      "model_name": "LayoutModel",
      "state": {}
     },
     "c6ec652f32b24d61addfc1993470539b": {
      "model_module": "@jupyter-widgets/controls",
      "model_module_version": "1.2.0",
      "model_name": "VBoxModel",
      "state": {
       "_dom_classes": [
        "widget-interact"
       ],
       "children": [
        "IPY_MODEL_7ac2af6b3e1d48079591bb0e49ac3425",
        "IPY_MODEL_cc346266a3804bab875ffc8fe6f50031",
        "IPY_MODEL_0cfaee88d4d44ff6b64028d4ebfe6108",
        "IPY_MODEL_0a794c88f2064b97a5c9c7e38333788e",
        "IPY_MODEL_860f957cc4fa403abc8900378dee089e"
       ],
       "layout": "IPY_MODEL_51043ba143954745acccd16ed7de0bf3"
      }
     },
     "c7564e8a208b45e2bff4e728aa9b2e42": {
      "model_module": "@jupyter-widgets/controls",
      "model_module_version": "1.2.0",
      "model_name": "FloatSliderModel",
      "state": {
       "description": "base_width",
       "layout": "IPY_MODEL_885d3f3395424e3eba6203613b35b45f",
       "max": 1,
       "step": 0.01,
       "style": "IPY_MODEL_1a43a37b6f8a4ab58c6e5f6e5d4db3f7",
       "value": 0.5
      }
     },
     "c78562a1873b4d31a76c0cb2a1638aa1": {
      "model_module": "@jupyter-widgets/controls",
      "model_module_version": "1.2.0",
      "model_name": "SliderStyleModel",
      "state": {
       "description_width": ""
      }
     },
     "c88a0ae4e42a49b8a3d0b5b608e4bdd4": {
      "model_module": "@jupyter-widgets/base",
      "model_module_version": "1.0.0",
      "model_name": "LayoutModel",
      "state": {}
     },
     "c8a8cb0708944d1a95cdd253c0efbcfe": {
      "model_module": "@jupyter-widgets/controls",
      "model_module_version": "1.2.0",
      "model_name": "SliderStyleModel",
      "state": {
       "description_width": ""
      }
     },
     "c8cae00cd91d45199e9bf1ea361fd43b": {
      "model_module": "@jupyter-widgets/controls",
      "model_module_version": "1.2.0",
      "model_name": "FloatSliderModel",
      "state": {
       "description": "wall_thck",
       "layout": "IPY_MODEL_161c8674813d41d1bf44b70a5cd3af8c",
       "max": 0.2,
       "step": 0.01,
       "style": "IPY_MODEL_1978d6af671a48a1bf7667417218b544",
       "value": 0.1
      }
     },
     "c8dc2bf09f384d7a8a1fe047c31e98c8": {
      "model_module": "@jupyter-widgets/output",
      "model_module_version": "1.0.0",
      "model_name": "OutputModel",
      "state": {
       "layout": "IPY_MODEL_9d1537186c6f430097091ad93114ac49",
       "outputs": [
        {
         "data": {
          "image/svg+xml": "<svg baseProfile=\"full\" height=\"500\" version=\"1.1\" width=\"500\" xmlns=\"http://www.w3.org/2000/svg\" xmlns:ev=\"http://www.w3.org/2001/xml-events\" xmlns:xlink=\"http://www.w3.org/1999/xlink\"><defs/><rect fill=\"black\" height=\"500\" width=\"7.5\" x=\"0\" y=\"0\"/><rect fill=\"black\" height=\"500\" width=\"7.5\" x=\"492.5\" y=\"0\"/><rect fill=\"blue\" height=\"500\" width=\"485.0\" x=\"7.5\" y=\"370.0\"/><line stroke=\"black\" x1=\"0\" x2=\"500.0\" y1=\"500\" y2=\"500\"/><line stroke=\"green\" stroke-width=\"3\" x1=\"0\" x2=\"500.0\" y1=\"420.9576999788462\" y2=\"420.9576999788462\"/><line stroke=\"magenta\" stroke-width=\"3\" x1=\"0\" x2=\"250.0\" y1=\"500\" y2=\"420.9576999788462\"/><text fill=\"magenta\" font-size=\"24\" stroke=\"magenta\" x=\"75.0\" y=\"444.67038998519234\">α</text></svg>",
          "text/plain": "<IPython.core.display.SVG object>"
         },
         "metadata": {},
         "output_type": "display_data"
        }
       ]
      }
     },
     "c98316243a2f4764be856fe6c401f5a0": {
      "model_module": "@jupyter-widgets/controls",
      "model_module_version": "1.2.0",
      "model_name": "SliderStyleModel",
      "state": {
       "description_width": ""
      }
     },
     "c9a4c001d89a477a8f7ed22d4cb3174c": {
      "model_module": "@jupyter-widgets/base",
      "model_module_version": "1.0.0",
      "model_name": "LayoutModel",
      "state": {}
     },
     "ca3db8a4e9854b798c0da44f6d2a8c1d": {
      "model_module": "@jupyter-widgets/controls",
      "model_module_version": "1.2.0",
      "model_name": "FloatSliderModel",
      "state": {
       "description": "wall_dnst",
       "layout": "IPY_MODEL_91f94e49e6964c129dc9c5f52335ba42",
       "max": 1,
       "step": 0.01,
       "style": "IPY_MODEL_59c401db48694f77afb32d22d7d1be8b",
       "value": 0.5
      }
     },
     "ca8c86b5d9434dbd854ce747cae785f5": {
      "model_module": "@jupyter-widgets/controls",
      "model_module_version": "1.2.0",
      "model_name": "FloatSliderModel",
      "state": {
       "description": "wall_thickness",
       "layout": "IPY_MODEL_090247dc71d4464585ddd22bf61691d6",
       "max": 0.5,
       "step": 0.01,
       "style": "IPY_MODEL_fffbd2a6aa06494f83fc2d34390f3a53",
       "value": 0.1
      }
     },
     "ca9b96e82f5049089c2579040d025b6b": {
      "model_module": "@jupyter-widgets/controls",
      "model_module_version": "1.2.0",
      "model_name": "SliderStyleModel",
      "state": {
       "description_width": ""
      }
     },
     "cab4407dcd62406ab95ff28970d90a44": {
      "model_module": "@jupyter-widgets/controls",
      "model_module_version": "1.2.0",
      "model_name": "FloatSliderModel",
      "state": {
       "description": "wall_dnst",
       "layout": "IPY_MODEL_e01b3f44e163473494c4ada3103800af",
       "max": 1,
       "step": 0.01,
       "style": "IPY_MODEL_460f8d164d49493b8a7220f325db96b6",
       "value": 0.5
      }
     },
     "cb5c7d4a2dff470b9cdec3bd7e637a21": {
      "model_module": "@jupyter-widgets/output",
      "model_module_version": "1.0.0",
      "model_name": "OutputModel",
      "state": {
       "layout": "IPY_MODEL_81cb5be326f141a2827d2a7bff216c07",
       "outputs": [
        {
         "data": {
          "image/svg+xml": "<svg baseProfile=\"full\" height=\"400\" version=\"1.1\" width=\"400\" xmlns=\"http://www.w3.org/2000/svg\" xmlns:ev=\"http://www.w3.org/2001/xml-events\" xmlns:xlink=\"http://www.w3.org/1999/xlink\"><defs/><rect fill=\"black\" height=\"400\" width=\"8.0\" x=\"0\" y=\"0\"/><rect fill=\"black\" height=\"400\" width=\"8.0\" x=\"140.0\" y=\"0\"/><rect fill=\"blue\" height=\"400\" width=\"132.0\" x=\"8.0\" y=\"212.0\"/><line stroke=\"black\" x1=\"0\" x2=\"148.0\" y1=\"400\" y2=\"400\"/><line stroke=\"green\" stroke-width=\"3\" x1=\"0\" x2=\"148.0\" y1=\"269.5002497982399\" y2=\"269.5002497982399\"/><line stroke=\"magenta\" stroke-width=\"3\" x1=\"0\" x2=\"74.0\" y1=\"400\" y2=\"269.5002497982399\"/></svg>",
          "text/plain": "<IPython.core.display.SVG object>"
         },
         "metadata": {},
         "output_type": "display_data"
        }
       ]
      }
     },
     "cbce9677664f4764bc4909a58c2725d5": {
      "model_module": "@jupyter-widgets/base",
      "model_module_version": "1.0.0",
      "model_name": "LayoutModel",
      "state": {}
     },
     "cc346266a3804bab875ffc8fe6f50031": {
      "model_module": "@jupyter-widgets/controls",
      "model_module_version": "1.2.0",
      "model_name": "FloatSliderModel",
      "state": {
       "description": "wall_dnst",
       "layout": "IPY_MODEL_043d482f297d43649739acfe2721b360",
       "max": 1,
       "step": 0.01,
       "style": "IPY_MODEL_3f789fed29c54e51bc1ee59c74b7a8a0",
       "value": 0.5
      }
     },
     "cc4413b8779a4ae4a172c6067de7d3b8": {
      "model_module": "@jupyter-widgets/controls",
      "model_module_version": "1.2.0",
      "model_name": "SliderStyleModel",
      "state": {
       "description_width": ""
      }
     },
     "cc5a880e378042239ba64ffda858d980": {
      "model_module": "@jupyter-widgets/base",
      "model_module_version": "1.0.0",
      "model_name": "LayoutModel",
      "state": {}
     },
     "cc5b419220414dcf93a6017cad5514ec": {
      "model_module": "@jupyter-widgets/base",
      "model_module_version": "1.0.0",
      "model_name": "LayoutModel",
      "state": {}
     },
     "cd6813cad86e4728aa7d1339da7f0ba7": {
      "model_module": "@jupyter-widgets/controls",
      "model_module_version": "1.2.0",
      "model_name": "FloatSliderModel",
      "state": {
       "description": "wall_dnst",
       "layout": "IPY_MODEL_631d9883f2da4f1cba94046f4adb874d",
       "max": 1,
       "step": 0.01,
       "style": "IPY_MODEL_d8001d5db69248638d861b64b33ea1a6",
       "value": 0.34
      }
     },
     "cd69e458e2fd4593bd3f977188c907b4": {
      "model_module": "@jupyter-widgets/controls",
      "model_module_version": "1.2.0",
      "model_name": "FloatSliderModel",
      "state": {
       "description": "wall_thickness",
       "layout": "IPY_MODEL_e0f48c17db1c409cb6221defbb577ee3",
       "max": 0.5,
       "step": 0.01,
       "style": "IPY_MODEL_3cc4451b765540b59276db3d2f6eca6c",
       "value": 0.04
      }
     },
     "cdd63c9cb8cd4cc0bac2ed837cc9553e": {
      "model_module": "@jupyter-widgets/controls",
      "model_module_version": "1.2.0",
      "model_name": "FloatSliderModel",
      "state": {
       "description": "wall_thck",
       "layout": "IPY_MODEL_6f5d68617d9748eb8af51961507e759c",
       "max": 0.05,
       "step": 0.001,
       "style": "IPY_MODEL_81701de7a85547c0b853e2c9473dc68c",
       "value": 0.025
      }
     },
     "cde416de980f4ed593cdf3b627df7ccf": {
      "model_module": "@jupyter-widgets/controls",
      "model_module_version": "1.2.0",
      "model_name": "VBoxModel",
      "state": {
       "_dom_classes": [
        "widget-interact"
       ],
       "children": [
        "IPY_MODEL_d05bda969be94d34ac5a96f514350975",
        "IPY_MODEL_fbec7e73a2a247809fd7391ef47afd0d",
        "IPY_MODEL_67be243810db4d2d876ff769d70d788b",
        "IPY_MODEL_43fcf569d1584222bbdf191bb4e3647e",
        "IPY_MODEL_644ebc9a9560429d9833cf8d3e97e311"
       ],
       "layout": "IPY_MODEL_588608e7d98846ee88be82fae6730d1b"
      }
     },
     "ce08a9ab9c7c4b78ab2a5d9c5e977c52": {
      "model_module": "@jupyter-widgets/base",
      "model_module_version": "1.0.0",
      "model_name": "LayoutModel",
      "state": {}
     },
     "ce24a4299d3f43e4a06a66bc31f110d7": {
      "model_module": "@jupyter-widgets/base",
      "model_module_version": "1.0.0",
      "model_name": "LayoutModel",
      "state": {}
     },
     "ce7d4194bfe4444ab77ffe3138f8e0b7": {
      "model_module": "@jupyter-widgets/controls",
      "model_module_version": "1.2.0",
      "model_name": "FloatSliderModel",
      "state": {
       "description": "liqd_hght",
       "layout": "IPY_MODEL_9fb5f137e0de47b898d46836646854ee",
       "max": 1,
       "step": 0.01,
       "style": "IPY_MODEL_98888435b8bf40f08ffd29d74416bd4f",
       "value": 0.5
      }
     },
     "ce9c778f97a14c19a7428f48d6c86ebd": {
      "model_module": "@jupyter-widgets/controls",
      "model_module_version": "1.2.0",
      "model_name": "VBoxModel",
      "state": {
       "_dom_classes": [
        "widget-interact"
       ],
       "children": [
        "IPY_MODEL_d08c197496d741aa90173ce3694b661f",
        "IPY_MODEL_303af936a9cb4b64ac778751cb9874e4"
       ],
       "layout": "IPY_MODEL_e9df4d62a3f845f4bc9e42196fab24e2"
      }
     },
     "cea8097046ea4390b2c7f850dc4d77e7": {
      "model_module": "@jupyter-widgets/base",
      "model_module_version": "1.0.0",
      "model_name": "LayoutModel",
      "state": {}
     },
     "ceeb9c987539456cbf6b3c3d0c4b23ad": {
      "model_module": "@jupyter-widgets/base",
      "model_module_version": "1.0.0",
      "model_name": "LayoutModel",
      "state": {}
     },
     "cfbaac042dc146a3972e7358e10e6fe0": {
      "model_module": "@jupyter-widgets/controls",
      "model_module_version": "1.2.0",
      "model_name": "SliderStyleModel",
      "state": {
       "description_width": ""
      }
     },
     "cfc4fab139fd46cbbb9786aa7e19b9cb": {
      "model_module": "@jupyter-widgets/controls",
      "model_module_version": "1.2.0",
      "model_name": "FloatSliderModel",
      "state": {
       "description": "wall_dnst",
       "layout": "IPY_MODEL_d8d45e25b11c43d6bd7e3bf48b5f301f",
       "max": 1,
       "step": 0.01,
       "style": "IPY_MODEL_ba9bf13a9d864e43b7bc8e40d07614da",
       "value": 0.5
      }
     },
     "cfc5429e86474ec981699f6e7083189b": {
      "model_module": "@jupyter-widgets/base",
      "model_module_version": "1.0.0",
      "model_name": "LayoutModel",
      "state": {}
     },
     "d01da204cc3e4595b541520f11fce05e": {
      "model_module": "@jupyter-widgets/controls",
      "model_module_version": "1.2.0",
      "model_name": "FloatSliderModel",
      "state": {
       "description": "base_wdth",
       "layout": "IPY_MODEL_0796ea69148a478183dece36e49998d1",
       "max": 1,
       "step": 0.01,
       "style": "IPY_MODEL_d84bd47ef7ea4a6189cdd67b85b3a564",
       "value": 0.5
      }
     },
     "d058e3af6f1947d693f29ee71d62526c": {
      "model_module": "@jupyter-widgets/output",
      "model_module_version": "1.0.0",
      "model_name": "OutputModel",
      "state": {
       "layout": "IPY_MODEL_6ab406a0688843b0b3cc78c0ce288b7f",
       "outputs": [
        {
         "data": {
          "image/svg+xml": "<svg baseProfile=\"full\" height=\"400\" version=\"1.1\" width=\"400\" xmlns=\"http://www.w3.org/2000/svg\" xmlns:ev=\"http://www.w3.org/2001/xml-events\" xmlns:xlink=\"http://www.w3.org/1999/xlink\"><defs/><rect fill=\"black\" height=\"400\" width=\"10.0\" x=\"0\" y=\"0\"/><rect fill=\"black\" height=\"400\" width=\"10.0\" x=\"190.0\" y=\"0\"/><rect fill=\"blue\" height=\"400\" width=\"180.0\" x=\"10.0\" y=\"308.0\"/><line stroke=\"black\" x1=\"0\" x2=\"200.0\" y1=\"400\" y2=\"400\"/><line stroke=\"green\" stroke-width=\"3\" x1=\"0\" x2=\"200.0\" y1=\"301.99146818343405\" y2=\"301.99146818343405\"/><line stroke=\"magenta\" stroke-width=\"3\" x1=\"0\" x2=\"100.0\" y1=\"400\" y2=\"301.99146818343405\"/><text fill=\"magenta\" font-size=\"24\" stroke=\"white\" x=\"30.0\" y=\"331.39402772840384\">α</text></svg>",
          "text/plain": "<IPython.core.display.SVG object>"
         },
         "metadata": {},
         "output_type": "display_data"
        }
       ]
      }
     },
     "d05bda969be94d34ac5a96f514350975": {
      "model_module": "@jupyter-widgets/controls",
      "model_module_version": "1.2.0",
      "model_name": "FloatSliderModel",
      "state": {
       "description": "wall_thck",
       "layout": "IPY_MODEL_8efe0cfa38ac403aa1f7bedb9156216a",
       "max": 0.1,
       "step": 0.01,
       "style": "IPY_MODEL_40a2cf8a394c49599f026f5585c434ad",
       "value": 0.05
      }
     },
     "d08c197496d741aa90173ce3694b661f": {
      "model_module": "@jupyter-widgets/controls",
      "model_module_version": "1.2.0",
      "model_name": "FloatSliderModel",
      "state": {
       "description": "omega",
       "layout": "IPY_MODEL_84e7774e3ce943669d15f7bdf5261c28",
       "max": 3,
       "min": -1,
       "step": 0.1,
       "style": "IPY_MODEL_9e4df9d376194642aca0a9a2553deaf0",
       "value": 1
      }
     },
     "d09bbd941d7045e38edf4d3a20ffe4cd": {
      "model_module": "@jupyter-widgets/controls",
      "model_module_version": "1.2.0",
      "model_name": "VBoxModel",
      "state": {
       "_dom_classes": [
        "widget-interact"
       ],
       "children": [
        "IPY_MODEL_c060805722874f6187964e1d65009f69",
        "IPY_MODEL_6e16dbd400b94159bfde86fdcc77b85f",
        "IPY_MODEL_35e052eaf18d4917814fa56e112fa3cc",
        "IPY_MODEL_7f1c5822f6064f13b4f5410fe1480bca",
        "IPY_MODEL_cb5c7d4a2dff470b9cdec3bd7e637a21"
       ],
       "layout": "IPY_MODEL_7a5449bdfa5940d28d52c543f52d55d3"
      }
     },
     "d163882b5f1241bfa621e1c6682a12a6": {
      "model_module": "@jupyter-widgets/controls",
      "model_module_version": "1.2.0",
      "model_name": "FloatSliderModel",
      "state": {
       "description": "base_wdth",
       "layout": "IPY_MODEL_bcd7e275e417421180f22c30f533f099",
       "max": 1,
       "step": 0.01,
       "style": "IPY_MODEL_032a1e4f6275472e8144eebe0e2022d1",
       "value": 0.5
      }
     },
     "d198efef3dca4faf9cbb824596336d4b": {
      "model_module": "@jupyter-widgets/base",
      "model_module_version": "1.0.0",
      "model_name": "LayoutModel",
      "state": {}
     },
     "d240689222004895bffe8e82a19452d0": {
      "model_module": "@jupyter-widgets/controls",
      "model_module_version": "1.2.0",
      "model_name": "SliderStyleModel",
      "state": {
       "description_width": ""
      }
     },
     "d2d8e65d480d431c80108d9cb292a92a": {
      "model_module": "@jupyter-widgets/base",
      "model_module_version": "1.0.0",
      "model_name": "LayoutModel",
      "state": {}
     },
     "d2e5731e5d7b42cd8c89b6f2831318dd": {
      "model_module": "@jupyter-widgets/base",
      "model_module_version": "1.0.0",
      "model_name": "LayoutModel",
      "state": {}
     },
     "d3e04445f1c34ad29fd673c203db994f": {
      "model_module": "@jupyter-widgets/base",
      "model_module_version": "1.0.0",
      "model_name": "LayoutModel",
      "state": {}
     },
     "d3e1b2f8830b435688e4425a860ba760": {
      "model_module": "@jupyter-widgets/output",
      "model_module_version": "1.0.0",
      "model_name": "OutputModel",
      "state": {
       "layout": "IPY_MODEL_5476551e25374e90a5c7b30c21f66911",
       "outputs": [
        {
         "data": {
          "image/svg+xml": "<svg baseProfile=\"full\" height=\"400\" version=\"1.1\" width=\"400\" xmlns=\"http://www.w3.org/2000/svg\" xmlns:ev=\"http://www.w3.org/2001/xml-events\" xmlns:xlink=\"http://www.w3.org/1999/xlink\"><defs/><rect fill=\"black\" height=\"400\" width=\"10.0\" x=\"0\" y=\"0\"/><rect fill=\"black\" height=\"400\" width=\"10.0\" x=\"190.0\" y=\"0\"/><rect fill=\"blue\" height=\"400\" width=\"180.0\" x=\"10.0\" y=\"200.0\"/><line stroke=\"black\" x1=\"0\" x2=\"200.0\" y1=\"400\" y2=\"400\"/><line stroke=\"green\" stroke-width=\"3\" x1=\"0\" x2=\"200.0\" y1=\"281.0\" y2=\"281.0\"/><line stroke=\"magenta\" stroke-width=\"3\" x1=\"0\" x2=\"100.0\" y1=\"400\" y2=\"281.0\"/><text font-size=\"24\" stroke=\"magenta\" x=\"30.0\" y=\"316.7\">α</text></svg>",
          "text/plain": "<IPython.core.display.SVG object>"
         },
         "metadata": {},
         "output_type": "display_data"
        }
       ]
      }
     },
     "d4160e7bc4f4413dbcb575aa741dc9eb": {
      "model_module": "@jupyter-widgets/controls",
      "model_module_version": "1.2.0",
      "model_name": "VBoxModel",
      "state": {
       "_dom_classes": [
        "widget-interact"
       ],
       "children": [
        "IPY_MODEL_4d29898820cc4925a9ee5ba093ccfe53",
        "IPY_MODEL_dc9cf97862d049b0a89ed89e314233e6",
        "IPY_MODEL_e0bde25cb1d04600b67c47d605b933ff",
        "IPY_MODEL_54957dfd18b44a16b17a1d34bac20c5b",
        "IPY_MODEL_00b0ea029553458f87f9b147419be723"
       ],
       "layout": "IPY_MODEL_f54637559e7e4d849384fc8a834ec5fb"
      }
     },
     "d430cca9abfb44f5b46af14ee98256d8": {
      "model_module": "@jupyter-widgets/controls",
      "model_module_version": "1.2.0",
      "model_name": "VBoxModel",
      "state": {
       "_dom_classes": [
        "widget-interact"
       ],
       "children": [
        "IPY_MODEL_e6120075c2564a22b04e3605747c2fda",
        "IPY_MODEL_7d9643196bd7446da2da9701e396e382",
        "IPY_MODEL_02f2b4b7b8fe46a9b6ba4fd3e4119570",
        "IPY_MODEL_aa0fe14794f54fe1afd5dfb3faa56912",
        "IPY_MODEL_3e99e0e9ef7e4a3dbebb3d0153e10a4c"
       ],
       "layout": "IPY_MODEL_0c308ca58ab645c585b269ee10a673a3"
      }
     },
     "d438ecdd477747a99f4d9a877fb34efd": {
      "model_module": "@jupyter-widgets/output",
      "model_module_version": "1.0.0",
      "model_name": "OutputModel",
      "state": {
       "layout": "IPY_MODEL_33e3c893926b4d7ba32258cae1b67711",
       "outputs": [
        {
         "data": {
          "image/svg+xml": "<svg baseProfile=\"full\" height=\"400\" version=\"1.1\" width=\"400\" xmlns=\"http://www.w3.org/2000/svg\" xmlns:ev=\"http://www.w3.org/2001/xml-events\" xmlns:xlink=\"http://www.w3.org/1999/xlink\"><defs/><rect fill=\"black\" height=\"400\" width=\"40.0\" x=\"0\" y=\"0\"/><rect fill=\"black\" height=\"400\" width=\"40.0\" x=\"160.0\" y=\"0\"/><rect fill=\"blue\" height=\"400\" width=\"120.0\" x=\"40.0\" y=\"160.0\"/><line stroke=\"black\" x1=\"0\" x2=\"200.0\" y1=\"400\" y2=\"400\"/><line stroke=\"green\" stroke-width=\"3\" x1=\"0\" x2=\"200.0\" y1=\"220.18691588785046\" y2=\"220.18691588785046\"/></svg>",
          "text/plain": "<IPython.core.display.SVG object>"
         },
         "metadata": {},
         "output_type": "display_data"
        }
       ]
      }
     },
     "d43f15ca4a07461eaafd6479fb4dfed3": {
      "model_module": "@jupyter-widgets/controls",
      "model_module_version": "1.2.0",
      "model_name": "SliderStyleModel",
      "state": {
       "description_width": ""
      }
     },
     "d466629491f94f79988b126cfb0951ea": {
      "model_module": "@jupyter-widgets/controls",
      "model_module_version": "1.2.0",
      "model_name": "SliderStyleModel",
      "state": {
       "description_width": ""
      }
     },
     "d51cbbbb9a25486eab271444218fab08": {
      "model_module": "@jupyter-widgets/base",
      "model_module_version": "1.0.0",
      "model_name": "LayoutModel",
      "state": {}
     },
     "d55da9ed76b849bab016067cfb458341": {
      "model_module": "@jupyter-widgets/base",
      "model_module_version": "1.0.0",
      "model_name": "LayoutModel",
      "state": {}
     },
     "d565e8fd170b4c46997358afd90d49b5": {
      "model_module": "@jupyter-widgets/base",
      "model_module_version": "1.0.0",
      "model_name": "LayoutModel",
      "state": {}
     },
     "d5aa0472935a44c0b3a8a1bebedbd6ca": {
      "model_module": "@jupyter-widgets/base",
      "model_module_version": "1.0.0",
      "model_name": "LayoutModel",
      "state": {}
     },
     "d5bbf7e00c9b4be09e264de2e5248a88": {
      "model_module": "@jupyter-widgets/base",
      "model_module_version": "1.0.0",
      "model_name": "LayoutModel",
      "state": {}
     },
     "d72e260c562e49b08261ffb642309b07": {
      "model_module": "@jupyter-widgets/base",
      "model_module_version": "1.0.0",
      "model_name": "LayoutModel",
      "state": {}
     },
     "d78e4b6ece854eec932a8c06a9b4a113": {
      "model_module": "@jupyter-widgets/controls",
      "model_module_version": "1.2.0",
      "model_name": "FloatSliderModel",
      "state": {
       "description": "liquid_height",
       "layout": "IPY_MODEL_c14826d9b3794612aef5b92d9de6cfc0",
       "max": 1.7999999999999998,
       "min": -0.6,
       "step": 0.1,
       "style": "IPY_MODEL_7452f2ee7bae4c73b238e9e58ef965b1",
       "value": 0.6
      }
     },
     "d79fde056018416f8b8bc6f59b6f904d": {
      "model_module": "@jupyter-widgets/controls",
      "model_module_version": "1.2.0",
      "model_name": "VBoxModel",
      "state": {
       "_dom_classes": [
        "widget-interact"
       ],
       "children": [
        "IPY_MODEL_f3696faf342449afb3e41d1748f07f49",
        "IPY_MODEL_748748b6ccb14e639c3f0a23038c2e7d",
        "IPY_MODEL_843a044fa9a3473d9dc007e47e98723b",
        "IPY_MODEL_8c1b97c0387440aca440cd4e630960b8",
        "IPY_MODEL_d967d7c61447410aaae6ab407227e481"
       ],
       "layout": "IPY_MODEL_d7ff41cdeca24aba8fa18d4120883339"
      }
     },
     "d7cbbc7d423b4ab1a101e491a2b6ff45": {
      "model_module": "@jupyter-widgets/base",
      "model_module_version": "1.0.0",
      "model_name": "LayoutModel",
      "state": {}
     },
     "d7ff41cdeca24aba8fa18d4120883339": {
      "model_module": "@jupyter-widgets/base",
      "model_module_version": "1.0.0",
      "model_name": "LayoutModel",
      "state": {}
     },
     "d8001d5db69248638d861b64b33ea1a6": {
      "model_module": "@jupyter-widgets/controls",
      "model_module_version": "1.2.0",
      "model_name": "SliderStyleModel",
      "state": {
       "description_width": ""
      }
     },
     "d812ed1ae1f74c3b86a439caa3be09de": {
      "model_module": "@jupyter-widgets/controls",
      "model_module_version": "1.2.0",
      "model_name": "VBoxModel",
      "state": {
       "_dom_classes": [
        "widget-interact"
       ],
       "children": [
        "IPY_MODEL_59a51d5d0a764d5d866fe0ca2a94c996",
        "IPY_MODEL_683ed46b8e334ec1a43ec1f4eedf031b",
        "IPY_MODEL_f0c90854435b4cc59f4c21b897c222a9",
        "IPY_MODEL_ce7d4194bfe4444ab77ffe3138f8e0b7",
        "IPY_MODEL_25e2e83ac9174f3194d9bf68884b4c60"
       ],
       "layout": "IPY_MODEL_110d24d2aca044be8df3f525700805df"
      }
     },
     "d8351846c598403a9c4c71fff5b93c2e": {
      "model_module": "@jupyter-widgets/base",
      "model_module_version": "1.0.0",
      "model_name": "LayoutModel",
      "state": {}
     },
     "d84bd47ef7ea4a6189cdd67b85b3a564": {
      "model_module": "@jupyter-widgets/controls",
      "model_module_version": "1.2.0",
      "model_name": "SliderStyleModel",
      "state": {
       "description_width": ""
      }
     },
     "d86d39e0286049439263fefc6e9b6bff": {
      "model_module": "@jupyter-widgets/controls",
      "model_module_version": "1.2.0",
      "model_name": "FloatSliderModel",
      "state": {
       "description": "wall_thickness",
       "layout": "IPY_MODEL_deb760d4077743f4bc07e39f07c813da",
       "max": 0.5,
       "step": 0.01,
       "style": "IPY_MODEL_90eef1872c924e0cae064f748023eb6a",
       "value": 0.1
      }
     },
     "d8818c68fc114107859490e4319da57c": {
      "model_module": "@jupyter-widgets/base",
      "model_module_version": "1.0.0",
      "model_name": "LayoutModel",
      "state": {}
     },
     "d89553e6a8b74f8d9c9b2b12271ef367": {
      "model_module": "@jupyter-widgets/controls",
      "model_module_version": "1.2.0",
      "model_name": "SliderStyleModel",
      "state": {
       "description_width": ""
      }
     },
     "d8bbfd88571e4cb3bc04bb579a7ebeda": {
      "model_module": "@jupyter-widgets/base",
      "model_module_version": "1.0.0",
      "model_name": "LayoutModel",
      "state": {}
     },
     "d8d45e25b11c43d6bd7e3bf48b5f301f": {
      "model_module": "@jupyter-widgets/base",
      "model_module_version": "1.0.0",
      "model_name": "LayoutModel",
      "state": {}
     },
     "d8e71fb3023d4f3f871add24af68eb75": {
      "model_module": "@jupyter-widgets/controls",
      "model_module_version": "1.2.0",
      "model_name": "SliderStyleModel",
      "state": {
       "description_width": ""
      }
     },
     "d90009a0f5294b2ea447a9138d1c59c2": {
      "model_module": "@jupyter-widgets/controls",
      "model_module_version": "1.2.0",
      "model_name": "FloatSliderModel",
      "state": {
       "description": "liquid_height",
       "layout": "IPY_MODEL_4a3287ea282548ec8dca5c233352a230",
       "max": 1,
       "step": 0.01,
       "style": "IPY_MODEL_0a708db52abd44febb2a7968c9e15b9a",
       "value": 0.6
      }
     },
     "d967d7c61447410aaae6ab407227e481": {
      "model_module": "@jupyter-widgets/output",
      "model_module_version": "1.0.0",
      "model_name": "OutputModel",
      "state": {
       "layout": "IPY_MODEL_e7b35148094441daab36f9d8427a044a",
       "outputs": [
        {
         "data": {
          "image/svg+xml": "<svg baseProfile=\"full\" height=\"200\" version=\"1.1\" width=\"200\" xmlns=\"http://www.w3.org/2000/svg\" xmlns:ev=\"http://www.w3.org/2001/xml-events\" xmlns:xlink=\"http://www.w3.org/1999/xlink\"><defs/><rect fill=\"black\" height=\"200\" width=\"20.0\" x=\"0\" y=\"0\"/><rect fill=\"black\" height=\"200\" width=\"20.0\" x=\"80.0\" y=\"0\"/><line stroke=\"black\" x1=\"0\" x2=\"100.0\" y1=\"200\" y2=\"200\"/><rect fill=\"blue\" height=\"200\" width=\"60.0\" x=\"20.0\" y=\"80.0\"/><line stroke=\"green\" stroke-width=\"3\" x1=\"0\" x2=\"100.0\" y1=\"110.09345794392522\" y2=\"110.09345794392522\"/></svg>",
          "text/plain": "<IPython.core.display.SVG object>"
         },
         "metadata": {},
         "output_type": "display_data"
        }
       ]
      }
     },
     "d9856c883e204029b153a75798684ff9": {
      "model_module": "@jupyter-widgets/controls",
      "model_module_version": "1.2.0",
      "model_name": "SliderStyleModel",
      "state": {
       "description_width": ""
      }
     },
     "d9ff1818407140378dfe51a4465bf787": {
      "model_module": "@jupyter-widgets/controls",
      "model_module_version": "1.2.0",
      "model_name": "SliderStyleModel",
      "state": {
       "description_width": ""
      }
     },
     "dafb1af9012f422387996e57dcfa793b": {
      "model_module": "@jupyter-widgets/base",
      "model_module_version": "1.0.0",
      "model_name": "LayoutModel",
      "state": {}
     },
     "dbddded035024afc8ab6cab61133dfa1": {
      "model_module": "@jupyter-widgets/base",
      "model_module_version": "1.0.0",
      "model_name": "LayoutModel",
      "state": {}
     },
     "dc3f4d7231e84a25b33db69f6a726632": {
      "model_module": "@jupyter-widgets/controls",
      "model_module_version": "1.2.0",
      "model_name": "FloatSliderModel",
      "state": {
       "description": "liqd_hght",
       "layout": "IPY_MODEL_a015d7f146fa45b29c167bb75ace0e5a",
       "max": 1,
       "step": 0.01,
       "style": "IPY_MODEL_e57ac902d84149a497e4decfcfa0d0de",
       "value": 0.5
      }
     },
     "dc9cf97862d049b0a89ed89e314233e6": {
      "model_module": "@jupyter-widgets/controls",
      "model_module_version": "1.2.0",
      "model_name": "FloatSliderModel",
      "state": {
       "description": "wall_dnst",
       "layout": "IPY_MODEL_39836b7fddbf4caa8e626a427ad8c8ef",
       "max": 1,
       "step": 0.01,
       "style": "IPY_MODEL_a9be888c2597401682e55a19f59acaf6",
       "value": 0.5
      }
     },
     "dcf85124cdc44273a554aa34e34a185b": {
      "model_module": "@jupyter-widgets/controls",
      "model_module_version": "1.2.0",
      "model_name": "FloatSliderModel",
      "state": {
       "description": "wall_dnst",
       "layout": "IPY_MODEL_114fa7a5208b439bad9e1ad383ac7703",
       "max": 1,
       "step": 0.01,
       "style": "IPY_MODEL_84962315b69a4155974b1824bbaed56f",
       "value": 0.5
      }
     },
     "dd31bdf9c2cb4d92867de48beeec8b3a": {
      "model_module": "@jupyter-widgets/controls",
      "model_module_version": "1.2.0",
      "model_name": "FloatSliderModel",
      "state": {
       "description": "wall_thickness",
       "layout": "IPY_MODEL_7efb736ccf114a0ba704376000457501",
       "max": 0.5,
       "step": 0.01,
       "style": "IPY_MODEL_4a42960a77414b4ab92dfa394129f11b",
       "value": 0.01
      }
     },
     "dd664bcb273e4bc390579409ccef1858": {
      "model_module": "@jupyter-widgets/controls",
      "model_module_version": "1.2.0",
      "model_name": "SliderStyleModel",
      "state": {
       "description_width": ""
      }
     },
     "de5f3954fc9a462ba4dd5bd49237fad8": {
      "model_module": "@jupyter-widgets/base",
      "model_module_version": "1.0.0",
      "model_name": "LayoutModel",
      "state": {}
     },
     "de7ff03083d84975bc2b1d20c13304a3": {
      "model_module": "@jupyter-widgets/controls",
      "model_module_version": "1.2.0",
      "model_name": "FloatSliderModel",
      "state": {
       "description": "wall_dnst",
       "layout": "IPY_MODEL_839350b63ecb4e728c129efe9af52d6d",
       "max": 1,
       "step": 0.01,
       "style": "IPY_MODEL_4690bae587cc4ce9987aac51fcb14b3a",
       "value": 0.5
      }
     },
     "deb760d4077743f4bc07e39f07c813da": {
      "model_module": "@jupyter-widgets/base",
      "model_module_version": "1.0.0",
      "model_name": "LayoutModel",
      "state": {}
     },
     "df685024e9bf48309c5ee4d6fd7da550": {
      "model_module": "@jupyter-widgets/base",
      "model_module_version": "1.0.0",
      "model_name": "LayoutModel",
      "state": {}
     },
     "df8041d19c884bedbf328b8ad20cabf4": {
      "model_module": "@jupyter-widgets/base",
      "model_module_version": "1.0.0",
      "model_name": "LayoutModel",
      "state": {}
     },
     "dfa770988aad4b37b2a6f792c376a72d": {
      "model_module": "@jupyter-widgets/base",
      "model_module_version": "1.0.0",
      "model_name": "LayoutModel",
      "state": {}
     },
     "e0080c1cc7b342fe98028a8cfd063d70": {
      "model_module": "@jupyter-widgets/base",
      "model_module_version": "1.0.0",
      "model_name": "LayoutModel",
      "state": {}
     },
     "e01b3f44e163473494c4ada3103800af": {
      "model_module": "@jupyter-widgets/base",
      "model_module_version": "1.0.0",
      "model_name": "LayoutModel",
      "state": {}
     },
     "e042b6148bb34c678ce2b2721c3e2ffa": {
      "model_module": "@jupyter-widgets/base",
      "model_module_version": "1.0.0",
      "model_name": "LayoutModel",
      "state": {}
     },
     "e0677ccb0d0d467d8b3b0462b64e8d36": {
      "model_module": "@jupyter-widgets/controls",
      "model_module_version": "1.2.0",
      "model_name": "SliderStyleModel",
      "state": {
       "description_width": ""
      }
     },
     "e0bde25cb1d04600b67c47d605b933ff": {
      "model_module": "@jupyter-widgets/controls",
      "model_module_version": "1.2.0",
      "model_name": "FloatSliderModel",
      "state": {
       "description": "base_wdth",
       "layout": "IPY_MODEL_a47f33a8e93f43408d2960dd4ebea943",
       "max": 1,
       "step": 0.01,
       "style": "IPY_MODEL_92a608c2ab6d433aa227da159f4248b1",
       "value": 0.5
      }
     },
     "e0f48c17db1c409cb6221defbb577ee3": {
      "model_module": "@jupyter-widgets/base",
      "model_module_version": "1.0.0",
      "model_name": "LayoutModel",
      "state": {}
     },
     "e25a1a66c25a468fbfed80f86978aa44": {
      "model_module": "@jupyter-widgets/controls",
      "model_module_version": "1.2.0",
      "model_name": "FloatSliderModel",
      "state": {
       "description": "wall_thickness",
       "layout": "IPY_MODEL_a43f5217fa07462fb065accf00dc00a4",
       "max": 0.5,
       "step": 0.01,
       "style": "IPY_MODEL_0e3c41c2c88345d49739549f81135ee3",
       "value": 0.1
      }
     },
     "e34740091b7e4e5baf7ebabe606607cd": {
      "model_module": "@jupyter-widgets/base",
      "model_module_version": "1.0.0",
      "model_name": "LayoutModel",
      "state": {}
     },
     "e34b717f91364a69b024b723bcc375fe": {
      "model_module": "@jupyter-widgets/controls",
      "model_module_version": "1.2.0",
      "model_name": "FloatSliderModel",
      "state": {
       "description": "liqd_hght",
       "layout": "IPY_MODEL_41747bee56044f959c80405a622fbec8",
       "max": 1,
       "step": 0.01,
       "style": "IPY_MODEL_a2a0df96a03b42e982c7d4e0b0f4fe66",
       "value": 0.26
      }
     },
     "e34cbb9565c849d788a2472ed76613ca": {
      "model_module": "@jupyter-widgets/controls",
      "model_module_version": "1.2.0",
      "model_name": "FloatSliderModel",
      "state": {
       "description": "wall_thickness",
       "layout": "IPY_MODEL_cea8097046ea4390b2c7f850dc4d77e7",
       "max": 0.5,
       "step": 0.01,
       "style": "IPY_MODEL_d9856c883e204029b153a75798684ff9",
       "value": 0.1
      }
     },
     "e372029ed34a466d8b910f566974ec3a": {
      "model_module": "@jupyter-widgets/controls",
      "model_module_version": "1.2.0",
      "model_name": "SliderStyleModel",
      "state": {
       "description_width": ""
      }
     },
     "e40c2a563a6a4153a0f1a1157f1ca40e": {
      "model_module": "@jupyter-widgets/controls",
      "model_module_version": "1.2.0",
      "model_name": "SliderStyleModel",
      "state": {
       "description_width": ""
      }
     },
     "e412abb4865440bb82fe38e6805380cc": {
      "model_module": "@jupyter-widgets/base",
      "model_module_version": "1.0.0",
      "model_name": "LayoutModel",
      "state": {}
     },
     "e4cbcc154b23457494df6be0ab0709b6": {
      "model_module": "@jupyter-widgets/base",
      "model_module_version": "1.0.0",
      "model_name": "LayoutModel",
      "state": {}
     },
     "e50ca6a3218e44f7b09ef991cfaa9669": {
      "model_module": "@jupyter-widgets/base",
      "model_module_version": "1.0.0",
      "model_name": "LayoutModel",
      "state": {}
     },
     "e51d5af07a6d4d128b9278d6296c2274": {
      "model_module": "@jupyter-widgets/base",
      "model_module_version": "1.0.0",
      "model_name": "LayoutModel",
      "state": {}
     },
     "e559a7c48586498897a8520af4739189": {
      "model_module": "@jupyter-widgets/controls",
      "model_module_version": "1.2.0",
      "model_name": "FloatSliderModel",
      "state": {
       "description": "wall_density",
       "layout": "IPY_MODEL_b484ee70ebc84379975ea951db67f6c6",
       "max": 3,
       "step": 0.01,
       "style": "IPY_MODEL_4d926ebd0e4c498fad2f48a9e5847469",
       "value": 1
      }
     },
     "e57ac902d84149a497e4decfcfa0d0de": {
      "model_module": "@jupyter-widgets/controls",
      "model_module_version": "1.2.0",
      "model_name": "SliderStyleModel",
      "state": {
       "description_width": ""
      }
     },
     "e5d9c8c15b324ae8b6ab36616811cf38": {
      "model_module": "@jupyter-widgets/base",
      "model_module_version": "1.0.0",
      "model_name": "LayoutModel",
      "state": {}
     },
     "e5edcc4ba24a45b2b5003901afc32ebc": {
      "model_module": "@jupyter-widgets/controls",
      "model_module_version": "1.2.0",
      "model_name": "VBoxModel",
      "state": {
       "_dom_classes": [
        "widget-interact"
       ],
       "children": [
        "IPY_MODEL_51a7bada882c413782e3b6f1127aa2e2",
        "IPY_MODEL_5444cd1e40cb4999963113496f8a3169",
        "IPY_MODEL_a5b5c89c5e784400bb164057dcb21578",
        "IPY_MODEL_7242674eb2a3417e94c529d879c1749c",
        "IPY_MODEL_875f2b5972f04612bbfc2ad84b3b9dc6"
       ],
       "layout": "IPY_MODEL_5148b5eb6dd14d15ad0da7301cd710d1"
      }
     },
     "e6120075c2564a22b04e3605747c2fda": {
      "model_module": "@jupyter-widgets/controls",
      "model_module_version": "1.2.0",
      "model_name": "FloatSliderModel",
      "state": {
       "description": "wall_thck",
       "layout": "IPY_MODEL_54997581af9a487689f5123aa6fa7c8d",
       "max": 0.05,
       "step": 0.001,
       "style": "IPY_MODEL_3698d07aa65c4bb5870c107a02b35c69",
       "value": 0.025
      }
     },
     "e62e077b00ec4dd396b6449a444928ac": {
      "model_module": "@jupyter-widgets/controls",
      "model_module_version": "1.2.0",
      "model_name": "SliderStyleModel",
      "state": {
       "description_width": ""
      }
     },
     "e66137d14ac4442099edef5b99d9849b": {
      "model_module": "@jupyter-widgets/base",
      "model_module_version": "1.0.0",
      "model_name": "LayoutModel",
      "state": {}
     },
     "e69205cfff854e398d4b3182503885cd": {
      "model_module": "@jupyter-widgets/controls",
      "model_module_version": "1.2.0",
      "model_name": "FloatSliderModel",
      "state": {
       "description": "wall_density",
       "layout": "IPY_MODEL_a73315bb8da642cc86f5a34da02210be",
       "max": 3,
       "step": 0.01,
       "style": "IPY_MODEL_e372029ed34a466d8b910f566974ec3a",
       "value": 0.91
      }
     },
     "e7485dcdcce446609f5cb6e0b555ad60": {
      "model_module": "@jupyter-widgets/base",
      "model_module_version": "1.0.0",
      "model_name": "LayoutModel",
      "state": {}
     },
     "e793b05f65344447aa37edb69dbeef89": {
      "model_module": "@jupyter-widgets/base",
      "model_module_version": "1.0.0",
      "model_name": "LayoutModel",
      "state": {}
     },
     "e7b35148094441daab36f9d8427a044a": {
      "model_module": "@jupyter-widgets/base",
      "model_module_version": "1.0.0",
      "model_name": "LayoutModel",
      "state": {}
     },
     "e803eac8d55b4d4bbf1ce48f048217a4": {
      "model_module": "@jupyter-widgets/controls",
      "model_module_version": "1.2.0",
      "model_name": "SliderStyleModel",
      "state": {
       "description_width": ""
      }
     },
     "e809517f2bbc4414ac4de6b4a63b84a1": {
      "model_module": "@jupyter-widgets/controls",
      "model_module_version": "1.2.0",
      "model_name": "SliderStyleModel",
      "state": {
       "description_width": ""
      }
     },
     "e85db70d0b2e4483bc95a319d9e13dcf": {
      "model_module": "@jupyter-widgets/controls",
      "model_module_version": "1.2.0",
      "model_name": "SliderStyleModel",
      "state": {
       "description_width": ""
      }
     },
     "e8d83f809dca418389e7d3ae93b79ced": {
      "model_module": "@jupyter-widgets/output",
      "model_module_version": "1.0.0",
      "model_name": "OutputModel",
      "state": {
       "layout": "IPY_MODEL_733a41a5c6114f34ab607d3949a80f55",
       "outputs": [
        {
         "data": {
          "image/svg+xml": "<svg baseProfile=\"full\" height=\"200\" version=\"1.1\" width=\"200\" xmlns=\"http://www.w3.org/2000/svg\" xmlns:ev=\"http://www.w3.org/2001/xml-events\" xmlns:xlink=\"http://www.w3.org/1999/xlink\"><defs/><rect fill=\"black\" height=\"200\" width=\"20.0\" x=\"0\" y=\"0\"/><line stroke=\"green\" stroke-width=\"3\" x1=\"0\" x2=\"100.0\" y1=\"110.09345794392523\" y2=\"110.09345794392523\"/></svg>",
          "text/plain": "<IPython.core.display.SVG object>"
         },
         "metadata": {},
         "output_type": "display_data"
        }
       ]
      }
     },
     "e93e4ac2de2a4f81b05fe3f623afdccf": {
      "model_module": "@jupyter-widgets/controls",
      "model_module_version": "1.2.0",
      "model_name": "FloatSliderModel",
      "state": {
       "description": "base_width",
       "layout": "IPY_MODEL_acc5d0c61aec4b288a178e3a77542380",
       "max": 1,
       "step": 0.01,
       "style": "IPY_MODEL_9a3e7d1a50fc4c17a6f94db8b04e8e96",
       "value": 0.5
      }
     },
     "e9bd5bef098047b2a60101005bc91b62": {
      "model_module": "@jupyter-widgets/base",
      "model_module_version": "1.0.0",
      "model_name": "LayoutModel",
      "state": {}
     },
     "e9df4d62a3f845f4bc9e42196fab24e2": {
      "model_module": "@jupyter-widgets/base",
      "model_module_version": "1.0.0",
      "model_name": "LayoutModel",
      "state": {}
     },
     "eaede99bedde4c7893033a46630779c2": {
      "model_module": "@jupyter-widgets/controls",
      "model_module_version": "1.2.0",
      "model_name": "SliderStyleModel",
      "state": {
       "description_width": ""
      }
     },
     "eaf1230f6fdd47e4a69a2ecc605a0b72": {
      "model_module": "@jupyter-widgets/controls",
      "model_module_version": "1.2.0",
      "model_name": "SliderStyleModel",
      "state": {
       "description_width": ""
      }
     },
     "ec1e0eaf6367402dbbf3ecb6166c8f49": {
      "model_module": "@jupyter-widgets/controls",
      "model_module_version": "1.2.0",
      "model_name": "SliderStyleModel",
      "state": {
       "description_width": ""
      }
     },
     "ec398eee5dd14e5280696a1df294f979": {
      "model_module": "@jupyter-widgets/base",
      "model_module_version": "1.0.0",
      "model_name": "LayoutModel",
      "state": {}
     },
     "ec47963946ed4b93b0398a68f4a0fd31": {
      "model_module": "@jupyter-widgets/base",
      "model_module_version": "1.0.0",
      "model_name": "LayoutModel",
      "state": {}
     },
     "ec5f7352ea4445de94c14b016cc79f03": {
      "model_module": "@jupyter-widgets/controls",
      "model_module_version": "1.2.0",
      "model_name": "FloatSliderModel",
      "state": {
       "description": "wall_thickness",
       "layout": "IPY_MODEL_6b6169882cf6481fb135324bf998e8c6",
       "max": 0.5,
       "step": 0.01,
       "style": "IPY_MODEL_7bc9ad0d0502408799131e1c647ee3b9",
       "value": 0.1
      }
     },
     "ec672cce04174d79a898b8061200dcfb": {
      "model_module": "@jupyter-widgets/controls",
      "model_module_version": "1.2.0",
      "model_name": "VBoxModel",
      "state": {
       "_dom_classes": [
        "widget-interact"
       ],
       "children": [
        "IPY_MODEL_4f7c8e1bf1d94caa9f847b9a4c195ff1",
        "IPY_MODEL_f05a011e55a24f23ba13401301973b61",
        "IPY_MODEL_8b8495fdf4cc416aa6bfc269abc9df48",
        "IPY_MODEL_30161d4f71bf47ceb2f95cb7175e8480",
        "IPY_MODEL_89229c4112bd43d3bfa6ed670ec2fe8c"
       ],
       "layout": "IPY_MODEL_361a698701cc4be5bd6c045649fdf5b5"
      }
     },
     "ecd9fc2b3c01482faaf4ac902690d8d7": {
      "model_module": "@jupyter-widgets/controls",
      "model_module_version": "1.2.0",
      "model_name": "SliderStyleModel",
      "state": {
       "description_width": ""
      }
     },
     "ecf975908d8b4617b95020bb8cf61440": {
      "model_module": "@jupyter-widgets/base",
      "model_module_version": "1.0.0",
      "model_name": "LayoutModel",
      "state": {}
     },
     "ed47eff859c647cfb2c0b47c915abb2c": {
      "model_module": "@jupyter-widgets/controls",
      "model_module_version": "1.2.0",
      "model_name": "FloatSliderModel",
      "state": {
       "description": "wall_thck",
       "layout": "IPY_MODEL_d7cbbc7d423b4ab1a101e491a2b6ff45",
       "max": 0.05,
       "step": 0.001,
       "style": "IPY_MODEL_70c05ce955ca410d8a81302396978e9c",
       "value": 0.025
      }
     },
     "ed55fbbbce864c8e93c3f8671235c3a8": {
      "model_module": "@jupyter-widgets/controls",
      "model_module_version": "1.2.0",
      "model_name": "SliderStyleModel",
      "state": {
       "description_width": ""
      }
     },
     "eda30dec53e84d178d17f1d0bb77d15f": {
      "model_module": "@jupyter-widgets/base",
      "model_module_version": "1.0.0",
      "model_name": "LayoutModel",
      "state": {}
     },
     "edefc5aef2554a5aac05ad7f85b6aada": {
      "model_module": "@jupyter-widgets/controls",
      "model_module_version": "1.2.0",
      "model_name": "FloatSliderModel",
      "state": {
       "description": "omega",
       "layout": "IPY_MODEL_d8818c68fc114107859490e4319da57c",
       "max": 3,
       "min": -1,
       "step": 0.1,
       "style": "IPY_MODEL_777cba1c19c64734bda2e94b6ce6198e",
       "value": 1
      }
     },
     "ee3d5bd430d54c8386a027e762c33127": {
      "model_module": "@jupyter-widgets/base",
      "model_module_version": "1.0.0",
      "model_name": "LayoutModel",
      "state": {}
     },
     "eebb789d66cc49c2afe59665a58a6abb": {
      "model_module": "@jupyter-widgets/controls",
      "model_module_version": "1.2.0",
      "model_name": "SliderStyleModel",
      "state": {
       "description_width": ""
      }
     },
     "ef6a549f52cd43b4bd1ee4abd83654a2": {
      "model_module": "@jupyter-widgets/controls",
      "model_module_version": "1.2.0",
      "model_name": "SliderStyleModel",
      "state": {
       "description_width": ""
      }
     },
     "effa81dde1774a11a9404d47b89308f2": {
      "model_module": "@jupyter-widgets/output",
      "model_module_version": "1.0.0",
      "model_name": "OutputModel",
      "state": {
       "layout": "IPY_MODEL_124ef11b6c914ed79e8942c6ce7fdc24",
       "outputs": [
        {
         "data": {
          "image/svg+xml": "<svg baseProfile=\"full\" height=\"600\" version=\"1.1\" width=\"600\" xmlns=\"http://www.w3.org/2000/svg\" xmlns:ev=\"http://www.w3.org/2001/xml-events\" xmlns:xlink=\"http://www.w3.org/1999/xlink\"><defs/><rect fill=\"black\" height=\"600\" width=\"15.0\" x=\"0\" y=\"0\"/><rect fill=\"black\" height=\"600\" width=\"15.0\" x=\"423.0\" y=\"0\"/><rect fill=\"blue\" height=\"600\" width=\"408.0\" x=\"15.0\" y=\"300.0\"/><line stroke=\"black\" x1=\"0\" x2=\"438.0\" y1=\"600\" y2=\"600\"/><line stroke=\"green\" stroke-width=\"3\" x1=\"0\" x2=\"438.0\" y1=\"430.15575154813286\" y2=\"430.15575154813286\"/><line stroke=\"magenta\" stroke-width=\"3\" x1=\"0\" x2=\"219.0\" y1=\"600\" y2=\"430.15575154813286\"/><text fill=\"magenta\" font-size=\"24\" stroke=\"magenta\" x=\"65.7\" y=\"481.109026083693\">α</text></svg>",
          "text/plain": "<IPython.core.display.SVG object>"
         },
         "metadata": {},
         "output_type": "display_data"
        }
       ]
      }
     },
     "f0109362765e4921b698a390b00fc2c8": {
      "model_module": "@jupyter-widgets/controls",
      "model_module_version": "1.2.0",
      "model_name": "FloatSliderModel",
      "state": {
       "description": "wall_thickness",
       "layout": "IPY_MODEL_d51cbbbb9a25486eab271444218fab08",
       "max": 0.5,
       "step": 0.01,
       "style": "IPY_MODEL_68229320728b4854af82c3ebe17f7139",
       "value": 0.1
      }
     },
     "f05a011e55a24f23ba13401301973b61": {
      "model_module": "@jupyter-widgets/controls",
      "model_module_version": "1.2.0",
      "model_name": "FloatSliderModel",
      "state": {
       "description": "wall_dnst",
       "layout": "IPY_MODEL_c178c414251b450f888f7a03b33e7cd7",
       "max": 1,
       "step": 0.01,
       "style": "IPY_MODEL_e809517f2bbc4414ac4de6b4a63b84a1",
       "value": 0.5
      }
     },
     "f05f31ac59a241bda7a99e20fcfb02b4": {
      "model_module": "@jupyter-widgets/controls",
      "model_module_version": "1.2.0",
      "model_name": "SliderStyleModel",
      "state": {
       "description_width": ""
      }
     },
     "f09ca4eb2aef411ea51e8b54a024cfd5": {
      "model_module": "@jupyter-widgets/base",
      "model_module_version": "1.0.0",
      "model_name": "LayoutModel",
      "state": {}
     },
     "f0ba8a90aa4b4dd2bd30c9bb721503a7": {
      "model_module": "@jupyter-widgets/output",
      "model_module_version": "1.0.0",
      "model_name": "OutputModel",
      "state": {
       "layout": "IPY_MODEL_750fcc02d8ad48c0bf131f037ee5e789",
       "outputs": [
        {
         "data": {
          "image/svg+xml": "<svg baseProfile=\"full\" height=\"400\" version=\"1.1\" width=\"400\" xmlns=\"http://www.w3.org/2000/svg\" xmlns:ev=\"http://www.w3.org/2001/xml-events\" xmlns:xlink=\"http://www.w3.org/1999/xlink\"><defs/><rect fill=\"black\" height=\"400\" width=\"4.0\" x=\"0\" y=\"0\"/><rect fill=\"black\" height=\"400\" width=\"4.0\" x=\"196.0\" y=\"0\"/><rect fill=\"blue\" height=\"400\" width=\"192.0\" x=\"4.0\" y=\"332.0\"/><line stroke=\"black\" x1=\"0\" x2=\"200.0\" y1=\"400\" y2=\"400\"/><line stroke=\"green\" stroke-width=\"3\" x1=\"0\" x2=\"200.0\" y1=\"310.6365368908249\" y2=\"310.6365368908249\"/></svg>",
          "text/plain": "<IPython.core.display.SVG object>"
         },
         "metadata": {},
         "output_type": "display_data"
        }
       ]
      }
     },
     "f0c90854435b4cc59f4c21b897c222a9": {
      "model_module": "@jupyter-widgets/controls",
      "model_module_version": "1.2.0",
      "model_name": "FloatSliderModel",
      "state": {
       "description": "base_wdth",
       "layout": "IPY_MODEL_508aef4f1d5d48c0b829ff2cac431d41",
       "max": 1,
       "step": 0.01,
       "style": "IPY_MODEL_b0a4bdc9ef0442c598f6fbb8e35c51ec",
       "value": 0.5
      }
     },
     "f0d03055e4274d26b0bde0adb66ba410": {
      "model_module": "@jupyter-widgets/output",
      "model_module_version": "1.0.0",
      "model_name": "OutputModel",
      "state": {
       "layout": "IPY_MODEL_685de08364614da2b701048f39874510",
       "outputs": [
        {
         "data": {
          "image/svg+xml": "<svg baseProfile=\"full\" height=\"200\" version=\"1.1\" width=\"200\" xmlns=\"http://www.w3.org/2000/svg\" xmlns:ev=\"http://www.w3.org/2001/xml-events\" xmlns:xlink=\"http://www.w3.org/1999/xlink\"><defs/><rect fill=\"black\" height=\"200\" width=\"20.0\" x=\"0\" y=\"0\"/><rect fill=\"black\" height=\"200\" width=\"20.0\" x=\"80.0\" y=\"0\"/><rect fill=\"blue\" height=\"200\" width=\"60.0\" x=\"20.0\" y=\"110.0\"/><line stroke=\"black\" x1=\"0\" x2=\"100.0\" y1=\"200\" y2=\"200\"/><line stroke=\"green\" stroke-width=\"3\" x1=\"0\" x2=\"100.0\" y1=\"111.10972568578553\" y2=\"111.10972568578553\"/></svg>",
          "text/plain": "<IPython.core.display.SVG object>"
         },
         "metadata": {},
         "output_type": "display_data"
        }
       ]
      }
     },
     "f13b12abbfe54647858cdc168c966a56": {
      "model_module": "@jupyter-widgets/controls",
      "model_module_version": "1.2.0",
      "model_name": "FloatSliderModel",
      "state": {
       "description": "wall_dnst",
       "layout": "IPY_MODEL_08fb6b7ad8a6450e809ba3012346f749",
       "max": 1,
       "step": 0.01,
       "style": "IPY_MODEL_bc244fe03047497aa7b830207bb53051",
       "value": 0.5
      }
     },
     "f13d8ba262924cb980ada4ba8c56acd1": {
      "model_module": "@jupyter-widgets/controls",
      "model_module_version": "1.2.0",
      "model_name": "FloatSliderModel",
      "state": {
       "description": "base_width",
       "layout": "IPY_MODEL_e66137d14ac4442099edef5b99d9849b",
       "max": 1,
       "step": 0.01,
       "style": "IPY_MODEL_eaede99bedde4c7893033a46630779c2",
       "value": 0.5
      }
     },
     "f16aa4fddfb1478ca59afc5afd203f06": {
      "model_module": "@jupyter-widgets/controls",
      "model_module_version": "1.2.0",
      "model_name": "SliderStyleModel",
      "state": {
       "description_width": ""
      }
     },
     "f3696faf342449afb3e41d1748f07f49": {
      "model_module": "@jupyter-widgets/controls",
      "model_module_version": "1.2.0",
      "model_name": "FloatSliderModel",
      "state": {
       "description": "wall_thickness",
       "layout": "IPY_MODEL_c11f99b119d4459d8f3033ecce851692",
       "max": 0.5,
       "step": 0.01,
       "style": "IPY_MODEL_462688b9b62046609177279e50566e70",
       "value": 0.1
      }
     },
     "f37dc6dc53414e12b130a58bbeffa66d": {
      "model_module": "@jupyter-widgets/controls",
      "model_module_version": "1.2.0",
      "model_name": "SliderStyleModel",
      "state": {
       "description_width": ""
      }
     },
     "f3ad7a4329724c38bc88d17ab16593b5": {
      "model_module": "@jupyter-widgets/base",
      "model_module_version": "1.0.0",
      "model_name": "LayoutModel",
      "state": {}
     },
     "f40005c8e1174defaa014eadd30a02b1": {
      "model_module": "@jupyter-widgets/base",
      "model_module_version": "1.0.0",
      "model_name": "LayoutModel",
      "state": {}
     },
     "f49abb1bfe0e4de1aa78b7939647a381": {
      "model_module": "@jupyter-widgets/controls",
      "model_module_version": "1.2.0",
      "model_name": "FloatSliderModel",
      "state": {
       "description": "base_width",
       "layout": "IPY_MODEL_1453ea9403554eeebaf033221d214d6b",
       "max": 1,
       "step": 0.01,
       "style": "IPY_MODEL_70f9ef6a6595422bae7e2fd96b51a2d6",
       "value": 0.89
      }
     },
     "f52c854b2c0a419eb677a15f4fd68ccb": {
      "model_module": "@jupyter-widgets/controls",
      "model_module_version": "1.2.0",
      "model_name": "SliderStyleModel",
      "state": {
       "description_width": ""
      }
     },
     "f54637559e7e4d849384fc8a834ec5fb": {
      "model_module": "@jupyter-widgets/base",
      "model_module_version": "1.0.0",
      "model_name": "LayoutModel",
      "state": {}
     },
     "f57961a51adb44328c8edb0c3f1853fe": {
      "model_module": "@jupyter-widgets/controls",
      "model_module_version": "1.2.0",
      "model_name": "SliderStyleModel",
      "state": {
       "description_width": ""
      }
     },
     "f5ef1ebd180949ecab20c519805ca92c": {
      "model_module": "@jupyter-widgets/controls",
      "model_module_version": "1.2.0",
      "model_name": "SliderStyleModel",
      "state": {
       "description_width": ""
      }
     },
     "f64d7b2ec81941469206aedaa56fcbb0": {
      "model_module": "@jupyter-widgets/controls",
      "model_module_version": "1.2.0",
      "model_name": "SliderStyleModel",
      "state": {
       "description_width": ""
      }
     },
     "f66a56763d86445492db5252ea0acc7a": {
      "model_module": "@jupyter-widgets/base",
      "model_module_version": "1.0.0",
      "model_name": "LayoutModel",
      "state": {}
     },
     "f6c3e1ce561741d18dc892f60bb71327": {
      "model_module": "@jupyter-widgets/controls",
      "model_module_version": "1.2.0",
      "model_name": "SliderStyleModel",
      "state": {
       "description_width": ""
      }
     },
     "f7a3b126019648469700a98e21b01ff1": {
      "model_module": "@jupyter-widgets/controls",
      "model_module_version": "1.2.0",
      "model_name": "SliderStyleModel",
      "state": {
       "description_width": ""
      }
     },
     "f879f142ac434d6480bc549b10cd7e81": {
      "model_module": "@jupyter-widgets/base",
      "model_module_version": "1.0.0",
      "model_name": "LayoutModel",
      "state": {}
     },
     "f8992b6bac734e5c95fe667224a64bdb": {
      "model_module": "@jupyter-widgets/controls",
      "model_module_version": "1.2.0",
      "model_name": "SliderStyleModel",
      "state": {
       "description_width": ""
      }
     },
     "f8d916e49ae14d7f8f7d0539028873ac": {
      "model_module": "@jupyter-widgets/controls",
      "model_module_version": "1.2.0",
      "model_name": "FloatSliderModel",
      "state": {
       "description": "liquid_height",
       "layout": "IPY_MODEL_476c471f722d46f58e5c04038b9394f1",
       "max": 1,
       "step": 0.01,
       "style": "IPY_MODEL_206ef7267d0e4d9681c62504de891188",
       "value": 0.6
      }
     },
     "f90825b01edf49bba67d690ec00ecee9": {
      "model_module": "@jupyter-widgets/controls",
      "model_module_version": "1.2.0",
      "model_name": "FloatSliderModel",
      "state": {
       "description": "wall_density",
       "layout": "IPY_MODEL_5246b9cdb58a4551bc0de9ed25ab6294",
       "max": 3,
       "step": 0.01,
       "style": "IPY_MODEL_fc6000139d5c470bbddfa37aedb075a0",
       "value": 1
      }
     },
     "fa1257ddc03d45c6aa501bb01dc51b8c": {
      "model_module": "@jupyter-widgets/controls",
      "model_module_version": "1.2.0",
      "model_name": "FloatSliderModel",
      "state": {
       "description": "wall_density",
       "layout": "IPY_MODEL_4eb2bd4d779644908b18515d8029eda2",
       "max": 3,
       "step": 0.01,
       "style": "IPY_MODEL_378a90963a0844b6a167f87e3e2b05d5",
       "value": 0.3
      }
     },
     "fa7d36680254419bbb1cd7d040c36aa5": {
      "model_module": "@jupyter-widgets/base",
      "model_module_version": "1.0.0",
      "model_name": "LayoutModel",
      "state": {}
     },
     "fa7f04c28a7648e984a12e93101a060b": {
      "model_module": "@jupyter-widgets/base",
      "model_module_version": "1.0.0",
      "model_name": "LayoutModel",
      "state": {}
     },
     "fb1e77476b4a437c92219682521388b7": {
      "model_module": "@jupyter-widgets/output",
      "model_module_version": "1.0.0",
      "model_name": "OutputModel",
      "state": {
       "layout": "IPY_MODEL_7d6634a0f74542f1b7d2d90754b5e9db",
       "outputs": [
        {
         "data": {
          "image/svg+xml": "<svg baseProfile=\"full\" height=\"400\" version=\"1.1\" width=\"400\" xmlns=\"http://www.w3.org/2000/svg\" xmlns:ev=\"http://www.w3.org/2001/xml-events\" xmlns:xlink=\"http://www.w3.org/1999/xlink\"><defs/><rect fill=\"black\" height=\"400\" width=\"10.0\" x=\"0\" y=\"0\"/><rect fill=\"black\" height=\"400\" width=\"10.0\" x=\"190.0\" y=\"0\"/><rect fill=\"blue\" height=\"400\" width=\"180.0\" x=\"10.0\" y=\"200.0\"/><line stroke=\"black\" x1=\"0\" x2=\"200.0\" y1=\"400\" y2=\"400\"/><line stroke=\"green\" stroke-width=\"3\" x1=\"0\" x2=\"200.0\" y1=\"281.0\" y2=\"281.0\"/><line stroke=\"magenta\" stroke-width=\"3\" x1=\"0\" x2=\"100.0\" y1=\"400\" y2=\"281.0\"/><text font-size=\"14\" stroke=\"magenta\" x=\"30.0\" y=\"316.7\">α</text></svg>",
          "text/plain": "<IPython.core.display.SVG object>"
         },
         "metadata": {},
         "output_type": "display_data"
        }
       ]
      }
     },
     "fb3d940f58b24e76ac52bf0ee38b1791": {
      "model_module": "@jupyter-widgets/output",
      "model_module_version": "1.0.0",
      "model_name": "OutputModel",
      "state": {
       "layout": "IPY_MODEL_1252655c13254419af2c622268e80673",
       "outputs": [
        {
         "ename": "TypeError",
         "evalue": "'' is not a valid value for attribute 'rx' at svg-element <rect>.",
         "output_type": "error",
         "traceback": [
          "\u001b[0;31m---------------------------------------------------------------------------\u001b[0m",
          "\u001b[0;31mTypeError\u001b[0m                                 Traceback (most recent call last)",
          "\u001b[0;32m/opt/miniconda3/lib/python3.6/site-packages/ipywidgets/widgets/interaction.py\u001b[0m in \u001b[0;36mupdate\u001b[0;34m(self, *args)\u001b[0m\n\u001b[1;32m    249\u001b[0m                     \u001b[0mvalue\u001b[0m \u001b[0;34m=\u001b[0m \u001b[0mwidget\u001b[0m\u001b[0;34m.\u001b[0m\u001b[0mget_interact_value\u001b[0m\u001b[0;34m(\u001b[0m\u001b[0;34m)\u001b[0m\u001b[0;34m\u001b[0m\u001b[0m\n\u001b[1;32m    250\u001b[0m                     \u001b[0mself\u001b[0m\u001b[0;34m.\u001b[0m\u001b[0mkwargs\u001b[0m\u001b[0;34m[\u001b[0m\u001b[0mwidget\u001b[0m\u001b[0;34m.\u001b[0m\u001b[0m_kwarg\u001b[0m\u001b[0;34m]\u001b[0m \u001b[0;34m=\u001b[0m \u001b[0mvalue\u001b[0m\u001b[0;34m\u001b[0m\u001b[0m\n\u001b[0;32m--> 251\u001b[0;31m                 \u001b[0mself\u001b[0m\u001b[0;34m.\u001b[0m\u001b[0mresult\u001b[0m \u001b[0;34m=\u001b[0m \u001b[0mself\u001b[0m\u001b[0;34m.\u001b[0m\u001b[0mf\u001b[0m\u001b[0;34m(\u001b[0m\u001b[0;34m**\u001b[0m\u001b[0mself\u001b[0m\u001b[0;34m.\u001b[0m\u001b[0mkwargs\u001b[0m\u001b[0;34m)\u001b[0m\u001b[0;34m\u001b[0m\u001b[0m\n\u001b[0m\u001b[1;32m    252\u001b[0m                 \u001b[0mshow_inline_matplotlib_plots\u001b[0m\u001b[0;34m(\u001b[0m\u001b[0;34m)\u001b[0m\u001b[0;34m\u001b[0m\u001b[0m\n\u001b[1;32m    253\u001b[0m                 \u001b[0;32mif\u001b[0m \u001b[0mself\u001b[0m\u001b[0;34m.\u001b[0m\u001b[0mauto_display\u001b[0m \u001b[0;32mand\u001b[0m \u001b[0mself\u001b[0m\u001b[0;34m.\u001b[0m\u001b[0mresult\u001b[0m \u001b[0;32mis\u001b[0m \u001b[0;32mnot\u001b[0m \u001b[0;32mNone\u001b[0m\u001b[0;34m:\u001b[0m\u001b[0;34m\u001b[0m\u001b[0m\n",
          "\u001b[0;32m<ipython-input-16-f9b5b18b377b>\u001b[0m in \u001b[0;36mdrawing\u001b[0;34m(wall_thickness, wall_density, base_width, liquid_height)\u001b[0m\n\u001b[1;32m     63\u001b[0m \u001b[0;34m\u001b[0m\u001b[0m\n\u001b[1;32m     64\u001b[0m     \u001b[0mdr\u001b[0m\u001b[0;34m.\u001b[0m\u001b[0madd\u001b[0m\u001b[0;34m(\u001b[0m\u001b[0mdr\u001b[0m\u001b[0;34m.\u001b[0m\u001b[0mrect\u001b[0m\u001b[0;34m(\u001b[0m\u001b[0;34m*\u001b[0m\u001b[0mc\u001b[0m\u001b[0;34m.\u001b[0m\u001b[0mleft_wall\u001b[0m\u001b[0;34m(\u001b[0m\u001b[0;34m)\u001b[0m \u001b[0;34m,\u001b[0m \u001b[0mfill\u001b[0m  \u001b[0;34m=\u001b[0m\u001b[0;34m'black'\u001b[0m\u001b[0;34m)\u001b[0m\u001b[0;34m)\u001b[0m\u001b[0;34m\u001b[0m\u001b[0m\n\u001b[0;32m---> 65\u001b[0;31m     \u001b[0mdr\u001b[0m\u001b[0;34m.\u001b[0m\u001b[0madd\u001b[0m\u001b[0;34m(\u001b[0m\u001b[0mdr\u001b[0m\u001b[0;34m.\u001b[0m\u001b[0mrect\u001b[0m\u001b[0;34m(\u001b[0m\u001b[0;34m*\u001b[0m\u001b[0mc\u001b[0m\u001b[0;34m.\u001b[0m\u001b[0mright_wall\u001b[0m\u001b[0;34m(\u001b[0m\u001b[0;34m)\u001b[0m\u001b[0;34m,\u001b[0m \u001b[0mfill\u001b[0m  \u001b[0;34m=\u001b[0m\u001b[0;34m'black'\u001b[0m\u001b[0;34m)\u001b[0m\u001b[0;34m)\u001b[0m\u001b[0;34m\u001b[0m\u001b[0m\n\u001b[0m\u001b[1;32m     66\u001b[0m     \u001b[0mdr\u001b[0m\u001b[0;34m.\u001b[0m\u001b[0madd\u001b[0m\u001b[0;34m(\u001b[0m\u001b[0mdr\u001b[0m\u001b[0;34m.\u001b[0m\u001b[0mrect\u001b[0m\u001b[0;34m(\u001b[0m\u001b[0;34m*\u001b[0m\u001b[0mc\u001b[0m\u001b[0;34m.\u001b[0m\u001b[0mliquid\u001b[0m\u001b[0;34m(\u001b[0m\u001b[0;34m)\u001b[0m    \u001b[0;34m,\u001b[0m \u001b[0mfill\u001b[0m  \u001b[0;34m=\u001b[0m\u001b[0;34m'blue'\u001b[0m \u001b[0;34m)\u001b[0m\u001b[0;34m)\u001b[0m\u001b[0;34m\u001b[0m\u001b[0m\n\u001b[1;32m     67\u001b[0m     \u001b[0mdr\u001b[0m\u001b[0;34m.\u001b[0m\u001b[0madd\u001b[0m\u001b[0;34m(\u001b[0m\u001b[0mdr\u001b[0m\u001b[0;34m.\u001b[0m\u001b[0mline\u001b[0m\u001b[0;34m(\u001b[0m\u001b[0;34m*\u001b[0m\u001b[0mc\u001b[0m\u001b[0;34m.\u001b[0m\u001b[0mbase\u001b[0m\u001b[0;34m(\u001b[0m\u001b[0;34m)\u001b[0m      \u001b[0;34m,\u001b[0m \u001b[0mstroke\u001b[0m\u001b[0;34m=\u001b[0m\u001b[0;34m'black'\u001b[0m\u001b[0;34m)\u001b[0m\u001b[0;34m)\u001b[0m\u001b[0;34m\u001b[0m\u001b[0m\n",
          "\u001b[0;32m/opt/miniconda3/lib/python3.6/site-packages/svgwrite/elementfactory.py\u001b[0m in \u001b[0;36m__call__\u001b[0;34m(self, *args, **kwargs)\u001b[0m\n\u001b[1;32m     66\u001b[0m         \u001b[0mkwargs\u001b[0m\u001b[0;34m[\u001b[0m\u001b[0;34m'factory'\u001b[0m\u001b[0;34m]\u001b[0m \u001b[0;34m=\u001b[0m \u001b[0mself\u001b[0m\u001b[0;34m.\u001b[0m\u001b[0mfactory\u001b[0m\u001b[0;34m\u001b[0m\u001b[0m\n\u001b[1;32m     67\u001b[0m         \u001b[0;31m# create an object of type 'cls'\u001b[0m\u001b[0;34m\u001b[0m\u001b[0;34m\u001b[0m\u001b[0m\n\u001b[0;32m---> 68\u001b[0;31m         \u001b[0;32mreturn\u001b[0m \u001b[0mself\u001b[0m\u001b[0;34m.\u001b[0m\u001b[0mcls\u001b[0m\u001b[0;34m(\u001b[0m\u001b[0;34m*\u001b[0m\u001b[0margs\u001b[0m\u001b[0;34m,\u001b[0m \u001b[0;34m**\u001b[0m\u001b[0mkwargs\u001b[0m\u001b[0;34m)\u001b[0m\u001b[0;34m\u001b[0m\u001b[0m\n\u001b[0m\u001b[1;32m     69\u001b[0m \u001b[0;34m\u001b[0m\u001b[0m\n\u001b[1;32m     70\u001b[0m \u001b[0;34m\u001b[0m\u001b[0m\n",
          "\u001b[0;32m/opt/miniconda3/lib/python3.6/site-packages/svgwrite/shapes.py\u001b[0m in \u001b[0;36m__init__\u001b[0;34m(self, insert, size, rx, ry, **extra)\u001b[0m\n\u001b[1;32m     70\u001b[0m         \u001b[0mself\u001b[0m\u001b[0;34m[\u001b[0m\u001b[0;34m'height'\u001b[0m\u001b[0;34m]\u001b[0m \u001b[0;34m=\u001b[0m \u001b[0mheight\u001b[0m\u001b[0;34m\u001b[0m\u001b[0m\n\u001b[1;32m     71\u001b[0m         \u001b[0;32mif\u001b[0m \u001b[0mrx\u001b[0m \u001b[0;32mis\u001b[0m \u001b[0;32mnot\u001b[0m \u001b[0;32mNone\u001b[0m\u001b[0;34m:\u001b[0m\u001b[0;34m\u001b[0m\u001b[0m\n\u001b[0;32m---> 72\u001b[0;31m             \u001b[0mself\u001b[0m\u001b[0;34m[\u001b[0m\u001b[0;34m'rx'\u001b[0m\u001b[0;34m]\u001b[0m \u001b[0;34m=\u001b[0m \u001b[0mrx\u001b[0m\u001b[0;34m\u001b[0m\u001b[0m\n\u001b[0m\u001b[1;32m     73\u001b[0m         \u001b[0;32mif\u001b[0m \u001b[0mry\u001b[0m \u001b[0;32mis\u001b[0m \u001b[0;32mnot\u001b[0m \u001b[0;32mNone\u001b[0m\u001b[0;34m:\u001b[0m\u001b[0;34m\u001b[0m\u001b[0m\n\u001b[1;32m     74\u001b[0m             \u001b[0mself\u001b[0m\u001b[0;34m[\u001b[0m\u001b[0;34m'ry'\u001b[0m\u001b[0;34m]\u001b[0m \u001b[0;34m=\u001b[0m \u001b[0mry\u001b[0m\u001b[0;34m\u001b[0m\u001b[0m\n",
          "\u001b[0;32m/opt/miniconda3/lib/python3.6/site-packages/svgwrite/base.py\u001b[0m in \u001b[0;36m__setitem__\u001b[0;34m(self, key, value)\u001b[0m\n\u001b[1;32m    160\u001b[0m         \u001b[0;31m# by self['attribute'] = value\u001b[0m\u001b[0;34m\u001b[0m\u001b[0;34m\u001b[0m\u001b[0m\n\u001b[1;32m    161\u001b[0m         \u001b[0;32mif\u001b[0m \u001b[0mself\u001b[0m\u001b[0;34m.\u001b[0m\u001b[0mdebug\u001b[0m\u001b[0;34m:\u001b[0m\u001b[0;34m\u001b[0m\u001b[0m\n\u001b[0;32m--> 162\u001b[0;31m             \u001b[0mself\u001b[0m\u001b[0;34m.\u001b[0m\u001b[0mvalidator\u001b[0m\u001b[0;34m.\u001b[0m\u001b[0mcheck_svg_attribute_value\u001b[0m\u001b[0;34m(\u001b[0m\u001b[0mself\u001b[0m\u001b[0;34m.\u001b[0m\u001b[0melementname\u001b[0m\u001b[0;34m,\u001b[0m \u001b[0mkey\u001b[0m\u001b[0;34m,\u001b[0m \u001b[0mvalue\u001b[0m\u001b[0;34m)\u001b[0m\u001b[0;34m\u001b[0m\u001b[0m\n\u001b[0m\u001b[1;32m    163\u001b[0m         \u001b[0mself\u001b[0m\u001b[0;34m.\u001b[0m\u001b[0mattribs\u001b[0m\u001b[0;34m[\u001b[0m\u001b[0mkey\u001b[0m\u001b[0;34m]\u001b[0m \u001b[0;34m=\u001b[0m \u001b[0mvalue\u001b[0m\u001b[0;34m\u001b[0m\u001b[0m\n\u001b[1;32m    164\u001b[0m \u001b[0;34m\u001b[0m\u001b[0m\n",
          "\u001b[0;32m/opt/miniconda3/lib/python3.6/site-packages/svgwrite/validator2.py\u001b[0m in \u001b[0;36mcheck_svg_attribute_value\u001b[0;34m(self, elementname, attributename, value)\u001b[0m\n\u001b[1;32m     60\u001b[0m         \"\"\"\n\u001b[1;32m     61\u001b[0m         \u001b[0mself\u001b[0m\u001b[0;34m.\u001b[0m\u001b[0m_check_valid_svg_attribute_name\u001b[0m\u001b[0;34m(\u001b[0m\u001b[0melementname\u001b[0m\u001b[0;34m,\u001b[0m \u001b[0mattributename\u001b[0m\u001b[0;34m)\u001b[0m\u001b[0;34m\u001b[0m\u001b[0m\n\u001b[0;32m---> 62\u001b[0;31m         \u001b[0mself\u001b[0m\u001b[0;34m.\u001b[0m\u001b[0m_check_svg_value\u001b[0m\u001b[0;34m(\u001b[0m\u001b[0melementname\u001b[0m\u001b[0;34m,\u001b[0m \u001b[0mattributename\u001b[0m\u001b[0;34m,\u001b[0m \u001b[0mvalue\u001b[0m\u001b[0;34m)\u001b[0m\u001b[0;34m\u001b[0m\u001b[0m\n\u001b[0m\u001b[1;32m     63\u001b[0m \u001b[0;34m\u001b[0m\u001b[0m\n\u001b[1;32m     64\u001b[0m     \u001b[0;32mdef\u001b[0m \u001b[0m_check_svg_value\u001b[0m\u001b[0;34m(\u001b[0m\u001b[0mself\u001b[0m\u001b[0;34m,\u001b[0m \u001b[0melementname\u001b[0m\u001b[0;34m,\u001b[0m \u001b[0mattributename\u001b[0m\u001b[0;34m,\u001b[0m \u001b[0mvalue\u001b[0m\u001b[0;34m)\u001b[0m\u001b[0;34m:\u001b[0m\u001b[0;34m\u001b[0m\u001b[0m\n",
          "\u001b[0;32m/opt/miniconda3/lib/python3.6/site-packages/svgwrite/validator2.py\u001b[0m in \u001b[0;36m_check_svg_value\u001b[0;34m(self, elementname, attributename, value)\u001b[0m\n\u001b[1;32m     77\u001b[0m         \u001b[0mvaluestr\u001b[0m \u001b[0;34m=\u001b[0m \u001b[0mstr\u001b[0m\u001b[0;34m(\u001b[0m\u001b[0mvalue\u001b[0m\u001b[0;34m)\u001b[0m\u001b[0;34m\u001b[0m\u001b[0m\n\u001b[1;32m     78\u001b[0m         \u001b[0;32mif\u001b[0m \u001b[0;32mnot\u001b[0m \u001b[0mvaluestr\u001b[0m \u001b[0;32min\u001b[0m \u001b[0mattribute\u001b[0m\u001b[0;34m.\u001b[0m\u001b[0mget_const\u001b[0m\u001b[0;34m(\u001b[0m\u001b[0melementname\u001b[0m\u001b[0;34m)\u001b[0m\u001b[0;34m:\u001b[0m\u001b[0;34m\u001b[0m\u001b[0m\n\u001b[0;32m---> 79\u001b[0;31m             \u001b[0;32mraise\u001b[0m \u001b[0mTypeError\u001b[0m\u001b[0;34m(\u001b[0m\u001b[0;34m\"'%s' is not a valid value for attribute '%s' at svg-element <%s>.\"\u001b[0m \u001b[0;34m%\u001b[0m \u001b[0;34m(\u001b[0m\u001b[0mvalue\u001b[0m\u001b[0;34m,\u001b[0m \u001b[0mattributename\u001b[0m\u001b[0;34m,\u001b[0m \u001b[0melementname\u001b[0m\u001b[0;34m)\u001b[0m\u001b[0;34m)\u001b[0m\u001b[0;34m\u001b[0m\u001b[0m\n\u001b[0m\u001b[1;32m     80\u001b[0m \u001b[0;34m\u001b[0m\u001b[0m\n\u001b[1;32m     81\u001b[0m     \u001b[0;32mdef\u001b[0m \u001b[0m_check_valid_svg_attribute_name\u001b[0m\u001b[0;34m(\u001b[0m\u001b[0mself\u001b[0m\u001b[0;34m,\u001b[0m \u001b[0melementname\u001b[0m\u001b[0;34m,\u001b[0m \u001b[0mattributename\u001b[0m\u001b[0;34m)\u001b[0m\u001b[0;34m:\u001b[0m\u001b[0;34m\u001b[0m\u001b[0m\n",
          "\u001b[0;31mTypeError\u001b[0m: '' is not a valid value for attribute 'rx' at svg-element <rect>."
         ]
        }
       ]
      }
     },
     "fb9159bccb3345a8b3fe82685b93d98e": {
      "model_module": "@jupyter-widgets/base",
      "model_module_version": "1.0.0",
      "model_name": "LayoutModel",
      "state": {}
     },
     "fbec7e73a2a247809fd7391ef47afd0d": {
      "model_module": "@jupyter-widgets/controls",
      "model_module_version": "1.2.0",
      "model_name": "FloatSliderModel",
      "state": {
       "description": "wall_dnst",
       "layout": "IPY_MODEL_4fedb46b312a4df0832b438960dbbdfb",
       "max": 3,
       "step": 0.01,
       "style": "IPY_MODEL_7fc64e2f1b4240c39da40ff8a0ed53dc",
       "value": 1.5
      }
     },
     "fc29f6dbc61c4f79b5f5d75e65c5c1aa": {
      "model_module": "@jupyter-widgets/controls",
      "model_module_version": "1.2.0",
      "model_name": "FloatSliderModel",
      "state": {
       "description": "liqd_hght",
       "layout": "IPY_MODEL_73eec33474344505bad1939321341b23",
       "max": 1,
       "step": 0.01,
       "style": "IPY_MODEL_f52c854b2c0a419eb677a15f4fd68ccb",
       "value": 0.5
      }
     },
     "fc33def98b564afd9824f25dff8402ca": {
      "model_module": "@jupyter-widgets/output",
      "model_module_version": "1.0.0",
      "model_name": "OutputModel",
      "state": {
       "layout": "IPY_MODEL_0dafb115117545a19b376bb75bb4dbda",
       "outputs": [
        {
         "ename": "ValueError",
         "evalue": "Use 'insert' and 'x' or 'y' parameter not at the same time!",
         "output_type": "error",
         "traceback": [
          "\u001b[0;31m---------------------------------------------------------------------------\u001b[0m",
          "\u001b[0;31mValueError\u001b[0m                                Traceback (most recent call last)",
          "\u001b[0;32m/opt/miniconda3/lib/python3.6/site-packages/ipywidgets/widgets/interaction.py\u001b[0m in \u001b[0;36mupdate\u001b[0;34m(self, *args)\u001b[0m\n\u001b[1;32m    249\u001b[0m                     \u001b[0mvalue\u001b[0m \u001b[0;34m=\u001b[0m \u001b[0mwidget\u001b[0m\u001b[0;34m.\u001b[0m\u001b[0mget_interact_value\u001b[0m\u001b[0;34m(\u001b[0m\u001b[0;34m)\u001b[0m\u001b[0;34m\u001b[0m\u001b[0m\n\u001b[1;32m    250\u001b[0m                     \u001b[0mself\u001b[0m\u001b[0;34m.\u001b[0m\u001b[0mkwargs\u001b[0m\u001b[0;34m[\u001b[0m\u001b[0mwidget\u001b[0m\u001b[0;34m.\u001b[0m\u001b[0m_kwarg\u001b[0m\u001b[0;34m]\u001b[0m \u001b[0;34m=\u001b[0m \u001b[0mvalue\u001b[0m\u001b[0;34m\u001b[0m\u001b[0m\n\u001b[0;32m--> 251\u001b[0;31m                 \u001b[0mself\u001b[0m\u001b[0;34m.\u001b[0m\u001b[0mresult\u001b[0m \u001b[0;34m=\u001b[0m \u001b[0mself\u001b[0m\u001b[0;34m.\u001b[0m\u001b[0mf\u001b[0m\u001b[0;34m(\u001b[0m\u001b[0;34m**\u001b[0m\u001b[0mself\u001b[0m\u001b[0;34m.\u001b[0m\u001b[0mkwargs\u001b[0m\u001b[0;34m)\u001b[0m\u001b[0;34m\u001b[0m\u001b[0m\n\u001b[0m\u001b[1;32m    252\u001b[0m                 \u001b[0mshow_inline_matplotlib_plots\u001b[0m\u001b[0;34m(\u001b[0m\u001b[0;34m)\u001b[0m\u001b[0;34m\u001b[0m\u001b[0m\n\u001b[1;32m    253\u001b[0m                 \u001b[0;32mif\u001b[0m \u001b[0mself\u001b[0m\u001b[0;34m.\u001b[0m\u001b[0mauto_display\u001b[0m \u001b[0;32mand\u001b[0m \u001b[0mself\u001b[0m\u001b[0;34m.\u001b[0m\u001b[0mresult\u001b[0m \u001b[0;32mis\u001b[0m \u001b[0;32mnot\u001b[0m \u001b[0;32mNone\u001b[0m\u001b[0;34m:\u001b[0m\u001b[0;34m\u001b[0m\u001b[0m\n",
          "\u001b[0;32m<ipython-input-45-2ca006afed8f>\u001b[0m in \u001b[0;36mdrawing\u001b[0;34m(wall_thck, wall_dnst, base_wdth, liqd_hght)\u001b[0m\n\u001b[1;32m     25\u001b[0m     \u001b[0mdr\u001b[0m\u001b[0;34m.\u001b[0m\u001b[0madd\u001b[0m\u001b[0;34m(\u001b[0m\u001b[0mdr\u001b[0m\u001b[0;34m.\u001b[0m\u001b[0mline\u001b[0m\u001b[0;34m(\u001b[0m\u001b[0;34m*\u001b[0m\u001b[0mc\u001b[0m\u001b[0;34m.\u001b[0m\u001b[0mcenter_line\u001b[0m\u001b[0;34m(\u001b[0m\u001b[0;34m)\u001b[0m\u001b[0;34m,\u001b[0m \u001b[0mstroke\u001b[0m\u001b[0;34m=\u001b[0m\u001b[0;34m'green'\u001b[0m  \u001b[0;34m,\u001b[0m \u001b[0mstroke_width\u001b[0m\u001b[0;34m=\u001b[0m\u001b[0;36m3\u001b[0m\u001b[0;34m)\u001b[0m\u001b[0;34m)\u001b[0m\u001b[0;34m\u001b[0m\u001b[0m\n\u001b[1;32m     26\u001b[0m     \u001b[0mdr\u001b[0m\u001b[0;34m.\u001b[0m\u001b[0madd\u001b[0m\u001b[0;34m(\u001b[0m\u001b[0mdr\u001b[0m\u001b[0;34m.\u001b[0m\u001b[0mline\u001b[0m\u001b[0;34m(\u001b[0m\u001b[0;34m*\u001b[0m\u001b[0mc\u001b[0m\u001b[0;34m.\u001b[0m\u001b[0mtip_line\u001b[0m\u001b[0;34m(\u001b[0m\u001b[0;34m)\u001b[0m   \u001b[0;34m,\u001b[0m \u001b[0mstroke\u001b[0m\u001b[0;34m=\u001b[0m\u001b[0;34m'magenta'\u001b[0m\u001b[0;34m,\u001b[0m \u001b[0mstroke_width\u001b[0m\u001b[0;34m=\u001b[0m\u001b[0;36m3\u001b[0m\u001b[0;34m)\u001b[0m\u001b[0;34m)\u001b[0m\u001b[0;34m\u001b[0m\u001b[0m\n\u001b[0;32m---> 27\u001b[0;31m     \u001b[0mdr\u001b[0m\u001b[0;34m.\u001b[0m\u001b[0madd\u001b[0m\u001b[0;34m(\u001b[0m\u001b[0mdr\u001b[0m\u001b[0;34m.\u001b[0m\u001b[0mtext\u001b[0m\u001b[0;34m(\u001b[0m\u001b[0;34m'a'\u001b[0m\u001b[0;34m,\u001b[0m \u001b[0;34m*\u001b[0m\u001b[0mc\u001b[0m\u001b[0;34m.\u001b[0m\u001b[0mtip_angle_loc\u001b[0m\u001b[0;34m(\u001b[0m\u001b[0;34m)\u001b[0m\u001b[0;34m)\u001b[0m\u001b[0;34m)\u001b[0m\u001b[0;34m\u001b[0m\u001b[0m\n\u001b[0m\u001b[1;32m     28\u001b[0m \u001b[0;34m\u001b[0m\u001b[0m\n\u001b[1;32m     29\u001b[0m     \u001b[0;31m# Return SVG object.\u001b[0m\u001b[0;34m\u001b[0m\u001b[0;34m\u001b[0m\u001b[0m\n",
          "\u001b[0;32m/opt/miniconda3/lib/python3.6/site-packages/svgwrite/elementfactory.py\u001b[0m in \u001b[0;36m__call__\u001b[0;34m(self, *args, **kwargs)\u001b[0m\n\u001b[1;32m     66\u001b[0m         \u001b[0mkwargs\u001b[0m\u001b[0;34m[\u001b[0m\u001b[0;34m'factory'\u001b[0m\u001b[0;34m]\u001b[0m \u001b[0;34m=\u001b[0m \u001b[0mself\u001b[0m\u001b[0;34m.\u001b[0m\u001b[0mfactory\u001b[0m\u001b[0;34m\u001b[0m\u001b[0m\n\u001b[1;32m     67\u001b[0m         \u001b[0;31m# create an object of type 'cls'\u001b[0m\u001b[0;34m\u001b[0m\u001b[0;34m\u001b[0m\u001b[0m\n\u001b[0;32m---> 68\u001b[0;31m         \u001b[0;32mreturn\u001b[0m \u001b[0mself\u001b[0m\u001b[0;34m.\u001b[0m\u001b[0mcls\u001b[0m\u001b[0;34m(\u001b[0m\u001b[0;34m*\u001b[0m\u001b[0margs\u001b[0m\u001b[0;34m,\u001b[0m \u001b[0;34m**\u001b[0m\u001b[0mkwargs\u001b[0m\u001b[0;34m)\u001b[0m\u001b[0;34m\u001b[0m\u001b[0m\n\u001b[0m\u001b[1;32m     69\u001b[0m \u001b[0;34m\u001b[0m\u001b[0m\n\u001b[1;32m     70\u001b[0m \u001b[0;34m\u001b[0m\u001b[0m\n",
          "\u001b[0;32m/opt/miniconda3/lib/python3.6/site-packages/svgwrite/text.py\u001b[0m in \u001b[0;36m__init__\u001b[0;34m(self, text, insert, x, y, dx, dy, rotate, **extra)\u001b[0m\n\u001b[1;32m     50\u001b[0m                                 \" at least two elements.\")\n\u001b[1;32m     51\u001b[0m             \u001b[0;32mif\u001b[0m \u001b[0mx\u001b[0m \u001b[0;32mor\u001b[0m \u001b[0my\u001b[0m\u001b[0;34m:\u001b[0m\u001b[0;34m\u001b[0m\u001b[0m\n\u001b[0;32m---> 52\u001b[0;31m                 raise ValueError(\"Use 'insert' and 'x' or 'y' parameter not\"\n\u001b[0m\u001b[1;32m     53\u001b[0m                                  \" at the same time!\")\n\u001b[1;32m     54\u001b[0m             \u001b[0mx\u001b[0m \u001b[0;34m=\u001b[0m \u001b[0;34m[\u001b[0m\u001b[0minsert\u001b[0m\u001b[0;34m[\u001b[0m\u001b[0;36m0\u001b[0m\u001b[0;34m]\u001b[0m\u001b[0;34m]\u001b[0m\u001b[0;34m\u001b[0m\u001b[0m\n",
          "\u001b[0;31mValueError\u001b[0m: Use 'insert' and 'x' or 'y' parameter not at the same time!"
         ]
        }
       ]
      }
     },
     "fc4ab80acddc4a358bfa9a7626dba594": {
      "model_module": "@jupyter-widgets/controls",
      "model_module_version": "1.2.0",
      "model_name": "FloatSliderModel",
      "state": {
       "description": "wall_thck",
       "layout": "IPY_MODEL_5d89ff42003f40acac4da82a5286e4ad",
       "max": 0.05,
       "step": 0.001,
       "style": "IPY_MODEL_a71c91c26c744f5db396e3995b498dcf",
       "value": 0.025
      }
     },
     "fc6000139d5c470bbddfa37aedb075a0": {
      "model_module": "@jupyter-widgets/controls",
      "model_module_version": "1.2.0",
      "model_name": "SliderStyleModel",
      "state": {
       "description_width": ""
      }
     },
     "fc9c8b23f6804827b07a0a7010ebffe0": {
      "model_module": "@jupyter-widgets/controls",
      "model_module_version": "1.2.0",
      "model_name": "FloatSliderModel",
      "state": {
       "description": "base_width",
       "layout": "IPY_MODEL_eda30dec53e84d178d17f1d0bb77d15f",
       "max": 1,
       "step": 0.01,
       "style": "IPY_MODEL_2e32b562ef634609b291ae9ad65de604",
       "value": 0.5
      }
     },
     "fd0bbeb4248643d885c9e13129e259c4": {
      "model_module": "@jupyter-widgets/base",
      "model_module_version": "1.0.0",
      "model_name": "LayoutModel",
      "state": {}
     },
     "fd14a00b1af843e5a6b479cf242a77fb": {
      "model_module": "@jupyter-widgets/controls",
      "model_module_version": "1.2.0",
      "model_name": "FloatSliderModel",
      "state": {
       "description": "fluid_height",
       "layout": "IPY_MODEL_d8351846c598403a9c4c71fff5b93c2e",
       "max": 1,
       "step": 0.01,
       "style": "IPY_MODEL_7e5e778e670b4cf28b0c5d363773a558",
       "value": 0.31
      }
     },
     "fd1f3513fa034967aa3588c0c59b7182": {
      "model_module": "@jupyter-widgets/controls",
      "model_module_version": "1.2.0",
      "model_name": "FloatSliderModel",
      "state": {
       "description": "wall_density",
       "layout": "IPY_MODEL_df685024e9bf48309c5ee4d6fd7da550",
       "max": 3,
       "step": 0.01,
       "style": "IPY_MODEL_4b4c6244dec34669879cb0e03ce2e92a",
       "value": 1
      }
     },
     "fe522f98001547f6a0695e79e98a99cf": {
      "model_module": "@jupyter-widgets/controls",
      "model_module_version": "1.2.0",
      "model_name": "VBoxModel",
      "state": {
       "_dom_classes": [
        "widget-interact"
       ],
       "children": [
        "IPY_MODEL_dd31bdf9c2cb4d92867de48beeec8b3a",
        "IPY_MODEL_3f9c29e3893d409aa06be1629832c15b",
        "IPY_MODEL_fc9c8b23f6804827b07a0a7010ebffe0",
        "IPY_MODEL_6bfbb535dcab49ab8fd2c0fe17c6c79e",
        "IPY_MODEL_f0ba8a90aa4b4dd2bd30c9bb721503a7"
       ],
       "layout": "IPY_MODEL_72090b251e944cfa815bf4994761939a"
      }
     },
     "fe54f747843144859741ff99ad715e05": {
      "model_module": "@jupyter-widgets/controls",
      "model_module_version": "1.2.0",
      "model_name": "SliderStyleModel",
      "state": {
       "description_width": ""
      }
     },
     "fe68175f564c453480c2fb504be5fc71": {
      "model_module": "@jupyter-widgets/base",
      "model_module_version": "1.0.0",
      "model_name": "LayoutModel",
      "state": {}
     },
     "ff07391526014ce698f8e2d0970a0814": {
      "model_module": "@jupyter-widgets/base",
      "model_module_version": "1.0.0",
      "model_name": "LayoutModel",
      "state": {}
     },
     "ffc44349157849f890bd846b6f9ef670": {
      "model_module": "@jupyter-widgets/controls",
      "model_module_version": "1.2.0",
      "model_name": "FloatSliderModel",
      "state": {
       "description": "wall_density",
       "layout": "IPY_MODEL_9fcd7eda6a734f169ed1d1fe323e47cd",
       "max": 3,
       "step": 0.01,
       "style": "IPY_MODEL_0155c710761043698d29616228eeeb91",
       "value": 1
      }
     },
     "ffeb3f14d6634c60a14466ddc0b662d3": {
      "model_module": "@jupyter-widgets/base",
      "model_module_version": "1.0.0",
      "model_name": "LayoutModel",
      "state": {}
     },
     "fffbd2a6aa06494f83fc2d34390f3a53": {
      "model_module": "@jupyter-widgets/controls",
      "model_module_version": "1.2.0",
      "model_name": "SliderStyleModel",
      "state": {
       "description_width": ""
      }
     }
    },
    "version_major": 2,
    "version_minor": 0
   }
  }
 },
 "nbformat": 4,
 "nbformat_minor": 2
}
