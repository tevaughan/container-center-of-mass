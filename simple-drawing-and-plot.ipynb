{
 "cells": [
  {
   "cell_type": "markdown",
   "metadata": {},
   "source": [
    "<center style=\"font-size:2em;font-weight:bold\">\n",
    "   Simple Example\n",
    "</center>\n",
    "<p/>\n",
    "<center style=\"font-size:1.5em;font-weight:bold\">\n",
    "   of Interactive Drawing and Interactive Plot\n",
    "</center>\n",
    "<p/>\n",
    "<center>Thomas E. Vaughan</center>\n",
    "\n",
    "<!--- vim: set filetype=markdown tw=75: -->\n",
    "\n"
   ]
  },
  {
   "cell_type": "markdown",
   "metadata": {},
   "source": [
    "# Configuration of Notebook\n",
    "\n",
    "The following javascript-magic cell enables the editing of any cell in the\n",
    "external editor, gvim.\n",
    "\n",
    "<!--- vim: set filetype=markdown tw=75 -->\n",
    "\n"
   ]
  },
  {
   "cell_type": "code",
   "execution_count": null,
   "metadata": {
    "code_folding": []
   },
   "outputs": [],
   "source": [
    "%%javascript\n",
    "\n",
    "// This cell defines two command-mode shortcuts.\n",
    "//\n",
    "// Pressing 'g' in command mode copies the content of the current cell into\n",
    "// a file and then launches gvim to edit that file.\n",
    "//\n",
    "// Pressing 'u' in command mode updates the current cell with the contents\n",
    "// of the file.\n",
    "//\n",
    "// The idea is first to press 'g', then to edit the file with gvim, then to\n",
    "// exit from gvim, and finally to press 'u' to update the cell from the\n",
    "// file.\n",
    "\n",
    "// The 'g' shortcut.\n",
    "IPython.keyboard_manager.command_shortcuts.add_shortcut('g', {\n",
    "    handler : function (event) {\n",
    "        var input = IPython.notebook.get_selected_cell().get_text();\n",
    "        var cmd = \"f = open('.toto.txt', 'w');f.close()\";\n",
    "        if (input != \"\") {\n",
    "            cmd = '%%writefile .toto.txt\\n' + input;\n",
    "        }\n",
    "        IPython.notebook.kernel.execute(cmd);\n",
    "        cmd = \"import os;\"\n",
    "        // Establish a clean PATH that has only operating-system-native\n",
    "        // executables.  On my machine, having '/opt/miniconda3/bin' in the\n",
    "        // PATH, as it is by default, causes youcompleteme to malfunction\n",
    "        // because it finds '/opt/miniconda3/bin/python' before\n",
    "        // '/usr/bin/python'.\n",
    "        cmd = cmd + \"os.putenv('PATH','/bin:/usr/bin');\"\n",
    "        cmd = cmd + \"os.system('gvim .toto.txt')\";\n",
    "        IPython.notebook.kernel.execute(cmd);\n",
    "        return false;\n",
    "    }}\n",
    ");\n",
    "\n",
    "// The 'u' shortcut.\n",
    "IPython.keyboard_manager.command_shortcuts.add_shortcut('u', {\n",
    "    handler : function (event) {\n",
    "        function handle_output(msg) {\n",
    "            var ret = msg.content.text;\n",
    "            IPython.notebook.get_selected_cell().set_text(ret);\n",
    "        }\n",
    "        var callback = {'output': handle_output};\n",
    "        var cmd = \"f = open('.toto.txt', 'r');print(f.read())\";\n",
    "        IPython.notebook.kernel.execute(cmd, {iopub: callback},\n",
    "                                        {silent: false});\n",
    "        return false;\n",
    "    }}\n",
    ");\n",
    "\n",
    "// vim: set filetype=javascript tw=75 sw=4:\n",
    "\n"
   ]
  },
  {
   "cell_type": "markdown",
   "metadata": {},
   "source": [
    "The following cell brings in various python libraries.\n",
    "\n",
    " - `IPython.display` allows the viewing of an SVG image in the output of a\n",
    "   code cell.\n",
    "\n",
    " - `ipywidgets` allows embedding a widget in the output of a code cell.\n",
    "\n",
    " - `bqplot` allows plotting with Bloomberg's high-performance, interacting\n",
    "   plotting library.\n",
    "\n",
    " - `numpy` allows easy operations on arrays of data to be plotted.\n",
    "\n",
    " - `svgwrite` allows drawing an SVG image via Python code.\n",
    "\n",
    "<!--- vim: set filetype=markdown tw=75: -->\n",
    "\n"
   ]
  },
  {
   "cell_type": "code",
   "execution_count": null,
   "metadata": {},
   "outputs": [],
   "source": [
    "from IPython         import display\n",
    "from IPython.display import SVG\n",
    "from ipywidgets      import *\n",
    "from bqplot          import *\n",
    "\n",
    "import numpy         as np\n",
    "import svgwrite      as sw\n",
    "\n",
    "# vim: set tw=75:\n",
    "\n"
   ]
  },
  {
   "cell_type": "markdown",
   "metadata": {},
   "source": [
    "## Interactive Drawing\n",
    "\n",
    "An SVG drawing has an odd coordinate system.\n",
    " - The origin is at the *upper*-left corner of the drawing.\n",
    " - Each pair of coordinates is in the order (horizontal, vertical)\n",
    " - The more positive vertical coordinate is farther *down* the drawing.\n",
    "\n",
    "The `svgwrite` module allows drawing from Python code.\n",
    "\n",
    "The `drawing` function below takes a couple of parameters and draws a\n",
    "simple object on the basis of them.\n",
    "\n",
    "<!--- vim: set filetype=markdown tw=75: -->\n",
    "\n"
   ]
  },
  {
   "cell_type": "code",
   "execution_count": null,
   "metadata": {},
   "outputs": [],
   "source": [
    "def drawing(angle, color):\n",
    "    \"\"\"\n",
    "    Use the svgwrite module to draw a radial line of a certain color.\n",
    "\n",
    "    Parameters:\n",
    "    angle -- Angle (degrees) of radial line.\n",
    "    color -- String for color of line.\n",
    "    \"\"\"\n",
    "\n",
    "    sz = 200 # Size (pixels) of drawing.\n",
    "    dr = sw.Drawing(\"drawing.svg\", (sz, sz))\n",
    "    r  = 0.5*sz            # Length of radial line.\n",
    "    cx = 0.5*sz            # X-coordinate of center.\n",
    "    cy = 0.5*sz            # Y-coordinate of center.\n",
    "    a  = angle*np.pi/180.0 # Angle (radians).\n",
    "    px = cx + r*np.cos(a)\n",
    "    py = cy + r*np.sin(a)\n",
    "\n",
    "    dr.add(dr.line((cx,cy), (px,py), stroke=color, stroke_width=3))\n",
    "\n",
    "    # Return SVG object.\n",
    "    return SVG(dr.tostring())\n",
    "\n"
   ]
  },
  {
   "cell_type": "markdown",
   "metadata": {},
   "source": [
    "Then we call the `interact()` function defined by ipywidgets.\n",
    "\n",
    " - It produces a widget for each parameter taken by `drawing()`.\n",
    "\n",
    " - The name of each parameter, as it appears in the definition of\n",
    "   `drawing()`, is initialized by a tuple that initializes the widget.\n",
    "\n",
    "<!--- vim: set filetype=markdown tw=75: -->\n",
    "\n"
   ]
  },
  {
   "cell_type": "code",
   "execution_count": null,
   "metadata": {},
   "outputs": [],
   "source": [
    "interact(drawing,\n",
    "         angle=(0.0, 360.0, 0.1),\n",
    "         color=['red', 'green', 'blue', 'cyan', 'magenta', 'yellow'])\n",
    "\n",
    "# vim: set filetype=python tw=75:\n",
    "\n"
   ]
  },
  {
   "cell_type": "markdown",
   "metadata": {},
   "source": [
    "## Interactive Plot\n",
    "\n",
    "bqplot comes with a default toolbar that allows translating and scaling the\n",
    "display of a plot.\n",
    "\n",
    "The plot is efficiently updated whenever any of the remaining parameters is\n",
    "modified by the way of a slider below the plot.\n",
    "\n",
    "We begin by using `np.linspace()` to generate a range for values of the\n",
    "horizontal coordinate.\n",
    "\n",
    "Then we apply a transformation to make the vertical coordinates of the\n",
    "curve to plot.\n",
    "\n",
    "<!--- vim: set filetype=markdown tw=75: -->\n",
    "\n"
   ]
  },
  {
   "cell_type": "code",
   "execution_count": null,
   "metadata": {},
   "outputs": [],
   "source": [
    "\n",
    "x = np.linspace(0, 1, 250)\n",
    "y = x*x  # Initialize to simple parabola.\n",
    "\n",
    "# vim: set filetype=python tw=75:\n",
    "\n"
   ]
  },
  {
   "cell_type": "markdown",
   "metadata": {},
   "source": [
    "Next, we use bqplot to generate a graph."
   ]
  },
  {
   "cell_type": "code",
   "execution_count": null,
   "metadata": {
    "scrolled": true
   },
   "outputs": [],
   "source": [
    "sc_x = LinearScale()\n",
    "sc_y = LinearScale()\n",
    "\n",
    "x_ax  = Axis(label='x', scale=sc_x)\n",
    "\n",
    "y_ax = Axis(label='y',\n",
    "            orientation='vertical',\n",
    "            label_color='blue',\n",
    "            color='#4040C0',\n",
    "            scale=sc_y)\n",
    "\n",
    "line = Lines(x=x, y=[y],\n",
    "             scales={'x': sc_x, 'y': sc_y},\n",
    "             colors=['#0000FF'])\n",
    "\n",
    "fig = Figure(axes=[x_ax, y_ax], marks=[line])\n",
    "fig.layout.width  = '600px'\n",
    "fig.layout.height = '300px'\n",
    "tb  = Toolbar(figure=fig)\n",
    "\n",
    "VBox([fig, tb])\n",
    "\n"
   ]
  },
  {
   "cell_type": "markdown",
   "metadata": {},
   "source": [
    "Next, we again use bqplot's `interact()` function to construct the\n",
    "relevant sliders interactively to modify the graph."
   ]
  },
  {
   "cell_type": "code",
   "execution_count": null,
   "metadata": {},
   "outputs": [],
   "source": [
    "def update(a, b, c):\n",
    "    line.y = a + b*x + c*x*x\n",
    "    return None\n",
    "\n",
    "interact(update,\n",
    "         a=(-1.0, 1.0, 0.01),\n",
    "         b=(-1.0, 1.0, 0.01),\n",
    "         c=(-1.0, 1.0, 0.01))\n",
    "\n"
   ]
  },
  {
   "cell_type": "code",
   "execution_count": null,
   "metadata": {},
   "outputs": [],
   "source": []
  }
 ],
 "metadata": {
  "kernelspec": {
   "display_name": "Python 3",
   "language": "python",
   "name": "python3"
  },
  "language_info": {
   "codemirror_mode": {
    "name": "ipython",
    "version": 3
   },
   "file_extension": ".py",
   "mimetype": "text/x-python",
   "name": "python",
   "nbconvert_exporter": "python",
   "pygments_lexer": "ipython3",
   "version": "3.6.3"
  },
  "latex_envs": {
   "LaTeX_envs_menu_present": true,
   "autoclose": false,
   "autocomplete": true,
   "bibliofile": "biblio.bib",
   "cite_by": "apalike",
   "current_citInitial": 1,
   "eqLabelWithNumbers": true,
   "eqNumInitial": 1,
   "hotkeys": {
    "equation": "Ctrl-E",
    "itemize": "Ctrl-I"
   },
   "labels_anchors": false,
   "latex_user_defs": false,
   "report_style_numbering": false,
   "user_envs_cfg": false
  }
 },
 "nbformat": 4,
 "nbformat_minor": 2
}
